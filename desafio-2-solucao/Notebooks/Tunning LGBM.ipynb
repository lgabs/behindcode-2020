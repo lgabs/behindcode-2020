{
 "cells": [
  {
   "cell_type": "markdown",
   "metadata": {
    "collapsed": true
   },
   "source": [
    "# MARATONA BEHIND THE CODE 2020\n",
    "\n",
    "## DESAFIO 2: PARTE 2"
   ]
  },
  {
   "cell_type": "markdown",
   "metadata": {},
   "source": [
    "### Introdução"
   ]
  },
  {
   "cell_type": "markdown",
   "metadata": {},
   "source": [
    "Na parte 1 deste desafio, você realizou o pré-processamento e o treinamento de um modelo a partir de um conjunto de dados base fornecido. Nesta segunda etapa você irá integrar todas as transformações e eventos de treinamento criados anteriormente em uma Pipeline completa para *deploy* no **Watson Machine Learning**!"
   ]
  },
  {
   "cell_type": "markdown",
   "metadata": {},
   "source": [
    "### Preparação do Notebook"
   ]
  },
  {
   "cell_type": "markdown",
   "metadata": {},
   "source": [
    "Primeiro realizaremos a instalação do scikit-learn e a importação das mesmas bibliotecas utilizadas anteriormente"
   ]
  },
  {
   "cell_type": "code",
   "execution_count": 1,
   "metadata": {
    "ExecuteTime": {
     "end_time": "2020-08-21T10:34:48.731330Z",
     "start_time": "2020-08-21T10:34:48.728819Z"
    }
   },
   "outputs": [],
   "source": [
    "# # Primeiro, realizamos a instalação do scikit-learn versão 0.20.0 no Kernel deste notebook:\n",
    "# !pip install numpy==1.16.4 --upgrade\n",
    "# !pip install pandas==0.24.2 --upgrade\n",
    "# !pip install scikit-learn==0.20.3 --upgrade\n",
    "# !pip install lightgbm\n",
    "# !pip install xgboost\n",
    "# !pip install scikit-optimize"
   ]
  },
  {
   "cell_type": "code",
   "execution_count": 2,
   "metadata": {
    "ExecuteTime": {
     "end_time": "2020-08-21T10:34:51.506546Z",
     "start_time": "2020-08-21T10:34:48.737520Z"
    }
   },
   "outputs": [],
   "source": [
    "import json\n",
    "import requests\n",
    "import pandas as pd\n",
    "import numpy as np\n",
    "from xgboost import XGBClassifier\n",
    "import lightgbm as lgbm\n",
    "\n",
    "from sklearn.impute import SimpleImputer\n",
    "from sklearn.model_selection import train_test_split\n",
    "from sklearn.tree import DecisionTreeClassifier\n",
    "from sklearn.pipeline import Pipeline\n",
    "from sklearn.model_selection import KFold, cross_validate\n",
    "\n",
    "import matplotlib.pyplot as plt\n",
    "\n",
    "from sklearn.model_selection import (\n",
    "    train_test_split,\n",
    "    cross_val_score,\n",
    "    GridSearchCV,\n",
    "    learning_curve,\n",
    ")"
   ]
  },
  {
   "cell_type": "code",
   "execution_count": 172,
   "metadata": {
    "ExecuteTime": {
     "end_time": "2020-08-21T11:40:47.303510Z",
     "start_time": "2020-08-21T11:40:47.239385Z"
    }
   },
   "outputs": [
    {
     "data": {
      "text/html": [
       "<div>\n",
       "<style scoped>\n",
       "    .dataframe tbody tr th:only-of-type {\n",
       "        vertical-align: middle;\n",
       "    }\n",
       "\n",
       "    .dataframe tbody tr th {\n",
       "        vertical-align: top;\n",
       "    }\n",
       "\n",
       "    .dataframe thead th {\n",
       "        text-align: right;\n",
       "    }\n",
       "</style>\n",
       "<table border=\"1\" class=\"dataframe\">\n",
       "  <thead>\n",
       "    <tr style=\"text-align: right;\">\n",
       "      <th></th>\n",
       "      <th>MATRICULA</th>\n",
       "      <th>NOME</th>\n",
       "      <th>REPROVACOES_DE</th>\n",
       "      <th>REPROVACOES_EM</th>\n",
       "      <th>REPROVACOES_MF</th>\n",
       "      <th>REPROVACOES_GO</th>\n",
       "      <th>NOTA_DE</th>\n",
       "      <th>NOTA_EM</th>\n",
       "      <th>NOTA_MF</th>\n",
       "      <th>NOTA_GO</th>\n",
       "      <th>INGLES</th>\n",
       "      <th>H_AULA_PRES</th>\n",
       "      <th>TAREFAS_ONLINE</th>\n",
       "      <th>FALTAS</th>\n",
       "      <th>PERFIL</th>\n",
       "    </tr>\n",
       "  </thead>\n",
       "  <tbody>\n",
       "    <tr>\n",
       "      <th>0</th>\n",
       "      <td>502375</td>\n",
       "      <td>Márcia Illiglener</td>\n",
       "      <td>0</td>\n",
       "      <td>0</td>\n",
       "      <td>0</td>\n",
       "      <td>0</td>\n",
       "      <td>6.2</td>\n",
       "      <td>5.8</td>\n",
       "      <td>4.6</td>\n",
       "      <td>5.9</td>\n",
       "      <td>0.0</td>\n",
       "      <td>2</td>\n",
       "      <td>4</td>\n",
       "      <td>3</td>\n",
       "      <td>EXATAS</td>\n",
       "    </tr>\n",
       "    <tr>\n",
       "      <th>1</th>\n",
       "      <td>397093</td>\n",
       "      <td>Jason Jytereoman Izoimum</td>\n",
       "      <td>0</td>\n",
       "      <td>0</td>\n",
       "      <td>0</td>\n",
       "      <td>0</td>\n",
       "      <td>6.0</td>\n",
       "      <td>6.2</td>\n",
       "      <td>5.2</td>\n",
       "      <td>4.5</td>\n",
       "      <td>1.0</td>\n",
       "      <td>2</td>\n",
       "      <td>4</td>\n",
       "      <td>3</td>\n",
       "      <td>EXATAS</td>\n",
       "    </tr>\n",
       "    <tr>\n",
       "      <th>2</th>\n",
       "      <td>915288</td>\n",
       "      <td>Bartolomeu Inácio da Gama</td>\n",
       "      <td>0</td>\n",
       "      <td>0</td>\n",
       "      <td>0</td>\n",
       "      <td>0</td>\n",
       "      <td>7.3</td>\n",
       "      <td>6.7</td>\n",
       "      <td>7.1</td>\n",
       "      <td>7.2</td>\n",
       "      <td>0.0</td>\n",
       "      <td>5</td>\n",
       "      <td>0</td>\n",
       "      <td>3</td>\n",
       "      <td>HUMANAS</td>\n",
       "    </tr>\n",
       "    <tr>\n",
       "      <th>3</th>\n",
       "      <td>192652</td>\n",
       "      <td>Fernanda Guedes</td>\n",
       "      <td>1</td>\n",
       "      <td>3</td>\n",
       "      <td>1</td>\n",
       "      <td>1</td>\n",
       "      <td>0.0</td>\n",
       "      <td>0.0</td>\n",
       "      <td>0.0</td>\n",
       "      <td>0.0</td>\n",
       "      <td>1.0</td>\n",
       "      <td>4</td>\n",
       "      <td>4</td>\n",
       "      <td>4</td>\n",
       "      <td>DIFICULDADE</td>\n",
       "    </tr>\n",
       "    <tr>\n",
       "      <th>4</th>\n",
       "      <td>949491</td>\n",
       "      <td>Alessandre Borba Gomes</td>\n",
       "      <td>1</td>\n",
       "      <td>3</td>\n",
       "      <td>1</td>\n",
       "      <td>1</td>\n",
       "      <td>0.0</td>\n",
       "      <td>0.0</td>\n",
       "      <td>0.0</td>\n",
       "      <td>0.0</td>\n",
       "      <td>1.0</td>\n",
       "      <td>5</td>\n",
       "      <td>2</td>\n",
       "      <td>5</td>\n",
       "      <td>DIFICULDADE</td>\n",
       "    </tr>\n",
       "  </tbody>\n",
       "</table>\n",
       "</div>"
      ],
      "text/plain": [
       "   MATRICULA                       NOME  REPROVACOES_DE  REPROVACOES_EM  \\\n",
       "0     502375          Márcia Illiglener               0               0   \n",
       "1     397093   Jason Jytereoman Izoimum               0               0   \n",
       "2     915288  Bartolomeu Inácio da Gama               0               0   \n",
       "3     192652            Fernanda Guedes               1               3   \n",
       "4     949491     Alessandre Borba Gomes               1               3   \n",
       "\n",
       "   REPROVACOES_MF  REPROVACOES_GO  NOTA_DE  NOTA_EM  NOTA_MF  NOTA_GO  INGLES  \\\n",
       "0               0               0      6.2      5.8      4.6      5.9     0.0   \n",
       "1               0               0      6.0      6.2      5.2      4.5     1.0   \n",
       "2               0               0      7.3      6.7      7.1      7.2     0.0   \n",
       "3               1               1      0.0      0.0      0.0      0.0     1.0   \n",
       "4               1               1      0.0      0.0      0.0      0.0     1.0   \n",
       "\n",
       "   H_AULA_PRES  TAREFAS_ONLINE  FALTAS       PERFIL  \n",
       "0            2               4       3       EXATAS  \n",
       "1            2               4       3       EXATAS  \n",
       "2            5               0       3      HUMANAS  \n",
       "3            4               4       4  DIFICULDADE  \n",
       "4            5               2       5  DIFICULDADE  "
      ]
     },
     "execution_count": 172,
     "metadata": {},
     "output_type": "execute_result"
    }
   ],
   "source": [
    "# << INSIRA O DATASET COMO UM DATAFRAME PANDAS NESTA CÉLULA >>\n",
    "import types\n",
    "import pandas as pd\n",
    "\n",
    "df_data_1 = pd.read_csv(\"../Data/dataset_desafio_2.csv\")\n",
    "df_data_1.head()"
   ]
  },
  {
   "cell_type": "code",
   "execution_count": 105,
   "metadata": {
    "ExecuteTime": {
     "end_time": "2020-08-21T11:18:51.196274Z",
     "start_time": "2020-08-21T11:18:51.111722Z"
    }
   },
   "outputs": [
    {
     "name": "stdout",
     "output_type": "stream",
     "text": [
      "(20000, 15)\n",
      "after removal:  (16231, 15)\n"
     ]
    }
   ],
   "source": [
    "# remover outliers\n",
    "\n",
    "def remove_outliers(df):\n",
    "    df = df.query(\"NOTA_DE >= 0 and NOTA_DE <= 10\")\n",
    "    df = df.query(\"NOTA_EM >= 0 and NOTA_EM <= 10\")\n",
    "    df = df.query(\"NOTA_MF >= 0 and NOTA_MF <= 10\")\n",
    "    df = df.query(\"NOTA_GO >= 0 and NOTA_GO <= 10\")\n",
    "    \n",
    "    return df\n",
    "\n",
    "print(df_data_1.shape)\n",
    "df_data_1 = remove_outliers(df_data_1)\n",
    "print(\"after removal: \", df_data_1.shape)"
   ]
  },
  {
   "cell_type": "markdown",
   "metadata": {},
   "source": [
    "### Construção da Pipeline completa para encapsulamento no WML"
   ]
  },
  {
   "cell_type": "code",
   "execution_count": 139,
   "metadata": {
    "ExecuteTime": {
     "end_time": "2020-08-21T11:29:44.192520Z",
     "start_time": "2020-08-21T11:29:44.165315Z"
    }
   },
   "outputs": [],
   "source": [
    "from sklearn.base import BaseEstimator, TransformerMixin\n",
    "\n",
    "\n",
    "# All sklearn Transforms must have the `transform` and `fit` methods\n",
    "class DropColumns(BaseEstimator, TransformerMixin):\n",
    "    def __init__(self, columns):\n",
    "        self.columns = columns\n",
    "\n",
    "    def fit(self, X, y=None):\n",
    "        return self\n",
    "    \n",
    "    def transform(self, X):\n",
    "        # Primeiro realizamos a cópia do dataframe 'X' de entrada\n",
    "        data = X.copy()\n",
    "        # Retornamos um novo dataframe sem as colunas indesejadas\n",
    "        return data.drop(labels=self.columns, axis='columns')\n",
    "    \n",
    "    \n",
    "class AddFeatures(BaseEstimator, TransformerMixin):\n",
    "    def __init__(self):\n",
    "        pass\n",
    "\n",
    "    def fit(self, X, y=None):\n",
    "        return self\n",
    "    \n",
    "    def transform(self, X):\n",
    "        # Primeiro realizamos a cópia do dataframe 'X' de entrada\n",
    "        df = X.copy()\n",
    "        df[\"avg_humanas\"] = df[[\"NOTA_DE\", \"NOTA_EM\", \"NOTA_GO\", \"INGLES\"]].mean(axis=1)\n",
    "        df[\"reprovacoes_total\"] = df[[\"REPROVACOES_DE\", \"REPROVACOES_EM\", \"REPROVACOES_MF\", \"REPROVACOES_GO\"]].mean(axis=1)\n",
    "        df[\"study_volume\"] = df[\"H_AULA_PRES\"] * df[\"TAREFAS_ONLINE\"]\n",
    "        # Retornamos um novo dataframe sem as colunas indesejadas\n",
    "        return df"
   ]
  },
  {
   "cell_type": "markdown",
   "metadata": {},
   "source": [
    "#### Declarando a Pipeline\n",
    "\n",
    "Após a importação das transformações personalizadas como um pacote Python, podemos partir para a declaração da nossa Pipeline.\n",
    "\n",
    "O processo é bem semelhante ao realizado na primeira etapa, porém com algumas diferenças importantes, então preste bem atenção!\n",
    "\n",
    "A Pipeline exemplo possui três estágios: \n",
    "\n",
    "    - remover a coluna \"NOME\"\n",
    "    - imputar \"zeros\" em todos os valores faltantes\n",
    "    - inserir os dados pré-processados como entrada em um modelo treinado\n",
    "    \n",
    "Relembrando, a entrada desta Pipeline será o conjunto cru de dados fornecido exceto a coluna \"LABELS\" (variável-alvo a ser determinada pelo modelo).\n",
    "\n",
    "Teremos então 17 valores de entrada **na PIPELINE** (no modelo serão 16 entradas, pois a coluna NAME será removida no primeiro estágio após a transformação DropColumn).\n",
    "\n",
    "    MATRICULA       - número de quatro algarismos único para cada estudante\n",
    "    NOME            - nome completo do estudante\n",
    "    FALTAS_DE       - número de faltas na disciplina de ``Direito Empresarial``\n",
    "    FALTAS_EM       - número de faltas na disciplina de ``Empreendedorismo``\n",
    "    FALTAS_MF       - número de faltas na disciplina de ``Matemática Financeira``\n",
    "    MEDIA_DE        - média simples das notas do aluno na disciplina de ``Direito Empresarial`` (0-10)\n",
    "    MEDIA_EM        - média simples das notas do aluno na disciplina de ``Empreendedorismo`` (0-10)\n",
    "    MEDIA_MF        - média simples das notas do aluno na disciplina de ``Matemática Financeira`` (0-10)\n",
    "    HRS_ESTUDO_DE   - horas de estudo particular na disciplina de ``Direito Empresarial``\n",
    "    HRS_ESTUDO_EM   - horas de estudo particular na disciplina de ``Empreendedorismo``\n",
    "    HRS_ESTUDO_MF   - horas de estudo particular na disciplina de ``Matemática Financeira``\n",
    "    REPROVACOES_DE  - número de reprovações na disciplina de ``Direito Empresarial``\n",
    "    REPROVACOES_EM  - número de reprovações na disciplina de ``Empreendedorismo``\n",
    "    REPROVACOES_MF  - número de reprovações na disciplina de ``Matemática Financeira``\n",
    "    LIVROS_TEXTO    - quantidade de livros e textos acessados pelo aluno no sistema da universidade\n",
    "    AULAS_AO_VIVO   - horas de aulas ao vivo presenciadas pelo aluno (total em todas as disciplinas)\n",
    "    EXERCICIOS      - número de exercícios realizados pelo estudante (total em todas as disciplinas) no sistema da universidade\n",
    "\n",
    "A saída da Pipeline será um valor estimado para a coluna \"LABELS\"."
   ]
  },
  {
   "cell_type": "code",
   "execution_count": 107,
   "metadata": {
    "ExecuteTime": {
     "end_time": "2020-08-21T11:18:57.903053Z",
     "start_time": "2020-08-21T11:18:57.886220Z"
    }
   },
   "outputs": [
    {
     "name": "stdout",
     "output_type": "stream",
     "text": [
      "<class 'pandas.core.frame.DataFrame'>\n",
      "Int64Index: 14000 entries, 15979 to 12548\n",
      "Data columns (total 14 columns):\n",
      "MATRICULA         14000 non-null int64\n",
      "NOME              14000 non-null object\n",
      "REPROVACOES_DE    14000 non-null int64\n",
      "REPROVACOES_EM    14000 non-null int64\n",
      "REPROVACOES_MF    14000 non-null int64\n",
      "REPROVACOES_GO    14000 non-null int64\n",
      "NOTA_DE           14000 non-null float64\n",
      "NOTA_EM           14000 non-null float64\n",
      "NOTA_MF           14000 non-null float64\n",
      "NOTA_GO           11385 non-null float64\n",
      "INGLES            11446 non-null float64\n",
      "H_AULA_PRES       14000 non-null int64\n",
      "TAREFAS_ONLINE    14000 non-null int64\n",
      "FALTAS            14000 non-null int64\n",
      "dtypes: float64(5), int64(8), object(1)\n",
      "memory usage: 1.6+ MB\n"
     ]
    }
   ],
   "source": [
    "X_train.info()"
   ]
  },
  {
   "cell_type": "code",
   "execution_count": 173,
   "metadata": {
    "ExecuteTime": {
     "end_time": "2020-08-21T11:40:53.236924Z",
     "start_time": "2020-08-21T11:40:53.217842Z"
    }
   },
   "outputs": [],
   "source": [
    "# Definição das colunas que serão features (nota-se que a coluna NOME não está presente)\n",
    "features = [\n",
    "    \"MATRICULA\", \"NOME\", 'REPROVACOES_DE', 'REPROVACOES_EM', \"REPROVACOES_MF\", \"REPROVACOES_GO\",\n",
    "    \"NOTA_DE\", \"NOTA_EM\", \"NOTA_MF\", \"NOTA_GO\",\n",
    "    \"INGLES\", \"H_AULA_PRES\", \"TAREFAS_ONLINE\", \"FALTAS\", \n",
    "]\n",
    "\n",
    "# Definição da variável-alvo\n",
    "target = [\"PERFIL\"]\n",
    "\n",
    "# Preparação dos argumentos para os métodos da biblioteca ``scikit-learn``\n",
    "X = df_data_1[features]\n",
    "y = df_data_1[target]"
   ]
  },
  {
   "cell_type": "markdown",
   "metadata": {},
   "source": [
    "**ATENÇÃO!!**\n",
    "\n",
    "A célula acima, embora muito parecida com a definição de features na primeira etapa deste desafio, possui uma grande diferença!\n",
    "\n",
    "Nela está presente a coluna \"NOME\" como uma feature! Isso ocorre pois neste caso essas são as entradas da *PIPELINE*, e não do modelo."
   ]
  },
  {
   "cell_type": "code",
   "execution_count": 174,
   "metadata": {
    "ExecuteTime": {
     "end_time": "2020-08-21T11:40:54.505430Z",
     "start_time": "2020-08-21T11:40:54.479336Z"
    }
   },
   "outputs": [],
   "source": [
    "# Separação dos dados em um conjunto de treino e um conjunto de teste\n",
    "X_train, X_test, y_train, y_test = train_test_split(X, y, test_size=0.3, random_state=337)"
   ]
  },
  {
   "cell_type": "markdown",
   "metadata": {},
   "source": [
    "Na célula abaixo é realizada a declaração de um objeto **Pipeline** do scikit-learn, onde é declarado o parâmetro *steps*, que nada mais é do que uma lista com as etapas da nossa pipeline:\n",
    "\n",
    "    'remove_cols'     - transformação personalizada DropColumns\n",
    "    'imputer'         - transformação embutida do scikit-learn para imputação de valores faltantes\n",
    "    'dtc'             - um classificador via árvore de decisão\n",
    "    \n",
    "Note que passamos como passos as transformadas instanciadas anteriormente, sob nome `rm_columns` e `si`."
   ]
  },
  {
   "cell_type": "code",
   "execution_count": 175,
   "metadata": {
    "ExecuteTime": {
     "end_time": "2020-08-21T11:40:57.370982Z",
     "start_time": "2020-08-21T11:40:57.354503Z"
    }
   },
   "outputs": [
    {
     "name": "stdout",
     "output_type": "stream",
     "text": [
      "<class 'pandas.core.frame.DataFrame'>\n",
      "RangeIndex: 20000 entries, 0 to 19999\n",
      "Data columns (total 14 columns):\n",
      "MATRICULA         20000 non-null int64\n",
      "NOME              20000 non-null object\n",
      "REPROVACOES_DE    20000 non-null int64\n",
      "REPROVACOES_EM    20000 non-null int64\n",
      "REPROVACOES_MF    20000 non-null int64\n",
      "REPROVACOES_GO    20000 non-null int64\n",
      "NOTA_DE           20000 non-null float64\n",
      "NOTA_EM           20000 non-null float64\n",
      "NOTA_MF           20000 non-null float64\n",
      "NOTA_GO           16284 non-null float64\n",
      "INGLES            16372 non-null float64\n",
      "H_AULA_PRES       20000 non-null int64\n",
      "TAREFAS_ONLINE    20000 non-null int64\n",
      "FALTAS            20000 non-null int64\n",
      "dtypes: float64(5), int64(8), object(1)\n",
      "memory usage: 2.1+ MB\n"
     ]
    }
   ],
   "source": [
    "X.info()"
   ]
  },
  {
   "cell_type": "code",
   "execution_count": 176,
   "metadata": {
    "ExecuteTime": {
     "end_time": "2020-08-21T11:40:59.515755Z",
     "start_time": "2020-08-21T11:40:59.503543Z"
    }
   },
   "outputs": [
    {
     "name": "stdout",
     "output_type": "stream",
     "text": [
      "train size:  14000\n",
      "train size:  6000\n"
     ]
    }
   ],
   "source": [
    "print(\"train size: \", len(X_train))\n",
    "print(\"train size: \",len(X_test))"
   ]
  },
  {
   "cell_type": "code",
   "execution_count": null,
   "metadata": {},
   "outputs": [],
   "source": []
  },
  {
   "cell_type": "markdown",
   "metadata": {},
   "source": [
    "### LGBM e XGBoost sem tunning"
   ]
  },
  {
   "cell_type": "code",
   "execution_count": 113,
   "metadata": {
    "ExecuteTime": {
     "end_time": "2020-08-21T11:19:14.420707Z",
     "start_time": "2020-08-21T11:19:14.341715Z"
    }
   },
   "outputs": [
    {
     "data": {
      "text/html": [
       "<div>\n",
       "<style scoped>\n",
       "    .dataframe tbody tr th:only-of-type {\n",
       "        vertical-align: middle;\n",
       "    }\n",
       "\n",
       "    .dataframe tbody tr th {\n",
       "        vertical-align: top;\n",
       "    }\n",
       "\n",
       "    .dataframe thead th {\n",
       "        text-align: right;\n",
       "    }\n",
       "</style>\n",
       "<table border=\"1\" class=\"dataframe\">\n",
       "  <thead>\n",
       "    <tr style=\"text-align: right;\">\n",
       "      <th></th>\n",
       "      <th>MATRICULA</th>\n",
       "      <th>NOME</th>\n",
       "      <th>REPROVACOES_DE</th>\n",
       "      <th>REPROVACOES_EM</th>\n",
       "      <th>REPROVACOES_MF</th>\n",
       "      <th>REPROVACOES_GO</th>\n",
       "      <th>NOTA_DE</th>\n",
       "      <th>NOTA_EM</th>\n",
       "      <th>NOTA_MF</th>\n",
       "      <th>NOTA_GO</th>\n",
       "      <th>INGLES</th>\n",
       "      <th>H_AULA_PRES</th>\n",
       "      <th>TAREFAS_ONLINE</th>\n",
       "      <th>FALTAS</th>\n",
       "    </tr>\n",
       "  </thead>\n",
       "  <tbody>\n",
       "    <tr>\n",
       "      <th>16151</th>\n",
       "      <td>294793</td>\n",
       "      <td>Júlio Tiago Oclilson de Souza Júnior</td>\n",
       "      <td>0</td>\n",
       "      <td>0</td>\n",
       "      <td>0</td>\n",
       "      <td>0</td>\n",
       "      <td>4.2</td>\n",
       "      <td>6.5</td>\n",
       "      <td>6.2</td>\n",
       "      <td>5.0</td>\n",
       "      <td>NaN</td>\n",
       "      <td>6</td>\n",
       "      <td>5</td>\n",
       "      <td>3</td>\n",
       "    </tr>\n",
       "    <tr>\n",
       "      <th>4972</th>\n",
       "      <td>675982</td>\n",
       "      <td>Rosimeire Utleluleson de Lima</td>\n",
       "      <td>0</td>\n",
       "      <td>0</td>\n",
       "      <td>0</td>\n",
       "      <td>0</td>\n",
       "      <td>7.8</td>\n",
       "      <td>7.7</td>\n",
       "      <td>7.1</td>\n",
       "      <td>8.2</td>\n",
       "      <td>1.0</td>\n",
       "      <td>3</td>\n",
       "      <td>6</td>\n",
       "      <td>3</td>\n",
       "    </tr>\n",
       "    <tr>\n",
       "      <th>7857</th>\n",
       "      <td>985976</td>\n",
       "      <td>Estevão de Souza</td>\n",
       "      <td>0</td>\n",
       "      <td>0</td>\n",
       "      <td>0</td>\n",
       "      <td>0</td>\n",
       "      <td>6.5</td>\n",
       "      <td>5.7</td>\n",
       "      <td>5.9</td>\n",
       "      <td>4.7</td>\n",
       "      <td>0.0</td>\n",
       "      <td>3</td>\n",
       "      <td>4</td>\n",
       "      <td>4</td>\n",
       "    </tr>\n",
       "    <tr>\n",
       "      <th>1698</th>\n",
       "      <td>722191</td>\n",
       "      <td>Otávio Mercado Valente</td>\n",
       "      <td>3</td>\n",
       "      <td>1</td>\n",
       "      <td>1</td>\n",
       "      <td>1</td>\n",
       "      <td>0.0</td>\n",
       "      <td>0.0</td>\n",
       "      <td>0.0</td>\n",
       "      <td>0.0</td>\n",
       "      <td>1.0</td>\n",
       "      <td>0</td>\n",
       "      <td>0</td>\n",
       "      <td>4</td>\n",
       "    </tr>\n",
       "    <tr>\n",
       "      <th>8190</th>\n",
       "      <td>225124</td>\n",
       "      <td>Luciana Anne Rodrigues</td>\n",
       "      <td>0</td>\n",
       "      <td>0</td>\n",
       "      <td>0</td>\n",
       "      <td>0</td>\n",
       "      <td>6.7</td>\n",
       "      <td>6.3</td>\n",
       "      <td>8.5</td>\n",
       "      <td>5.7</td>\n",
       "      <td>NaN</td>\n",
       "      <td>3</td>\n",
       "      <td>5</td>\n",
       "      <td>2</td>\n",
       "    </tr>\n",
       "  </tbody>\n",
       "</table>\n",
       "</div>"
      ],
      "text/plain": [
       "       MATRICULA                                  NOME  REPROVACOES_DE  \\\n",
       "16151     294793  Júlio Tiago Oclilson de Souza Júnior               0   \n",
       "4972      675982         Rosimeire Utleluleson de Lima               0   \n",
       "7857      985976                      Estevão de Souza               0   \n",
       "1698      722191                Otávio Mercado Valente               3   \n",
       "8190      225124                Luciana Anne Rodrigues               0   \n",
       "\n",
       "       REPROVACOES_EM  REPROVACOES_MF  REPROVACOES_GO  NOTA_DE  NOTA_EM  \\\n",
       "16151               0               0               0      4.2      6.5   \n",
       "4972                0               0               0      7.8      7.7   \n",
       "7857                0               0               0      6.5      5.7   \n",
       "1698                1               1               1      0.0      0.0   \n",
       "8190                0               0               0      6.7      6.3   \n",
       "\n",
       "       NOTA_MF  NOTA_GO  INGLES  H_AULA_PRES  TAREFAS_ONLINE  FALTAS  \n",
       "16151      6.2      5.0     NaN            6               5       3  \n",
       "4972       7.1      8.2     1.0            3               6       3  \n",
       "7857       5.9      4.7     0.0            3               4       4  \n",
       "1698       0.0      0.0     1.0            0               0       4  \n",
       "8190       8.5      5.7     NaN            3               5       2  "
      ]
     },
     "execution_count": 113,
     "metadata": {},
     "output_type": "execute_result"
    }
   ],
   "source": [
    "X_train.head()"
   ]
  },
  {
   "cell_type": "code",
   "execution_count": null,
   "metadata": {},
   "outputs": [],
   "source": []
  },
  {
   "cell_type": "code",
   "execution_count": 178,
   "metadata": {
    "ExecuteTime": {
     "end_time": "2020-08-21T11:42:00.669920Z",
     "start_time": "2020-08-21T11:41:59.901020Z"
    }
   },
   "outputs": [
    {
     "name": "stdout",
     "output_type": "stream",
     "text": [
      "Acurácia: 80.82000000000001%\n"
     ]
    }
   ],
   "source": [
    "# Criação de uma Transform personalizada ``DropColumns``\n",
    "\n",
    "rm_columns = DropColumns(\n",
    "    columns=[\"NOME\"]\n",
    ")\n",
    "\n",
    "# Criação de um objeto ``SimpleImputer``\n",
    "\n",
    "si = SimpleImputer(\n",
    "    missing_values=np.nan,  # os valores faltantes são do tipo ``np.nan`` (padrão Pandas)\n",
    "    strategy='constant',  # a estratégia escolhida é a alteração do valor faltante por uma constante\n",
    "    fill_value=-99999,  # a constante que será usada para preenchimento dos valores faltantes é um int64=0.\n",
    "#     strategy = \"most_frequent\",\n",
    "    verbose=0,\n",
    "    copy=True\n",
    ")\n",
    "\n",
    "clf =  lgbm.LGBMClassifier()\n",
    "# clf_xgb = XGBClassifier(verbose=1)\n",
    "\n",
    "pipeline = Pipeline(\n",
    "    steps=[\n",
    "        ('remove_cols', rm_columns),\n",
    "        ('add_features', AddFeatures()),\n",
    "        ('imputer', si),\n",
    "        ('clf', clf),\n",
    "    ]\n",
    ")\n",
    "\n",
    "# Inicialização da Pipeline (pré-processamento e realização do treinamento do modelo)\n",
    "pipeline.fit(X_train, y_train.values.ravel())\n",
    "\n",
    "# Realização de teste cego no modelo criado\n",
    "from sklearn.metrics import accuracy_score\n",
    "\n",
    "# Acurácia alcançada pela árvore de decisão\n",
    "y_pred = pipeline.predict(X_test)\n",
    "print(\"Acurácia: {}%\".format(100*round(accuracy_score(y_test, y_pred), 4)))"
   ]
  },
  {
   "cell_type": "code",
   "execution_count": 117,
   "metadata": {
    "ExecuteTime": {
     "end_time": "2020-08-21T11:19:22.312581Z",
     "start_time": "2020-08-21T11:19:22.195716Z"
    }
   },
   "outputs": [
    {
     "name": "stdout",
     "output_type": "stream",
     "text": [
      "Acurácia: 81.07%\n"
     ]
    }
   ],
   "source": [
    "81.33%"
   ]
  },
  {
   "cell_type": "code",
   "execution_count": 118,
   "metadata": {
    "ExecuteTime": {
     "end_time": "2020-08-21T11:19:23.646777Z",
     "start_time": "2020-08-21T11:19:23.566546Z"
    }
   },
   "outputs": [
    {
     "name": "stdout",
     "output_type": "stream",
     "text": [
      "              precision    recall  f1-score   support\n",
      "\n",
      " DIFICULDADE       0.88      0.75      0.81      1681\n",
      "      EXATAS       0.82      0.91      0.87      2035\n",
      "   EXCELENTE       0.61      0.55      0.58       158\n",
      "     HUMANAS       0.74      0.94      0.83       753\n",
      "   MUITO_BOM       0.39      0.10      0.16       243\n",
      "\n",
      "   micro avg       0.81      0.81      0.81      4870\n",
      "   macro avg       0.69      0.65      0.65      4870\n",
      "weighted avg       0.80      0.81      0.80      4870\n",
      "\n"
     ]
    }
   ],
   "source": [
    "from sklearn.metrics import classification_report\n",
    "\n",
    "print(classification_report(y_test, y_pred))"
   ]
  },
  {
   "cell_type": "code",
   "execution_count": 119,
   "metadata": {
    "ExecuteTime": {
     "end_time": "2020-08-21T11:19:25.440418Z",
     "start_time": "2020-08-21T11:19:24.507860Z"
    }
   },
   "outputs": [
    {
     "data": {
      "image/png": "[encoded data removed]",
      "text/plain": [
       "<Figure size 1440x1440 with 1 Axes>"
      ]
     },
     "metadata": {
      "needs_background": "light"
     },
     "output_type": "display_data"
    }
   ],
   "source": [
    "from lightgbm import plot_tree\n",
    "\n",
    "plot_tree(clf, figsize=(20,20))\n",
    "plt.show()"
   ]
  },
  {
   "cell_type": "code",
   "execution_count": 120,
   "metadata": {
    "ExecuteTime": {
     "end_time": "2020-08-21T11:19:25.866026Z",
     "start_time": "2020-08-21T11:19:25.674296Z"
    }
   },
   "outputs": [
    {
     "data": {
      "text/plain": [
       "<matplotlib.axes._subplots.AxesSubplot at 0x7f33233b37f0>"
      ]
     },
     "execution_count": 120,
     "metadata": {},
     "output_type": "execute_result"
    },
    {
     "data": {
      "image/png": "[encoded data removed]",
      "text/plain": [
       "<Figure size 432x288 with 1 Axes>"
      ]
     },
     "metadata": {
      "needs_background": "light"
     },
     "output_type": "display_data"
    }
   ],
   "source": [
    "from lightgbm import plot_importance\n",
    "plot_importance(clf)"
   ]
  },
  {
   "cell_type": "markdown",
   "metadata": {},
   "source": [
    "### XGBoost"
   ]
  },
  {
   "cell_type": "code",
   "execution_count": 149,
   "metadata": {
    "ExecuteTime": {
     "end_time": "2020-08-21T11:32:17.815642Z",
     "start_time": "2020-08-21T11:32:15.381506Z"
    }
   },
   "outputs": [
    {
     "name": "stdout",
     "output_type": "stream",
     "text": [
      "[08:32:15] WARNING: /workspace/src/learner.cc:480: \n",
      "Parameters: { verbose } might not be used.\n",
      "\n",
      "  This may not be accurate due to some parameters are only used in language bindings but\n",
      "  passed down to XGBoost core.  Or some parameters are not used but slip through this\n",
      "  verification. Please open an issue if you find above cases.\n",
      "\n",
      "\n",
      "Acurácia: 80.47%\n",
      "              precision    recall  f1-score   support\n",
      "\n",
      " DIFICULDADE       0.87      0.75      0.81      1681\n",
      "      EXATAS       0.82      0.91      0.86      2035\n",
      "   EXCELENTE       0.60      0.53      0.56       158\n",
      "     HUMANAS       0.74      0.93      0.82       753\n",
      "   MUITO_BOM       0.40      0.13      0.19       243\n",
      "\n",
      "   micro avg       0.80      0.80      0.80      4870\n",
      "   macro avg       0.68      0.65      0.65      4870\n",
      "weighted avg       0.80      0.80      0.79      4870\n",
      "\n"
     ]
    }
   ],
   "source": [
    "# Criação de uma Transform personalizada ``DropColumns``\n",
    "\n",
    "rm_columns = DropColumns(\n",
    "    columns=[\"NOME\"]\n",
    ")\n",
    "\n",
    "# Criação de um objeto ``SimpleImputer``\n",
    "\n",
    "si = SimpleImputer(\n",
    "    missing_values=np.nan,  # os valores faltantes são do tipo ``np.nan`` (padrão Pandas)\n",
    "    strategy='constant',  # a estratégia escolhida é a alteração do valor faltante por uma constante\n",
    "    fill_value=0,  # a constante que será usada para preenchimento dos valores faltantes é um int64=0.\n",
    "#     strategy = \"most_frequent\",\n",
    "    verbose=0,\n",
    "    copy=True\n",
    ")\n",
    "\n",
    "\n",
    "# clf =  lgbm.LGBMClassifier()\n",
    "clf_xgb = XGBClassifier(verbose=1)\n",
    "\n",
    "pipeline = Pipeline(\n",
    "    steps=[\n",
    "        ('remove_cols', rm_columns),\n",
    "        ('add_features', AddFeatures()),\n",
    "        ('imputer', si),\n",
    "        ('clf', clf_xgb),\n",
    "    ]\n",
    ")\n",
    "\n",
    "# Inicialização da Pipeline (pré-processamento e realização do treinamento do modelo)\n",
    "pipeline.fit(X_train, y_train.values.ravel())\n",
    "\n",
    "# Realização de teste cego no modelo criado\n",
    "\n",
    "# Acurácia alcançada pela árvore de decisão\n",
    "y_pred = pipeline.predict(X_test)\n",
    "print(\"Acurácia: {}%\".format(100*round(accuracy_score(y_test, y_pred), 4)))\n",
    "\n",
    "\n",
    "print(classification_report(y_test, y_pred))"
   ]
  },
  {
   "cell_type": "code",
   "execution_count": 122,
   "metadata": {
    "ExecuteTime": {
     "end_time": "2020-08-21T11:19:42.809043Z",
     "start_time": "2020-08-21T11:19:42.552293Z"
    }
   },
   "outputs": [
    {
     "data": {
      "image/svg+xml": [
       "<?xml version=\"1.0\" encoding=\"UTF-8\" standalone=\"no\"?>\n",
       "<!DOCTYPE svg PUBLIC \"-//W3C//DTD SVG 1.1//EN\"\n",
       " \"http://www.w3.org/Graphics/SVG/1.1/DTD/svg11.dtd\">\n",
       "<!-- Generated by graphviz version 2.38.0 (20140413.2041)\n",
       " -->\n",
       "<!-- Title: %3 Pages: 1 -->\n",
       "<svg width=\"6179pt\" height=\"566pt\"\n",
       " viewBox=\"0.00 0.00 6179.04 566.00\" xmlns=\"http://www.w3.org/2000/svg\" xmlns:xlink=\"http://www.w3.org/1999/xlink\">\n",
       "<g id=\"graph0\" class=\"graph\" transform=\"scale(1 1) rotate(0) translate(4 562)\">\n",
       "<title>%3</title>\n",
       "<polygon fill=\"white\" stroke=\"none\" points=\"-4,4 -4,-562 6175.04,-562 6175.04,4 -4,4\"/>\n",
       "<!-- 0 -->\n",
       "<g id=\"node1\" class=\"node\"><title>0</title>\n",
       "<ellipse fill=\"none\" stroke=\"black\" cx=\"1371.39\" cy=\"-540\" rx=\"65.7887\" ry=\"18\"/>\n",
       "<text text-anchor=\"middle\" x=\"1371.39\" y=\"-536.3\" font-family=\"Times,serif\" font-size=\"14.00\">f8&lt;4.14999962</text>\n",
       "</g>\n",
       "<!-- 1 -->\n",
       "<g id=\"node2\" class=\"node\"><title>1</title>\n",
       "<ellipse fill=\"none\" stroke=\"black\" cx=\"758.393\" cy=\"-453\" rx=\"38.9931\" ry=\"18\"/>\n",
       "<text text-anchor=\"middle\" x=\"758.393\" y=\"-449.3\" font-family=\"Times,serif\" font-size=\"14.00\">f6&lt;6.25</text>\n",
       "</g>\n",
       "<!-- 0&#45;&gt;1 -->\n",
       "<g id=\"edge1\" class=\"edge\"><title>0&#45;&gt;1</title>\n",
       "<path fill=\"none\" stroke=\"#0000ff\" d=\"M1314.27,-531.08C1193.92,-514.391 916.229,-475.886 805.359,-460.512\"/>\n",
       "<polygon fill=\"#0000ff\" stroke=\"#0000ff\" points=\"805.547,-457.005 795.161,-459.098 804.586,-463.939 805.547,-457.005\"/>\n",
       "<text text-anchor=\"middle\" x=\"1136.89\" y=\"-492.8\" font-family=\"Times,serif\" font-size=\"14.00\">yes, missing</text>\n",
       "</g>\n",
       "<!-- 2 -->\n",
       "<g id=\"node3\" class=\"node\"><title>2</title>\n",
       "<ellipse fill=\"none\" stroke=\"black\" cx=\"1937.39\" cy=\"-453\" rx=\"65.7887\" ry=\"18\"/>\n",
       "<text text-anchor=\"middle\" x=\"1937.39\" y=\"-449.3\" font-family=\"Times,serif\" font-size=\"14.00\">f5&lt;5.94999981</text>\n",
       "</g>\n",
       "<!-- 0&#45;&gt;2 -->\n",
       "<g id=\"edge2\" class=\"edge\"><title>0&#45;&gt;2</title>\n",
       "<path fill=\"none\" stroke=\"#ff0000\" d=\"M1427.47,-530.578C1532.54,-514.799 1758.56,-480.856 1871.03,-463.967\"/>\n",
       "<polygon fill=\"#ff0000\" stroke=\"#ff0000\" points=\"1871.85,-467.383 1881.22,-462.436 1870.81,-460.46 1871.85,-467.383\"/>\n",
       "<text text-anchor=\"middle\" x=\"1695.39\" y=\"-492.8\" font-family=\"Times,serif\" font-size=\"14.00\">no</text>\n",
       "</g>\n",
       "<!-- 3 -->\n",
       "<g id=\"node4\" class=\"node\"><title>3</title>\n",
       "<ellipse fill=\"none\" stroke=\"black\" cx=\"628.393\" cy=\"-366\" rx=\"75.2868\" ry=\"18\"/>\n",
       "<text text-anchor=\"middle\" x=\"628.393\" y=\"-362.3\" font-family=\"Times,serif\" font-size=\"14.00\">leaf=0.743592381</text>\n",
       "</g>\n",
       "<!-- 1&#45;&gt;3 -->\n",
       "<g id=\"edge3\" class=\"edge\"><title>1&#45;&gt;3</title>\n",
       "<path fill=\"none\" stroke=\"#0000ff\" d=\"M730.042,-440.575C716.106,-434.427 699.351,-426.216 685.393,-417 673.778,-409.331 662.034,-399.467 652.249,-390.53\"/>\n",
       "<polygon fill=\"#0000ff\" stroke=\"#0000ff\" points=\"654.556,-387.896 644.862,-383.621 649.775,-393.008 654.556,-387.896\"/>\n",
       "<text text-anchor=\"middle\" x=\"719.893\" y=\"-405.8\" font-family=\"Times,serif\" font-size=\"14.00\">yes, missing</text>\n",
       "</g>\n",
       "<!-- 4 -->\n",
       "<g id=\"node5\" class=\"node\"><title>4</title>\n",
       "<ellipse fill=\"none\" stroke=\"black\" cx=\"758.393\" cy=\"-366\" rx=\"36.2938\" ry=\"18\"/>\n",
       "<text text-anchor=\"middle\" x=\"758.393\" y=\"-362.3\" font-family=\"Times,serif\" font-size=\"14.00\">f10&lt;12</text>\n",
       "</g>\n",
       "<!-- 1&#45;&gt;4 -->\n",
       "<g id=\"edge4\" class=\"edge\"><title>1&#45;&gt;4</title>\n",
       "<path fill=\"none\" stroke=\"#ff0000\" d=\"M758.393,-434.799C758.393,-423.163 758.393,-407.548 758.393,-394.237\"/>\n",
       "<polygon fill=\"#ff0000\" stroke=\"#ff0000\" points=\"761.893,-394.175 758.393,-384.175 754.893,-394.175 761.893,-394.175\"/>\n",
       "<text text-anchor=\"middle\" x=\"765.393\" y=\"-405.8\" font-family=\"Times,serif\" font-size=\"14.00\">no</text>\n",
       "</g>\n",
       "<!-- 5 -->\n",
       "<g id=\"node18\" class=\"node\"><title>5</title>\n",
       "<ellipse fill=\"none\" stroke=\"black\" cx=\"1937.39\" cy=\"-366\" rx=\"65.7887\" ry=\"18\"/>\n",
       "<text text-anchor=\"middle\" x=\"1937.39\" y=\"-362.3\" font-family=\"Times,serif\" font-size=\"14.00\">f6&lt;5.55000019</text>\n",
       "</g>\n",
       "<!-- 2&#45;&gt;5 -->\n",
       "<g id=\"edge17\" class=\"edge\"><title>2&#45;&gt;5</title>\n",
       "<path fill=\"none\" stroke=\"#0000ff\" d=\"M1937.39,-434.799C1937.39,-423.163 1937.39,-407.548 1937.39,-394.237\"/>\n",
       "<polygon fill=\"#0000ff\" stroke=\"#0000ff\" points=\"1940.89,-394.175 1937.39,-384.175 1933.89,-394.175 1940.89,-394.175\"/>\n",
       "<text text-anchor=\"middle\" x=\"1971.89\" y=\"-405.8\" font-family=\"Times,serif\" font-size=\"14.00\">yes, missing</text>\n",
       "</g>\n",
       "<!-- 6 -->\n",
       "<g id=\"node19\" class=\"node\"><title>6</title>\n",
       "<ellipse fill=\"none\" stroke=\"black\" cx=\"3990.39\" cy=\"-366\" rx=\"65.7887\" ry=\"18\"/>\n",
       "<text text-anchor=\"middle\" x=\"3990.39\" y=\"-362.3\" font-family=\"Times,serif\" font-size=\"14.00\">f6&lt;6.14999962</text>\n",
       "</g>\n",
       "<!-- 2&#45;&gt;6 -->\n",
       "<g id=\"edge18\" class=\"edge\"><title>2&#45;&gt;6</title>\n",
       "<path fill=\"none\" stroke=\"#ff0000\" d=\"M2001.94,-449.328C2305.67,-436.752 3591.34,-383.522 3915.79,-370.089\"/>\n",
       "<polygon fill=\"#ff0000\" stroke=\"#ff0000\" points=\"3916.17,-373.576 3926.02,-369.665 3915.88,-366.582 3916.17,-373.576\"/>\n",
       "<text text-anchor=\"middle\" x=\"3094.39\" y=\"-405.8\" font-family=\"Times,serif\" font-size=\"14.00\">no</text>\n",
       "</g>\n",
       "<!-- 7 -->\n",
       "<g id=\"node6\" class=\"node\"><title>7</title>\n",
       "<ellipse fill=\"none\" stroke=\"black\" cx=\"426.393\" cy=\"-279\" rx=\"65.7887\" ry=\"18\"/>\n",
       "<text text-anchor=\"middle\" x=\"426.393\" y=\"-275.3\" font-family=\"Times,serif\" font-size=\"14.00\">f6&lt;7.05000019</text>\n",
       "</g>\n",
       "<!-- 4&#45;&gt;7 -->\n",
       "<g id=\"edge5\" class=\"edge\"><title>4&#45;&gt;7</title>\n",
       "<path fill=\"none\" stroke=\"#0000ff\" d=\"M730.846,-354.206C724.812,-352.014 718.424,-349.824 712.393,-348 635.85,-324.849 545.866,-304.564 487.568,-292.309\"/>\n",
       "<polygon fill=\"#0000ff\" stroke=\"#0000ff\" points=\"488.281,-288.883 477.777,-290.264 486.85,-295.735 488.281,-288.883\"/>\n",
       "<text text-anchor=\"middle\" x=\"677.893\" y=\"-318.8\" font-family=\"Times,serif\" font-size=\"14.00\">yes, missing</text>\n",
       "</g>\n",
       "<!-- 8 -->\n",
       "<g id=\"node7\" class=\"node\"><title>8</title>\n",
       "<ellipse fill=\"none\" stroke=\"black\" cx=\"758.393\" cy=\"-279\" rx=\"32.4942\" ry=\"18\"/>\n",
       "<text text-anchor=\"middle\" x=\"758.393\" y=\"-275.3\" font-family=\"Times,serif\" font-size=\"14.00\">f11&lt;3</text>\n",
       "</g>\n",
       "<!-- 4&#45;&gt;8 -->\n",
       "<g id=\"edge6\" class=\"edge\"><title>4&#45;&gt;8</title>\n",
       "<path fill=\"none\" stroke=\"#ff0000\" d=\"M758.393,-347.799C758.393,-336.163 758.393,-320.548 758.393,-307.237\"/>\n",
       "<polygon fill=\"#ff0000\" stroke=\"#ff0000\" points=\"761.893,-307.175 758.393,-297.175 754.893,-307.175 761.893,-307.175\"/>\n",
       "<text text-anchor=\"middle\" x=\"765.393\" y=\"-318.8\" font-family=\"Times,serif\" font-size=\"14.00\">no</text>\n",
       "</g>\n",
       "<!-- 13 -->\n",
       "<g id=\"node8\" class=\"node\"><title>13</title>\n",
       "<ellipse fill=\"none\" stroke=\"black\" cx=\"244.393\" cy=\"-192\" rx=\"56.59\" ry=\"18\"/>\n",
       "<text text-anchor=\"middle\" x=\"244.393\" y=\"-188.3\" font-family=\"Times,serif\" font-size=\"14.00\">f0&lt;965628.5</text>\n",
       "</g>\n",
       "<!-- 7&#45;&gt;13 -->\n",
       "<g id=\"edge7\" class=\"edge\"><title>7&#45;&gt;13</title>\n",
       "<path fill=\"none\" stroke=\"#0000ff\" d=\"M394.691,-263.194C364.01,-248.865 317.399,-227.096 284.226,-211.603\"/>\n",
       "<polygon fill=\"#0000ff\" stroke=\"#0000ff\" points=\"285.366,-208.273 274.824,-207.212 282.403,-214.615 285.366,-208.273\"/>\n",
       "<text text-anchor=\"middle\" x=\"380.893\" y=\"-231.8\" font-family=\"Times,serif\" font-size=\"14.00\">yes, missing</text>\n",
       "</g>\n",
       "<!-- 14 -->\n",
       "<g id=\"node9\" class=\"node\"><title>14</title>\n",
       "<ellipse fill=\"none\" stroke=\"black\" cx=\"426.393\" cy=\"-192\" rx=\"65.7887\" ry=\"18\"/>\n",
       "<text text-anchor=\"middle\" x=\"426.393\" y=\"-188.3\" font-family=\"Times,serif\" font-size=\"14.00\">f6&lt;7.14999962</text>\n",
       "</g>\n",
       "<!-- 7&#45;&gt;14 -->\n",
       "<g id=\"edge8\" class=\"edge\"><title>7&#45;&gt;14</title>\n",
       "<path fill=\"none\" stroke=\"#ff0000\" d=\"M426.393,-260.799C426.393,-249.163 426.393,-233.548 426.393,-220.237\"/>\n",
       "<polygon fill=\"#ff0000\" stroke=\"#ff0000\" points=\"429.893,-220.175 426.393,-210.175 422.893,-220.175 429.893,-220.175\"/>\n",
       "<text text-anchor=\"middle\" x=\"433.393\" y=\"-231.8\" font-family=\"Times,serif\" font-size=\"14.00\">no</text>\n",
       "</g>\n",
       "<!-- 15 -->\n",
       "<g id=\"node16\" class=\"node\"><title>15</title>\n",
       "<ellipse fill=\"none\" stroke=\"black\" cx=\"666.393\" cy=\"-192\" rx=\"75.2868\" ry=\"18\"/>\n",
       "<text text-anchor=\"middle\" x=\"666.393\" y=\"-188.3\" font-family=\"Times,serif\" font-size=\"14.00\">leaf=0.421052665</text>\n",
       "</g>\n",
       "<!-- 8&#45;&gt;15 -->\n",
       "<g id=\"edge15\" class=\"edge\"><title>8&#45;&gt;15</title>\n",
       "<path fill=\"none\" stroke=\"#0000ff\" d=\"M742.368,-263.194C728.476,-250.359 708.124,-231.555 691.98,-216.64\"/>\n",
       "<polygon fill=\"#0000ff\" stroke=\"#0000ff\" points=\"694.159,-213.888 684.439,-209.673 689.409,-219.03 694.159,-213.888\"/>\n",
       "<text text-anchor=\"middle\" x=\"752.893\" y=\"-231.8\" font-family=\"Times,serif\" font-size=\"14.00\">yes, missing</text>\n",
       "</g>\n",
       "<!-- 16 -->\n",
       "<g id=\"node17\" class=\"node\"><title>16</title>\n",
       "<ellipse fill=\"none\" stroke=\"black\" cx=\"838.393\" cy=\"-192\" rx=\"78.7863\" ry=\"18\"/>\n",
       "<text text-anchor=\"middle\" x=\"838.393\" y=\"-188.3\" font-family=\"Times,serif\" font-size=\"14.00\">leaf=&#45;0.142857134</text>\n",
       "</g>\n",
       "<!-- 8&#45;&gt;16 -->\n",
       "<g id=\"edge16\" class=\"edge\"><title>8&#45;&gt;16</title>\n",
       "<path fill=\"none\" stroke=\"#ff0000\" d=\"M772.696,-262.804C784.637,-250.117 801.876,-231.8 815.699,-217.113\"/>\n",
       "<polygon fill=\"#ff0000\" stroke=\"#ff0000\" points=\"818.265,-219.493 822.57,-209.812 813.168,-214.696 818.265,-219.493\"/>\n",
       "<text text-anchor=\"middle\" x=\"810.393\" y=\"-231.8\" font-family=\"Times,serif\" font-size=\"14.00\">no</text>\n",
       "</g>\n",
       "<!-- 25 -->\n",
       "<g id=\"node10\" class=\"node\"><title>25</title>\n",
       "<ellipse fill=\"none\" stroke=\"black\" cx=\"75.3933\" cy=\"-105\" rx=\"75.2868\" ry=\"18\"/>\n",
       "<text text-anchor=\"middle\" x=\"75.3933\" y=\"-101.3\" font-family=\"Times,serif\" font-size=\"14.00\">leaf=0.579258025</text>\n",
       "</g>\n",
       "<!-- 13&#45;&gt;25 -->\n",
       "<g id=\"edge9\" class=\"edge\"><title>13&#45;&gt;25</title>\n",
       "<path fill=\"none\" stroke=\"#0000ff\" d=\"M214.095,-176.749C200.925,-170.483 185.347,-162.977 171.393,-156 152.532,-146.57 131.759,-135.799 114.376,-126.676\"/>\n",
       "<polygon fill=\"#0000ff\" stroke=\"#0000ff\" points=\"115.58,-123.354 105.1,-121.795 112.32,-129.549 115.58,-123.354\"/>\n",
       "<text text-anchor=\"middle\" x=\"205.893\" y=\"-144.8\" font-family=\"Times,serif\" font-size=\"14.00\">yes, missing</text>\n",
       "</g>\n",
       "<!-- 26 -->\n",
       "<g id=\"node11\" class=\"node\"><title>26</title>\n",
       "<ellipse fill=\"none\" stroke=\"black\" cx=\"244.393\" cy=\"-105\" rx=\"75.2868\" ry=\"18\"/>\n",
       "<text text-anchor=\"middle\" x=\"244.393\" y=\"-101.3\" font-family=\"Times,serif\" font-size=\"14.00\">leaf=0.157894731</text>\n",
       "</g>\n",
       "<!-- 13&#45;&gt;26 -->\n",
       "<g id=\"edge10\" class=\"edge\"><title>13&#45;&gt;26</title>\n",
       "<path fill=\"none\" stroke=\"#ff0000\" d=\"M244.393,-173.799C244.393,-162.163 244.393,-146.548 244.393,-133.237\"/>\n",
       "<polygon fill=\"#ff0000\" stroke=\"#ff0000\" points=\"247.893,-133.175 244.393,-123.175 240.893,-133.175 247.893,-133.175\"/>\n",
       "<text text-anchor=\"middle\" x=\"251.393\" y=\"-144.8\" font-family=\"Times,serif\" font-size=\"14.00\">no</text>\n",
       "</g>\n",
       "<!-- 27 -->\n",
       "<g id=\"node12\" class=\"node\"><title>27</title>\n",
       "<ellipse fill=\"none\" stroke=\"black\" cx=\"374.393\" cy=\"-105\" rx=\"36.2938\" ry=\"18\"/>\n",
       "<text text-anchor=\"middle\" x=\"374.393\" y=\"-101.3\" font-family=\"Times,serif\" font-size=\"14.00\">leaf=&#45;0</text>\n",
       "</g>\n",
       "<!-- 14&#45;&gt;27 -->\n",
       "<g id=\"edge11\" class=\"edge\"><title>14&#45;&gt;27</title>\n",
       "<path fill=\"none\" stroke=\"#0000ff\" d=\"M403.836,-174.758C397.736,-169.396 391.651,-162.994 387.393,-156 383.177,-149.075 380.318,-140.807 378.383,-133.007\"/>\n",
       "<polygon fill=\"#0000ff\" stroke=\"#0000ff\" points=\"381.8,-132.252 376.334,-123.176 374.948,-133.68 381.8,-132.252\"/>\n",
       "<text text-anchor=\"middle\" x=\"421.893\" y=\"-144.8\" font-family=\"Times,serif\" font-size=\"14.00\">yes, missing</text>\n",
       "</g>\n",
       "<!-- 28 -->\n",
       "<g id=\"node13\" class=\"node\"><title>28</title>\n",
       "<ellipse fill=\"none\" stroke=\"black\" cx=\"489.393\" cy=\"-105\" rx=\"61.1893\" ry=\"18\"/>\n",
       "<text text-anchor=\"middle\" x=\"489.393\" y=\"-101.3\" font-family=\"Times,serif\" font-size=\"14.00\">f5&lt;7.0999999</text>\n",
       "</g>\n",
       "<!-- 14&#45;&gt;28 -->\n",
       "<g id=\"edge12\" class=\"edge\"><title>14&#45;&gt;28</title>\n",
       "<path fill=\"none\" stroke=\"#ff0000\" d=\"M441.481,-174.263C446.393,-168.59 451.768,-162.135 456.393,-156 462.216,-148.276 468.164,-139.566 473.376,-131.605\"/>\n",
       "<polygon fill=\"#ff0000\" stroke=\"#ff0000\" points=\"476.429,-133.329 478.904,-123.027 470.545,-129.537 476.429,-133.329\"/>\n",
       "<text text-anchor=\"middle\" x=\"474.393\" y=\"-144.8\" font-family=\"Times,serif\" font-size=\"14.00\">no</text>\n",
       "</g>\n",
       "<!-- 45 -->\n",
       "<g id=\"node14\" class=\"node\"><title>45</title>\n",
       "<ellipse fill=\"none\" stroke=\"black\" cx=\"320.393\" cy=\"-18\" rx=\"71.4873\" ry=\"18\"/>\n",
       "<text text-anchor=\"middle\" x=\"320.393\" y=\"-14.3\" font-family=\"Times,serif\" font-size=\"14.00\">leaf=0.45505619</text>\n",
       "</g>\n",
       "<!-- 28&#45;&gt;45 -->\n",
       "<g id=\"edge13\" class=\"edge\"><title>28&#45;&gt;45</title>\n",
       "<path fill=\"none\" stroke=\"#0000ff\" d=\"M458.381,-89.409C445.364,-83.2131 430.096,-75.851 416.393,-69 397.39,-59.4987 376.447,-48.6372 358.984,-39.4702\"/>\n",
       "<polygon fill=\"#0000ff\" stroke=\"#0000ff\" points=\"360.155,-36.1311 349.675,-34.5711 356.895,-42.3256 360.155,-36.1311\"/>\n",
       "<text text-anchor=\"middle\" x=\"450.893\" y=\"-57.8\" font-family=\"Times,serif\" font-size=\"14.00\">yes, missing</text>\n",
       "</g>\n",
       "<!-- 46 -->\n",
       "<g id=\"node15\" class=\"node\"><title>46</title>\n",
       "<ellipse fill=\"none\" stroke=\"black\" cx=\"489.393\" cy=\"-18\" rx=\"79.8859\" ry=\"18\"/>\n",
       "<text text-anchor=\"middle\" x=\"489.393\" y=\"-14.3\" font-family=\"Times,serif\" font-size=\"14.00\">leaf=0.0714285672</text>\n",
       "</g>\n",
       "<!-- 28&#45;&gt;46 -->\n",
       "<g id=\"edge14\" class=\"edge\"><title>28&#45;&gt;46</title>\n",
       "<path fill=\"none\" stroke=\"#ff0000\" d=\"M489.393,-86.799C489.393,-75.1626 489.393,-59.5479 489.393,-46.2368\"/>\n",
       "<polygon fill=\"#ff0000\" stroke=\"#ff0000\" points=\"492.893,-46.1754 489.393,-36.1754 485.893,-46.1755 492.893,-46.1754\"/>\n",
       "<text text-anchor=\"middle\" x=\"496.393\" y=\"-57.8\" font-family=\"Times,serif\" font-size=\"14.00\">no</text>\n",
       "</g>\n",
       "<!-- 9 -->\n",
       "<g id=\"node20\" class=\"node\"><title>9</title>\n",
       "<ellipse fill=\"none\" stroke=\"black\" cx=\"1643.39\" cy=\"-279\" rx=\"65.7887\" ry=\"18\"/>\n",
       "<text text-anchor=\"middle\" x=\"1643.39\" y=\"-275.3\" font-family=\"Times,serif\" font-size=\"14.00\">f7&lt;5.64999962</text>\n",
       "</g>\n",
       "<!-- 5&#45;&gt;9 -->\n",
       "<g id=\"edge19\" class=\"edge\"><title>5&#45;&gt;9</title>\n",
       "<path fill=\"none\" stroke=\"#0000ff\" d=\"M1894.01,-352.458C1841.58,-337.298 1753.35,-311.789 1696.78,-295.436\"/>\n",
       "<polygon fill=\"#0000ff\" stroke=\"#0000ff\" points=\"1697.53,-292.009 1686.95,-292.593 1695.59,-298.733 1697.53,-292.009\"/>\n",
       "<text text-anchor=\"middle\" x=\"1842.89\" y=\"-318.8\" font-family=\"Times,serif\" font-size=\"14.00\">yes, missing</text>\n",
       "</g>\n",
       "<!-- 10 -->\n",
       "<g id=\"node21\" class=\"node\"><title>10</title>\n",
       "<ellipse fill=\"none\" stroke=\"black\" cx=\"2335.39\" cy=\"-279\" rx=\"65.7887\" ry=\"18\"/>\n",
       "<text text-anchor=\"middle\" x=\"2335.39\" y=\"-275.3\" font-family=\"Times,serif\" font-size=\"14.00\">f7&lt;5.55000019</text>\n",
       "</g>\n",
       "<!-- 5&#45;&gt;10 -->\n",
       "<g id=\"edge20\" class=\"edge\"><title>5&#45;&gt;10</title>\n",
       "<path fill=\"none\" stroke=\"#ff0000\" d=\"M1987.4,-354.321C2060.53,-338.703 2196.47,-309.67 2275.05,-292.887\"/>\n",
       "<polygon fill=\"#ff0000\" stroke=\"#ff0000\" points=\"2276.23,-296.214 2285.28,-290.702 2274.77,-289.368 2276.23,-296.214\"/>\n",
       "<text text-anchor=\"middle\" x=\"2167.39\" y=\"-318.8\" font-family=\"Times,serif\" font-size=\"14.00\">no</text>\n",
       "</g>\n",
       "<!-- 11 -->\n",
       "<g id=\"node50\" class=\"node\"><title>11</title>\n",
       "<ellipse fill=\"none\" stroke=\"black\" cx=\"3990.39\" cy=\"-279\" rx=\"65.7887\" ry=\"18\"/>\n",
       "<text text-anchor=\"middle\" x=\"3990.39\" y=\"-275.3\" font-family=\"Times,serif\" font-size=\"14.00\">f7&lt;5.44999981</text>\n",
       "</g>\n",
       "<!-- 6&#45;&gt;11 -->\n",
       "<g id=\"edge49\" class=\"edge\"><title>6&#45;&gt;11</title>\n",
       "<path fill=\"none\" stroke=\"#0000ff\" d=\"M3990.39,-347.799C3990.39,-336.163 3990.39,-320.548 3990.39,-307.237\"/>\n",
       "<polygon fill=\"#0000ff\" stroke=\"#0000ff\" points=\"3993.89,-307.175 3990.39,-297.175 3986.89,-307.175 3993.89,-307.175\"/>\n",
       "<text text-anchor=\"middle\" x=\"4024.89\" y=\"-318.8\" font-family=\"Times,serif\" font-size=\"14.00\">yes, missing</text>\n",
       "</g>\n",
       "<!-- 12 -->\n",
       "<g id=\"node51\" class=\"node\"><title>12</title>\n",
       "<ellipse fill=\"none\" stroke=\"black\" cx=\"5095.39\" cy=\"-279\" rx=\"65.7887\" ry=\"18\"/>\n",
       "<text text-anchor=\"middle\" x=\"5095.39\" y=\"-275.3\" font-family=\"Times,serif\" font-size=\"14.00\">f7&lt;5.85000038</text>\n",
       "</g>\n",
       "<!-- 6&#45;&gt;12 -->\n",
       "<g id=\"edge50\" class=\"edge\"><title>6&#45;&gt;12</title>\n",
       "<path fill=\"none\" stroke=\"#ff0000\" d=\"M4052.57,-360.217C4243.29,-345.546 4819.42,-301.228 5023.1,-285.561\"/>\n",
       "<polygon fill=\"#ff0000\" stroke=\"#ff0000\" points=\"5023.39,-289.049 5033.1,-284.792 5022.86,-282.07 5023.39,-289.049\"/>\n",
       "<text text-anchor=\"middle\" x=\"4615.39\" y=\"-318.8\" font-family=\"Times,serif\" font-size=\"14.00\">no</text>\n",
       "</g>\n",
       "<!-- 17 -->\n",
       "<g id=\"node22\" class=\"node\"><title>17</title>\n",
       "<ellipse fill=\"none\" stroke=\"black\" cx=\"1082.39\" cy=\"-192\" rx=\"65.7887\" ry=\"18\"/>\n",
       "<text text-anchor=\"middle\" x=\"1082.39\" y=\"-188.3\" font-family=\"Times,serif\" font-size=\"14.00\">f8&lt;6.05000019</text>\n",
       "</g>\n",
       "<!-- 9&#45;&gt;17 -->\n",
       "<g id=\"edge21\" class=\"edge\"><title>9&#45;&gt;17</title>\n",
       "<path fill=\"none\" stroke=\"#0000ff\" d=\"M1587.29,-269.5C1483.02,-253.701 1259.84,-219.886 1148.46,-203.01\"/>\n",
       "<polygon fill=\"#0000ff\" stroke=\"#0000ff\" points=\"1148.77,-199.518 1138.36,-201.48 1147.72,-206.439 1148.77,-199.518\"/>\n",
       "<text text-anchor=\"middle\" x=\"1431.89\" y=\"-231.8\" font-family=\"Times,serif\" font-size=\"14.00\">yes, missing</text>\n",
       "</g>\n",
       "<!-- 18 -->\n",
       "<g id=\"node23\" class=\"node\"><title>18</title>\n",
       "<ellipse fill=\"none\" stroke=\"black\" cx=\"1643.39\" cy=\"-192\" rx=\"38.9931\" ry=\"18\"/>\n",
       "<text text-anchor=\"middle\" x=\"1643.39\" y=\"-188.3\" font-family=\"Times,serif\" font-size=\"14.00\">f8&lt;5.25</text>\n",
       "</g>\n",
       "<!-- 9&#45;&gt;18 -->\n",
       "<g id=\"edge22\" class=\"edge\"><title>9&#45;&gt;18</title>\n",
       "<path fill=\"none\" stroke=\"#ff0000\" d=\"M1643.39,-260.799C1643.39,-249.163 1643.39,-233.548 1643.39,-220.237\"/>\n",
       "<polygon fill=\"#ff0000\" stroke=\"#ff0000\" points=\"1646.89,-220.175 1643.39,-210.175 1639.89,-220.175 1646.89,-220.175\"/>\n",
       "<text text-anchor=\"middle\" x=\"1650.39\" y=\"-231.8\" font-family=\"Times,serif\" font-size=\"14.00\">no</text>\n",
       "</g>\n",
       "<!-- 19 -->\n",
       "<g id=\"node36\" class=\"node\"><title>19</title>\n",
       "<ellipse fill=\"none\" stroke=\"black\" cx=\"2335.39\" cy=\"-192\" rx=\"65.7887\" ry=\"18\"/>\n",
       "<text text-anchor=\"middle\" x=\"2335.39\" y=\"-188.3\" font-family=\"Times,serif\" font-size=\"14.00\">f5&lt;5.55000019</text>\n",
       "</g>\n",
       "<!-- 10&#45;&gt;19 -->\n",
       "<g id=\"edge35\" class=\"edge\"><title>10&#45;&gt;19</title>\n",
       "<path fill=\"none\" stroke=\"#0000ff\" d=\"M2335.39,-260.799C2335.39,-249.163 2335.39,-233.548 2335.39,-220.237\"/>\n",
       "<polygon fill=\"#0000ff\" stroke=\"#0000ff\" points=\"2338.89,-220.175 2335.39,-210.175 2331.89,-220.175 2338.89,-220.175\"/>\n",
       "<text text-anchor=\"middle\" x=\"2369.89\" y=\"-231.8\" font-family=\"Times,serif\" font-size=\"14.00\">yes, missing</text>\n",
       "</g>\n",
       "<!-- 20 -->\n",
       "<g id=\"node37\" class=\"node\"><title>20</title>\n",
       "<ellipse fill=\"none\" stroke=\"black\" cx=\"2818.39\" cy=\"-192\" rx=\"65.7887\" ry=\"18\"/>\n",
       "<text text-anchor=\"middle\" x=\"2818.39\" y=\"-188.3\" font-family=\"Times,serif\" font-size=\"14.00\">f7&lt;6.05000019</text>\n",
       "</g>\n",
       "<!-- 10&#45;&gt;20 -->\n",
       "<g id=\"edge36\" class=\"edge\"><title>10&#45;&gt;20</title>\n",
       "<path fill=\"none\" stroke=\"#ff0000\" d=\"M2388.93,-268.579C2478.6,-252.798 2658.75,-221.095 2754.75,-204.2\"/>\n",
       "<polygon fill=\"#ff0000\" stroke=\"#ff0000\" points=\"2755.38,-207.644 2764.62,-202.463 2754.16,-200.75 2755.38,-207.644\"/>\n",
       "<text text-anchor=\"middle\" x=\"2613.39\" y=\"-231.8\" font-family=\"Times,serif\" font-size=\"14.00\">no</text>\n",
       "</g>\n",
       "<!-- 29 -->\n",
       "<g id=\"node24\" class=\"node\"><title>29</title>\n",
       "<ellipse fill=\"none\" stroke=\"black\" cx=\"827.393\" cy=\"-105\" rx=\"65.7887\" ry=\"18\"/>\n",
       "<text text-anchor=\"middle\" x=\"827.393\" y=\"-101.3\" font-family=\"Times,serif\" font-size=\"14.00\">f6&lt;5.05000019</text>\n",
       "</g>\n",
       "<!-- 17&#45;&gt;29 -->\n",
       "<g id=\"edge23\" class=\"edge\"><title>17&#45;&gt;29</title>\n",
       "<path fill=\"none\" stroke=\"#0000ff\" d=\"M1042.27,-177.625C997.524,-162.71 925.116,-138.574 876.89,-122.499\"/>\n",
       "<polygon fill=\"#0000ff\" stroke=\"#0000ff\" points=\"877.877,-119.139 867.284,-119.297 875.664,-125.779 877.877,-119.139\"/>\n",
       "<text text-anchor=\"middle\" x=\"1004.89\" y=\"-144.8\" font-family=\"Times,serif\" font-size=\"14.00\">yes, missing</text>\n",
       "</g>\n",
       "<!-- 30 -->\n",
       "<g id=\"node25\" class=\"node\"><title>30</title>\n",
       "<ellipse fill=\"none\" stroke=\"black\" cx=\"1082.39\" cy=\"-105\" rx=\"38.9931\" ry=\"18\"/>\n",
       "<text text-anchor=\"middle\" x=\"1082.39\" y=\"-101.3\" font-family=\"Times,serif\" font-size=\"14.00\">f10&lt;2.5</text>\n",
       "</g>\n",
       "<!-- 17&#45;&gt;30 -->\n",
       "<g id=\"edge24\" class=\"edge\"><title>17&#45;&gt;30</title>\n",
       "<path fill=\"none\" stroke=\"#ff0000\" d=\"M1082.39,-173.799C1082.39,-162.163 1082.39,-146.548 1082.39,-133.237\"/>\n",
       "<polygon fill=\"#ff0000\" stroke=\"#ff0000\" points=\"1085.89,-133.175 1082.39,-123.175 1078.89,-133.175 1085.89,-133.175\"/>\n",
       "<text text-anchor=\"middle\" x=\"1089.39\" y=\"-144.8\" font-family=\"Times,serif\" font-size=\"14.00\">no</text>\n",
       "</g>\n",
       "<!-- 31 -->\n",
       "<g id=\"node30\" class=\"node\"><title>31</title>\n",
       "<ellipse fill=\"none\" stroke=\"black\" cx=\"1521.39\" cy=\"-105\" rx=\"65.7887\" ry=\"18\"/>\n",
       "<text text-anchor=\"middle\" x=\"1521.39\" y=\"-101.3\" font-family=\"Times,serif\" font-size=\"14.00\">f5&lt;5.05000019</text>\n",
       "</g>\n",
       "<!-- 18&#45;&gt;31 -->\n",
       "<g id=\"edge29\" class=\"edge\"><title>18&#45;&gt;31</title>\n",
       "<path fill=\"none\" stroke=\"#0000ff\" d=\"M1622.05,-176.829C1612.61,-170.513 1601.41,-162.946 1591.39,-156 1578.46,-147.029 1564.3,-136.968 1552.13,-128.236\"/>\n",
       "<polygon fill=\"#0000ff\" stroke=\"#0000ff\" points=\"1553.83,-125.143 1543.66,-122.147 1549.74,-130.826 1553.83,-125.143\"/>\n",
       "<text text-anchor=\"middle\" x=\"1625.89\" y=\"-144.8\" font-family=\"Times,serif\" font-size=\"14.00\">yes, missing</text>\n",
       "</g>\n",
       "<!-- 32 -->\n",
       "<g id=\"node31\" class=\"node\"><title>32</title>\n",
       "<ellipse fill=\"none\" stroke=\"black\" cx=\"1690.39\" cy=\"-105\" rx=\"65.7887\" ry=\"18\"/>\n",
       "<text text-anchor=\"middle\" x=\"1690.39\" y=\"-101.3\" font-family=\"Times,serif\" font-size=\"14.00\">f5&lt;4.44999981</text>\n",
       "</g>\n",
       "<!-- 18&#45;&gt;32 -->\n",
       "<g id=\"edge30\" class=\"edge\"><title>18&#45;&gt;32</title>\n",
       "<path fill=\"none\" stroke=\"#ff0000\" d=\"M1652.68,-174.207C1659.33,-162.178 1668.42,-145.748 1676,-132.028\"/>\n",
       "<polygon fill=\"#ff0000\" stroke=\"#ff0000\" points=\"1679.19,-133.494 1680.97,-123.049 1673.06,-130.107 1679.19,-133.494\"/>\n",
       "<text text-anchor=\"middle\" x=\"1677.39\" y=\"-144.8\" font-family=\"Times,serif\" font-size=\"14.00\">no</text>\n",
       "</g>\n",
       "<!-- 47 -->\n",
       "<g id=\"node26\" class=\"node\"><title>47</title>\n",
       "<ellipse fill=\"none\" stroke=\"black\" cx=\"662.393\" cy=\"-18\" rx=\"75.2868\" ry=\"18\"/>\n",
       "<text text-anchor=\"middle\" x=\"662.393\" y=\"-14.3\" font-family=\"Times,serif\" font-size=\"14.00\">leaf=0.419508845</text>\n",
       "</g>\n",
       "<!-- 29&#45;&gt;47 -->\n",
       "<g id=\"edge25\" class=\"edge\"><title>29&#45;&gt;47</title>\n",
       "<path fill=\"none\" stroke=\"#0000ff\" d=\"M795.601,-89.1871C782.735,-83.0809 767.785,-75.8437 754.393,-69 736.228,-59.7167 716.31,-48.9644 699.667,-39.8148\"/>\n",
       "<polygon fill=\"#0000ff\" stroke=\"#0000ff\" points=\"701.236,-36.6831 690.789,-34.9161 697.854,-42.8119 701.236,-36.6831\"/>\n",
       "<text text-anchor=\"middle\" x=\"788.893\" y=\"-57.8\" font-family=\"Times,serif\" font-size=\"14.00\">yes, missing</text>\n",
       "</g>\n",
       "<!-- 48 -->\n",
       "<g id=\"node27\" class=\"node\"><title>48</title>\n",
       "<ellipse fill=\"none\" stroke=\"black\" cx=\"827.393\" cy=\"-18\" rx=\"71.4873\" ry=\"18\"/>\n",
       "<text text-anchor=\"middle\" x=\"827.393\" y=\"-14.3\" font-family=\"Times,serif\" font-size=\"14.00\">leaf=0.28919962</text>\n",
       "</g>\n",
       "<!-- 29&#45;&gt;48 -->\n",
       "<g id=\"edge26\" class=\"edge\"><title>29&#45;&gt;48</title>\n",
       "<path fill=\"none\" stroke=\"#ff0000\" d=\"M827.393,-86.799C827.393,-75.1626 827.393,-59.5479 827.393,-46.2368\"/>\n",
       "<polygon fill=\"#ff0000\" stroke=\"#ff0000\" points=\"830.893,-46.1754 827.393,-36.1754 823.893,-46.1755 830.893,-46.1754\"/>\n",
       "<text text-anchor=\"middle\" x=\"834.393\" y=\"-57.8\" font-family=\"Times,serif\" font-size=\"14.00\">no</text>\n",
       "</g>\n",
       "<!-- 49 -->\n",
       "<g id=\"node28\" class=\"node\"><title>49</title>\n",
       "<ellipse fill=\"none\" stroke=\"black\" cx=\"992.393\" cy=\"-18\" rx=\"75.2868\" ry=\"18\"/>\n",
       "<text text-anchor=\"middle\" x=\"992.393\" y=\"-14.3\" font-family=\"Times,serif\" font-size=\"14.00\">leaf=0.260869563</text>\n",
       "</g>\n",
       "<!-- 30&#45;&gt;49 -->\n",
       "<g id=\"edge27\" class=\"edge\"><title>30&#45;&gt;49</title>\n",
       "<path fill=\"none\" stroke=\"#0000ff\" d=\"M1065.89,-88.4097C1052.4,-75.676 1033.12,-57.4673 1017.69,-42.8947\"/>\n",
       "<polygon fill=\"#0000ff\" stroke=\"#0000ff\" points=\"1019.7,-39.9756 1010.03,-35.6539 1014.89,-45.0647 1019.7,-39.9756\"/>\n",
       "<text text-anchor=\"middle\" x=\"1077.89\" y=\"-57.8\" font-family=\"Times,serif\" font-size=\"14.00\">yes, missing</text>\n",
       "</g>\n",
       "<!-- 50 -->\n",
       "<g id=\"node29\" class=\"node\"><title>50</title>\n",
       "<ellipse fill=\"none\" stroke=\"black\" cx=\"1172.39\" cy=\"-18\" rx=\"87.1846\" ry=\"18\"/>\n",
       "<text text-anchor=\"middle\" x=\"1172.39\" y=\"-14.3\" font-family=\"Times,serif\" font-size=\"14.00\">leaf=&#45;0.00831024908</text>\n",
       "</g>\n",
       "<!-- 30&#45;&gt;50 -->\n",
       "<g id=\"edge28\" class=\"edge\"><title>30&#45;&gt;50</title>\n",
       "<path fill=\"none\" stroke=\"#ff0000\" d=\"M1098.9,-88.4097C1112.38,-75.676 1131.66,-57.4673 1147.09,-42.8947\"/>\n",
       "<polygon fill=\"#ff0000\" stroke=\"#ff0000\" points=\"1149.89,-45.0647 1154.76,-35.6539 1145.09,-39.9756 1149.89,-45.0647\"/>\n",
       "<text text-anchor=\"middle\" x=\"1140.39\" y=\"-57.8\" font-family=\"Times,serif\" font-size=\"14.00\">no</text>\n",
       "</g>\n",
       "<!-- 51 -->\n",
       "<g id=\"node32\" class=\"node\"><title>51</title>\n",
       "<ellipse fill=\"none\" stroke=\"black\" cx=\"1352.39\" cy=\"-18\" rx=\"75.2868\" ry=\"18\"/>\n",
       "<text text-anchor=\"middle\" x=\"1352.39\" y=\"-14.3\" font-family=\"Times,serif\" font-size=\"14.00\">leaf=0.445179582</text>\n",
       "</g>\n",
       "<!-- 31&#45;&gt;51 -->\n",
       "<g id=\"edge31\" class=\"edge\"><title>31&#45;&gt;51</title>\n",
       "<path fill=\"none\" stroke=\"#0000ff\" d=\"M1489.66,-89.0668C1476.8,-82.9431 1461.84,-75.7253 1448.39,-69 1429.53,-59.5697 1408.76,-48.7992 1391.38,-39.6757\"/>\n",
       "<polygon fill=\"#0000ff\" stroke=\"#0000ff\" points=\"1392.58,-36.3545 1382.1,-34.7955 1389.32,-42.5493 1392.58,-36.3545\"/>\n",
       "<text text-anchor=\"middle\" x=\"1482.89\" y=\"-57.8\" font-family=\"Times,serif\" font-size=\"14.00\">yes, missing</text>\n",
       "</g>\n",
       "<!-- 52 -->\n",
       "<g id=\"node33\" class=\"node\"><title>52</title>\n",
       "<ellipse fill=\"none\" stroke=\"black\" cx=\"1521.39\" cy=\"-18\" rx=\"75.2868\" ry=\"18\"/>\n",
       "<text text-anchor=\"middle\" x=\"1521.39\" y=\"-14.3\" font-family=\"Times,serif\" font-size=\"14.00\">leaf=0.186456397</text>\n",
       "</g>\n",
       "<!-- 31&#45;&gt;52 -->\n",
       "<g id=\"edge32\" class=\"edge\"><title>31&#45;&gt;52</title>\n",
       "<path fill=\"none\" stroke=\"#ff0000\" d=\"M1521.39,-86.799C1521.39,-75.1626 1521.39,-59.5479 1521.39,-46.2368\"/>\n",
       "<polygon fill=\"#ff0000\" stroke=\"#ff0000\" points=\"1524.89,-46.1754 1521.39,-36.1754 1517.89,-46.1755 1524.89,-46.1754\"/>\n",
       "<text text-anchor=\"middle\" x=\"1528.39\" y=\"-57.8\" font-family=\"Times,serif\" font-size=\"14.00\">no</text>\n",
       "</g>\n",
       "<!-- 53 -->\n",
       "<g id=\"node34\" class=\"node\"><title>53</title>\n",
       "<ellipse fill=\"none\" stroke=\"black\" cx=\"1690.39\" cy=\"-18\" rx=\"75.2868\" ry=\"18\"/>\n",
       "<text text-anchor=\"middle\" x=\"1690.39\" y=\"-14.3\" font-family=\"Times,serif\" font-size=\"14.00\">leaf=0.357142866</text>\n",
       "</g>\n",
       "<!-- 32&#45;&gt;53 -->\n",
       "<g id=\"edge33\" class=\"edge\"><title>32&#45;&gt;53</title>\n",
       "<path fill=\"none\" stroke=\"#0000ff\" d=\"M1690.39,-86.799C1690.39,-75.1626 1690.39,-59.5479 1690.39,-46.2368\"/>\n",
       "<polygon fill=\"#0000ff\" stroke=\"#0000ff\" points=\"1693.89,-46.1754 1690.39,-36.1754 1686.89,-46.1755 1693.89,-46.1754\"/>\n",
       "<text text-anchor=\"middle\" x=\"1724.89\" y=\"-57.8\" font-family=\"Times,serif\" font-size=\"14.00\">yes, missing</text>\n",
       "</g>\n",
       "<!-- 54 -->\n",
       "<g id=\"node35\" class=\"node\"><title>54</title>\n",
       "<ellipse fill=\"none\" stroke=\"black\" cx=\"1863.39\" cy=\"-18\" rx=\"79.8859\" ry=\"18\"/>\n",
       "<text text-anchor=\"middle\" x=\"1863.39\" y=\"-14.3\" font-family=\"Times,serif\" font-size=\"14.00\">leaf=0.0122591946</text>\n",
       "</g>\n",
       "<!-- 32&#45;&gt;54 -->\n",
       "<g id=\"edge34\" class=\"edge\"><title>32&#45;&gt;54</title>\n",
       "<path fill=\"none\" stroke=\"#ff0000\" d=\"M1721.71,-89.1254C1734.64,-82.948 1749.76,-75.6757 1763.39,-69 1783.14,-59.3319 1804.98,-48.4319 1823.21,-39.2823\"/>\n",
       "<polygon fill=\"#ff0000\" stroke=\"#ff0000\" points=\"1825.02,-42.2914 1832.38,-34.6731 1821.87,-36.0371 1825.02,-42.2914\"/>\n",
       "<text text-anchor=\"middle\" x=\"1801.39\" y=\"-57.8\" font-family=\"Times,serif\" font-size=\"14.00\">no</text>\n",
       "</g>\n",
       "<!-- 33 -->\n",
       "<g id=\"node38\" class=\"node\"><title>33</title>\n",
       "<ellipse fill=\"none\" stroke=\"black\" cx=\"2209.39\" cy=\"-105\" rx=\"38.9931\" ry=\"18\"/>\n",
       "<text text-anchor=\"middle\" x=\"2209.39\" y=\"-101.3\" font-family=\"Times,serif\" font-size=\"14.00\">f10&lt;4.5</text>\n",
       "</g>\n",
       "<!-- 19&#45;&gt;33 -->\n",
       "<g id=\"edge37\" class=\"edge\"><title>19&#45;&gt;33</title>\n",
       "<path fill=\"none\" stroke=\"#0000ff\" d=\"M2311.83,-175.154C2302.92,-169.157 2292.69,-162.267 2283.39,-156 2268.74,-146.115 2252.45,-135.117 2238.9,-125.957\"/>\n",
       "<polygon fill=\"#0000ff\" stroke=\"#0000ff\" points=\"2240.68,-122.935 2230.44,-120.234 2236.76,-128.735 2240.68,-122.935\"/>\n",
       "<text text-anchor=\"middle\" x=\"2317.89\" y=\"-144.8\" font-family=\"Times,serif\" font-size=\"14.00\">yes, missing</text>\n",
       "</g>\n",
       "<!-- 34 -->\n",
       "<g id=\"node39\" class=\"node\"><title>34</title>\n",
       "<ellipse fill=\"none\" stroke=\"black\" cx=\"2382.39\" cy=\"-105\" rx=\"65.7887\" ry=\"18\"/>\n",
       "<text text-anchor=\"middle\" x=\"2382.39\" y=\"-101.3\" font-family=\"Times,serif\" font-size=\"14.00\">f8&lt;5.14999962</text>\n",
       "</g>\n",
       "<!-- 19&#45;&gt;34 -->\n",
       "<g id=\"edge38\" class=\"edge\"><title>19&#45;&gt;34</title>\n",
       "<path fill=\"none\" stroke=\"#ff0000\" d=\"M2344.9,-173.799C2351.57,-161.738 2360.61,-145.403 2368.13,-131.79\"/>\n",
       "<polygon fill=\"#ff0000\" stroke=\"#ff0000\" points=\"2371.28,-133.33 2373.06,-122.885 2365.15,-129.943 2371.28,-133.33\"/>\n",
       "<text text-anchor=\"middle\" x=\"2369.39\" y=\"-144.8\" font-family=\"Times,serif\" font-size=\"14.00\">no</text>\n",
       "</g>\n",
       "<!-- 35 -->\n",
       "<g id=\"node44\" class=\"node\"><title>35</title>\n",
       "<ellipse fill=\"none\" stroke=\"black\" cx=\"2818.39\" cy=\"-105\" rx=\"65.7887\" ry=\"18\"/>\n",
       "<text text-anchor=\"middle\" x=\"2818.39\" y=\"-101.3\" font-family=\"Times,serif\" font-size=\"14.00\">f8&lt;5.05000019</text>\n",
       "</g>\n",
       "<!-- 20&#45;&gt;35 -->\n",
       "<g id=\"edge43\" class=\"edge\"><title>20&#45;&gt;35</title>\n",
       "<path fill=\"none\" stroke=\"#0000ff\" d=\"M2818.39,-173.799C2818.39,-162.163 2818.39,-146.548 2818.39,-133.237\"/>\n",
       "<polygon fill=\"#0000ff\" stroke=\"#0000ff\" points=\"2821.89,-133.175 2818.39,-123.175 2814.89,-133.175 2821.89,-133.175\"/>\n",
       "<text text-anchor=\"middle\" x=\"2852.89\" y=\"-144.8\" font-family=\"Times,serif\" font-size=\"14.00\">yes, missing</text>\n",
       "</g>\n",
       "<!-- 36 -->\n",
       "<g id=\"node45\" class=\"node\"><title>36</title>\n",
       "<ellipse fill=\"none\" stroke=\"black\" cx=\"3092.39\" cy=\"-105\" rx=\"38.9931\" ry=\"18\"/>\n",
       "<text text-anchor=\"middle\" x=\"3092.39\" y=\"-101.3\" font-family=\"Times,serif\" font-size=\"14.00\">f12&lt;5.5</text>\n",
       "</g>\n",
       "<!-- 20&#45;&gt;36 -->\n",
       "<g id=\"edge44\" class=\"edge\"><title>20&#45;&gt;36</title>\n",
       "<path fill=\"none\" stroke=\"#ff0000\" d=\"M2860.31,-177.998C2912.03,-161.953 2999.42,-134.841 3050.93,-118.862\"/>\n",
       "<polygon fill=\"#ff0000\" stroke=\"#ff0000\" points=\"3052.22,-122.126 3060.74,-115.821 3050.15,-115.441 3052.22,-122.126\"/>\n",
       "<text text-anchor=\"middle\" x=\"2979.39\" y=\"-144.8\" font-family=\"Times,serif\" font-size=\"14.00\">no</text>\n",
       "</g>\n",
       "<!-- 55 -->\n",
       "<g id=\"node40\" class=\"node\"><title>55</title>\n",
       "<ellipse fill=\"none\" stroke=\"black\" cx=\"2036.39\" cy=\"-18\" rx=\"75.2868\" ry=\"18\"/>\n",
       "<text text-anchor=\"middle\" x=\"2036.39\" y=\"-14.3\" font-family=\"Times,serif\" font-size=\"14.00\">leaf=0.318152249</text>\n",
       "</g>\n",
       "<!-- 33&#45;&gt;55 -->\n",
       "<g id=\"edge39\" class=\"edge\"><title>33&#45;&gt;55</title>\n",
       "<path fill=\"none\" stroke=\"#0000ff\" d=\"M2182.99,-91.4689C2169.09,-84.8435 2151.79,-76.5411 2136.39,-69 2116.65,-59.3319 2094.8,-48.4319 2076.58,-39.2823\"/>\n",
       "<polygon fill=\"#0000ff\" stroke=\"#0000ff\" points=\"2077.91,-36.0371 2067.41,-34.6731 2074.77,-42.2914 2077.91,-36.0371\"/>\n",
       "<text text-anchor=\"middle\" x=\"2170.89\" y=\"-57.8\" font-family=\"Times,serif\" font-size=\"14.00\">yes, missing</text>\n",
       "</g>\n",
       "<!-- 56 -->\n",
       "<g id=\"node41\" class=\"node\"><title>56</title>\n",
       "<ellipse fill=\"none\" stroke=\"black\" cx=\"2209.39\" cy=\"-18\" rx=\"79.8859\" ry=\"18\"/>\n",
       "<text text-anchor=\"middle\" x=\"2209.39\" y=\"-14.3\" font-family=\"Times,serif\" font-size=\"14.00\">leaf=0.0753646642</text>\n",
       "</g>\n",
       "<!-- 33&#45;&gt;56 -->\n",
       "<g id=\"edge40\" class=\"edge\"><title>33&#45;&gt;56</title>\n",
       "<path fill=\"none\" stroke=\"#ff0000\" d=\"M2209.39,-86.799C2209.39,-75.1626 2209.39,-59.5479 2209.39,-46.2368\"/>\n",
       "<polygon fill=\"#ff0000\" stroke=\"#ff0000\" points=\"2212.89,-46.1754 2209.39,-36.1754 2205.89,-46.1755 2212.89,-46.1754\"/>\n",
       "<text text-anchor=\"middle\" x=\"2216.39\" y=\"-57.8\" font-family=\"Times,serif\" font-size=\"14.00\">no</text>\n",
       "</g>\n",
       "<!-- 57 -->\n",
       "<g id=\"node42\" class=\"node\"><title>57</title>\n",
       "<ellipse fill=\"none\" stroke=\"black\" cx=\"2382.39\" cy=\"-18\" rx=\"75.2868\" ry=\"18\"/>\n",
       "<text text-anchor=\"middle\" x=\"2382.39\" y=\"-14.3\" font-family=\"Times,serif\" font-size=\"14.00\">leaf=0.157205239</text>\n",
       "</g>\n",
       "<!-- 34&#45;&gt;57 -->\n",
       "<g id=\"edge41\" class=\"edge\"><title>34&#45;&gt;57</title>\n",
       "<path fill=\"none\" stroke=\"#0000ff\" d=\"M2382.39,-86.799C2382.39,-75.1626 2382.39,-59.5479 2382.39,-46.2368\"/>\n",
       "<polygon fill=\"#0000ff\" stroke=\"#0000ff\" points=\"2385.89,-46.1754 2382.39,-36.1754 2378.89,-46.1755 2385.89,-46.1754\"/>\n",
       "<text text-anchor=\"middle\" x=\"2416.89\" y=\"-57.8\" font-family=\"Times,serif\" font-size=\"14.00\">yes, missing</text>\n",
       "</g>\n",
       "<!-- 58 -->\n",
       "<g id=\"node43\" class=\"node\"><title>58</title>\n",
       "<ellipse fill=\"none\" stroke=\"black\" cx=\"2555.39\" cy=\"-18\" rx=\"79.8859\" ry=\"18\"/>\n",
       "<text text-anchor=\"middle\" x=\"2555.39\" y=\"-14.3\" font-family=\"Times,serif\" font-size=\"14.00\">leaf=0.0192719474</text>\n",
       "</g>\n",
       "<!-- 34&#45;&gt;58 -->\n",
       "<g id=\"edge42\" class=\"edge\"><title>34&#45;&gt;58</title>\n",
       "<path fill=\"none\" stroke=\"#ff0000\" d=\"M2413.71,-89.1254C2426.64,-82.948 2441.76,-75.6757 2455.39,-69 2475.14,-59.3319 2496.98,-48.4319 2515.21,-39.2823\"/>\n",
       "<polygon fill=\"#ff0000\" stroke=\"#ff0000\" points=\"2517.02,-42.2914 2524.38,-34.6731 2513.87,-36.0371 2517.02,-42.2914\"/>\n",
       "<text text-anchor=\"middle\" x=\"2493.39\" y=\"-57.8\" font-family=\"Times,serif\" font-size=\"14.00\">no</text>\n",
       "</g>\n",
       "<!-- 59 -->\n",
       "<g id=\"node46\" class=\"node\"><title>59</title>\n",
       "<ellipse fill=\"none\" stroke=\"black\" cx=\"2728.39\" cy=\"-18\" rx=\"75.2868\" ry=\"18\"/>\n",
       "<text text-anchor=\"middle\" x=\"2728.39\" y=\"-14.3\" font-family=\"Times,serif\" font-size=\"14.00\">leaf=0.184931502</text>\n",
       "</g>\n",
       "<!-- 35&#45;&gt;59 -->\n",
       "<g id=\"edge45\" class=\"edge\"><title>35&#45;&gt;59</title>\n",
       "<path fill=\"none\" stroke=\"#0000ff\" d=\"M2801.04,-87.6111C2787.56,-74.876 2768.66,-57.0337 2753.53,-42.7363\"/>\n",
       "<polygon fill=\"#0000ff\" stroke=\"#0000ff\" points=\"2755.67,-39.9503 2746,-35.6286 2750.87,-45.0394 2755.67,-39.9503\"/>\n",
       "<text text-anchor=\"middle\" x=\"2813.89\" y=\"-57.8\" font-family=\"Times,serif\" font-size=\"14.00\">yes, missing</text>\n",
       "</g>\n",
       "<!-- 60 -->\n",
       "<g id=\"node47\" class=\"node\"><title>60</title>\n",
       "<ellipse fill=\"none\" stroke=\"black\" cx=\"2908.39\" cy=\"-18\" rx=\"87.1846\" ry=\"18\"/>\n",
       "<text text-anchor=\"middle\" x=\"2908.39\" y=\"-14.3\" font-family=\"Times,serif\" font-size=\"14.00\">leaf=&#45;0.00628053024</text>\n",
       "</g>\n",
       "<!-- 35&#45;&gt;60 -->\n",
       "<g id=\"edge46\" class=\"edge\"><title>35&#45;&gt;60</title>\n",
       "<path fill=\"none\" stroke=\"#ff0000\" d=\"M2835.75,-87.6111C2849.23,-74.876 2868.12,-57.0337 2883.26,-42.7363\"/>\n",
       "<polygon fill=\"#ff0000\" stroke=\"#ff0000\" points=\"2885.92,-45.0394 2890.79,-35.6286 2881.11,-39.9503 2885.92,-45.0394\"/>\n",
       "<text text-anchor=\"middle\" x=\"2876.39\" y=\"-57.8\" font-family=\"Times,serif\" font-size=\"14.00\">no</text>\n",
       "</g>\n",
       "<!-- 61 -->\n",
       "<g id=\"node48\" class=\"node\"><title>61</title>\n",
       "<ellipse fill=\"none\" stroke=\"black\" cx=\"3092.39\" cy=\"-18\" rx=\"78.7863\" ry=\"18\"/>\n",
       "<text text-anchor=\"middle\" x=\"3092.39\" y=\"-14.3\" font-family=\"Times,serif\" font-size=\"14.00\">leaf=&#45;0.103198551</text>\n",
       "</g>\n",
       "<!-- 36&#45;&gt;61 -->\n",
       "<g id=\"edge47\" class=\"edge\"><title>36&#45;&gt;61</title>\n",
       "<path fill=\"none\" stroke=\"#0000ff\" d=\"M3092.39,-86.799C3092.39,-75.1626 3092.39,-59.5479 3092.39,-46.2368\"/>\n",
       "<polygon fill=\"#0000ff\" stroke=\"#0000ff\" points=\"3095.89,-46.1754 3092.39,-36.1754 3088.89,-46.1755 3095.89,-46.1754\"/>\n",
       "<text text-anchor=\"middle\" x=\"3126.89\" y=\"-57.8\" font-family=\"Times,serif\" font-size=\"14.00\">yes, missing</text>\n",
       "</g>\n",
       "<!-- 62 -->\n",
       "<g id=\"node49\" class=\"node\"><title>62</title>\n",
       "<ellipse fill=\"none\" stroke=\"black\" cx=\"3269.39\" cy=\"-18\" rx=\"79.8859\" ry=\"18\"/>\n",
       "<text text-anchor=\"middle\" x=\"3269.39\" y=\"-14.3\" font-family=\"Times,serif\" font-size=\"14.00\">leaf=0.0765595436</text>\n",
       "</g>\n",
       "<!-- 36&#45;&gt;62 -->\n",
       "<g id=\"edge48\" class=\"edge\"><title>36&#45;&gt;62</title>\n",
       "<path fill=\"none\" stroke=\"#ff0000\" d=\"M3118.41,-91.5338C3132.35,-84.8543 3149.81,-76.4823 3165.39,-69 3186.04,-59.0894 3208.98,-48.0616 3228.05,-38.8897\"/>\n",
       "<polygon fill=\"#ff0000\" stroke=\"#ff0000\" points=\"3229.58,-42.0376 3237.07,-34.5492 3226.54,-35.7293 3229.58,-42.0376\"/>\n",
       "<text text-anchor=\"middle\" x=\"3201.39\" y=\"-57.8\" font-family=\"Times,serif\" font-size=\"14.00\">no</text>\n",
       "</g>\n",
       "<!-- 21 -->\n",
       "<g id=\"node52\" class=\"node\"><title>21</title>\n",
       "<ellipse fill=\"none\" stroke=\"black\" cx=\"3881.39\" cy=\"-192\" rx=\"38.9931\" ry=\"18\"/>\n",
       "<text text-anchor=\"middle\" x=\"3881.39\" y=\"-188.3\" font-family=\"Times,serif\" font-size=\"14.00\">f8&lt;5.75</text>\n",
       "</g>\n",
       "<!-- 11&#45;&gt;21 -->\n",
       "<g id=\"edge51\" class=\"edge\"><title>11&#45;&gt;21</title>\n",
       "<path fill=\"none\" stroke=\"#0000ff\" d=\"M3969.63,-261.812C3952.31,-248.301 3927.48,-228.942 3908.57,-214.197\"/>\n",
       "<polygon fill=\"#0000ff\" stroke=\"#0000ff\" points=\"3910.65,-211.377 3900.61,-207.988 3906.35,-216.897 3910.65,-211.377\"/>\n",
       "<text text-anchor=\"middle\" x=\"3976.89\" y=\"-231.8\" font-family=\"Times,serif\" font-size=\"14.00\">yes, missing</text>\n",
       "</g>\n",
       "<!-- 22 -->\n",
       "<g id=\"node53\" class=\"node\"><title>22</title>\n",
       "<ellipse fill=\"none\" stroke=\"black\" cx=\"4224.39\" cy=\"-192\" rx=\"65.7887\" ry=\"18\"/>\n",
       "<text text-anchor=\"middle\" x=\"4224.39\" y=\"-188.3\" font-family=\"Times,serif\" font-size=\"14.00\">f5&lt;6.44999981</text>\n",
       "</g>\n",
       "<!-- 11&#45;&gt;22 -->\n",
       "<g id=\"edge52\" class=\"edge\"><title>11&#45;&gt;22</title>\n",
       "<path fill=\"none\" stroke=\"#ff0000\" d=\"M4028.25,-264.249C4068.78,-249.528 4133.15,-226.144 4177.01,-210.212\"/>\n",
       "<polygon fill=\"#ff0000\" stroke=\"#ff0000\" points=\"4178.39,-213.435 4186.59,-206.731 4176,-206.856 4178.39,-213.435\"/>\n",
       "<text text-anchor=\"middle\" x=\"4128.39\" y=\"-231.8\" font-family=\"Times,serif\" font-size=\"14.00\">no</text>\n",
       "</g>\n",
       "<!-- 23 -->\n",
       "<g id=\"node66\" class=\"node\"><title>23</title>\n",
       "<ellipse fill=\"none\" stroke=\"black\" cx=\"5095.39\" cy=\"-192\" rx=\"65.7887\" ry=\"18\"/>\n",
       "<text text-anchor=\"middle\" x=\"5095.39\" y=\"-188.3\" font-family=\"Times,serif\" font-size=\"14.00\">f5&lt;6.35000038</text>\n",
       "</g>\n",
       "<!-- 12&#45;&gt;23 -->\n",
       "<g id=\"edge65\" class=\"edge\"><title>12&#45;&gt;23</title>\n",
       "<path fill=\"none\" stroke=\"#0000ff\" d=\"M5095.39,-260.799C5095.39,-249.163 5095.39,-233.548 5095.39,-220.237\"/>\n",
       "<polygon fill=\"#0000ff\" stroke=\"#0000ff\" points=\"5098.89,-220.175 5095.39,-210.175 5091.89,-220.175 5098.89,-220.175\"/>\n",
       "<text text-anchor=\"middle\" x=\"5129.89\" y=\"-231.8\" font-family=\"Times,serif\" font-size=\"14.00\">yes, missing</text>\n",
       "</g>\n",
       "<!-- 24 -->\n",
       "<g id=\"node67\" class=\"node\"><title>24</title>\n",
       "<ellipse fill=\"none\" stroke=\"black\" cx=\"5652.39\" cy=\"-192\" rx=\"38.9931\" ry=\"18\"/>\n",
       "<text text-anchor=\"middle\" x=\"5652.39\" y=\"-188.3\" font-family=\"Times,serif\" font-size=\"14.00\">f5&lt;6.25</text>\n",
       "</g>\n",
       "<!-- 12&#45;&gt;24 -->\n",
       "<g id=\"edge66\" class=\"edge\"><title>12&#45;&gt;24</title>\n",
       "<path fill=\"none\" stroke=\"#ff0000\" d=\"M5151.35,-269.461C5261.37,-252.671 5503.98,-215.648 5605.88,-200.098\"/>\n",
       "<polygon fill=\"#ff0000\" stroke=\"#ff0000\" points=\"5606.52,-203.542 5615.87,-198.573 5605.46,-196.622 5606.52,-203.542\"/>\n",
       "<text text-anchor=\"middle\" x=\"5413.39\" y=\"-231.8\" font-family=\"Times,serif\" font-size=\"14.00\">no</text>\n",
       "</g>\n",
       "<!-- 37 -->\n",
       "<g id=\"node54\" class=\"node\"><title>37</title>\n",
       "<ellipse fill=\"none\" stroke=\"black\" cx=\"3620.39\" cy=\"-105\" rx=\"50.0912\" ry=\"18\"/>\n",
       "<text text-anchor=\"middle\" x=\"3620.39\" y=\"-101.3\" font-family=\"Times,serif\" font-size=\"14.00\">f0&lt;739832</text>\n",
       "</g>\n",
       "<!-- 21&#45;&gt;37 -->\n",
       "<g id=\"edge53\" class=\"edge\"><title>21&#45;&gt;37</title>\n",
       "<path fill=\"none\" stroke=\"#0000ff\" d=\"M3850.43,-180.916C3804.76,-166.043 3719.05,-138.131 3666.13,-120.895\"/>\n",
       "<polygon fill=\"#0000ff\" stroke=\"#0000ff\" points=\"3666.92,-117.471 3656.32,-117.702 3664.75,-124.126 3666.92,-117.471\"/>\n",
       "<text text-anchor=\"middle\" x=\"3801.89\" y=\"-144.8\" font-family=\"Times,serif\" font-size=\"14.00\">yes, missing</text>\n",
       "</g>\n",
       "<!-- 38 -->\n",
       "<g id=\"node55\" class=\"node\"><title>38</title>\n",
       "<ellipse fill=\"none\" stroke=\"black\" cx=\"3881.39\" cy=\"-105\" rx=\"65.7887\" ry=\"18\"/>\n",
       "<text text-anchor=\"middle\" x=\"3881.39\" y=\"-101.3\" font-family=\"Times,serif\" font-size=\"14.00\">f5&lt;6.55000019</text>\n",
       "</g>\n",
       "<!-- 21&#45;&gt;38 -->\n",
       "<g id=\"edge54\" class=\"edge\"><title>21&#45;&gt;38</title>\n",
       "<path fill=\"none\" stroke=\"#ff0000\" d=\"M3881.39,-173.799C3881.39,-162.163 3881.39,-146.548 3881.39,-133.237\"/>\n",
       "<polygon fill=\"#ff0000\" stroke=\"#ff0000\" points=\"3884.89,-133.175 3881.39,-123.175 3877.89,-133.175 3884.89,-133.175\"/>\n",
       "<text text-anchor=\"middle\" x=\"3888.39\" y=\"-144.8\" font-family=\"Times,serif\" font-size=\"14.00\">no</text>\n",
       "</g>\n",
       "<!-- 39 -->\n",
       "<g id=\"node60\" class=\"node\"><title>39</title>\n",
       "<ellipse fill=\"none\" stroke=\"black\" cx=\"4224.39\" cy=\"-105\" rx=\"65.7887\" ry=\"18\"/>\n",
       "<text text-anchor=\"middle\" x=\"4224.39\" y=\"-101.3\" font-family=\"Times,serif\" font-size=\"14.00\">f6&lt;5.14999962</text>\n",
       "</g>\n",
       "<!-- 22&#45;&gt;39 -->\n",
       "<g id=\"edge59\" class=\"edge\"><title>22&#45;&gt;39</title>\n",
       "<path fill=\"none\" stroke=\"#0000ff\" d=\"M4224.39,-173.799C4224.39,-162.163 4224.39,-146.548 4224.39,-133.237\"/>\n",
       "<polygon fill=\"#0000ff\" stroke=\"#0000ff\" points=\"4227.89,-133.175 4224.39,-123.175 4220.89,-133.175 4227.89,-133.175\"/>\n",
       "<text text-anchor=\"middle\" x=\"4258.89\" y=\"-144.8\" font-family=\"Times,serif\" font-size=\"14.00\">yes, missing</text>\n",
       "</g>\n",
       "<!-- 40 -->\n",
       "<g id=\"node61\" class=\"node\"><title>40</title>\n",
       "<ellipse fill=\"none\" stroke=\"black\" cx=\"4491.39\" cy=\"-105\" rx=\"56.59\" ry=\"18\"/>\n",
       "<text text-anchor=\"middle\" x=\"4491.39\" y=\"-101.3\" font-family=\"Times,serif\" font-size=\"14.00\">f0&lt;983397.5</text>\n",
       "</g>\n",
       "<!-- 22&#45;&gt;40 -->\n",
       "<g id=\"edge60\" class=\"edge\"><title>22&#45;&gt;40</title>\n",
       "<path fill=\"none\" stroke=\"#ff0000\" d=\"M4265.53,-177.905C4313.39,-162.668 4392.32,-137.541 4443.06,-121.387\"/>\n",
       "<polygon fill=\"#ff0000\" stroke=\"#ff0000\" points=\"4444.35,-124.65 4452.82,-118.281 4442.22,-117.98 4444.35,-124.65\"/>\n",
       "<text text-anchor=\"middle\" x=\"4380.39\" y=\"-144.8\" font-family=\"Times,serif\" font-size=\"14.00\">no</text>\n",
       "</g>\n",
       "<!-- 63 -->\n",
       "<g id=\"node56\" class=\"node\"><title>63</title>\n",
       "<ellipse fill=\"none\" stroke=\"black\" cx=\"3447.39\" cy=\"-18\" rx=\"79.8859\" ry=\"18\"/>\n",
       "<text text-anchor=\"middle\" x=\"3447.39\" y=\"-14.3\" font-family=\"Times,serif\" font-size=\"14.00\">leaf=0.0712038875</text>\n",
       "</g>\n",
       "<!-- 37&#45;&gt;63 -->\n",
       "<g id=\"edge55\" class=\"edge\"><title>37&#45;&gt;63</title>\n",
       "<path fill=\"none\" stroke=\"#0000ff\" d=\"M3591.21,-90.1446C3577.83,-83.7579 3561.78,-76.0466 3547.39,-69 3527.65,-59.3319 3505.8,-48.4319 3487.58,-39.2823\"/>\n",
       "<polygon fill=\"#0000ff\" stroke=\"#0000ff\" points=\"3488.91,-36.0371 3478.41,-34.6731 3485.77,-42.2914 3488.91,-36.0371\"/>\n",
       "<text text-anchor=\"middle\" x=\"3581.89\" y=\"-57.8\" font-family=\"Times,serif\" font-size=\"14.00\">yes, missing</text>\n",
       "</g>\n",
       "<!-- 64 -->\n",
       "<g id=\"node57\" class=\"node\"><title>64</title>\n",
       "<ellipse fill=\"none\" stroke=\"black\" cx=\"3620.39\" cy=\"-18\" rx=\"75.2868\" ry=\"18\"/>\n",
       "<text text-anchor=\"middle\" x=\"3620.39\" y=\"-14.3\" font-family=\"Times,serif\" font-size=\"14.00\">leaf=0.186429933</text>\n",
       "</g>\n",
       "<!-- 37&#45;&gt;64 -->\n",
       "<g id=\"edge56\" class=\"edge\"><title>37&#45;&gt;64</title>\n",
       "<path fill=\"none\" stroke=\"#ff0000\" d=\"M3620.39,-86.799C3620.39,-75.1626 3620.39,-59.5479 3620.39,-46.2368\"/>\n",
       "<polygon fill=\"#ff0000\" stroke=\"#ff0000\" points=\"3623.89,-46.1754 3620.39,-36.1754 3616.89,-46.1755 3623.89,-46.1754\"/>\n",
       "<text text-anchor=\"middle\" x=\"3627.39\" y=\"-57.8\" font-family=\"Times,serif\" font-size=\"14.00\">no</text>\n",
       "</g>\n",
       "<!-- 65 -->\n",
       "<g id=\"node58\" class=\"node\"><title>65</title>\n",
       "<ellipse fill=\"none\" stroke=\"black\" cx=\"3793.39\" cy=\"-18\" rx=\"79.8859\" ry=\"18\"/>\n",
       "<text text-anchor=\"middle\" x=\"3793.39\" y=\"-14.3\" font-family=\"Times,serif\" font-size=\"14.00\">leaf=0.0107047278</text>\n",
       "</g>\n",
       "<!-- 38&#45;&gt;65 -->\n",
       "<g id=\"edge57\" class=\"edge\"><title>38&#45;&gt;65</title>\n",
       "<path fill=\"none\" stroke=\"#0000ff\" d=\"M3864.43,-87.6111C3851.24,-74.876 3832.77,-57.0337 3817.97,-42.7363\"/>\n",
       "<polygon fill=\"#0000ff\" stroke=\"#0000ff\" points=\"3820.23,-40.0586 3810.61,-35.6286 3815.37,-45.0934 3820.23,-40.0586\"/>\n",
       "<text text-anchor=\"middle\" x=\"3876.89\" y=\"-57.8\" font-family=\"Times,serif\" font-size=\"14.00\">yes, missing</text>\n",
       "</g>\n",
       "<!-- 66 -->\n",
       "<g id=\"node59\" class=\"node\"><title>66</title>\n",
       "<ellipse fill=\"none\" stroke=\"black\" cx=\"3970.39\" cy=\"-18\" rx=\"78.7863\" ry=\"18\"/>\n",
       "<text text-anchor=\"middle\" x=\"3970.39\" y=\"-14.3\" font-family=\"Times,serif\" font-size=\"14.00\">leaf=&#45;0.141176462</text>\n",
       "</g>\n",
       "<!-- 38&#45;&gt;66 -->\n",
       "<g id=\"edge58\" class=\"edge\"><title>38&#45;&gt;66</title>\n",
       "<path fill=\"none\" stroke=\"#ff0000\" d=\"M3898.55,-87.6111C3911.89,-74.876 3930.57,-57.0337 3945.54,-42.7363\"/>\n",
       "<polygon fill=\"#ff0000\" stroke=\"#ff0000\" points=\"3948.17,-45.0664 3952.98,-35.6286 3943.33,-40.0042 3948.17,-45.0664\"/>\n",
       "<text text-anchor=\"middle\" x=\"3937.39\" y=\"-57.8\" font-family=\"Times,serif\" font-size=\"14.00\">no</text>\n",
       "</g>\n",
       "<!-- 67 -->\n",
       "<g id=\"node62\" class=\"node\"><title>67</title>\n",
       "<ellipse fill=\"none\" stroke=\"black\" cx=\"4138.39\" cy=\"-18\" rx=\"71.4873\" ry=\"18\"/>\n",
       "<text text-anchor=\"middle\" x=\"4138.39\" y=\"-14.3\" font-family=\"Times,serif\" font-size=\"14.00\">leaf=0.09479554</text>\n",
       "</g>\n",
       "<!-- 39&#45;&gt;67 -->\n",
       "<g id=\"edge61\" class=\"edge\"><title>39&#45;&gt;67</title>\n",
       "<path fill=\"none\" stroke=\"#0000ff\" d=\"M4207.4,-87.2067C4194.56,-74.517 4176.77,-56.9297 4162.47,-42.7925\"/>\n",
       "<polygon fill=\"#0000ff\" stroke=\"#0000ff\" points=\"4164.92,-40.2987 4155.35,-35.7584 4160,-45.2773 4164.92,-40.2987\"/>\n",
       "<text text-anchor=\"middle\" x=\"4220.89\" y=\"-57.8\" font-family=\"Times,serif\" font-size=\"14.00\">yes, missing</text>\n",
       "</g>\n",
       "<!-- 68 -->\n",
       "<g id=\"node63\" class=\"node\"><title>68</title>\n",
       "<ellipse fill=\"none\" stroke=\"black\" cx=\"4311.39\" cy=\"-18\" rx=\"83.3857\" ry=\"18\"/>\n",
       "<text text-anchor=\"middle\" x=\"4311.39\" y=\"-14.3\" font-family=\"Times,serif\" font-size=\"14.00\">leaf=&#45;0.0605579466</text>\n",
       "</g>\n",
       "<!-- 39&#45;&gt;68 -->\n",
       "<g id=\"edge62\" class=\"edge\"><title>39&#45;&gt;68</title>\n",
       "<path fill=\"none\" stroke=\"#ff0000\" d=\"M4241.58,-87.2067C4254.57,-74.517 4272.57,-56.9297 4287.04,-42.7925\"/>\n",
       "<polygon fill=\"#ff0000\" stroke=\"#ff0000\" points=\"4289.53,-45.2503 4294.24,-35.7584 4284.64,-40.2433 4289.53,-45.2503\"/>\n",
       "<text text-anchor=\"middle\" x=\"4279.39\" y=\"-57.8\" font-family=\"Times,serif\" font-size=\"14.00\">no</text>\n",
       "</g>\n",
       "<!-- 69 -->\n",
       "<g id=\"node64\" class=\"node\"><title>69</title>\n",
       "<ellipse fill=\"none\" stroke=\"black\" cx=\"4491.39\" cy=\"-18\" rx=\"78.7863\" ry=\"18\"/>\n",
       "<text text-anchor=\"middle\" x=\"4491.39\" y=\"-14.3\" font-family=\"Times,serif\" font-size=\"14.00\">leaf=&#45;0.137590602</text>\n",
       "</g>\n",
       "<!-- 40&#45;&gt;69 -->\n",
       "<g id=\"edge63\" class=\"edge\"><title>40&#45;&gt;69</title>\n",
       "<path fill=\"none\" stroke=\"#0000ff\" d=\"M4491.39,-86.799C4491.39,-75.1626 4491.39,-59.5479 4491.39,-46.2368\"/>\n",
       "<polygon fill=\"#0000ff\" stroke=\"#0000ff\" points=\"4494.89,-46.1754 4491.39,-36.1754 4487.89,-46.1755 4494.89,-46.1754\"/>\n",
       "<text text-anchor=\"middle\" x=\"4525.89\" y=\"-57.8\" font-family=\"Times,serif\" font-size=\"14.00\">yes, missing</text>\n",
       "</g>\n",
       "<!-- 70 -->\n",
       "<g id=\"node65\" class=\"node\"><title>70</title>\n",
       "<ellipse fill=\"none\" stroke=\"black\" cx=\"4668.39\" cy=\"-18\" rx=\"79.8859\" ry=\"18\"/>\n",
       "<text text-anchor=\"middle\" x=\"4668.39\" y=\"-14.3\" font-family=\"Times,serif\" font-size=\"14.00\">leaf=0.0927835032</text>\n",
       "</g>\n",
       "<!-- 40&#45;&gt;70 -->\n",
       "<g id=\"edge64\" class=\"edge\"><title>40&#45;&gt;70</title>\n",
       "<path fill=\"none\" stroke=\"#ff0000\" d=\"M4521.23,-89.703C4534.46,-83.364 4550.2,-75.8132 4564.39,-69 4585.04,-59.0894 4607.98,-48.0616 4627.05,-38.8897\"/>\n",
       "<polygon fill=\"#ff0000\" stroke=\"#ff0000\" points=\"4628.58,-42.0376 4636.07,-34.5492 4625.54,-35.7293 4628.58,-42.0376\"/>\n",
       "<text text-anchor=\"middle\" x=\"4599.39\" y=\"-57.8\" font-family=\"Times,serif\" font-size=\"14.00\">no</text>\n",
       "</g>\n",
       "<!-- 41 -->\n",
       "<g id=\"node68\" class=\"node\"><title>41</title>\n",
       "<ellipse fill=\"none\" stroke=\"black\" cx=\"5027.39\" cy=\"-105\" rx=\"65.7887\" ry=\"18\"/>\n",
       "<text text-anchor=\"middle\" x=\"5027.39\" y=\"-101.3\" font-family=\"Times,serif\" font-size=\"14.00\">f7&lt;4.85000038</text>\n",
       "</g>\n",
       "<!-- 23&#45;&gt;41 -->\n",
       "<g id=\"edge67\" class=\"edge\"><title>23&#45;&gt;41</title>\n",
       "<path fill=\"none\" stroke=\"#0000ff\" d=\"M5081.96,-174.207C5071.99,-161.75 5058.25,-144.573 5047.05,-130.574\"/>\n",
       "<polygon fill=\"#0000ff\" stroke=\"#0000ff\" points=\"5049.78,-128.381 5040.8,-122.758 5044.31,-132.754 5049.78,-128.381\"/>\n",
       "<text text-anchor=\"middle\" x=\"5099.89\" y=\"-144.8\" font-family=\"Times,serif\" font-size=\"14.00\">yes, missing</text>\n",
       "</g>\n",
       "<!-- 42 -->\n",
       "<g id=\"node69\" class=\"node\"><title>42</title>\n",
       "<ellipse fill=\"none\" stroke=\"black\" cx=\"5207.39\" cy=\"-105\" rx=\"38.9931\" ry=\"18\"/>\n",
       "<text text-anchor=\"middle\" x=\"5207.39\" y=\"-101.3\" font-family=\"Times,serif\" font-size=\"14.00\">f12&lt;6.5</text>\n",
       "</g>\n",
       "<!-- 23&#45;&gt;42 -->\n",
       "<g id=\"edge68\" class=\"edge\"><title>23&#45;&gt;42</title>\n",
       "<path fill=\"none\" stroke=\"#ff0000\" d=\"M5116.72,-174.812C5134.64,-161.217 5160.35,-141.701 5179.82,-126.922\"/>\n",
       "<polygon fill=\"#ff0000\" stroke=\"#ff0000\" points=\"5182.16,-129.541 5188.01,-120.707 5177.93,-123.965 5182.16,-129.541\"/>\n",
       "<text text-anchor=\"middle\" x=\"5164.39\" y=\"-144.8\" font-family=\"Times,serif\" font-size=\"14.00\">no</text>\n",
       "</g>\n",
       "<!-- 43 -->\n",
       "<g id=\"node74\" class=\"node\"><title>43</title>\n",
       "<ellipse fill=\"none\" stroke=\"black\" cx=\"5652.39\" cy=\"-105\" rx=\"38.9931\" ry=\"18\"/>\n",
       "<text text-anchor=\"middle\" x=\"5652.39\" y=\"-101.3\" font-family=\"Times,serif\" font-size=\"14.00\">f11&lt;2.5</text>\n",
       "</g>\n",
       "<!-- 24&#45;&gt;43 -->\n",
       "<g id=\"edge73\" class=\"edge\"><title>24&#45;&gt;43</title>\n",
       "<path fill=\"none\" stroke=\"#0000ff\" d=\"M5652.39,-173.799C5652.39,-162.163 5652.39,-146.548 5652.39,-133.237\"/>\n",
       "<polygon fill=\"#0000ff\" stroke=\"#0000ff\" points=\"5655.89,-133.175 5652.39,-123.175 5648.89,-133.175 5655.89,-133.175\"/>\n",
       "<text text-anchor=\"middle\" x=\"5686.89\" y=\"-144.8\" font-family=\"Times,serif\" font-size=\"14.00\">yes, missing</text>\n",
       "</g>\n",
       "<!-- 44 -->\n",
       "<g id=\"node75\" class=\"node\"><title>44</title>\n",
       "<ellipse fill=\"none\" stroke=\"black\" cx=\"5917.39\" cy=\"-105\" rx=\"38.9931\" ry=\"18\"/>\n",
       "<text text-anchor=\"middle\" x=\"5917.39\" y=\"-101.3\" font-family=\"Times,serif\" font-size=\"14.00\">f6&lt;6.25</text>\n",
       "</g>\n",
       "<!-- 24&#45;&gt;44 -->\n",
       "<g id=\"edge74\" class=\"edge\"><title>24&#45;&gt;44</title>\n",
       "<path fill=\"none\" stroke=\"#ff0000\" d=\"M5683.57,-180.999C5731.51,-165.622 5823.36,-136.162 5876.55,-119.1\"/>\n",
       "<polygon fill=\"#ff0000\" stroke=\"#ff0000\" points=\"5877.88,-122.35 5886.33,-115.962 5875.74,-115.684 5877.88,-122.35\"/>\n",
       "<text text-anchor=\"middle\" x=\"5807.39\" y=\"-144.8\" font-family=\"Times,serif\" font-size=\"14.00\">no</text>\n",
       "</g>\n",
       "<!-- 71 -->\n",
       "<g id=\"node70\" class=\"node\"><title>71</title>\n",
       "<ellipse fill=\"none\" stroke=\"black\" cx=\"4846.39\" cy=\"-18\" rx=\"79.8859\" ry=\"18\"/>\n",
       "<text text-anchor=\"middle\" x=\"4846.39\" y=\"-14.3\" font-family=\"Times,serif\" font-size=\"14.00\">leaf=0.0297029689</text>\n",
       "</g>\n",
       "<!-- 41&#45;&gt;71 -->\n",
       "<g id=\"edge69\" class=\"edge\"><title>41&#45;&gt;71</title>\n",
       "<path fill=\"none\" stroke=\"#0000ff\" d=\"M4995.87,-89.1941C4966.18,-75.2544 4921.51,-54.2742 4888.73,-38.8807\"/>\n",
       "<polygon fill=\"#0000ff\" stroke=\"#0000ff\" points=\"4889.93,-35.5804 4879.39,-34.4976 4886.96,-41.9165 4889.93,-35.5804\"/>\n",
       "<text text-anchor=\"middle\" x=\"4981.89\" y=\"-57.8\" font-family=\"Times,serif\" font-size=\"14.00\">yes, missing</text>\n",
       "</g>\n",
       "<!-- 72 -->\n",
       "<g id=\"node71\" class=\"node\"><title>72</title>\n",
       "<ellipse fill=\"none\" stroke=\"black\" cx=\"5027.39\" cy=\"-18\" rx=\"83.3857\" ry=\"18\"/>\n",
       "<text text-anchor=\"middle\" x=\"5027.39\" y=\"-14.3\" font-family=\"Times,serif\" font-size=\"14.00\">leaf=&#45;0.0851926953</text>\n",
       "</g>\n",
       "<!-- 41&#45;&gt;72 -->\n",
       "<g id=\"edge70\" class=\"edge\"><title>41&#45;&gt;72</title>\n",
       "<path fill=\"none\" stroke=\"#ff0000\" d=\"M5027.39,-86.799C5027.39,-75.1626 5027.39,-59.5479 5027.39,-46.2368\"/>\n",
       "<polygon fill=\"#ff0000\" stroke=\"#ff0000\" points=\"5030.89,-46.1754 5027.39,-36.1754 5023.89,-46.1755 5030.89,-46.1754\"/>\n",
       "<text text-anchor=\"middle\" x=\"5034.39\" y=\"-57.8\" font-family=\"Times,serif\" font-size=\"14.00\">no</text>\n",
       "</g>\n",
       "<!-- 73 -->\n",
       "<g id=\"node72\" class=\"node\"><title>73</title>\n",
       "<ellipse fill=\"none\" stroke=\"black\" cx=\"5207.39\" cy=\"-18\" rx=\"78.7863\" ry=\"18\"/>\n",
       "<text text-anchor=\"middle\" x=\"5207.39\" y=\"-14.3\" font-family=\"Times,serif\" font-size=\"14.00\">leaf=&#45;0.138275355</text>\n",
       "</g>\n",
       "<!-- 42&#45;&gt;73 -->\n",
       "<g id=\"edge71\" class=\"edge\"><title>42&#45;&gt;73</title>\n",
       "<path fill=\"none\" stroke=\"#0000ff\" d=\"M5207.39,-86.799C5207.39,-75.1626 5207.39,-59.5479 5207.39,-46.2368\"/>\n",
       "<polygon fill=\"#0000ff\" stroke=\"#0000ff\" points=\"5210.89,-46.1754 5207.39,-36.1754 5203.89,-46.1755 5210.89,-46.1754\"/>\n",
       "<text text-anchor=\"middle\" x=\"5241.89\" y=\"-57.8\" font-family=\"Times,serif\" font-size=\"14.00\">yes, missing</text>\n",
       "</g>\n",
       "<!-- 74 -->\n",
       "<g id=\"node73\" class=\"node\"><title>74</title>\n",
       "<ellipse fill=\"none\" stroke=\"black\" cx=\"5382.39\" cy=\"-18\" rx=\"78.7863\" ry=\"18\"/>\n",
       "<text text-anchor=\"middle\" x=\"5382.39\" y=\"-14.3\" font-family=\"Times,serif\" font-size=\"14.00\">leaf=&#45;0.041284401</text>\n",
       "</g>\n",
       "<!-- 42&#45;&gt;74 -->\n",
       "<g id=\"edge72\" class=\"edge\"><title>42&#45;&gt;74</title>\n",
       "<path fill=\"none\" stroke=\"#ff0000\" d=\"M5233.43,-91.5819C5247.38,-84.916 5264.84,-76.5417 5280.39,-69 5300.58,-59.2112 5322.98,-48.2471 5341.62,-39.0859\"/>\n",
       "<polygon fill=\"#ff0000\" stroke=\"#ff0000\" points=\"5343.3,-42.164 5350.73,-34.6113 5340.21,-35.882 5343.3,-42.164\"/>\n",
       "<text text-anchor=\"middle\" x=\"5315.39\" y=\"-57.8\" font-family=\"Times,serif\" font-size=\"14.00\">no</text>\n",
       "</g>\n",
       "<!-- 75 -->\n",
       "<g id=\"node76\" class=\"node\"><title>75</title>\n",
       "<ellipse fill=\"none\" stroke=\"black\" cx=\"5562.39\" cy=\"-18\" rx=\"83.3857\" ry=\"18\"/>\n",
       "<text text-anchor=\"middle\" x=\"5562.39\" y=\"-14.3\" font-family=\"Times,serif\" font-size=\"14.00\">leaf=&#45;0.0384615362</text>\n",
       "</g>\n",
       "<!-- 43&#45;&gt;75 -->\n",
       "<g id=\"edge75\" class=\"edge\"><title>43&#45;&gt;75</title>\n",
       "<path fill=\"none\" stroke=\"#0000ff\" d=\"M5635.89,-88.4097C5622.4,-75.676 5603.12,-57.4673 5587.69,-42.8947\"/>\n",
       "<polygon fill=\"#0000ff\" stroke=\"#0000ff\" points=\"5589.7,-39.9756 5580.03,-35.6539 5584.89,-45.0647 5589.7,-39.9756\"/>\n",
       "<text text-anchor=\"middle\" x=\"5646.89\" y=\"-57.8\" font-family=\"Times,serif\" font-size=\"14.00\">yes, missing</text>\n",
       "</g>\n",
       "<!-- 76 -->\n",
       "<g id=\"node77\" class=\"node\"><title>76</title>\n",
       "<ellipse fill=\"none\" stroke=\"black\" cx=\"5742.39\" cy=\"-18\" rx=\"78.7863\" ry=\"18\"/>\n",
       "<text text-anchor=\"middle\" x=\"5742.39\" y=\"-14.3\" font-family=\"Times,serif\" font-size=\"14.00\">leaf=&#45;0.156917885</text>\n",
       "</g>\n",
       "<!-- 43&#45;&gt;76 -->\n",
       "<g id=\"edge76\" class=\"edge\"><title>43&#45;&gt;76</title>\n",
       "<path fill=\"none\" stroke=\"#ff0000\" d=\"M5668.9,-88.4097C5682.38,-75.676 5701.66,-57.4673 5717.09,-42.8947\"/>\n",
       "<polygon fill=\"#ff0000\" stroke=\"#ff0000\" points=\"5719.89,-45.0647 5724.76,-35.6539 5715.09,-39.9756 5719.89,-45.0647\"/>\n",
       "<text text-anchor=\"middle\" x=\"5709.39\" y=\"-57.8\" font-family=\"Times,serif\" font-size=\"14.00\">no</text>\n",
       "</g>\n",
       "<!-- 77 -->\n",
       "<g id=\"node78\" class=\"node\"><title>77</title>\n",
       "<ellipse fill=\"none\" stroke=\"black\" cx=\"5917.39\" cy=\"-18\" rx=\"78.7863\" ry=\"18\"/>\n",
       "<text text-anchor=\"middle\" x=\"5917.39\" y=\"-14.3\" font-family=\"Times,serif\" font-size=\"14.00\">leaf=&#45;0.118847542</text>\n",
       "</g>\n",
       "<!-- 44&#45;&gt;77 -->\n",
       "<g id=\"edge77\" class=\"edge\"><title>44&#45;&gt;77</title>\n",
       "<path fill=\"none\" stroke=\"#0000ff\" d=\"M5917.39,-86.799C5917.39,-75.1626 5917.39,-59.5479 5917.39,-46.2368\"/>\n",
       "<polygon fill=\"#0000ff\" stroke=\"#0000ff\" points=\"5920.89,-46.1754 5917.39,-36.1754 5913.89,-46.1755 5920.89,-46.1754\"/>\n",
       "<text text-anchor=\"middle\" x=\"5951.89\" y=\"-57.8\" font-family=\"Times,serif\" font-size=\"14.00\">yes, missing</text>\n",
       "</g>\n",
       "<!-- 78 -->\n",
       "<g id=\"node79\" class=\"node\"><title>78</title>\n",
       "<ellipse fill=\"none\" stroke=\"black\" cx=\"6092.39\" cy=\"-18\" rx=\"78.7863\" ry=\"18\"/>\n",
       "<text text-anchor=\"middle\" x=\"6092.39\" y=\"-14.3\" font-family=\"Times,serif\" font-size=\"14.00\">leaf=&#45;0.175936863</text>\n",
       "</g>\n",
       "<!-- 44&#45;&gt;78 -->\n",
       "<g id=\"edge78\" class=\"edge\"><title>44&#45;&gt;78</title>\n",
       "<path fill=\"none\" stroke=\"#ff0000\" d=\"M5943.43,-91.5819C5957.38,-84.916 5974.84,-76.5417 5990.39,-69 6010.58,-59.2112 6032.98,-48.2471 6051.62,-39.0859\"/>\n",
       "<polygon fill=\"#ff0000\" stroke=\"#ff0000\" points=\"6053.3,-42.164 6060.73,-34.6113 6050.21,-35.882 6053.3,-42.164\"/>\n",
       "<text text-anchor=\"middle\" x=\"6025.39\" y=\"-57.8\" font-family=\"Times,serif\" font-size=\"14.00\">no</text>\n",
       "</g>\n",
       "</g>\n",
       "</svg>\n"
      ],
      "text/plain": [
       "<graphviz.files.Source at 0x7f333bdc6128>"
      ]
     },
     "execution_count": 122,
     "metadata": {},
     "output_type": "execute_result"
    }
   ],
   "source": [
    "from xgboost import plot_tree, to_graphviz\n",
    "import matplotlib.pyplot as plt\n",
    "\n",
    "# plot_tree(best_clf, figsize=(10,10))\n",
    "to_graphviz(clf_xgb)\n",
    "\n",
    "# plt.show()"
   ]
  },
  {
   "cell_type": "markdown",
   "metadata": {},
   "source": [
    "## Tunando LGBM com Bayesian Optimization"
   ]
  },
  {
   "cell_type": "code",
   "execution_count": 150,
   "metadata": {
    "ExecuteTime": {
     "end_time": "2020-08-21T11:32:47.866918Z",
     "start_time": "2020-08-21T11:32:27.859643Z"
    }
   },
   "outputs": [
    {
     "name": "stdout",
     "output_type": "stream",
     "text": [
      "Iteration No: 1 started. Evaluating function at random point.\n"
     ]
    },
    {
     "name": "stderr",
     "output_type": "stream",
     "text": [
      "/home/luan/anaconda3/lib/python3.7/site-packages/sklearn/preprocessing/label.py:219: DataConversionWarning: A column-vector y was passed when a 1d array was expected. Please change the shape of y to (n_samples, ), for example using ravel().\n",
      "/home/luan/anaconda3/lib/python3.7/site-packages/sklearn/preprocessing/label.py:252: DataConversionWarning: A column-vector y was passed when a 1d array was expected. Please change the shape of y to (n_samples, ), for example using ravel().\n",
      "/home/luan/anaconda3/lib/python3.7/site-packages/sklearn/preprocessing/label.py:219: DataConversionWarning: A column-vector y was passed when a 1d array was expected. Please change the shape of y to (n_samples, ), for example using ravel().\n",
      "/home/luan/anaconda3/lib/python3.7/site-packages/sklearn/preprocessing/label.py:252: DataConversionWarning: A column-vector y was passed when a 1d array was expected. Please change the shape of y to (n_samples, ), for example using ravel().\n",
      "/home/luan/anaconda3/lib/python3.7/site-packages/sklearn/preprocessing/label.py:219: DataConversionWarning: A column-vector y was passed when a 1d array was expected. Please change the shape of y to (n_samples, ), for example using ravel().\n",
      "/home/luan/anaconda3/lib/python3.7/site-packages/sklearn/preprocessing/label.py:252: DataConversionWarning: A column-vector y was passed when a 1d array was expected. Please change the shape of y to (n_samples, ), for example using ravel().\n"
     ]
    },
    {
     "name": "stdout",
     "output_type": "stream",
     "text": [
      "Iteration No: 1 ended. Evaluation done at random point.\n",
      "Time taken: 1.2766\n",
      "Function value obtained: -0.6230\n",
      "Current minimum: -0.6230\n",
      "Iteration No: 2 started. Evaluating function at random point.\n"
     ]
    },
    {
     "name": "stderr",
     "output_type": "stream",
     "text": [
      "/home/luan/anaconda3/lib/python3.7/site-packages/sklearn/preprocessing/label.py:219: DataConversionWarning: A column-vector y was passed when a 1d array was expected. Please change the shape of y to (n_samples, ), for example using ravel().\n",
      "/home/luan/anaconda3/lib/python3.7/site-packages/sklearn/preprocessing/label.py:252: DataConversionWarning: A column-vector y was passed when a 1d array was expected. Please change the shape of y to (n_samples, ), for example using ravel().\n",
      "/home/luan/anaconda3/lib/python3.7/site-packages/sklearn/preprocessing/label.py:219: DataConversionWarning: A column-vector y was passed when a 1d array was expected. Please change the shape of y to (n_samples, ), for example using ravel().\n",
      "/home/luan/anaconda3/lib/python3.7/site-packages/sklearn/preprocessing/label.py:252: DataConversionWarning: A column-vector y was passed when a 1d array was expected. Please change the shape of y to (n_samples, ), for example using ravel().\n",
      "/home/luan/anaconda3/lib/python3.7/site-packages/sklearn/preprocessing/label.py:219: DataConversionWarning: A column-vector y was passed when a 1d array was expected. Please change the shape of y to (n_samples, ), for example using ravel().\n",
      "/home/luan/anaconda3/lib/python3.7/site-packages/sklearn/preprocessing/label.py:252: DataConversionWarning: A column-vector y was passed when a 1d array was expected. Please change the shape of y to (n_samples, ), for example using ravel().\n"
     ]
    },
    {
     "name": "stdout",
     "output_type": "stream",
     "text": [
      "Iteration No: 2 ended. Evaluation done at random point.\n",
      "Time taken: 1.9707\n",
      "Function value obtained: -0.8118\n",
      "Current minimum: -0.8118\n",
      "Iteration No: 3 started. Evaluating function at random point.\n"
     ]
    },
    {
     "name": "stderr",
     "output_type": "stream",
     "text": [
      "/home/luan/anaconda3/lib/python3.7/site-packages/sklearn/preprocessing/label.py:219: DataConversionWarning: A column-vector y was passed when a 1d array was expected. Please change the shape of y to (n_samples, ), for example using ravel().\n",
      "/home/luan/anaconda3/lib/python3.7/site-packages/sklearn/preprocessing/label.py:252: DataConversionWarning: A column-vector y was passed when a 1d array was expected. Please change the shape of y to (n_samples, ), for example using ravel().\n",
      "/home/luan/anaconda3/lib/python3.7/site-packages/sklearn/preprocessing/label.py:219: DataConversionWarning: A column-vector y was passed when a 1d array was expected. Please change the shape of y to (n_samples, ), for example using ravel().\n",
      "/home/luan/anaconda3/lib/python3.7/site-packages/sklearn/preprocessing/label.py:252: DataConversionWarning: A column-vector y was passed when a 1d array was expected. Please change the shape of y to (n_samples, ), for example using ravel().\n",
      "/home/luan/anaconda3/lib/python3.7/site-packages/sklearn/preprocessing/label.py:219: DataConversionWarning: A column-vector y was passed when a 1d array was expected. Please change the shape of y to (n_samples, ), for example using ravel().\n",
      "/home/luan/anaconda3/lib/python3.7/site-packages/sklearn/preprocessing/label.py:252: DataConversionWarning: A column-vector y was passed when a 1d array was expected. Please change the shape of y to (n_samples, ), for example using ravel().\n"
     ]
    },
    {
     "name": "stdout",
     "output_type": "stream",
     "text": [
      "Iteration No: 3 ended. Evaluation done at random point.\n",
      "Time taken: 1.4089\n",
      "Function value obtained: -0.8086\n",
      "Current minimum: -0.8118\n",
      "Iteration No: 4 started. Evaluating function at random point.\n"
     ]
    },
    {
     "name": "stderr",
     "output_type": "stream",
     "text": [
      "/home/luan/anaconda3/lib/python3.7/site-packages/sklearn/preprocessing/label.py:219: DataConversionWarning: A column-vector y was passed when a 1d array was expected. Please change the shape of y to (n_samples, ), for example using ravel().\n",
      "/home/luan/anaconda3/lib/python3.7/site-packages/sklearn/preprocessing/label.py:252: DataConversionWarning: A column-vector y was passed when a 1d array was expected. Please change the shape of y to (n_samples, ), for example using ravel().\n",
      "/home/luan/anaconda3/lib/python3.7/site-packages/sklearn/preprocessing/label.py:219: DataConversionWarning: A column-vector y was passed when a 1d array was expected. Please change the shape of y to (n_samples, ), for example using ravel().\n",
      "/home/luan/anaconda3/lib/python3.7/site-packages/sklearn/preprocessing/label.py:252: DataConversionWarning: A column-vector y was passed when a 1d array was expected. Please change the shape of y to (n_samples, ), for example using ravel().\n",
      "/home/luan/anaconda3/lib/python3.7/site-packages/sklearn/preprocessing/label.py:219: DataConversionWarning: A column-vector y was passed when a 1d array was expected. Please change the shape of y to (n_samples, ), for example using ravel().\n",
      "/home/luan/anaconda3/lib/python3.7/site-packages/sklearn/preprocessing/label.py:252: DataConversionWarning: A column-vector y was passed when a 1d array was expected. Please change the shape of y to (n_samples, ), for example using ravel().\n"
     ]
    },
    {
     "name": "stdout",
     "output_type": "stream",
     "text": [
      "Iteration No: 4 ended. Evaluation done at random point.\n",
      "Time taken: 8.2813\n",
      "Function value obtained: -0.8051\n",
      "Current minimum: -0.8118\n",
      "Iteration No: 5 started. Evaluating function at random point.\n"
     ]
    },
    {
     "name": "stderr",
     "output_type": "stream",
     "text": [
      "/home/luan/anaconda3/lib/python3.7/site-packages/sklearn/preprocessing/label.py:219: DataConversionWarning: A column-vector y was passed when a 1d array was expected. Please change the shape of y to (n_samples, ), for example using ravel().\n",
      "/home/luan/anaconda3/lib/python3.7/site-packages/sklearn/preprocessing/label.py:252: DataConversionWarning: A column-vector y was passed when a 1d array was expected. Please change the shape of y to (n_samples, ), for example using ravel().\n",
      "/home/luan/anaconda3/lib/python3.7/site-packages/sklearn/preprocessing/label.py:219: DataConversionWarning: A column-vector y was passed when a 1d array was expected. Please change the shape of y to (n_samples, ), for example using ravel().\n",
      "/home/luan/anaconda3/lib/python3.7/site-packages/sklearn/preprocessing/label.py:252: DataConversionWarning: A column-vector y was passed when a 1d array was expected. Please change the shape of y to (n_samples, ), for example using ravel().\n",
      "/home/luan/anaconda3/lib/python3.7/site-packages/sklearn/preprocessing/label.py:219: DataConversionWarning: A column-vector y was passed when a 1d array was expected. Please change the shape of y to (n_samples, ), for example using ravel().\n",
      "/home/luan/anaconda3/lib/python3.7/site-packages/sklearn/preprocessing/label.py:252: DataConversionWarning: A column-vector y was passed when a 1d array was expected. Please change the shape of y to (n_samples, ), for example using ravel().\n"
     ]
    },
    {
     "name": "stdout",
     "output_type": "stream",
     "text": [
      "Iteration No: 5 ended. Evaluation done at random point.\n",
      "Time taken: 1.3576\n",
      "Function value obtained: -0.6196\n",
      "Current minimum: -0.8118\n",
      "Iteration No: 6 started. Searching for the next optimal point.\n"
     ]
    },
    {
     "name": "stderr",
     "output_type": "stream",
     "text": [
      "/home/luan/anaconda3/lib/python3.7/site-packages/sklearn/preprocessing/label.py:219: DataConversionWarning: A column-vector y was passed when a 1d array was expected. Please change the shape of y to (n_samples, ), for example using ravel().\n",
      "/home/luan/anaconda3/lib/python3.7/site-packages/sklearn/preprocessing/label.py:252: DataConversionWarning: A column-vector y was passed when a 1d array was expected. Please change the shape of y to (n_samples, ), for example using ravel().\n",
      "/home/luan/anaconda3/lib/python3.7/site-packages/sklearn/preprocessing/label.py:219: DataConversionWarning: A column-vector y was passed when a 1d array was expected. Please change the shape of y to (n_samples, ), for example using ravel().\n",
      "/home/luan/anaconda3/lib/python3.7/site-packages/sklearn/preprocessing/label.py:252: DataConversionWarning: A column-vector y was passed when a 1d array was expected. Please change the shape of y to (n_samples, ), for example using ravel().\n",
      "/home/luan/anaconda3/lib/python3.7/site-packages/sklearn/preprocessing/label.py:219: DataConversionWarning: A column-vector y was passed when a 1d array was expected. Please change the shape of y to (n_samples, ), for example using ravel().\n",
      "/home/luan/anaconda3/lib/python3.7/site-packages/sklearn/preprocessing/label.py:252: DataConversionWarning: A column-vector y was passed when a 1d array was expected. Please change the shape of y to (n_samples, ), for example using ravel().\n"
     ]
    },
    {
     "name": "stdout",
     "output_type": "stream",
     "text": [
      "Iteration No: 6 ended. Search finished for the next optimal point.\n",
      "Time taken: 0.8835\n",
      "Function value obtained: -0.8058\n",
      "Current minimum: -0.8118\n",
      "Iteration No: 7 started. Searching for the next optimal point.\n"
     ]
    },
    {
     "name": "stderr",
     "output_type": "stream",
     "text": [
      "/home/luan/anaconda3/lib/python3.7/site-packages/sklearn/preprocessing/label.py:219: DataConversionWarning: A column-vector y was passed when a 1d array was expected. Please change the shape of y to (n_samples, ), for example using ravel().\n",
      "/home/luan/anaconda3/lib/python3.7/site-packages/sklearn/preprocessing/label.py:252: DataConversionWarning: A column-vector y was passed when a 1d array was expected. Please change the shape of y to (n_samples, ), for example using ravel().\n",
      "/home/luan/anaconda3/lib/python3.7/site-packages/sklearn/preprocessing/label.py:219: DataConversionWarning: A column-vector y was passed when a 1d array was expected. Please change the shape of y to (n_samples, ), for example using ravel().\n",
      "/home/luan/anaconda3/lib/python3.7/site-packages/sklearn/preprocessing/label.py:252: DataConversionWarning: A column-vector y was passed when a 1d array was expected. Please change the shape of y to (n_samples, ), for example using ravel().\n",
      "/home/luan/anaconda3/lib/python3.7/site-packages/sklearn/preprocessing/label.py:219: DataConversionWarning: A column-vector y was passed when a 1d array was expected. Please change the shape of y to (n_samples, ), for example using ravel().\n",
      "/home/luan/anaconda3/lib/python3.7/site-packages/sklearn/preprocessing/label.py:252: DataConversionWarning: A column-vector y was passed when a 1d array was expected. Please change the shape of y to (n_samples, ), for example using ravel().\n"
     ]
    },
    {
     "name": "stdout",
     "output_type": "stream",
     "text": [
      "Iteration No: 7 ended. Search finished for the next optimal point.\n",
      "Time taken: 1.0155\n",
      "Function value obtained: -0.7940\n",
      "Current minimum: -0.8118\n",
      "Iteration No: 8 started. Searching for the next optimal point.\n"
     ]
    },
    {
     "name": "stderr",
     "output_type": "stream",
     "text": [
      "/home/luan/anaconda3/lib/python3.7/site-packages/sklearn/preprocessing/label.py:219: DataConversionWarning: A column-vector y was passed when a 1d array was expected. Please change the shape of y to (n_samples, ), for example using ravel().\n",
      "/home/luan/anaconda3/lib/python3.7/site-packages/sklearn/preprocessing/label.py:252: DataConversionWarning: A column-vector y was passed when a 1d array was expected. Please change the shape of y to (n_samples, ), for example using ravel().\n",
      "/home/luan/anaconda3/lib/python3.7/site-packages/sklearn/preprocessing/label.py:219: DataConversionWarning: A column-vector y was passed when a 1d array was expected. Please change the shape of y to (n_samples, ), for example using ravel().\n",
      "/home/luan/anaconda3/lib/python3.7/site-packages/sklearn/preprocessing/label.py:252: DataConversionWarning: A column-vector y was passed when a 1d array was expected. Please change the shape of y to (n_samples, ), for example using ravel().\n",
      "/home/luan/anaconda3/lib/python3.7/site-packages/sklearn/preprocessing/label.py:219: DataConversionWarning: A column-vector y was passed when a 1d array was expected. Please change the shape of y to (n_samples, ), for example using ravel().\n",
      "/home/luan/anaconda3/lib/python3.7/site-packages/sklearn/preprocessing/label.py:252: DataConversionWarning: A column-vector y was passed when a 1d array was expected. Please change the shape of y to (n_samples, ), for example using ravel().\n"
     ]
    },
    {
     "name": "stdout",
     "output_type": "stream",
     "text": [
      "Iteration No: 8 ended. Search finished for the next optimal point.\n",
      "Time taken: 1.7225\n",
      "Function value obtained: -0.8124\n",
      "Current minimum: -0.8124\n",
      "Iteration No: 9 started. Searching for the next optimal point.\n"
     ]
    },
    {
     "name": "stderr",
     "output_type": "stream",
     "text": [
      "/home/luan/anaconda3/lib/python3.7/site-packages/sklearn/preprocessing/label.py:219: DataConversionWarning: A column-vector y was passed when a 1d array was expected. Please change the shape of y to (n_samples, ), for example using ravel().\n",
      "/home/luan/anaconda3/lib/python3.7/site-packages/sklearn/preprocessing/label.py:252: DataConversionWarning: A column-vector y was passed when a 1d array was expected. Please change the shape of y to (n_samples, ), for example using ravel().\n",
      "/home/luan/anaconda3/lib/python3.7/site-packages/sklearn/preprocessing/label.py:219: DataConversionWarning: A column-vector y was passed when a 1d array was expected. Please change the shape of y to (n_samples, ), for example using ravel().\n",
      "/home/luan/anaconda3/lib/python3.7/site-packages/sklearn/preprocessing/label.py:252: DataConversionWarning: A column-vector y was passed when a 1d array was expected. Please change the shape of y to (n_samples, ), for example using ravel().\n",
      "/home/luan/anaconda3/lib/python3.7/site-packages/sklearn/preprocessing/label.py:219: DataConversionWarning: A column-vector y was passed when a 1d array was expected. Please change the shape of y to (n_samples, ), for example using ravel().\n",
      "/home/luan/anaconda3/lib/python3.7/site-packages/sklearn/preprocessing/label.py:252: DataConversionWarning: A column-vector y was passed when a 1d array was expected. Please change the shape of y to (n_samples, ), for example using ravel().\n"
     ]
    },
    {
     "name": "stdout",
     "output_type": "stream",
     "text": [
      "Iteration No: 9 ended. Search finished for the next optimal point.\n",
      "Time taken: 1.0786\n",
      "Function value obtained: -0.8095\n",
      "Current minimum: -0.8124\n",
      "Iteration No: 10 started. Searching for the next optimal point.\n"
     ]
    },
    {
     "name": "stderr",
     "output_type": "stream",
     "text": [
      "/home/luan/anaconda3/lib/python3.7/site-packages/sklearn/preprocessing/label.py:219: DataConversionWarning: A column-vector y was passed when a 1d array was expected. Please change the shape of y to (n_samples, ), for example using ravel().\n",
      "/home/luan/anaconda3/lib/python3.7/site-packages/sklearn/preprocessing/label.py:252: DataConversionWarning: A column-vector y was passed when a 1d array was expected. Please change the shape of y to (n_samples, ), for example using ravel().\n",
      "/home/luan/anaconda3/lib/python3.7/site-packages/sklearn/preprocessing/label.py:219: DataConversionWarning: A column-vector y was passed when a 1d array was expected. Please change the shape of y to (n_samples, ), for example using ravel().\n",
      "/home/luan/anaconda3/lib/python3.7/site-packages/sklearn/preprocessing/label.py:252: DataConversionWarning: A column-vector y was passed when a 1d array was expected. Please change the shape of y to (n_samples, ), for example using ravel().\n",
      "/home/luan/anaconda3/lib/python3.7/site-packages/sklearn/preprocessing/label.py:219: DataConversionWarning: A column-vector y was passed when a 1d array was expected. Please change the shape of y to (n_samples, ), for example using ravel().\n",
      "/home/luan/anaconda3/lib/python3.7/site-packages/sklearn/preprocessing/label.py:252: DataConversionWarning: A column-vector y was passed when a 1d array was expected. Please change the shape of y to (n_samples, ), for example using ravel().\n"
     ]
    },
    {
     "name": "stdout",
     "output_type": "stream",
     "text": [
      "Iteration No: 10 ended. Search finished for the next optimal point.\n",
      "Time taken: 0.9365\n",
      "Function value obtained: -0.7080\n",
      "Current minimum: -0.8124\n"
     ]
    }
   ],
   "source": [
    "from skopt import gp_minimize\n",
    "from skopt.plots import plot_convergence\n",
    "from skopt.utils import use_named_args\n",
    "from skopt.space import Real, Integer\n",
    "\n",
    "si = SimpleImputer(\n",
    "    missing_values=np.nan,  # os valores faltantes são do tipo ``np.nan`` (padrão Pandas)\n",
    "    strategy='constant',  # a estratégia escolhida é a alteração do valor faltante por uma constante\n",
    "    fill_value=0,  # a constante que será usada para preenchimento dos valores faltantes é um int64=0.\n",
    "#     strategy = \"most_frequent\",\n",
    "    verbose=0,\n",
    "#     add_indicator=True,\n",
    "    copy=True\n",
    ")\n",
    "\n",
    "# The list of hyper-parameters we want to optimize\n",
    "space = [\n",
    "    Integer(2, 256, name=\"num_leaves\"),\n",
    "    Real(10 ** -3, 0.8, \"log-uniform\", name=\"learning_rate\"),\n",
    "    Integer(1, 512, name=\"min_child_samples\"),\n",
    "    Real(0.01, 1.00, name=\"subsample\"),\n",
    "    Real(0.1, 1.00, name=\"colsample_bytree\"),\n",
    "]\n",
    "\n",
    "params_names = [dim.name for dim in space]\n",
    "\n",
    "@use_named_args(space)\n",
    "def objective(**params):\n",
    "    clf.set_params(**params)\n",
    "    pipeline = Pipeline(\n",
    "        steps=[\n",
    "#             ('remove_cols', rm_columns),\n",
    "            ('add_features', AddFeatures()),\n",
    "            ('imputer', si),\n",
    "            ('clf', clf),\n",
    "        ]\n",
    "    )\n",
    "        \n",
    "    _X_train =  X_train.drop(columns=[\"NOME\"], axis='columns')\n",
    "    \n",
    "    return -np.mean(cross_val_score(pipeline, _X_train, y_train, cv=3, n_jobs=1,\n",
    "                            scoring=\"accuracy\"))\n",
    "\n",
    "# do bayesian optimization\n",
    "\n",
    "clf = lgbm.LGBMClassifier(random_state=42)\n",
    "# clf = XGBClassifier()\n",
    "\n",
    "result_gp = gp_minimize(\n",
    "    objective, space, random_state=42, verbose=1, n_calls=10, n_random_starts=5\n",
    ")\n",
    "\n",
    "# get best params and make the best classifier\n",
    "best_params = dict(zip(params_names, result_gp.x))\n",
    "\n",
    "# best_clf = XGBClassifier(**best_params)\n",
    "best_clf = lgbm.LGBMClassifier(**best_params)"
   ]
  },
  {
   "cell_type": "code",
   "execution_count": 151,
   "metadata": {
    "ExecuteTime": {
     "end_time": "2020-08-21T11:32:47.873359Z",
     "start_time": "2020-08-21T11:32:47.869163Z"
    }
   },
   "outputs": [
    {
     "data": {
      "text/plain": [
       "{'num_leaves': 16,\n",
       " 'learning_rate': 0.04255941370614545,\n",
       " 'min_child_samples': 55,\n",
       " 'subsample': 0.048101030476692466,\n",
       " 'colsample_bytree': 0.6439559798028359}"
      ]
     },
     "execution_count": 151,
     "metadata": {},
     "output_type": "execute_result"
    }
   ],
   "source": [
    "best_params"
   ]
  },
  {
   "cell_type": "code",
   "execution_count": 152,
   "metadata": {
    "ExecuteTime": {
     "end_time": "2020-08-21T11:32:48.494067Z",
     "start_time": "2020-08-21T11:32:47.879217Z"
    }
   },
   "outputs": [
    {
     "name": "stdout",
     "output_type": "stream",
     "text": [
      "Acurácia: 81.27%\n"
     ]
    }
   ],
   "source": [
    "best_pipeline = Pipeline(\n",
    "    steps=[\n",
    "        ('remove_cols', rm_columns),\n",
    "        ('imputer', si),\n",
    "        ('clf', best_clf),\n",
    "    ]\n",
    ")\n",
    "best_pipeline.fit(X_train, y_train.values.ravel())\n",
    "\n",
    "y_pred = best_pipeline.predict(X_test)\n",
    "print(\"Acurácia: {}%\".format(100*round(accuracy_score(y_test, y_pred), 4)))"
   ]
  },
  {
   "cell_type": "code",
   "execution_count": 153,
   "metadata": {
    "ExecuteTime": {
     "end_time": "2020-08-21T11:33:46.837673Z",
     "start_time": "2020-08-21T11:33:46.833470Z"
    }
   },
   "outputs": [],
   "source": [
    "%matplotlib inline"
   ]
  },
  {
   "cell_type": "code",
   "execution_count": 155,
   "metadata": {
    "ExecuteTime": {
     "end_time": "2020-08-21T11:33:50.773831Z",
     "start_time": "2020-08-21T11:33:50.032768Z"
    }
   },
   "outputs": [
    {
     "data": {
      "image/png": "[encoded data removed]",
      "text/plain": [
       "<Figure size 1440x1440 with 1 Axes>"
      ]
     },
     "metadata": {
      "needs_background": "light"
     },
     "output_type": "display_data"
    }
   ],
   "source": [
    "from lightgbm import plot_tree, plot_importance\n",
    "\n",
    "plot_tree(best_clf, figsize=(20,20))\n",
    "plt.show()"
   ]
  },
  {
   "cell_type": "code",
   "execution_count": 60,
   "metadata": {
    "ExecuteTime": {
     "end_time": "2020-08-21T10:58:12.074060Z",
     "start_time": "2020-08-21T10:58:11.910053Z"
    }
   },
   "outputs": [
    {
     "data": {
      "text/plain": [
       "<matplotlib.axes._subplots.AxesSubplot at 0x7f33391d67b8>"
      ]
     },
     "execution_count": 60,
     "metadata": {},
     "output_type": "execute_result"
    },
    {
     "data": {
      "image/png": "[encoded data removed]",
      "text/plain": [
       "<Figure size 432x288 with 1 Axes>"
      ]
     },
     "metadata": {
      "needs_background": "light"
     },
     "output_type": "display_data"
    }
   ],
   "source": [
    "plot_importance(best_clf)"
   ]
  },
  {
   "cell_type": "code",
   "execution_count": null,
   "metadata": {},
   "outputs": [],
   "source": []
  },
  {
   "cell_type": "markdown",
   "metadata": {},
   "source": [
    "### XGBoost com tunning"
   ]
  },
  {
   "cell_type": "code",
   "execution_count": 156,
   "metadata": {
    "ExecuteTime": {
     "end_time": "2020-08-21T11:37:18.747175Z",
     "start_time": "2020-08-21T11:34:04.068572Z"
    }
   },
   "outputs": [
    {
     "name": "stdout",
     "output_type": "stream",
     "text": [
      "Iteration No: 1 started. Evaluating function at random point.\n",
      "[08:34:04] WARNING: /workspace/src/learner.cc:480: \n",
      "Parameters: { min_child_samples, num_leaves } might not be used.\n",
      "\n",
      "  This may not be accurate due to some parameters are only used in language bindings but\n",
      "  passed down to XGBoost core.  Or some parameters are not used but slip through this\n",
      "  verification. Please open an issue if you find above cases.\n",
      "\n",
      "\n"
     ]
    },
    {
     "name": "stderr",
     "output_type": "stream",
     "text": [
      "/home/luan/anaconda3/lib/python3.7/site-packages/sklearn/preprocessing/label.py:219: DataConversionWarning: A column-vector y was passed when a 1d array was expected. Please change the shape of y to (n_samples, ), for example using ravel().\n",
      "/home/luan/anaconda3/lib/python3.7/site-packages/sklearn/preprocessing/label.py:252: DataConversionWarning: A column-vector y was passed when a 1d array was expected. Please change the shape of y to (n_samples, ), for example using ravel().\n",
      "/home/luan/anaconda3/lib/python3.7/site-packages/sklearn/preprocessing/label.py:219: DataConversionWarning: A column-vector y was passed when a 1d array was expected. Please change the shape of y to (n_samples, ), for example using ravel().\n",
      "/home/luan/anaconda3/lib/python3.7/site-packages/sklearn/preprocessing/label.py:252: DataConversionWarning: A column-vector y was passed when a 1d array was expected. Please change the shape of y to (n_samples, ), for example using ravel().\n"
     ]
    },
    {
     "name": "stdout",
     "output_type": "stream",
     "text": [
      "[08:34:05] WARNING: /workspace/src/learner.cc:480: \n",
      "Parameters: { min_child_samples, num_leaves } might not be used.\n",
      "\n",
      "  This may not be accurate due to some parameters are only used in language bindings but\n",
      "  passed down to XGBoost core.  Or some parameters are not used but slip through this\n",
      "  verification. Please open an issue if you find above cases.\n",
      "\n",
      "\n"
     ]
    },
    {
     "name": "stderr",
     "output_type": "stream",
     "text": [
      "/home/luan/anaconda3/lib/python3.7/site-packages/sklearn/preprocessing/label.py:219: DataConversionWarning: A column-vector y was passed when a 1d array was expected. Please change the shape of y to (n_samples, ), for example using ravel().\n",
      "/home/luan/anaconda3/lib/python3.7/site-packages/sklearn/preprocessing/label.py:252: DataConversionWarning: A column-vector y was passed when a 1d array was expected. Please change the shape of y to (n_samples, ), for example using ravel().\n"
     ]
    },
    {
     "name": "stdout",
     "output_type": "stream",
     "text": [
      "[08:34:06] WARNING: /workspace/src/learner.cc:480: \n",
      "Parameters: { min_child_samples, num_leaves } might not be used.\n",
      "\n",
      "  This may not be accurate due to some parameters are only used in language bindings but\n",
      "  passed down to XGBoost core.  Or some parameters are not used but slip through this\n",
      "  verification. Please open an issue if you find above cases.\n",
      "\n",
      "\n",
      "Iteration No: 1 ended. Evaluation done at random point.\n",
      "Time taken: 4.1980\n",
      "Function value obtained: -0.7063\n",
      "Current minimum: -0.7063\n",
      "Iteration No: 2 started. Evaluating function at random point.\n",
      "[08:34:08] WARNING: /workspace/src/learner.cc:480: \n",
      "Parameters: { min_child_samples, num_leaves } might not be used.\n",
      "\n",
      "  This may not be accurate due to some parameters are only used in language bindings but\n",
      "  passed down to XGBoost core.  Or some parameters are not used but slip through this\n",
      "  verification. Please open an issue if you find above cases.\n",
      "\n",
      "\n"
     ]
    },
    {
     "name": "stderr",
     "output_type": "stream",
     "text": [
      "/home/luan/anaconda3/lib/python3.7/site-packages/sklearn/preprocessing/label.py:219: DataConversionWarning: A column-vector y was passed when a 1d array was expected. Please change the shape of y to (n_samples, ), for example using ravel().\n",
      "/home/luan/anaconda3/lib/python3.7/site-packages/sklearn/preprocessing/label.py:252: DataConversionWarning: A column-vector y was passed when a 1d array was expected. Please change the shape of y to (n_samples, ), for example using ravel().\n",
      "/home/luan/anaconda3/lib/python3.7/site-packages/sklearn/preprocessing/label.py:219: DataConversionWarning: A column-vector y was passed when a 1d array was expected. Please change the shape of y to (n_samples, ), for example using ravel().\n",
      "/home/luan/anaconda3/lib/python3.7/site-packages/sklearn/preprocessing/label.py:252: DataConversionWarning: A column-vector y was passed when a 1d array was expected. Please change the shape of y to (n_samples, ), for example using ravel().\n"
     ]
    },
    {
     "name": "stdout",
     "output_type": "stream",
     "text": [
      "[08:34:12] WARNING: /workspace/src/learner.cc:480: \n",
      "Parameters: { min_child_samples, num_leaves } might not be used.\n",
      "\n",
      "  This may not be accurate due to some parameters are only used in language bindings but\n",
      "  passed down to XGBoost core.  Or some parameters are not used but slip through this\n",
      "  verification. Please open an issue if you find above cases.\n",
      "\n",
      "\n"
     ]
    },
    {
     "name": "stderr",
     "output_type": "stream",
     "text": [
      "/home/luan/anaconda3/lib/python3.7/site-packages/sklearn/preprocessing/label.py:219: DataConversionWarning: A column-vector y was passed when a 1d array was expected. Please change the shape of y to (n_samples, ), for example using ravel().\n",
      "/home/luan/anaconda3/lib/python3.7/site-packages/sklearn/preprocessing/label.py:252: DataConversionWarning: A column-vector y was passed when a 1d array was expected. Please change the shape of y to (n_samples, ), for example using ravel().\n"
     ]
    },
    {
     "name": "stdout",
     "output_type": "stream",
     "text": [
      "[08:34:16] WARNING: /workspace/src/learner.cc:480: \n",
      "Parameters: { min_child_samples, num_leaves } might not be used.\n",
      "\n",
      "  This may not be accurate due to some parameters are only used in language bindings but\n",
      "  passed down to XGBoost core.  Or some parameters are not used but slip through this\n",
      "  verification. Please open an issue if you find above cases.\n",
      "\n",
      "\n",
      "Iteration No: 2 ended. Evaluation done at random point.\n",
      "Time taken: 12.4329\n",
      "Function value obtained: -0.8105\n",
      "Current minimum: -0.8105\n",
      "Iteration No: 3 started. Evaluating function at random point.\n",
      "[08:34:20] WARNING: /workspace/src/learner.cc:480: \n",
      "Parameters: { min_child_samples, num_leaves } might not be used.\n",
      "\n",
      "  This may not be accurate due to some parameters are only used in language bindings but\n",
      "  passed down to XGBoost core.  Or some parameters are not used but slip through this\n",
      "  verification. Please open an issue if you find above cases.\n",
      "\n",
      "\n"
     ]
    },
    {
     "name": "stderr",
     "output_type": "stream",
     "text": [
      "/home/luan/anaconda3/lib/python3.7/site-packages/sklearn/preprocessing/label.py:219: DataConversionWarning: A column-vector y was passed when a 1d array was expected. Please change the shape of y to (n_samples, ), for example using ravel().\n",
      "/home/luan/anaconda3/lib/python3.7/site-packages/sklearn/preprocessing/label.py:252: DataConversionWarning: A column-vector y was passed when a 1d array was expected. Please change the shape of y to (n_samples, ), for example using ravel().\n",
      "/home/luan/anaconda3/lib/python3.7/site-packages/sklearn/preprocessing/label.py:219: DataConversionWarning: A column-vector y was passed when a 1d array was expected. Please change the shape of y to (n_samples, ), for example using ravel().\n",
      "/home/luan/anaconda3/lib/python3.7/site-packages/sklearn/preprocessing/label.py:252: DataConversionWarning: A column-vector y was passed when a 1d array was expected. Please change the shape of y to (n_samples, ), for example using ravel().\n"
     ]
    },
    {
     "name": "stdout",
     "output_type": "stream",
     "text": [
      "[08:34:22] WARNING: /workspace/src/learner.cc:480: \n",
      "Parameters: { min_child_samples, num_leaves } might not be used.\n",
      "\n",
      "  This may not be accurate due to some parameters are only used in language bindings but\n",
      "  passed down to XGBoost core.  Or some parameters are not used but slip through this\n",
      "  verification. Please open an issue if you find above cases.\n",
      "\n",
      "\n"
     ]
    },
    {
     "name": "stderr",
     "output_type": "stream",
     "text": [
      "/home/luan/anaconda3/lib/python3.7/site-packages/sklearn/preprocessing/label.py:219: DataConversionWarning: A column-vector y was passed when a 1d array was expected. Please change the shape of y to (n_samples, ), for example using ravel().\n",
      "/home/luan/anaconda3/lib/python3.7/site-packages/sklearn/preprocessing/label.py:252: DataConversionWarning: A column-vector y was passed when a 1d array was expected. Please change the shape of y to (n_samples, ), for example using ravel().\n"
     ]
    },
    {
     "name": "stdout",
     "output_type": "stream",
     "text": [
      "[08:34:22] WARNING: /workspace/src/learner.cc:480: \n",
      "Parameters: { min_child_samples, num_leaves } might not be used.\n",
      "\n",
      "  This may not be accurate due to some parameters are only used in language bindings but\n",
      "  passed down to XGBoost core.  Or some parameters are not used but slip through this\n",
      "  verification. Please open an issue if you find above cases.\n",
      "\n",
      "\n",
      "Iteration No: 3 ended. Evaluation done at random point.\n",
      "Time taken: 3.1041\n",
      "Function value obtained: -0.8120\n",
      "Current minimum: -0.8120\n",
      "Iteration No: 4 started. Evaluating function at random point.\n",
      "[08:34:23] WARNING: /workspace/src/learner.cc:480: \n",
      "Parameters: { min_child_samples, num_leaves } might not be used.\n",
      "\n",
      "  This may not be accurate due to some parameters are only used in language bindings but\n",
      "  passed down to XGBoost core.  Or some parameters are not used but slip through this\n",
      "  verification. Please open an issue if you find above cases.\n",
      "\n",
      "\n"
     ]
    },
    {
     "name": "stderr",
     "output_type": "stream",
     "text": [
      "/home/luan/anaconda3/lib/python3.7/site-packages/sklearn/preprocessing/label.py:219: DataConversionWarning: A column-vector y was passed when a 1d array was expected. Please change the shape of y to (n_samples, ), for example using ravel().\n",
      "/home/luan/anaconda3/lib/python3.7/site-packages/sklearn/preprocessing/label.py:252: DataConversionWarning: A column-vector y was passed when a 1d array was expected. Please change the shape of y to (n_samples, ), for example using ravel().\n",
      "/home/luan/anaconda3/lib/python3.7/site-packages/sklearn/preprocessing/label.py:219: DataConversionWarning: A column-vector y was passed when a 1d array was expected. Please change the shape of y to (n_samples, ), for example using ravel().\n",
      "/home/luan/anaconda3/lib/python3.7/site-packages/sklearn/preprocessing/label.py:252: DataConversionWarning: A column-vector y was passed when a 1d array was expected. Please change the shape of y to (n_samples, ), for example using ravel().\n"
     ]
    },
    {
     "name": "stdout",
     "output_type": "stream",
     "text": [
      "[08:34:26] WARNING: /workspace/src/learner.cc:480: \n",
      "Parameters: { min_child_samples, num_leaves } might not be used.\n",
      "\n",
      "  This may not be accurate due to some parameters are only used in language bindings but\n",
      "  passed down to XGBoost core.  Or some parameters are not used but slip through this\n",
      "  verification. Please open an issue if you find above cases.\n",
      "\n",
      "\n"
     ]
    },
    {
     "name": "stderr",
     "output_type": "stream",
     "text": [
      "/home/luan/anaconda3/lib/python3.7/site-packages/sklearn/preprocessing/label.py:219: DataConversionWarning: A column-vector y was passed when a 1d array was expected. Please change the shape of y to (n_samples, ), for example using ravel().\n",
      "/home/luan/anaconda3/lib/python3.7/site-packages/sklearn/preprocessing/label.py:252: DataConversionWarning: A column-vector y was passed when a 1d array was expected. Please change the shape of y to (n_samples, ), for example using ravel().\n"
     ]
    },
    {
     "name": "stdout",
     "output_type": "stream",
     "text": [
      "[08:34:30] WARNING: /workspace/src/learner.cc:480: \n",
      "Parameters: { min_child_samples, num_leaves } might not be used.\n",
      "\n",
      "  This may not be accurate due to some parameters are only used in language bindings but\n",
      "  passed down to XGBoost core.  Or some parameters are not used but slip through this\n",
      "  verification. Please open an issue if you find above cases.\n",
      "\n",
      "\n",
      "Iteration No: 4 ended. Evaluation done at random point.\n",
      "Time taken: 7.9913\n",
      "Function value obtained: -0.7879\n",
      "Current minimum: -0.8120\n",
      "Iteration No: 5 started. Evaluating function at random point.\n",
      "[08:34:31] WARNING: /workspace/src/learner.cc:480: \n",
      "Parameters: { min_child_samples, num_leaves } might not be used.\n",
      "\n",
      "  This may not be accurate due to some parameters are only used in language bindings but\n",
      "  passed down to XGBoost core.  Or some parameters are not used but slip through this\n",
      "  verification. Please open an issue if you find above cases.\n",
      "\n",
      "\n"
     ]
    },
    {
     "name": "stderr",
     "output_type": "stream",
     "text": [
      "/home/luan/anaconda3/lib/python3.7/site-packages/sklearn/preprocessing/label.py:219: DataConversionWarning: A column-vector y was passed when a 1d array was expected. Please change the shape of y to (n_samples, ), for example using ravel().\n",
      "/home/luan/anaconda3/lib/python3.7/site-packages/sklearn/preprocessing/label.py:252: DataConversionWarning: A column-vector y was passed when a 1d array was expected. Please change the shape of y to (n_samples, ), for example using ravel().\n",
      "/home/luan/anaconda3/lib/python3.7/site-packages/sklearn/preprocessing/label.py:219: DataConversionWarning: A column-vector y was passed when a 1d array was expected. Please change the shape of y to (n_samples, ), for example using ravel().\n",
      "/home/luan/anaconda3/lib/python3.7/site-packages/sklearn/preprocessing/label.py:252: DataConversionWarning: A column-vector y was passed when a 1d array was expected. Please change the shape of y to (n_samples, ), for example using ravel().\n"
     ]
    },
    {
     "name": "stdout",
     "output_type": "stream",
     "text": [
      "[08:34:32] WARNING: /workspace/src/learner.cc:480: \n",
      "Parameters: { min_child_samples, num_leaves } might not be used.\n",
      "\n",
      "  This may not be accurate due to some parameters are only used in language bindings but\n",
      "  passed down to XGBoost core.  Or some parameters are not used but slip through this\n",
      "  verification. Please open an issue if you find above cases.\n",
      "\n",
      "\n"
     ]
    },
    {
     "name": "stderr",
     "output_type": "stream",
     "text": [
      "/home/luan/anaconda3/lib/python3.7/site-packages/sklearn/preprocessing/label.py:219: DataConversionWarning: A column-vector y was passed when a 1d array was expected. Please change the shape of y to (n_samples, ), for example using ravel().\n",
      "/home/luan/anaconda3/lib/python3.7/site-packages/sklearn/preprocessing/label.py:252: DataConversionWarning: A column-vector y was passed when a 1d array was expected. Please change the shape of y to (n_samples, ), for example using ravel().\n"
     ]
    },
    {
     "name": "stdout",
     "output_type": "stream",
     "text": [
      "[08:34:33] WARNING: /workspace/src/learner.cc:480: \n",
      "Parameters: { min_child_samples, num_leaves } might not be used.\n",
      "\n",
      "  This may not be accurate due to some parameters are only used in language bindings but\n",
      "  passed down to XGBoost core.  Or some parameters are not used but slip through this\n",
      "  verification. Please open an issue if you find above cases.\n",
      "\n",
      "\n",
      "Iteration No: 5 ended. Evaluation done at random point.\n",
      "Time taken: 3.1623\n",
      "Function value obtained: -0.7974\n",
      "Current minimum: -0.8120\n",
      "Iteration No: 6 started. Searching for the next optimal point.\n",
      "[08:34:35] WARNING: /workspace/src/learner.cc:480: \n",
      "Parameters: { min_child_samples, num_leaves } might not be used.\n",
      "\n",
      "  This may not be accurate due to some parameters are only used in language bindings but\n",
      "  passed down to XGBoost core.  Or some parameters are not used but slip through this\n",
      "  verification. Please open an issue if you find above cases.\n",
      "\n",
      "\n"
     ]
    },
    {
     "name": "stderr",
     "output_type": "stream",
     "text": [
      "/home/luan/anaconda3/lib/python3.7/site-packages/sklearn/preprocessing/label.py:219: DataConversionWarning: A column-vector y was passed when a 1d array was expected. Please change the shape of y to (n_samples, ), for example using ravel().\n",
      "/home/luan/anaconda3/lib/python3.7/site-packages/sklearn/preprocessing/label.py:252: DataConversionWarning: A column-vector y was passed when a 1d array was expected. Please change the shape of y to (n_samples, ), for example using ravel().\n",
      "/home/luan/anaconda3/lib/python3.7/site-packages/sklearn/preprocessing/label.py:219: DataConversionWarning: A column-vector y was passed when a 1d array was expected. Please change the shape of y to (n_samples, ), for example using ravel().\n",
      "/home/luan/anaconda3/lib/python3.7/site-packages/sklearn/preprocessing/label.py:252: DataConversionWarning: A column-vector y was passed when a 1d array was expected. Please change the shape of y to (n_samples, ), for example using ravel().\n"
     ]
    },
    {
     "name": "stdout",
     "output_type": "stream",
     "text": [
      "[08:34:39] WARNING: /workspace/src/learner.cc:480: \n",
      "Parameters: { min_child_samples, num_leaves } might not be used.\n",
      "\n",
      "  This may not be accurate due to some parameters are only used in language bindings but\n",
      "  passed down to XGBoost core.  Or some parameters are not used but slip through this\n",
      "  verification. Please open an issue if you find above cases.\n",
      "\n",
      "\n"
     ]
    },
    {
     "name": "stderr",
     "output_type": "stream",
     "text": [
      "/home/luan/anaconda3/lib/python3.7/site-packages/sklearn/preprocessing/label.py:219: DataConversionWarning: A column-vector y was passed when a 1d array was expected. Please change the shape of y to (n_samples, ), for example using ravel().\n",
      "/home/luan/anaconda3/lib/python3.7/site-packages/sklearn/preprocessing/label.py:252: DataConversionWarning: A column-vector y was passed when a 1d array was expected. Please change the shape of y to (n_samples, ), for example using ravel().\n"
     ]
    },
    {
     "name": "stdout",
     "output_type": "stream",
     "text": [
      "[08:34:43] WARNING: /workspace/src/learner.cc:480: \n",
      "Parameters: { min_child_samples, num_leaves } might not be used.\n",
      "\n",
      "  This may not be accurate due to some parameters are only used in language bindings but\n",
      "  passed down to XGBoost core.  Or some parameters are not used but slip through this\n",
      "  verification. Please open an issue if you find above cases.\n",
      "\n",
      "\n",
      "Iteration No: 6 ended. Search finished for the next optimal point.\n",
      "Time taken: 15.2168\n",
      "Function value obtained: -0.7881\n",
      "Current minimum: -0.8120\n",
      "Iteration No: 7 started. Searching for the next optimal point.\n",
      "[08:34:50] WARNING: /workspace/src/learner.cc:480: \n",
      "Parameters: { min_child_samples, num_leaves } might not be used.\n",
      "\n",
      "  This may not be accurate due to some parameters are only used in language bindings but\n",
      "  passed down to XGBoost core.  Or some parameters are not used but slip through this\n",
      "  verification. Please open an issue if you find above cases.\n",
      "\n",
      "\n"
     ]
    },
    {
     "name": "stderr",
     "output_type": "stream",
     "text": [
      "/home/luan/anaconda3/lib/python3.7/site-packages/sklearn/preprocessing/label.py:219: DataConversionWarning: A column-vector y was passed when a 1d array was expected. Please change the shape of y to (n_samples, ), for example using ravel().\n",
      "/home/luan/anaconda3/lib/python3.7/site-packages/sklearn/preprocessing/label.py:252: DataConversionWarning: A column-vector y was passed when a 1d array was expected. Please change the shape of y to (n_samples, ), for example using ravel().\n",
      "/home/luan/anaconda3/lib/python3.7/site-packages/sklearn/preprocessing/label.py:219: DataConversionWarning: A column-vector y was passed when a 1d array was expected. Please change the shape of y to (n_samples, ), for example using ravel().\n",
      "/home/luan/anaconda3/lib/python3.7/site-packages/sklearn/preprocessing/label.py:252: DataConversionWarning: A column-vector y was passed when a 1d array was expected. Please change the shape of y to (n_samples, ), for example using ravel().\n"
     ]
    },
    {
     "name": "stdout",
     "output_type": "stream",
     "text": [
      "[08:34:51] WARNING: /workspace/src/learner.cc:480: \n",
      "Parameters: { min_child_samples, num_leaves } might not be used.\n",
      "\n",
      "  This may not be accurate due to some parameters are only used in language bindings but\n",
      "  passed down to XGBoost core.  Or some parameters are not used but slip through this\n",
      "  verification. Please open an issue if you find above cases.\n",
      "\n",
      "\n"
     ]
    },
    {
     "name": "stderr",
     "output_type": "stream",
     "text": [
      "/home/luan/anaconda3/lib/python3.7/site-packages/sklearn/preprocessing/label.py:219: DataConversionWarning: A column-vector y was passed when a 1d array was expected. Please change the shape of y to (n_samples, ), for example using ravel().\n",
      "/home/luan/anaconda3/lib/python3.7/site-packages/sklearn/preprocessing/label.py:252: DataConversionWarning: A column-vector y was passed when a 1d array was expected. Please change the shape of y to (n_samples, ), for example using ravel().\n"
     ]
    },
    {
     "name": "stdout",
     "output_type": "stream",
     "text": [
      "[08:34:52] WARNING: /workspace/src/learner.cc:480: \n",
      "Parameters: { min_child_samples, num_leaves } might not be used.\n",
      "\n",
      "  This may not be accurate due to some parameters are only used in language bindings but\n",
      "  passed down to XGBoost core.  Or some parameters are not used but slip through this\n",
      "  verification. Please open an issue if you find above cases.\n",
      "\n",
      "\n",
      "Iteration No: 7 ended. Search finished for the next optimal point.\n",
      "Time taken: 4.3231\n",
      "Function value obtained: -0.8044\n",
      "Current minimum: -0.8120\n",
      "Iteration No: 8 started. Searching for the next optimal point.\n",
      "[08:34:54] WARNING: /workspace/src/learner.cc:480: \n",
      "Parameters: { min_child_samples, num_leaves } might not be used.\n",
      "\n",
      "  This may not be accurate due to some parameters are only used in language bindings but\n",
      "  passed down to XGBoost core.  Or some parameters are not used but slip through this\n",
      "  verification. Please open an issue if you find above cases.\n",
      "\n",
      "\n"
     ]
    },
    {
     "name": "stderr",
     "output_type": "stream",
     "text": [
      "/home/luan/anaconda3/lib/python3.7/site-packages/sklearn/preprocessing/label.py:219: DataConversionWarning: A column-vector y was passed when a 1d array was expected. Please change the shape of y to (n_samples, ), for example using ravel().\n",
      "/home/luan/anaconda3/lib/python3.7/site-packages/sklearn/preprocessing/label.py:252: DataConversionWarning: A column-vector y was passed when a 1d array was expected. Please change the shape of y to (n_samples, ), for example using ravel().\n",
      "/home/luan/anaconda3/lib/python3.7/site-packages/sklearn/preprocessing/label.py:219: DataConversionWarning: A column-vector y was passed when a 1d array was expected. Please change the shape of y to (n_samples, ), for example using ravel().\n",
      "/home/luan/anaconda3/lib/python3.7/site-packages/sklearn/preprocessing/label.py:252: DataConversionWarning: A column-vector y was passed when a 1d array was expected. Please change the shape of y to (n_samples, ), for example using ravel().\n"
     ]
    },
    {
     "name": "stdout",
     "output_type": "stream",
     "text": [
      "[08:34:58] WARNING: /workspace/src/learner.cc:480: \n",
      "Parameters: { min_child_samples, num_leaves } might not be used.\n",
      "\n",
      "  This may not be accurate due to some parameters are only used in language bindings but\n",
      "  passed down to XGBoost core.  Or some parameters are not used but slip through this\n",
      "  verification. Please open an issue if you find above cases.\n",
      "\n",
      "\n"
     ]
    },
    {
     "name": "stderr",
     "output_type": "stream",
     "text": [
      "/home/luan/anaconda3/lib/python3.7/site-packages/sklearn/preprocessing/label.py:219: DataConversionWarning: A column-vector y was passed when a 1d array was expected. Please change the shape of y to (n_samples, ), for example using ravel().\n",
      "/home/luan/anaconda3/lib/python3.7/site-packages/sklearn/preprocessing/label.py:252: DataConversionWarning: A column-vector y was passed when a 1d array was expected. Please change the shape of y to (n_samples, ), for example using ravel().\n"
     ]
    },
    {
     "name": "stdout",
     "output_type": "stream",
     "text": [
      "[08:35:01] WARNING: /workspace/src/learner.cc:480: \n",
      "Parameters: { min_child_samples, num_leaves } might not be used.\n",
      "\n",
      "  This may not be accurate due to some parameters are only used in language bindings but\n",
      "  passed down to XGBoost core.  Or some parameters are not used but slip through this\n",
      "  verification. Please open an issue if you find above cases.\n",
      "\n",
      "\n",
      "Iteration No: 8 ended. Search finished for the next optimal point.\n",
      "Time taken: 10.6164\n",
      "Function value obtained: -0.7833\n",
      "Current minimum: -0.8120\n",
      "Iteration No: 9 started. Searching for the next optimal point.\n",
      "[08:35:05] WARNING: /workspace/src/learner.cc:480: \n",
      "Parameters: { min_child_samples, num_leaves } might not be used.\n",
      "\n",
      "  This may not be accurate due to some parameters are only used in language bindings but\n",
      "  passed down to XGBoost core.  Or some parameters are not used but slip through this\n",
      "  verification. Please open an issue if you find above cases.\n",
      "\n",
      "\n"
     ]
    },
    {
     "name": "stderr",
     "output_type": "stream",
     "text": [
      "/home/luan/anaconda3/lib/python3.7/site-packages/sklearn/preprocessing/label.py:219: DataConversionWarning: A column-vector y was passed when a 1d array was expected. Please change the shape of y to (n_samples, ), for example using ravel().\n",
      "/home/luan/anaconda3/lib/python3.7/site-packages/sklearn/preprocessing/label.py:252: DataConversionWarning: A column-vector y was passed when a 1d array was expected. Please change the shape of y to (n_samples, ), for example using ravel().\n",
      "/home/luan/anaconda3/lib/python3.7/site-packages/sklearn/preprocessing/label.py:219: DataConversionWarning: A column-vector y was passed when a 1d array was expected. Please change the shape of y to (n_samples, ), for example using ravel().\n",
      "/home/luan/anaconda3/lib/python3.7/site-packages/sklearn/preprocessing/label.py:252: DataConversionWarning: A column-vector y was passed when a 1d array was expected. Please change the shape of y to (n_samples, ), for example using ravel().\n"
     ]
    },
    {
     "name": "stdout",
     "output_type": "stream",
     "text": [
      "[08:35:09] WARNING: /workspace/src/learner.cc:480: \n",
      "Parameters: { min_child_samples, num_leaves } might not be used.\n",
      "\n",
      "  This may not be accurate due to some parameters are only used in language bindings but\n",
      "  passed down to XGBoost core.  Or some parameters are not used but slip through this\n",
      "  verification. Please open an issue if you find above cases.\n",
      "\n",
      "\n"
     ]
    },
    {
     "name": "stderr",
     "output_type": "stream",
     "text": [
      "/home/luan/anaconda3/lib/python3.7/site-packages/sklearn/preprocessing/label.py:219: DataConversionWarning: A column-vector y was passed when a 1d array was expected. Please change the shape of y to (n_samples, ), for example using ravel().\n",
      "/home/luan/anaconda3/lib/python3.7/site-packages/sklearn/preprocessing/label.py:252: DataConversionWarning: A column-vector y was passed when a 1d array was expected. Please change the shape of y to (n_samples, ), for example using ravel().\n"
     ]
    },
    {
     "name": "stdout",
     "output_type": "stream",
     "text": [
      "[08:35:13] WARNING: /workspace/src/learner.cc:480: \n",
      "Parameters: { min_child_samples, num_leaves } might not be used.\n",
      "\n",
      "  This may not be accurate due to some parameters are only used in language bindings but\n",
      "  passed down to XGBoost core.  Or some parameters are not used but slip through this\n",
      "  verification. Please open an issue if you find above cases.\n",
      "\n",
      "\n",
      "Iteration No: 9 ended. Search finished for the next optimal point.\n",
      "Time taken: 13.2266\n",
      "Function value obtained: -0.7895\n",
      "Current minimum: -0.8120\n",
      "Iteration No: 10 started. Searching for the next optimal point.\n",
      "[08:35:18] WARNING: /workspace/src/learner.cc:480: \n",
      "Parameters: { min_child_samples, num_leaves } might not be used.\n",
      "\n",
      "  This may not be accurate due to some parameters are only used in language bindings but\n",
      "  passed down to XGBoost core.  Or some parameters are not used but slip through this\n",
      "  verification. Please open an issue if you find above cases.\n",
      "\n",
      "\n"
     ]
    },
    {
     "name": "stderr",
     "output_type": "stream",
     "text": [
      "/home/luan/anaconda3/lib/python3.7/site-packages/sklearn/preprocessing/label.py:219: DataConversionWarning: A column-vector y was passed when a 1d array was expected. Please change the shape of y to (n_samples, ), for example using ravel().\n",
      "/home/luan/anaconda3/lib/python3.7/site-packages/sklearn/preprocessing/label.py:252: DataConversionWarning: A column-vector y was passed when a 1d array was expected. Please change the shape of y to (n_samples, ), for example using ravel().\n",
      "/home/luan/anaconda3/lib/python3.7/site-packages/sklearn/preprocessing/label.py:219: DataConversionWarning: A column-vector y was passed when a 1d array was expected. Please change the shape of y to (n_samples, ), for example using ravel().\n",
      "/home/luan/anaconda3/lib/python3.7/site-packages/sklearn/preprocessing/label.py:252: DataConversionWarning: A column-vector y was passed when a 1d array was expected. Please change the shape of y to (n_samples, ), for example using ravel().\n"
     ]
    },
    {
     "name": "stdout",
     "output_type": "stream",
     "text": [
      "[08:35:19] WARNING: /workspace/src/learner.cc:480: \n",
      "Parameters: { min_child_samples, num_leaves } might not be used.\n",
      "\n",
      "  This may not be accurate due to some parameters are only used in language bindings but\n",
      "  passed down to XGBoost core.  Or some parameters are not used but slip through this\n",
      "  verification. Please open an issue if you find above cases.\n",
      "\n",
      "\n"
     ]
    },
    {
     "name": "stderr",
     "output_type": "stream",
     "text": [
      "/home/luan/anaconda3/lib/python3.7/site-packages/sklearn/preprocessing/label.py:219: DataConversionWarning: A column-vector y was passed when a 1d array was expected. Please change the shape of y to (n_samples, ), for example using ravel().\n",
      "/home/luan/anaconda3/lib/python3.7/site-packages/sklearn/preprocessing/label.py:252: DataConversionWarning: A column-vector y was passed when a 1d array was expected. Please change the shape of y to (n_samples, ), for example using ravel().\n"
     ]
    },
    {
     "name": "stdout",
     "output_type": "stream",
     "text": [
      "[08:35:21] WARNING: /workspace/src/learner.cc:480: \n",
      "Parameters: { min_child_samples, num_leaves } might not be used.\n",
      "\n",
      "  This may not be accurate due to some parameters are only used in language bindings but\n",
      "  passed down to XGBoost core.  Or some parameters are not used but slip through this\n",
      "  verification. Please open an issue if you find above cases.\n",
      "\n",
      "\n",
      "Iteration No: 10 ended. Search finished for the next optimal point.\n",
      "Time taken: 4.4590\n",
      "Function value obtained: -0.8086\n",
      "Current minimum: -0.8120\n",
      "Iteration No: 11 started. Searching for the next optimal point.\n",
      "[08:35:22] WARNING: /workspace/src/learner.cc:480: \n",
      "Parameters: { min_child_samples, num_leaves } might not be used.\n",
      "\n",
      "  This may not be accurate due to some parameters are only used in language bindings but\n",
      "  passed down to XGBoost core.  Or some parameters are not used but slip through this\n",
      "  verification. Please open an issue if you find above cases.\n",
      "\n",
      "\n"
     ]
    },
    {
     "name": "stderr",
     "output_type": "stream",
     "text": [
      "/home/luan/anaconda3/lib/python3.7/site-packages/sklearn/preprocessing/label.py:219: DataConversionWarning: A column-vector y was passed when a 1d array was expected. Please change the shape of y to (n_samples, ), for example using ravel().\n",
      "/home/luan/anaconda3/lib/python3.7/site-packages/sklearn/preprocessing/label.py:252: DataConversionWarning: A column-vector y was passed when a 1d array was expected. Please change the shape of y to (n_samples, ), for example using ravel().\n",
      "/home/luan/anaconda3/lib/python3.7/site-packages/sklearn/preprocessing/label.py:219: DataConversionWarning: A column-vector y was passed when a 1d array was expected. Please change the shape of y to (n_samples, ), for example using ravel().\n",
      "/home/luan/anaconda3/lib/python3.7/site-packages/sklearn/preprocessing/label.py:252: DataConversionWarning: A column-vector y was passed when a 1d array was expected. Please change the shape of y to (n_samples, ), for example using ravel().\n"
     ]
    },
    {
     "name": "stdout",
     "output_type": "stream",
     "text": [
      "[08:35:24] WARNING: /workspace/src/learner.cc:480: \n",
      "Parameters: { min_child_samples, num_leaves } might not be used.\n",
      "\n",
      "  This may not be accurate due to some parameters are only used in language bindings but\n",
      "  passed down to XGBoost core.  Or some parameters are not used but slip through this\n",
      "  verification. Please open an issue if you find above cases.\n",
      "\n",
      "\n"
     ]
    },
    {
     "name": "stderr",
     "output_type": "stream",
     "text": [
      "/home/luan/anaconda3/lib/python3.7/site-packages/sklearn/preprocessing/label.py:219: DataConversionWarning: A column-vector y was passed when a 1d array was expected. Please change the shape of y to (n_samples, ), for example using ravel().\n",
      "/home/luan/anaconda3/lib/python3.7/site-packages/sklearn/preprocessing/label.py:252: DataConversionWarning: A column-vector y was passed when a 1d array was expected. Please change the shape of y to (n_samples, ), for example using ravel().\n"
     ]
    },
    {
     "name": "stdout",
     "output_type": "stream",
     "text": [
      "[08:35:25] WARNING: /workspace/src/learner.cc:480: \n",
      "Parameters: { min_child_samples, num_leaves } might not be used.\n",
      "\n",
      "  This may not be accurate due to some parameters are only used in language bindings but\n",
      "  passed down to XGBoost core.  Or some parameters are not used but slip through this\n",
      "  verification. Please open an issue if you find above cases.\n",
      "\n",
      "\n",
      "Iteration No: 11 ended. Search finished for the next optimal point.\n",
      "Time taken: 4.5104\n",
      "Function value obtained: -0.8089\n",
      "Current minimum: -0.8120\n",
      "Iteration No: 12 started. Searching for the next optimal point.\n",
      "[08:35:27] WARNING: /workspace/src/learner.cc:480: \n",
      "Parameters: { min_child_samples, num_leaves } might not be used.\n",
      "\n",
      "  This may not be accurate due to some parameters are only used in language bindings but\n",
      "  passed down to XGBoost core.  Or some parameters are not used but slip through this\n",
      "  verification. Please open an issue if you find above cases.\n",
      "\n",
      "\n"
     ]
    },
    {
     "name": "stderr",
     "output_type": "stream",
     "text": [
      "/home/luan/anaconda3/lib/python3.7/site-packages/sklearn/preprocessing/label.py:219: DataConversionWarning: A column-vector y was passed when a 1d array was expected. Please change the shape of y to (n_samples, ), for example using ravel().\n",
      "/home/luan/anaconda3/lib/python3.7/site-packages/sklearn/preprocessing/label.py:252: DataConversionWarning: A column-vector y was passed when a 1d array was expected. Please change the shape of y to (n_samples, ), for example using ravel().\n",
      "/home/luan/anaconda3/lib/python3.7/site-packages/sklearn/preprocessing/label.py:219: DataConversionWarning: A column-vector y was passed when a 1d array was expected. Please change the shape of y to (n_samples, ), for example using ravel().\n",
      "/home/luan/anaconda3/lib/python3.7/site-packages/sklearn/preprocessing/label.py:252: DataConversionWarning: A column-vector y was passed when a 1d array was expected. Please change the shape of y to (n_samples, ), for example using ravel().\n"
     ]
    },
    {
     "name": "stdout",
     "output_type": "stream",
     "text": [
      "[08:35:28] WARNING: /workspace/src/learner.cc:480: \n",
      "Parameters: { min_child_samples, num_leaves } might not be used.\n",
      "\n",
      "  This may not be accurate due to some parameters are only used in language bindings but\n",
      "  passed down to XGBoost core.  Or some parameters are not used but slip through this\n",
      "  verification. Please open an issue if you find above cases.\n",
      "\n",
      "\n"
     ]
    },
    {
     "name": "stderr",
     "output_type": "stream",
     "text": [
      "/home/luan/anaconda3/lib/python3.7/site-packages/sklearn/preprocessing/label.py:219: DataConversionWarning: A column-vector y was passed when a 1d array was expected. Please change the shape of y to (n_samples, ), for example using ravel().\n",
      "/home/luan/anaconda3/lib/python3.7/site-packages/sklearn/preprocessing/label.py:252: DataConversionWarning: A column-vector y was passed when a 1d array was expected. Please change the shape of y to (n_samples, ), for example using ravel().\n"
     ]
    },
    {
     "name": "stdout",
     "output_type": "stream",
     "text": [
      "[08:35:29] WARNING: /workspace/src/learner.cc:480: \n",
      "Parameters: { min_child_samples, num_leaves } might not be used.\n",
      "\n",
      "  This may not be accurate due to some parameters are only used in language bindings but\n",
      "  passed down to XGBoost core.  Or some parameters are not used but slip through this\n",
      "  verification. Please open an issue if you find above cases.\n",
      "\n",
      "\n",
      "Iteration No: 12 ended. Search finished for the next optimal point.\n",
      "Time taken: 3.6742\n",
      "Function value obtained: -0.8020\n",
      "Current minimum: -0.8120\n",
      "Iteration No: 13 started. Searching for the next optimal point.\n",
      "[08:35:31] WARNING: /workspace/src/learner.cc:480: \n",
      "Parameters: { min_child_samples, num_leaves } might not be used.\n",
      "\n",
      "  This may not be accurate due to some parameters are only used in language bindings but\n",
      "  passed down to XGBoost core.  Or some parameters are not used but slip through this\n",
      "  verification. Please open an issue if you find above cases.\n",
      "\n",
      "\n"
     ]
    },
    {
     "name": "stderr",
     "output_type": "stream",
     "text": [
      "/home/luan/anaconda3/lib/python3.7/site-packages/sklearn/preprocessing/label.py:219: DataConversionWarning: A column-vector y was passed when a 1d array was expected. Please change the shape of y to (n_samples, ), for example using ravel().\n",
      "/home/luan/anaconda3/lib/python3.7/site-packages/sklearn/preprocessing/label.py:252: DataConversionWarning: A column-vector y was passed when a 1d array was expected. Please change the shape of y to (n_samples, ), for example using ravel().\n",
      "/home/luan/anaconda3/lib/python3.7/site-packages/sklearn/preprocessing/label.py:219: DataConversionWarning: A column-vector y was passed when a 1d array was expected. Please change the shape of y to (n_samples, ), for example using ravel().\n",
      "/home/luan/anaconda3/lib/python3.7/site-packages/sklearn/preprocessing/label.py:252: DataConversionWarning: A column-vector y was passed when a 1d array was expected. Please change the shape of y to (n_samples, ), for example using ravel().\n"
     ]
    },
    {
     "name": "stdout",
     "output_type": "stream",
     "text": [
      "[08:35:33] WARNING: /workspace/src/learner.cc:480: \n",
      "Parameters: { min_child_samples, num_leaves } might not be used.\n",
      "\n",
      "  This may not be accurate due to some parameters are only used in language bindings but\n",
      "  passed down to XGBoost core.  Or some parameters are not used but slip through this\n",
      "  verification. Please open an issue if you find above cases.\n",
      "\n",
      "\n"
     ]
    },
    {
     "name": "stderr",
     "output_type": "stream",
     "text": [
      "/home/luan/anaconda3/lib/python3.7/site-packages/sklearn/preprocessing/label.py:219: DataConversionWarning: A column-vector y was passed when a 1d array was expected. Please change the shape of y to (n_samples, ), for example using ravel().\n",
      "/home/luan/anaconda3/lib/python3.7/site-packages/sklearn/preprocessing/label.py:252: DataConversionWarning: A column-vector y was passed when a 1d array was expected. Please change the shape of y to (n_samples, ), for example using ravel().\n"
     ]
    },
    {
     "name": "stdout",
     "output_type": "stream",
     "text": [
      "[08:35:36] WARNING: /workspace/src/learner.cc:480: \n",
      "Parameters: { min_child_samples, num_leaves } might not be used.\n",
      "\n",
      "  This may not be accurate due to some parameters are only used in language bindings but\n",
      "  passed down to XGBoost core.  Or some parameters are not used but slip through this\n",
      "  verification. Please open an issue if you find above cases.\n",
      "\n",
      "\n",
      "Iteration No: 13 ended. Search finished for the next optimal point.\n",
      "Time taken: 7.9047\n",
      "Function value obtained: -0.8125\n",
      "Current minimum: -0.8125\n",
      "Iteration No: 14 started. Searching for the next optimal point.\n",
      "[08:35:38] WARNING: /workspace/src/learner.cc:480: \n",
      "Parameters: { min_child_samples, num_leaves } might not be used.\n",
      "\n",
      "  This may not be accurate due to some parameters are only used in language bindings but\n",
      "  passed down to XGBoost core.  Or some parameters are not used but slip through this\n",
      "  verification. Please open an issue if you find above cases.\n",
      "\n",
      "\n"
     ]
    },
    {
     "name": "stderr",
     "output_type": "stream",
     "text": [
      "/home/luan/anaconda3/lib/python3.7/site-packages/sklearn/preprocessing/label.py:219: DataConversionWarning: A column-vector y was passed when a 1d array was expected. Please change the shape of y to (n_samples, ), for example using ravel().\n",
      "/home/luan/anaconda3/lib/python3.7/site-packages/sklearn/preprocessing/label.py:252: DataConversionWarning: A column-vector y was passed when a 1d array was expected. Please change the shape of y to (n_samples, ), for example using ravel().\n",
      "/home/luan/anaconda3/lib/python3.7/site-packages/sklearn/preprocessing/label.py:219: DataConversionWarning: A column-vector y was passed when a 1d array was expected. Please change the shape of y to (n_samples, ), for example using ravel().\n",
      "/home/luan/anaconda3/lib/python3.7/site-packages/sklearn/preprocessing/label.py:252: DataConversionWarning: A column-vector y was passed when a 1d array was expected. Please change the shape of y to (n_samples, ), for example using ravel().\n"
     ]
    },
    {
     "name": "stdout",
     "output_type": "stream",
     "text": [
      "[08:35:41] WARNING: /workspace/src/learner.cc:480: \n",
      "Parameters: { min_child_samples, num_leaves } might not be used.\n",
      "\n",
      "  This may not be accurate due to some parameters are only used in language bindings but\n",
      "  passed down to XGBoost core.  Or some parameters are not used but slip through this\n",
      "  verification. Please open an issue if you find above cases.\n",
      "\n",
      "\n"
     ]
    },
    {
     "name": "stderr",
     "output_type": "stream",
     "text": [
      "/home/luan/anaconda3/lib/python3.7/site-packages/sklearn/preprocessing/label.py:219: DataConversionWarning: A column-vector y was passed when a 1d array was expected. Please change the shape of y to (n_samples, ), for example using ravel().\n",
      "/home/luan/anaconda3/lib/python3.7/site-packages/sklearn/preprocessing/label.py:252: DataConversionWarning: A column-vector y was passed when a 1d array was expected. Please change the shape of y to (n_samples, ), for example using ravel().\n"
     ]
    },
    {
     "name": "stdout",
     "output_type": "stream",
     "text": [
      "[08:35:44] WARNING: /workspace/src/learner.cc:480: \n",
      "Parameters: { min_child_samples, num_leaves } might not be used.\n",
      "\n",
      "  This may not be accurate due to some parameters are only used in language bindings but\n",
      "  passed down to XGBoost core.  Or some parameters are not used but slip through this\n",
      "  verification. Please open an issue if you find above cases.\n",
      "\n",
      "\n",
      "Iteration No: 14 ended. Search finished for the next optimal point.\n",
      "Time taken: 8.4617\n",
      "Function value obtained: -0.8100\n",
      "Current minimum: -0.8125\n",
      "Iteration No: 15 started. Searching for the next optimal point.\n",
      "[08:35:47] WARNING: /workspace/src/learner.cc:480: \n",
      "Parameters: { min_child_samples, num_leaves } might not be used.\n",
      "\n",
      "  This may not be accurate due to some parameters are only used in language bindings but\n",
      "  passed down to XGBoost core.  Or some parameters are not used but slip through this\n",
      "  verification. Please open an issue if you find above cases.\n",
      "\n",
      "\n"
     ]
    },
    {
     "name": "stderr",
     "output_type": "stream",
     "text": [
      "/home/luan/anaconda3/lib/python3.7/site-packages/sklearn/preprocessing/label.py:219: DataConversionWarning: A column-vector y was passed when a 1d array was expected. Please change the shape of y to (n_samples, ), for example using ravel().\n",
      "/home/luan/anaconda3/lib/python3.7/site-packages/sklearn/preprocessing/label.py:252: DataConversionWarning: A column-vector y was passed when a 1d array was expected. Please change the shape of y to (n_samples, ), for example using ravel().\n",
      "/home/luan/anaconda3/lib/python3.7/site-packages/sklearn/preprocessing/label.py:219: DataConversionWarning: A column-vector y was passed when a 1d array was expected. Please change the shape of y to (n_samples, ), for example using ravel().\n",
      "/home/luan/anaconda3/lib/python3.7/site-packages/sklearn/preprocessing/label.py:252: DataConversionWarning: A column-vector y was passed when a 1d array was expected. Please change the shape of y to (n_samples, ), for example using ravel().\n"
     ]
    },
    {
     "name": "stdout",
     "output_type": "stream",
     "text": [
      "[08:35:48] WARNING: /workspace/src/learner.cc:480: \n",
      "Parameters: { min_child_samples, num_leaves } might not be used.\n",
      "\n",
      "  This may not be accurate due to some parameters are only used in language bindings but\n",
      "  passed down to XGBoost core.  Or some parameters are not used but slip through this\n",
      "  verification. Please open an issue if you find above cases.\n",
      "\n",
      "\n"
     ]
    },
    {
     "name": "stderr",
     "output_type": "stream",
     "text": [
      "/home/luan/anaconda3/lib/python3.7/site-packages/sklearn/preprocessing/label.py:219: DataConversionWarning: A column-vector y was passed when a 1d array was expected. Please change the shape of y to (n_samples, ), for example using ravel().\n",
      "/home/luan/anaconda3/lib/python3.7/site-packages/sklearn/preprocessing/label.py:252: DataConversionWarning: A column-vector y was passed when a 1d array was expected. Please change the shape of y to (n_samples, ), for example using ravel().\n"
     ]
    },
    {
     "name": "stdout",
     "output_type": "stream",
     "text": [
      "[08:35:50] WARNING: /workspace/src/learner.cc:480: \n",
      "Parameters: { min_child_samples, num_leaves } might not be used.\n",
      "\n",
      "  This may not be accurate due to some parameters are only used in language bindings but\n",
      "  passed down to XGBoost core.  Or some parameters are not used but slip through this\n",
      "  verification. Please open an issue if you find above cases.\n",
      "\n",
      "\n",
      "Iteration No: 15 ended. Search finished for the next optimal point.\n",
      "Time taken: 5.5669\n",
      "Function value obtained: -0.8070\n",
      "Current minimum: -0.8125\n",
      "Iteration No: 16 started. Searching for the next optimal point.\n",
      "[08:35:53] WARNING: /workspace/src/learner.cc:480: \n",
      "Parameters: { min_child_samples, num_leaves } might not be used.\n",
      "\n",
      "  This may not be accurate due to some parameters are only used in language bindings but\n",
      "  passed down to XGBoost core.  Or some parameters are not used but slip through this\n",
      "  verification. Please open an issue if you find above cases.\n",
      "\n",
      "\n"
     ]
    },
    {
     "name": "stderr",
     "output_type": "stream",
     "text": [
      "/home/luan/anaconda3/lib/python3.7/site-packages/sklearn/preprocessing/label.py:219: DataConversionWarning: A column-vector y was passed when a 1d array was expected. Please change the shape of y to (n_samples, ), for example using ravel().\n",
      "/home/luan/anaconda3/lib/python3.7/site-packages/sklearn/preprocessing/label.py:252: DataConversionWarning: A column-vector y was passed when a 1d array was expected. Please change the shape of y to (n_samples, ), for example using ravel().\n",
      "/home/luan/anaconda3/lib/python3.7/site-packages/sklearn/preprocessing/label.py:219: DataConversionWarning: A column-vector y was passed when a 1d array was expected. Please change the shape of y to (n_samples, ), for example using ravel().\n",
      "/home/luan/anaconda3/lib/python3.7/site-packages/sklearn/preprocessing/label.py:252: DataConversionWarning: A column-vector y was passed when a 1d array was expected. Please change the shape of y to (n_samples, ), for example using ravel().\n"
     ]
    },
    {
     "name": "stdout",
     "output_type": "stream",
     "text": [
      "[08:35:54] WARNING: /workspace/src/learner.cc:480: \n",
      "Parameters: { min_child_samples, num_leaves } might not be used.\n",
      "\n",
      "  This may not be accurate due to some parameters are only used in language bindings but\n",
      "  passed down to XGBoost core.  Or some parameters are not used but slip through this\n",
      "  verification. Please open an issue if you find above cases.\n",
      "\n",
      "\n"
     ]
    },
    {
     "name": "stderr",
     "output_type": "stream",
     "text": [
      "/home/luan/anaconda3/lib/python3.7/site-packages/sklearn/preprocessing/label.py:219: DataConversionWarning: A column-vector y was passed when a 1d array was expected. Please change the shape of y to (n_samples, ), for example using ravel().\n",
      "/home/luan/anaconda3/lib/python3.7/site-packages/sklearn/preprocessing/label.py:252: DataConversionWarning: A column-vector y was passed when a 1d array was expected. Please change the shape of y to (n_samples, ), for example using ravel().\n"
     ]
    },
    {
     "name": "stdout",
     "output_type": "stream",
     "text": [
      "[08:35:55] WARNING: /workspace/src/learner.cc:480: \n",
      "Parameters: { min_child_samples, num_leaves } might not be used.\n",
      "\n",
      "  This may not be accurate due to some parameters are only used in language bindings but\n",
      "  passed down to XGBoost core.  Or some parameters are not used but slip through this\n",
      "  verification. Please open an issue if you find above cases.\n",
      "\n",
      "\n",
      "Iteration No: 16 ended. Search finished for the next optimal point.\n",
      "Time taken: 4.1107\n",
      "Function value obtained: -0.8087\n",
      "Current minimum: -0.8125\n",
      "Iteration No: 17 started. Searching for the next optimal point.\n",
      "[08:35:57] WARNING: /workspace/src/learner.cc:480: \n",
      "Parameters: { min_child_samples, num_leaves } might not be used.\n",
      "\n",
      "  This may not be accurate due to some parameters are only used in language bindings but\n",
      "  passed down to XGBoost core.  Or some parameters are not used but slip through this\n",
      "  verification. Please open an issue if you find above cases.\n",
      "\n",
      "\n"
     ]
    },
    {
     "name": "stderr",
     "output_type": "stream",
     "text": [
      "/home/luan/anaconda3/lib/python3.7/site-packages/sklearn/preprocessing/label.py:219: DataConversionWarning: A column-vector y was passed when a 1d array was expected. Please change the shape of y to (n_samples, ), for example using ravel().\n",
      "/home/luan/anaconda3/lib/python3.7/site-packages/sklearn/preprocessing/label.py:252: DataConversionWarning: A column-vector y was passed when a 1d array was expected. Please change the shape of y to (n_samples, ), for example using ravel().\n",
      "/home/luan/anaconda3/lib/python3.7/site-packages/sklearn/preprocessing/label.py:219: DataConversionWarning: A column-vector y was passed when a 1d array was expected. Please change the shape of y to (n_samples, ), for example using ravel().\n",
      "/home/luan/anaconda3/lib/python3.7/site-packages/sklearn/preprocessing/label.py:252: DataConversionWarning: A column-vector y was passed when a 1d array was expected. Please change the shape of y to (n_samples, ), for example using ravel().\n"
     ]
    },
    {
     "name": "stdout",
     "output_type": "stream",
     "text": [
      "[08:35:59] WARNING: /workspace/src/learner.cc:480: \n",
      "Parameters: { min_child_samples, num_leaves } might not be used.\n",
      "\n",
      "  This may not be accurate due to some parameters are only used in language bindings but\n",
      "  passed down to XGBoost core.  Or some parameters are not used but slip through this\n",
      "  verification. Please open an issue if you find above cases.\n",
      "\n",
      "\n"
     ]
    },
    {
     "name": "stderr",
     "output_type": "stream",
     "text": [
      "/home/luan/anaconda3/lib/python3.7/site-packages/sklearn/preprocessing/label.py:219: DataConversionWarning: A column-vector y was passed when a 1d array was expected. Please change the shape of y to (n_samples, ), for example using ravel().\n",
      "/home/luan/anaconda3/lib/python3.7/site-packages/sklearn/preprocessing/label.py:252: DataConversionWarning: A column-vector y was passed when a 1d array was expected. Please change the shape of y to (n_samples, ), for example using ravel().\n"
     ]
    },
    {
     "name": "stdout",
     "output_type": "stream",
     "text": [
      "[08:36:02] WARNING: /workspace/src/learner.cc:480: \n",
      "Parameters: { min_child_samples, num_leaves } might not be used.\n",
      "\n",
      "  This may not be accurate due to some parameters are only used in language bindings but\n",
      "  passed down to XGBoost core.  Or some parameters are not used but slip through this\n",
      "  verification. Please open an issue if you find above cases.\n",
      "\n",
      "\n",
      "Iteration No: 17 ended. Search finished for the next optimal point.\n",
      "Time taken: 8.2645\n",
      "Function value obtained: -0.8118\n",
      "Current minimum: -0.8125\n",
      "Iteration No: 18 started. Searching for the next optimal point.\n",
      "[08:36:05] WARNING: /workspace/src/learner.cc:480: \n",
      "Parameters: { min_child_samples, num_leaves } might not be used.\n",
      "\n",
      "  This may not be accurate due to some parameters are only used in language bindings but\n",
      "  passed down to XGBoost core.  Or some parameters are not used but slip through this\n",
      "  verification. Please open an issue if you find above cases.\n",
      "\n",
      "\n"
     ]
    },
    {
     "name": "stderr",
     "output_type": "stream",
     "text": [
      "/home/luan/anaconda3/lib/python3.7/site-packages/sklearn/preprocessing/label.py:219: DataConversionWarning: A column-vector y was passed when a 1d array was expected. Please change the shape of y to (n_samples, ), for example using ravel().\n",
      "/home/luan/anaconda3/lib/python3.7/site-packages/sklearn/preprocessing/label.py:252: DataConversionWarning: A column-vector y was passed when a 1d array was expected. Please change the shape of y to (n_samples, ), for example using ravel().\n",
      "/home/luan/anaconda3/lib/python3.7/site-packages/sklearn/preprocessing/label.py:219: DataConversionWarning: A column-vector y was passed when a 1d array was expected. Please change the shape of y to (n_samples, ), for example using ravel().\n",
      "/home/luan/anaconda3/lib/python3.7/site-packages/sklearn/preprocessing/label.py:252: DataConversionWarning: A column-vector y was passed when a 1d array was expected. Please change the shape of y to (n_samples, ), for example using ravel().\n"
     ]
    },
    {
     "name": "stdout",
     "output_type": "stream",
     "text": [
      "[08:36:07] WARNING: /workspace/src/learner.cc:480: \n",
      "Parameters: { min_child_samples, num_leaves } might not be used.\n",
      "\n",
      "  This may not be accurate due to some parameters are only used in language bindings but\n",
      "  passed down to XGBoost core.  Or some parameters are not used but slip through this\n",
      "  verification. Please open an issue if you find above cases.\n",
      "\n",
      "\n"
     ]
    },
    {
     "name": "stderr",
     "output_type": "stream",
     "text": [
      "/home/luan/anaconda3/lib/python3.7/site-packages/sklearn/preprocessing/label.py:219: DataConversionWarning: A column-vector y was passed when a 1d array was expected. Please change the shape of y to (n_samples, ), for example using ravel().\n",
      "/home/luan/anaconda3/lib/python3.7/site-packages/sklearn/preprocessing/label.py:252: DataConversionWarning: A column-vector y was passed when a 1d array was expected. Please change the shape of y to (n_samples, ), for example using ravel().\n"
     ]
    },
    {
     "name": "stdout",
     "output_type": "stream",
     "text": [
      "[08:36:12] WARNING: /workspace/src/learner.cc:480: \n",
      "Parameters: { min_child_samples, num_leaves } might not be used.\n",
      "\n",
      "  This may not be accurate due to some parameters are only used in language bindings but\n",
      "  passed down to XGBoost core.  Or some parameters are not used but slip through this\n",
      "  verification. Please open an issue if you find above cases.\n",
      "\n",
      "\n",
      "Iteration No: 18 ended. Search finished for the next optimal point.\n",
      "Time taken: 12.8655\n",
      "Function value obtained: -0.8110\n",
      "Current minimum: -0.8125\n",
      "Iteration No: 19 started. Searching for the next optimal point.\n",
      "[08:36:18] WARNING: /workspace/src/learner.cc:480: \n",
      "Parameters: { min_child_samples, num_leaves } might not be used.\n",
      "\n",
      "  This may not be accurate due to some parameters are only used in language bindings but\n",
      "  passed down to XGBoost core.  Or some parameters are not used but slip through this\n",
      "  verification. Please open an issue if you find above cases.\n",
      "\n",
      "\n"
     ]
    },
    {
     "name": "stderr",
     "output_type": "stream",
     "text": [
      "/home/luan/anaconda3/lib/python3.7/site-packages/sklearn/preprocessing/label.py:219: DataConversionWarning: A column-vector y was passed when a 1d array was expected. Please change the shape of y to (n_samples, ), for example using ravel().\n",
      "/home/luan/anaconda3/lib/python3.7/site-packages/sklearn/preprocessing/label.py:252: DataConversionWarning: A column-vector y was passed when a 1d array was expected. Please change the shape of y to (n_samples, ), for example using ravel().\n",
      "/home/luan/anaconda3/lib/python3.7/site-packages/sklearn/preprocessing/label.py:219: DataConversionWarning: A column-vector y was passed when a 1d array was expected. Please change the shape of y to (n_samples, ), for example using ravel().\n",
      "/home/luan/anaconda3/lib/python3.7/site-packages/sklearn/preprocessing/label.py:252: DataConversionWarning: A column-vector y was passed when a 1d array was expected. Please change the shape of y to (n_samples, ), for example using ravel().\n"
     ]
    },
    {
     "name": "stdout",
     "output_type": "stream",
     "text": [
      "[08:36:31] WARNING: /workspace/src/learner.cc:480: \n",
      "Parameters: { min_child_samples, num_leaves } might not be used.\n",
      "\n",
      "  This may not be accurate due to some parameters are only used in language bindings but\n",
      "  passed down to XGBoost core.  Or some parameters are not used but slip through this\n",
      "  verification. Please open an issue if you find above cases.\n",
      "\n",
      "\n"
     ]
    },
    {
     "name": "stderr",
     "output_type": "stream",
     "text": [
      "/home/luan/anaconda3/lib/python3.7/site-packages/sklearn/preprocessing/label.py:219: DataConversionWarning: A column-vector y was passed when a 1d array was expected. Please change the shape of y to (n_samples, ), for example using ravel().\n",
      "/home/luan/anaconda3/lib/python3.7/site-packages/sklearn/preprocessing/label.py:252: DataConversionWarning: A column-vector y was passed when a 1d array was expected. Please change the shape of y to (n_samples, ), for example using ravel().\n"
     ]
    },
    {
     "name": "stdout",
     "output_type": "stream",
     "text": [
      "[08:36:45] WARNING: /workspace/src/learner.cc:480: \n",
      "Parameters: { min_child_samples, num_leaves } might not be used.\n",
      "\n",
      "  This may not be accurate due to some parameters are only used in language bindings but\n",
      "  passed down to XGBoost core.  Or some parameters are not used but slip through this\n",
      "  verification. Please open an issue if you find above cases.\n",
      "\n",
      "\n",
      "Iteration No: 19 ended. Search finished for the next optimal point.\n",
      "Time taken: 43.5553\n",
      "Function value obtained: -0.8077\n",
      "Current minimum: -0.8125\n",
      "Iteration No: 20 started. Searching for the next optimal point.\n",
      "[08:37:01] WARNING: /workspace/src/learner.cc:480: \n",
      "Parameters: { min_child_samples, num_leaves } might not be used.\n",
      "\n",
      "  This may not be accurate due to some parameters are only used in language bindings but\n",
      "  passed down to XGBoost core.  Or some parameters are not used but slip through this\n",
      "  verification. Please open an issue if you find above cases.\n",
      "\n",
      "\n"
     ]
    },
    {
     "name": "stderr",
     "output_type": "stream",
     "text": [
      "/home/luan/anaconda3/lib/python3.7/site-packages/sklearn/preprocessing/label.py:219: DataConversionWarning: A column-vector y was passed when a 1d array was expected. Please change the shape of y to (n_samples, ), for example using ravel().\n",
      "/home/luan/anaconda3/lib/python3.7/site-packages/sklearn/preprocessing/label.py:252: DataConversionWarning: A column-vector y was passed when a 1d array was expected. Please change the shape of y to (n_samples, ), for example using ravel().\n",
      "/home/luan/anaconda3/lib/python3.7/site-packages/sklearn/preprocessing/label.py:219: DataConversionWarning: A column-vector y was passed when a 1d array was expected. Please change the shape of y to (n_samples, ), for example using ravel().\n",
      "/home/luan/anaconda3/lib/python3.7/site-packages/sklearn/preprocessing/label.py:252: DataConversionWarning: A column-vector y was passed when a 1d array was expected. Please change the shape of y to (n_samples, ), for example using ravel().\n"
     ]
    },
    {
     "name": "stdout",
     "output_type": "stream",
     "text": [
      "[08:37:06] WARNING: /workspace/src/learner.cc:480: \n",
      "Parameters: { min_child_samples, num_leaves } might not be used.\n",
      "\n",
      "  This may not be accurate due to some parameters are only used in language bindings but\n",
      "  passed down to XGBoost core.  Or some parameters are not used but slip through this\n",
      "  verification. Please open an issue if you find above cases.\n",
      "\n",
      "\n"
     ]
    },
    {
     "name": "stderr",
     "output_type": "stream",
     "text": [
      "/home/luan/anaconda3/lib/python3.7/site-packages/sklearn/preprocessing/label.py:219: DataConversionWarning: A column-vector y was passed when a 1d array was expected. Please change the shape of y to (n_samples, ), for example using ravel().\n",
      "/home/luan/anaconda3/lib/python3.7/site-packages/sklearn/preprocessing/label.py:252: DataConversionWarning: A column-vector y was passed when a 1d array was expected. Please change the shape of y to (n_samples, ), for example using ravel().\n"
     ]
    },
    {
     "name": "stdout",
     "output_type": "stream",
     "text": [
      "[08:37:11] WARNING: /workspace/src/learner.cc:480: \n",
      "Parameters: { min_child_samples, num_leaves } might not be used.\n",
      "\n",
      "  This may not be accurate due to some parameters are only used in language bindings but\n",
      "  passed down to XGBoost core.  Or some parameters are not used but slip through this\n",
      "  verification. Please open an issue if you find above cases.\n",
      "\n",
      "\n",
      "Iteration No: 20 ended. Search finished for the next optimal point.\n",
      "Time taken: 16.9808\n",
      "Function value obtained: -0.8085\n",
      "Current minimum: -0.8125\n"
     ]
    }
   ],
   "source": [
    "from skopt import gp_minimize\n",
    "from skopt.plots import plot_convergence\n",
    "from skopt.utils import use_named_args\n",
    "from skopt.space import Real, Integer\n",
    "\n",
    "# The list of hyper-parameters we want to optimize\n",
    "space = [\n",
    "    Integer(2, 256, name=\"num_leaves\"),\n",
    "    Real(10 ** -3, 0.5, \"log-uniform\", name=\"learning_rate\"),\n",
    "    Integer(3, 50, name=\"max_depth\"),\n",
    "    Integer(1, 256, name=\"min_child_samples\"),\n",
    "    Real(0.05, 1.00, name=\"subsample\"),\n",
    "    Real(0.1, 1.00, name=\"colsample_bytree\"),\n",
    "    Integer(1, 10, name=\"min_child_weight\")\n",
    "#     Integer(10,500, name=\"n_estimators\")\n",
    "]\n",
    "\n",
    "\n",
    "params_names = [dim.name for dim in space]\n",
    "\n",
    "@use_named_args(space)\n",
    "def objective(**params):\n",
    "    clf.set_params(**params)\n",
    "    pipeline = Pipeline(\n",
    "        steps=[\n",
    "#             ('remove_cols', rm_columns),\n",
    "            ('add_features', AddFeatures()),\n",
    "            ('imputer', si),\n",
    "            ('clf', clf),\n",
    "        ]\n",
    "    )\n",
    "    \n",
    "    _X_train =  X_train.drop(columns=[\"NOME\"], axis='columns')\n",
    "    return -np.mean(cross_val_score(pipeline, _X_train, y_train, cv=3, n_jobs=1,\n",
    "                            scoring=\"accuracy\"))\n",
    "\n",
    "# do bayesian optimization\n",
    "\n",
    "clf = XGBClassifier()\n",
    "\n",
    "result_gp = gp_minimize(\n",
    "    objective, space, random_state=42, verbose=1, n_calls=20, n_random_starts=5\n",
    ")\n",
    "\n",
    "# get best params and make the best classifier\n",
    "best_params = dict(zip(params_names, result_gp.x))\n",
    "\n",
    "best_clf = XGBClassifier(**best_params)"
   ]
  },
  {
   "cell_type": "code",
   "execution_count": 157,
   "metadata": {
    "ExecuteTime": {
     "end_time": "2020-08-21T11:37:18.757948Z",
     "start_time": "2020-08-21T11:37:18.752006Z"
    }
   },
   "outputs": [
    {
     "data": {
      "text/plain": [
       "{'num_leaves': 256,\n",
       " 'learning_rate': 0.001,\n",
       " 'max_depth': 26,\n",
       " 'min_child_samples': 1,\n",
       " 'subsample': 1.0,\n",
       " 'colsample_bytree': 0.5696042729007419,\n",
       " 'min_child_weight': 10}"
      ]
     },
     "execution_count": 157,
     "metadata": {},
     "output_type": "execute_result"
    }
   ],
   "source": [
    "best_params"
   ]
  },
  {
   "cell_type": "code",
   "execution_count": 158,
   "metadata": {
    "ExecuteTime": {
     "end_time": "2020-08-21T11:37:30.954925Z",
     "start_time": "2020-08-21T11:37:18.762039Z"
    }
   },
   "outputs": [
    {
     "name": "stdout",
     "output_type": "stream",
     "text": [
      "[08:37:18] WARNING: /workspace/src/learner.cc:480: \n",
      "Parameters: { min_child_samples, num_leaves } might not be used.\n",
      "\n",
      "  This may not be accurate due to some parameters are only used in language bindings but\n",
      "  passed down to XGBoost core.  Or some parameters are not used but slip through this\n",
      "  verification. Please open an issue if you find above cases.\n",
      "\n",
      "\n",
      "Acurácia: 80.51%\n"
     ]
    }
   ],
   "source": [
    "best_pipeline = Pipeline(\n",
    "    steps=[\n",
    "        ('remove_cols', rm_columns),\n",
    "        ('imputer', si),\n",
    "        ('clf', best_clf),\n",
    "    ]\n",
    ")\n",
    "best_pipeline.fit(X_train, y_train.values.ravel())\n",
    "\n",
    "y_pred = best_pipeline.predict(X_test)\n",
    "print(\"Acurácia: {}%\".format(100*round(accuracy_score(y_test, y_pred), 4)))"
   ]
  },
  {
   "cell_type": "code",
   "execution_count": 74,
   "metadata": {
    "ExecuteTime": {
     "end_time": "2020-08-21T11:08:56.967184Z",
     "start_time": "2020-08-21T11:08:56.954541Z"
    }
   },
   "outputs": [
    {
     "data": {
      "text/plain": [
       "array(['EXATAS', 'DIFICULDADE', 'DIFICULDADE', 'EXATAS', 'EXATAS'],\n",
       "      dtype=object)"
      ]
     },
     "execution_count": 74,
     "metadata": {},
     "output_type": "execute_result"
    }
   ],
   "source": [
    "best_pipeline.predict(X_test.head())"
   ]
  },
  {
   "cell_type": "code",
   "execution_count": 75,
   "metadata": {
    "ExecuteTime": {
     "end_time": "2020-08-21T11:08:57.486278Z",
     "start_time": "2020-08-21T11:08:56.972855Z"
    }
   },
   "outputs": [
    {
     "data": {
      "text/plain": [
       "<matplotlib.axes._subplots.AxesSubplot at 0x7f33236e2b70>"
      ]
     },
     "execution_count": 75,
     "metadata": {},
     "output_type": "execute_result"
    },
    {
     "data": {
      "image/png": "[encoded data removed]",
      "text/plain": [
       "<Figure size 432x288 with 1 Axes>"
      ]
     },
     "metadata": {
      "needs_background": "light"
     },
     "output_type": "display_data"
    }
   ],
   "source": [
    "from xgboost import plot_importance\n",
    "plot_importance(best_clf, max_num_features=10)"
   ]
  },
  {
   "cell_type": "code",
   "execution_count": 53,
   "metadata": {
    "ExecuteTime": {
     "end_time": "2020-08-21T10:56:05.320420Z",
     "start_time": "2020-08-21T10:56:05.188392Z"
    }
   },
   "outputs": [
    {
     "data": {
      "image/svg+xml": [
       "<?xml version=\"1.0\" encoding=\"UTF-8\" standalone=\"no\"?>\n",
       "<!DOCTYPE svg PUBLIC \"-//W3C//DTD SVG 1.1//EN\"\n",
       " \"http://www.w3.org/Graphics/SVG/1.1/DTD/svg11.dtd\">\n",
       "<!-- Generated by graphviz version 2.38.0 (20140413.2041)\n",
       " -->\n",
       "<!-- Title: %3 Pages: 1 -->\n",
       "<svg width=\"3080pt\" height=\"566pt\"\n",
       " viewBox=\"0.00 0.00 3080.28 566.00\" xmlns=\"http://www.w3.org/2000/svg\" xmlns:xlink=\"http://www.w3.org/1999/xlink\">\n",
       "<g id=\"graph0\" class=\"graph\" transform=\"scale(1 1) rotate(0) translate(4 562)\">\n",
       "<title>%3</title>\n",
       "<polygon fill=\"white\" stroke=\"none\" points=\"-4,4 -4,-562 3076.28,-562 3076.28,4 -4,4\"/>\n",
       "<!-- 0 -->\n",
       "<g id=\"node1\" class=\"node\"><title>0</title>\n",
       "<ellipse fill=\"none\" stroke=\"black\" cx=\"1056.19\" cy=\"-540\" rx=\"65.7887\" ry=\"18\"/>\n",
       "<text text-anchor=\"middle\" x=\"1056.19\" y=\"-536.3\" font-family=\"Times,serif\" font-size=\"14.00\">f7&lt;4.64999962</text>\n",
       "</g>\n",
       "<!-- 1 -->\n",
       "<g id=\"node2\" class=\"node\"><title>1</title>\n",
       "<ellipse fill=\"none\" stroke=\"black\" cx=\"888.193\" cy=\"-453\" rx=\"27.8951\" ry=\"18\"/>\n",
       "<text text-anchor=\"middle\" x=\"888.193\" y=\"-449.3\" font-family=\"Times,serif\" font-size=\"14.00\">f8&lt;5</text>\n",
       "</g>\n",
       "<!-- 0&#45;&gt;1 -->\n",
       "<g id=\"edge1\" class=\"edge\"><title>0&#45;&gt;1</title>\n",
       "<path fill=\"none\" stroke=\"#0000ff\" d=\"M1026.16,-523.804C995.839,-508.464 949.256,-484.895 918.752,-469.462\"/>\n",
       "<polygon fill=\"#0000ff\" stroke=\"#0000ff\" points=\"919.957,-466.149 909.454,-464.757 916.797,-472.395 919.957,-466.149\"/>\n",
       "<text text-anchor=\"middle\" x=\"1017.69\" y=\"-492.8\" font-family=\"Times,serif\" font-size=\"14.00\">yes, missing</text>\n",
       "</g>\n",
       "<!-- 2 -->\n",
       "<g id=\"node3\" class=\"node\"><title>2</title>\n",
       "<ellipse fill=\"none\" stroke=\"black\" cx=\"1165.19\" cy=\"-453\" rx=\"65.7887\" ry=\"18\"/>\n",
       "<text text-anchor=\"middle\" x=\"1165.19\" y=\"-449.3\" font-family=\"Times,serif\" font-size=\"14.00\">f5&lt;5.85000038</text>\n",
       "</g>\n",
       "<!-- 0&#45;&gt;2 -->\n",
       "<g id=\"edge2\" class=\"edge\"><title>0&#45;&gt;2</title>\n",
       "<path fill=\"none\" stroke=\"#ff0000\" d=\"M1076.95,-522.812C1093.85,-509.637 1117.87,-490.9 1136.59,-476.304\"/>\n",
       "<polygon fill=\"#ff0000\" stroke=\"#ff0000\" points=\"1138.78,-479.037 1144.51,-470.128 1134.47,-473.517 1138.78,-479.037\"/>\n",
       "<text text-anchor=\"middle\" x=\"1125.19\" y=\"-492.8\" font-family=\"Times,serif\" font-size=\"14.00\">no</text>\n",
       "</g>\n",
       "<!-- 3 -->\n",
       "<g id=\"node4\" class=\"node\"><title>3</title>\n",
       "<ellipse fill=\"none\" stroke=\"black\" cx=\"729.193\" cy=\"-366\" rx=\"75.2868\" ry=\"18\"/>\n",
       "<text text-anchor=\"middle\" x=\"729.193\" y=\"-362.3\" font-family=\"Times,serif\" font-size=\"14.00\">leaf=0.018245263</text>\n",
       "</g>\n",
       "<!-- 1&#45;&gt;3 -->\n",
       "<g id=\"edge3\" class=\"edge\"><title>1&#45;&gt;3</title>\n",
       "<path fill=\"none\" stroke=\"#0000ff\" d=\"M865.923,-441.884C851.346,-435.125 831.962,-425.877 815.193,-417 798.222,-408.017 779.771,-397.406 764.327,-388.275\"/>\n",
       "<polygon fill=\"#0000ff\" stroke=\"#0000ff\" points=\"765.999,-385.197 755.615,-383.094 762.421,-391.213 765.999,-385.197\"/>\n",
       "<text text-anchor=\"middle\" x=\"849.693\" y=\"-405.8\" font-family=\"Times,serif\" font-size=\"14.00\">yes, missing</text>\n",
       "</g>\n",
       "<!-- 4 -->\n",
       "<g id=\"node5\" class=\"node\"><title>4</title>\n",
       "<ellipse fill=\"none\" stroke=\"black\" cx=\"888.193\" cy=\"-366\" rx=\"65.7887\" ry=\"18\"/>\n",
       "<text text-anchor=\"middle\" x=\"888.193\" y=\"-362.3\" font-family=\"Times,serif\" font-size=\"14.00\">f6&lt;5.94999981</text>\n",
       "</g>\n",
       "<!-- 1&#45;&gt;4 -->\n",
       "<g id=\"edge4\" class=\"edge\"><title>1&#45;&gt;4</title>\n",
       "<path fill=\"none\" stroke=\"#ff0000\" d=\"M888.193,-434.799C888.193,-423.163 888.193,-407.548 888.193,-394.237\"/>\n",
       "<polygon fill=\"#ff0000\" stroke=\"#ff0000\" points=\"891.693,-394.175 888.193,-384.175 884.693,-394.175 891.693,-394.175\"/>\n",
       "<text text-anchor=\"middle\" x=\"895.193\" y=\"-405.8\" font-family=\"Times,serif\" font-size=\"14.00\">no</text>\n",
       "</g>\n",
       "<!-- 5 -->\n",
       "<g id=\"node8\" class=\"node\"><title>5</title>\n",
       "<ellipse fill=\"none\" stroke=\"black\" cx=\"1165.19\" cy=\"-366\" rx=\"38.9931\" ry=\"18\"/>\n",
       "<text text-anchor=\"middle\" x=\"1165.19\" y=\"-362.3\" font-family=\"Times,serif\" font-size=\"14.00\">f7&lt;6.25</text>\n",
       "</g>\n",
       "<!-- 2&#45;&gt;5 -->\n",
       "<g id=\"edge7\" class=\"edge\"><title>2&#45;&gt;5</title>\n",
       "<path fill=\"none\" stroke=\"#0000ff\" d=\"M1165.19,-434.799C1165.19,-423.163 1165.19,-407.548 1165.19,-394.237\"/>\n",
       "<polygon fill=\"#0000ff\" stroke=\"#0000ff\" points=\"1168.69,-394.175 1165.19,-384.175 1161.69,-394.175 1168.69,-394.175\"/>\n",
       "<text text-anchor=\"middle\" x=\"1199.69\" y=\"-405.8\" font-family=\"Times,serif\" font-size=\"14.00\">yes, missing</text>\n",
       "</g>\n",
       "<!-- 6 -->\n",
       "<g id=\"node9\" class=\"node\"><title>6</title>\n",
       "<ellipse fill=\"none\" stroke=\"black\" cx=\"1858.19\" cy=\"-366\" rx=\"65.7887\" ry=\"18\"/>\n",
       "<text text-anchor=\"middle\" x=\"1858.19\" y=\"-362.3\" font-family=\"Times,serif\" font-size=\"14.00\">f6&lt;5.35000038</text>\n",
       "</g>\n",
       "<!-- 2&#45;&gt;6 -->\n",
       "<g id=\"edge8\" class=\"edge\"><title>2&#45;&gt;6</title>\n",
       "<path fill=\"none\" stroke=\"#ff0000\" d=\"M1223.68,-444.826C1351.05,-429.204 1652.99,-392.169 1789.31,-375.449\"/>\n",
       "<polygon fill=\"#ff0000\" stroke=\"#ff0000\" points=\"1790.12,-378.876 1799.62,-374.185 1789.27,-371.928 1790.12,-378.876\"/>\n",
       "<text text-anchor=\"middle\" x=\"1560.19\" y=\"-405.8\" font-family=\"Times,serif\" font-size=\"14.00\">no</text>\n",
       "</g>\n",
       "<!-- 7 -->\n",
       "<g id=\"node6\" class=\"node\"><title>7</title>\n",
       "<ellipse fill=\"none\" stroke=\"black\" cx=\"698.193\" cy=\"-279\" rx=\"84.485\" ry=\"18\"/>\n",
       "<text text-anchor=\"middle\" x=\"698.193\" y=\"-275.3\" font-family=\"Times,serif\" font-size=\"14.00\">leaf=0.00591801526</text>\n",
       "</g>\n",
       "<!-- 4&#45;&gt;7 -->\n",
       "<g id=\"edge5\" class=\"edge\"><title>4&#45;&gt;7</title>\n",
       "<path fill=\"none\" stroke=\"#0000ff\" d=\"M855.097,-350.194C823.804,-336.195 776.638,-315.094 742.19,-299.683\"/>\n",
       "<polygon fill=\"#0000ff\" stroke=\"#0000ff\" points=\"743.392,-296.386 732.834,-295.498 740.533,-302.776 743.392,-296.386\"/>\n",
       "<text text-anchor=\"middle\" x=\"839.693\" y=\"-318.8\" font-family=\"Times,serif\" font-size=\"14.00\">yes, missing</text>\n",
       "</g>\n",
       "<!-- 8 -->\n",
       "<g id=\"node7\" class=\"node\"><title>8</title>\n",
       "<ellipse fill=\"none\" stroke=\"black\" cx=\"888.193\" cy=\"-279\" rx=\"87.1846\" ry=\"18\"/>\n",
       "<text text-anchor=\"middle\" x=\"888.193\" y=\"-275.3\" font-family=\"Times,serif\" font-size=\"14.00\">leaf=&#45;0.00295900763</text>\n",
       "</g>\n",
       "<!-- 4&#45;&gt;8 -->\n",
       "<g id=\"edge6\" class=\"edge\"><title>4&#45;&gt;8</title>\n",
       "<path fill=\"none\" stroke=\"#ff0000\" d=\"M888.193,-347.799C888.193,-336.163 888.193,-320.548 888.193,-307.237\"/>\n",
       "<polygon fill=\"#ff0000\" stroke=\"#ff0000\" points=\"891.693,-307.175 888.193,-297.175 884.693,-307.175 891.693,-307.175\"/>\n",
       "<text text-anchor=\"middle\" x=\"895.193\" y=\"-318.8\" font-family=\"Times,serif\" font-size=\"14.00\">no</text>\n",
       "</g>\n",
       "<!-- 9 -->\n",
       "<g id=\"node10\" class=\"node\"><title>9</title>\n",
       "<ellipse fill=\"none\" stroke=\"black\" cx=\"1059.19\" cy=\"-279\" rx=\"65.7887\" ry=\"18\"/>\n",
       "<text text-anchor=\"middle\" x=\"1059.19\" y=\"-275.3\" font-family=\"Times,serif\" font-size=\"14.00\">f6&lt;5.35000038</text>\n",
       "</g>\n",
       "<!-- 5&#45;&gt;9 -->\n",
       "<g id=\"edge9\" class=\"edge\"><title>5&#45;&gt;9</title>\n",
       "<path fill=\"none\" stroke=\"#0000ff\" d=\"M1141.23,-351.659C1131,-345.555 1119.15,-337.923 1109.19,-330 1099.38,-322.197 1089.45,-312.666 1081.04,-304.026\"/>\n",
       "<polygon fill=\"#0000ff\" stroke=\"#0000ff\" points=\"1083.53,-301.557 1074.1,-296.728 1078.46,-306.384 1083.53,-301.557\"/>\n",
       "<text text-anchor=\"middle\" x=\"1143.69\" y=\"-318.8\" font-family=\"Times,serif\" font-size=\"14.00\">yes, missing</text>\n",
       "</g>\n",
       "<!-- 10 -->\n",
       "<g id=\"node11\" class=\"node\"><title>10</title>\n",
       "<ellipse fill=\"none\" stroke=\"black\" cx=\"1202.19\" cy=\"-279\" rx=\"56.59\" ry=\"18\"/>\n",
       "<text text-anchor=\"middle\" x=\"1202.19\" y=\"-275.3\" font-family=\"Times,serif\" font-size=\"14.00\">f0&lt;364631.5</text>\n",
       "</g>\n",
       "<!-- 5&#45;&gt;10 -->\n",
       "<g id=\"edge10\" class=\"edge\"><title>5&#45;&gt;10</title>\n",
       "<path fill=\"none\" stroke=\"#ff0000\" d=\"M1172.5,-348.207C1177.69,-336.293 1184.75,-320.063 1190.69,-306.424\"/>\n",
       "<polygon fill=\"#ff0000\" stroke=\"#ff0000\" points=\"1193.99,-307.615 1194.77,-297.049 1187.57,-304.821 1193.99,-307.615\"/>\n",
       "<text text-anchor=\"middle\" x=\"1193.19\" y=\"-318.8\" font-family=\"Times,serif\" font-size=\"14.00\">no</text>\n",
       "</g>\n",
       "<!-- 11 -->\n",
       "<g id=\"node30\" class=\"node\"><title>11</title>\n",
       "<ellipse fill=\"none\" stroke=\"black\" cx=\"1858.19\" cy=\"-279\" rx=\"65.7887\" ry=\"18\"/>\n",
       "<text text-anchor=\"middle\" x=\"1858.19\" y=\"-275.3\" font-family=\"Times,serif\" font-size=\"14.00\">f7&lt;6.35000038</text>\n",
       "</g>\n",
       "<!-- 6&#45;&gt;11 -->\n",
       "<g id=\"edge29\" class=\"edge\"><title>6&#45;&gt;11</title>\n",
       "<path fill=\"none\" stroke=\"#0000ff\" d=\"M1858.19,-347.799C1858.19,-336.163 1858.19,-320.548 1858.19,-307.237\"/>\n",
       "<polygon fill=\"#0000ff\" stroke=\"#0000ff\" points=\"1861.69,-307.175 1858.19,-297.175 1854.69,-307.175 1861.69,-307.175\"/>\n",
       "<text text-anchor=\"middle\" x=\"1892.69\" y=\"-318.8\" font-family=\"Times,serif\" font-size=\"14.00\">yes, missing</text>\n",
       "</g>\n",
       "<!-- 12 -->\n",
       "<g id=\"node31\" class=\"node\"><title>12</title>\n",
       "<ellipse fill=\"none\" stroke=\"black\" cx=\"2296.19\" cy=\"-279\" rx=\"38.9931\" ry=\"18\"/>\n",
       "<text text-anchor=\"middle\" x=\"2296.19\" y=\"-275.3\" font-family=\"Times,serif\" font-size=\"14.00\">f8&lt;5.75</text>\n",
       "</g>\n",
       "<!-- 6&#45;&gt;12 -->\n",
       "<g id=\"edge30\" class=\"edge\"><title>6&#45;&gt;12</title>\n",
       "<path fill=\"none\" stroke=\"#ff0000\" d=\"M1910.16,-354.916C1996.76,-338.11 2169.14,-304.656 2251.01,-288.768\"/>\n",
       "<polygon fill=\"#ff0000\" stroke=\"#ff0000\" points=\"2251.85,-292.17 2261,-286.829 2250.52,-285.298 2251.85,-292.17\"/>\n",
       "<text text-anchor=\"middle\" x=\"2110.19\" y=\"-318.8\" font-family=\"Times,serif\" font-size=\"14.00\">no</text>\n",
       "</g>\n",
       "<!-- 13 -->\n",
       "<g id=\"node12\" class=\"node\"><title>13</title>\n",
       "<ellipse fill=\"none\" stroke=\"black\" cx=\"542.193\" cy=\"-192\" rx=\"65.7887\" ry=\"18\"/>\n",
       "<text text-anchor=\"middle\" x=\"542.193\" y=\"-188.3\" font-family=\"Times,serif\" font-size=\"14.00\">f5&lt;5.05000019</text>\n",
       "</g>\n",
       "<!-- 9&#45;&gt;13 -->\n",
       "<g id=\"edge11\" class=\"edge\"><title>9&#45;&gt;13</title>\n",
       "<path fill=\"none\" stroke=\"#0000ff\" d=\"M1011.29,-266.614C1002.31,-264.63 992.981,-262.67 984.193,-261 852.311,-235.941 696.948,-213.712 609.984,-201.922\"/>\n",
       "<polygon fill=\"#0000ff\" stroke=\"#0000ff\" points=\"610.36,-198.441 599.981,-200.571 609.423,-205.378 610.36,-198.441\"/>\n",
       "<text text-anchor=\"middle\" x=\"910.693\" y=\"-231.8\" font-family=\"Times,serif\" font-size=\"14.00\">yes, missing</text>\n",
       "</g>\n",
       "<!-- 14 -->\n",
       "<g id=\"node13\" class=\"node\"><title>14</title>\n",
       "<ellipse fill=\"none\" stroke=\"black\" cx=\"1049.19\" cy=\"-192\" rx=\"50.0912\" ry=\"18\"/>\n",
       "<text text-anchor=\"middle\" x=\"1049.19\" y=\"-188.3\" font-family=\"Times,serif\" font-size=\"14.00\">f0&lt;313416</text>\n",
       "</g>\n",
       "<!-- 9&#45;&gt;14 -->\n",
       "<g id=\"edge12\" class=\"edge\"><title>9&#45;&gt;14</title>\n",
       "<path fill=\"none\" stroke=\"#ff0000\" d=\"M1057.17,-260.799C1055.8,-249.163 1053.96,-233.548 1052.4,-220.237\"/>\n",
       "<polygon fill=\"#ff0000\" stroke=\"#ff0000\" points=\"1055.86,-219.698 1051.21,-210.175 1048.91,-220.516 1055.86,-219.698\"/>\n",
       "<text text-anchor=\"middle\" x=\"1062.19\" y=\"-231.8\" font-family=\"Times,serif\" font-size=\"14.00\">no</text>\n",
       "</g>\n",
       "<!-- 15 -->\n",
       "<g id=\"node26\" class=\"node\"><title>15</title>\n",
       "<ellipse fill=\"none\" stroke=\"black\" cx=\"1202.19\" cy=\"-192\" rx=\"84.485\" ry=\"18\"/>\n",
       "<text text-anchor=\"middle\" x=\"1202.19\" y=\"-188.3\" font-family=\"Times,serif\" font-size=\"14.00\">leaf=0.00404916797</text>\n",
       "</g>\n",
       "<!-- 10&#45;&gt;15 -->\n",
       "<g id=\"edge25\" class=\"edge\"><title>10&#45;&gt;15</title>\n",
       "<path fill=\"none\" stroke=\"#0000ff\" d=\"M1202.19,-260.799C1202.19,-249.163 1202.19,-233.548 1202.19,-220.237\"/>\n",
       "<polygon fill=\"#0000ff\" stroke=\"#0000ff\" points=\"1205.69,-220.175 1202.19,-210.175 1198.69,-220.175 1205.69,-220.175\"/>\n",
       "<text text-anchor=\"middle\" x=\"1236.69\" y=\"-231.8\" font-family=\"Times,serif\" font-size=\"14.00\">yes, missing</text>\n",
       "</g>\n",
       "<!-- 16 -->\n",
       "<g id=\"node27\" class=\"node\"><title>16</title>\n",
       "<ellipse fill=\"none\" stroke=\"black\" cx=\"1361.19\" cy=\"-192\" rx=\"56.59\" ry=\"18\"/>\n",
       "<text text-anchor=\"middle\" x=\"1361.19\" y=\"-188.3\" font-family=\"Times,serif\" font-size=\"14.00\">f0&lt;869907.5</text>\n",
       "</g>\n",
       "<!-- 10&#45;&gt;16 -->\n",
       "<g id=\"edge26\" class=\"edge\"><title>10&#45;&gt;16</title>\n",
       "<path fill=\"none\" stroke=\"#ff0000\" d=\"M1233.01,-263.891C1246.13,-257.712 1261.53,-250.233 1275.19,-243 1292.67,-233.747 1311.72,-222.766 1327.44,-213.455\"/>\n",
       "<polygon fill=\"#ff0000\" stroke=\"#ff0000\" points=\"1329.48,-216.318 1336.28,-208.192 1325.89,-210.304 1329.48,-216.318\"/>\n",
       "<text text-anchor=\"middle\" x=\"1309.19\" y=\"-231.8\" font-family=\"Times,serif\" font-size=\"14.00\">no</text>\n",
       "</g>\n",
       "<!-- 21 -->\n",
       "<g id=\"node14\" class=\"node\"><title>21</title>\n",
       "<ellipse fill=\"none\" stroke=\"black\" cx=\"269.193\" cy=\"-105\" rx=\"56.59\" ry=\"18\"/>\n",
       "<text text-anchor=\"middle\" x=\"269.193\" y=\"-101.3\" font-family=\"Times,serif\" font-size=\"14.00\">f0&lt;414209.5</text>\n",
       "</g>\n",
       "<!-- 13&#45;&gt;21 -->\n",
       "<g id=\"edge13\" class=\"edge\"><title>13&#45;&gt;21</title>\n",
       "<path fill=\"none\" stroke=\"#0000ff\" d=\"M500.433,-177.998C451.32,-162.706 369.918,-137.362 317.956,-121.183\"/>\n",
       "<polygon fill=\"#0000ff\" stroke=\"#0000ff\" points=\"318.881,-117.805 308.292,-118.174 316.8,-124.488 318.881,-117.805\"/>\n",
       "<text text-anchor=\"middle\" x=\"456.693\" y=\"-144.8\" font-family=\"Times,serif\" font-size=\"14.00\">yes, missing</text>\n",
       "</g>\n",
       "<!-- 22 -->\n",
       "<g id=\"node15\" class=\"node\"><title>22</title>\n",
       "<ellipse fill=\"none\" stroke=\"black\" cx=\"542.193\" cy=\"-105\" rx=\"56.59\" ry=\"18\"/>\n",
       "<text text-anchor=\"middle\" x=\"542.193\" y=\"-101.3\" font-family=\"Times,serif\" font-size=\"14.00\">f0&lt;881650.5</text>\n",
       "</g>\n",
       "<!-- 13&#45;&gt;22 -->\n",
       "<g id=\"edge14\" class=\"edge\"><title>13&#45;&gt;22</title>\n",
       "<path fill=\"none\" stroke=\"#ff0000\" d=\"M542.193,-173.799C542.193,-162.163 542.193,-146.548 542.193,-133.237\"/>\n",
       "<polygon fill=\"#ff0000\" stroke=\"#ff0000\" points=\"545.693,-133.175 542.193,-123.175 538.693,-133.175 545.693,-133.175\"/>\n",
       "<text text-anchor=\"middle\" x=\"549.193\" y=\"-144.8\" font-family=\"Times,serif\" font-size=\"14.00\">no</text>\n",
       "</g>\n",
       "<!-- 23 -->\n",
       "<g id=\"node20\" class=\"node\"><title>23</title>\n",
       "<ellipse fill=\"none\" stroke=\"black\" cx=\"1002.19\" cy=\"-105\" rx=\"34.394\" ry=\"18\"/>\n",
       "<text text-anchor=\"middle\" x=\"1002.19\" y=\"-101.3\" font-family=\"Times,serif\" font-size=\"14.00\">f8&lt;4.5</text>\n",
       "</g>\n",
       "<!-- 14&#45;&gt;23 -->\n",
       "<g id=\"edge19\" class=\"edge\"><title>14&#45;&gt;23</title>\n",
       "<path fill=\"none\" stroke=\"#0000ff\" d=\"M1037.49,-174.195C1033.72,-168.518 1029.63,-162.077 1026.19,-156 1021.88,-148.372 1017.6,-139.849 1013.88,-132.031\"/>\n",
       "<polygon fill=\"#0000ff\" stroke=\"#0000ff\" points=\"1017.04,-130.537 1009.64,-122.953 1010.7,-133.495 1017.04,-130.537\"/>\n",
       "<text text-anchor=\"middle\" x=\"1060.69\" y=\"-144.8\" font-family=\"Times,serif\" font-size=\"14.00\">yes, missing</text>\n",
       "</g>\n",
       "<!-- 24 -->\n",
       "<g id=\"node21\" class=\"node\"><title>24</title>\n",
       "<ellipse fill=\"none\" stroke=\"black\" cx=\"1139.19\" cy=\"-105\" rx=\"38.9931\" ry=\"18\"/>\n",
       "<text text-anchor=\"middle\" x=\"1139.19\" y=\"-101.3\" font-family=\"Times,serif\" font-size=\"14.00\">f8&lt;5.75</text>\n",
       "</g>\n",
       "<!-- 14&#45;&gt;24 -->\n",
       "<g id=\"edge20\" class=\"edge\"><title>14&#45;&gt;24</title>\n",
       "<path fill=\"none\" stroke=\"#ff0000\" d=\"M1071.44,-175.468C1079.22,-169.675 1087.85,-162.839 1095.19,-156 1103.79,-147.998 1112.48,-138.477 1119.85,-129.901\"/>\n",
       "<polygon fill=\"#ff0000\" stroke=\"#ff0000\" points=\"1122.7,-131.953 1126.46,-122.049 1117.35,-127.445 1122.7,-131.953\"/>\n",
       "<text text-anchor=\"middle\" x=\"1117.19\" y=\"-144.8\" font-family=\"Times,serif\" font-size=\"14.00\">no</text>\n",
       "</g>\n",
       "<!-- 33 -->\n",
       "<g id=\"node16\" class=\"node\"><title>33</title>\n",
       "<ellipse fill=\"none\" stroke=\"black\" cx=\"83.1926\" cy=\"-18\" rx=\"83.3857\" ry=\"18\"/>\n",
       "<text text-anchor=\"middle\" x=\"83.1926\" y=\"-14.3\" font-family=\"Times,serif\" font-size=\"14.00\">leaf=&#45;0.0026994457</text>\n",
       "</g>\n",
       "<!-- 21&#45;&gt;33 -->\n",
       "<g id=\"edge15\" class=\"edge\"><title>21&#45;&gt;33</title>\n",
       "<path fill=\"none\" stroke=\"#0000ff\" d=\"M238.06,-89.7729C207.527,-75.8196 160.711,-54.4251 126.544,-38.8111\"/>\n",
       "<polygon fill=\"#0000ff\" stroke=\"#0000ff\" points=\"127.817,-35.5445 117.266,-34.5714 124.907,-41.9112 127.817,-35.5445\"/>\n",
       "<text text-anchor=\"middle\" x=\"222.693\" y=\"-57.8\" font-family=\"Times,serif\" font-size=\"14.00\">yes, missing</text>\n",
       "</g>\n",
       "<!-- 34 -->\n",
       "<g id=\"node17\" class=\"node\"><title>34</title>\n",
       "<ellipse fill=\"none\" stroke=\"black\" cx=\"269.193\" cy=\"-18\" rx=\"84.485\" ry=\"18\"/>\n",
       "<text text-anchor=\"middle\" x=\"269.193\" y=\"-14.3\" font-family=\"Times,serif\" font-size=\"14.00\">leaf=0.00731192762</text>\n",
       "</g>\n",
       "<!-- 21&#45;&gt;34 -->\n",
       "<g id=\"edge16\" class=\"edge\"><title>21&#45;&gt;34</title>\n",
       "<path fill=\"none\" stroke=\"#ff0000\" d=\"M269.193,-86.799C269.193,-75.1626 269.193,-59.5479 269.193,-46.2368\"/>\n",
       "<polygon fill=\"#ff0000\" stroke=\"#ff0000\" points=\"272.693,-46.1754 269.193,-36.1754 265.693,-46.1755 272.693,-46.1754\"/>\n",
       "<text text-anchor=\"middle\" x=\"276.193\" y=\"-57.8\" font-family=\"Times,serif\" font-size=\"14.00\">no</text>\n",
       "</g>\n",
       "<!-- 35 -->\n",
       "<g id=\"node18\" class=\"node\"><title>35</title>\n",
       "<ellipse fill=\"none\" stroke=\"black\" cx=\"451.193\" cy=\"-18\" rx=\"79.8859\" ry=\"18\"/>\n",
       "<text text-anchor=\"middle\" x=\"451.193\" y=\"-14.3\" font-family=\"Times,serif\" font-size=\"14.00\">leaf=0.0143690323</text>\n",
       "</g>\n",
       "<!-- 22&#45;&gt;35 -->\n",
       "<g id=\"edge17\" class=\"edge\"><title>22&#45;&gt;35</title>\n",
       "<path fill=\"none\" stroke=\"#0000ff\" d=\"M524.647,-87.6111C511.013,-74.876 491.911,-57.0337 476.604,-42.7363\"/>\n",
       "<polygon fill=\"#0000ff\" stroke=\"#0000ff\" points=\"478.692,-39.8969 468.995,-35.6286 473.914,-45.0124 478.692,-39.8969\"/>\n",
       "<text text-anchor=\"middle\" x=\"536.693\" y=\"-57.8\" font-family=\"Times,serif\" font-size=\"14.00\">yes, missing</text>\n",
       "</g>\n",
       "<!-- 36 -->\n",
       "<g id=\"node19\" class=\"node\"><title>36</title>\n",
       "<ellipse fill=\"none\" stroke=\"black\" cx=\"633.193\" cy=\"-18\" rx=\"84.485\" ry=\"18\"/>\n",
       "<text text-anchor=\"middle\" x=\"633.193\" y=\"-14.3\" font-family=\"Times,serif\" font-size=\"14.00\">leaf=0.00379921962</text>\n",
       "</g>\n",
       "<!-- 22&#45;&gt;36 -->\n",
       "<g id=\"edge18\" class=\"edge\"><title>22&#45;&gt;36</title>\n",
       "<path fill=\"none\" stroke=\"#ff0000\" d=\"M559.738,-87.6111C573.372,-74.876 592.474,-57.0337 607.781,-42.7363\"/>\n",
       "<polygon fill=\"#ff0000\" stroke=\"#ff0000\" points=\"610.471,-45.0124 615.39,-35.6286 605.693,-39.8969 610.471,-45.0124\"/>\n",
       "<text text-anchor=\"middle\" x=\"600.193\" y=\"-57.8\" font-family=\"Times,serif\" font-size=\"14.00\">no</text>\n",
       "</g>\n",
       "<!-- 37 -->\n",
       "<g id=\"node22\" class=\"node\"><title>37</title>\n",
       "<ellipse fill=\"none\" stroke=\"black\" cx=\"820.193\" cy=\"-18\" rx=\"84.485\" ry=\"18\"/>\n",
       "<text text-anchor=\"middle\" x=\"820.193\" y=\"-14.3\" font-family=\"Times,serif\" font-size=\"14.00\">leaf=0.00295900763</text>\n",
       "</g>\n",
       "<!-- 23&#45;&gt;37 -->\n",
       "<g id=\"edge21\" class=\"edge\"><title>23&#45;&gt;37</title>\n",
       "<path fill=\"none\" stroke=\"#0000ff\" d=\"M977.268,-92.3593C947.866,-78.6276 898.497,-55.5708 862.947,-38.9679\"/>\n",
       "<polygon fill=\"#0000ff\" stroke=\"#0000ff\" points=\"864.314,-35.7432 853.772,-34.6828 861.352,-42.0856 864.314,-35.7432\"/>\n",
       "<text text-anchor=\"middle\" x=\"956.693\" y=\"-57.8\" font-family=\"Times,serif\" font-size=\"14.00\">yes, missing</text>\n",
       "</g>\n",
       "<!-- 38 -->\n",
       "<g id=\"node23\" class=\"node\"><title>38</title>\n",
       "<ellipse fill=\"none\" stroke=\"black\" cx=\"1002.19\" cy=\"-18\" rx=\"79.8859\" ry=\"18\"/>\n",
       "<text text-anchor=\"middle\" x=\"1002.19\" y=\"-14.3\" font-family=\"Times,serif\" font-size=\"14.00\">leaf=0.0115741715</text>\n",
       "</g>\n",
       "<!-- 23&#45;&gt;38 -->\n",
       "<g id=\"edge22\" class=\"edge\"><title>23&#45;&gt;38</title>\n",
       "<path fill=\"none\" stroke=\"#ff0000\" d=\"M1002.19,-86.799C1002.19,-75.1626 1002.19,-59.5479 1002.19,-46.2368\"/>\n",
       "<polygon fill=\"#ff0000\" stroke=\"#ff0000\" points=\"1005.69,-46.1754 1002.19,-36.1754 998.693,-46.1755 1005.69,-46.1754\"/>\n",
       "<text text-anchor=\"middle\" x=\"1009.19\" y=\"-57.8\" font-family=\"Times,serif\" font-size=\"14.00\">no</text>\n",
       "</g>\n",
       "<!-- 39 -->\n",
       "<g id=\"node24\" class=\"node\"><title>39</title>\n",
       "<ellipse fill=\"none\" stroke=\"black\" cx=\"1184.19\" cy=\"-18\" rx=\"84.485\" ry=\"18\"/>\n",
       "<text text-anchor=\"middle\" x=\"1184.19\" y=\"-14.3\" font-family=\"Times,serif\" font-size=\"14.00\">leaf=0.00374148064</text>\n",
       "</g>\n",
       "<!-- 24&#45;&gt;39 -->\n",
       "<g id=\"edge23\" class=\"edge\"><title>24&#45;&gt;39</title>\n",
       "<path fill=\"none\" stroke=\"#0000ff\" d=\"M1148.08,-87.2067C1154.45,-75.1778 1163.15,-58.7478 1170.41,-45.0276\"/>\n",
       "<polygon fill=\"#0000ff\" stroke=\"#0000ff\" points=\"1173.58,-46.5248 1175.17,-36.0493 1167.39,-43.2496 1173.58,-46.5248\"/>\n",
       "<text text-anchor=\"middle\" x=\"1199.69\" y=\"-57.8\" font-family=\"Times,serif\" font-size=\"14.00\">yes, missing</text>\n",
       "</g>\n",
       "<!-- 40 -->\n",
       "<g id=\"node25\" class=\"node\"><title>40</title>\n",
       "<ellipse fill=\"none\" stroke=\"black\" cx=\"1374.19\" cy=\"-18\" rx=\"87.1846\" ry=\"18\"/>\n",
       "<text text-anchor=\"middle\" x=\"1374.19\" y=\"-14.3\" font-family=\"Times,serif\" font-size=\"14.00\">leaf=&#45;0.00332431728</text>\n",
       "</g>\n",
       "<!-- 24&#45;&gt;40 -->\n",
       "<g id=\"edge24\" class=\"edge\"><title>24&#45;&gt;40</title>\n",
       "<path fill=\"none\" stroke=\"#ff0000\" d=\"M1169.15,-93.3849C1175.13,-91.2686 1181.36,-89.0628 1187.19,-87 1209.85,-78.9877 1215.58,-77.1473 1238.19,-69 1266.73,-58.7173 1298.56,-47.027 1324.25,-37.5371\"/>\n",
       "<polygon fill=\"#ff0000\" stroke=\"#ff0000\" points=\"1325.61,-40.7662 1333.78,-34.0152 1323.18,-34.2007 1325.61,-40.7662\"/>\n",
       "<text text-anchor=\"middle\" x=\"1287.19\" y=\"-57.8\" font-family=\"Times,serif\" font-size=\"14.00\">no</text>\n",
       "</g>\n",
       "<!-- 25 -->\n",
       "<g id=\"node28\" class=\"node\"><title>25</title>\n",
       "<ellipse fill=\"none\" stroke=\"black\" cx=\"1283.19\" cy=\"-105\" rx=\"87.1846\" ry=\"18\"/>\n",
       "<text text-anchor=\"middle\" x=\"1283.19\" y=\"-101.3\" font-family=\"Times,serif\" font-size=\"14.00\">leaf=&#45;0.00366353313</text>\n",
       "</g>\n",
       "<!-- 16&#45;&gt;25 -->\n",
       "<g id=\"edge27\" class=\"edge\"><title>16&#45;&gt;25</title>\n",
       "<path fill=\"none\" stroke=\"#0000ff\" d=\"M1346.15,-174.611C1334.65,-162.074 1318.6,-144.588 1305.59,-130.407\"/>\n",
       "<polygon fill=\"#0000ff\" stroke=\"#0000ff\" points=\"1308.06,-127.922 1298.72,-122.92 1302.9,-132.655 1308.06,-127.922\"/>\n",
       "<text text-anchor=\"middle\" x=\"1361.69\" y=\"-144.8\" font-family=\"Times,serif\" font-size=\"14.00\">yes, missing</text>\n",
       "</g>\n",
       "<!-- 26 -->\n",
       "<g id=\"node29\" class=\"node\"><title>26</title>\n",
       "<ellipse fill=\"none\" stroke=\"black\" cx=\"1477.19\" cy=\"-105\" rx=\"89.0842\" ry=\"18\"/>\n",
       "<text text-anchor=\"middle\" x=\"1477.19\" y=\"-101.3\" font-family=\"Times,serif\" font-size=\"14.00\">leaf=0.000674861425</text>\n",
       "</g>\n",
       "<!-- 16&#45;&gt;26 -->\n",
       "<g id=\"edge28\" class=\"edge\"><title>16&#45;&gt;26</title>\n",
       "<path fill=\"none\" stroke=\"#ff0000\" d=\"M1382.74,-175.211C1400.63,-162.104 1426.29,-143.298 1446.36,-128.596\"/>\n",
       "<polygon fill=\"#ff0000\" stroke=\"#ff0000\" points=\"1448.58,-131.309 1454.57,-122.575 1444.44,-125.662 1448.58,-131.309\"/>\n",
       "<text text-anchor=\"middle\" x=\"1433.19\" y=\"-144.8\" font-family=\"Times,serif\" font-size=\"14.00\">no</text>\n",
       "</g>\n",
       "<!-- 17 -->\n",
       "<g id=\"node32\" class=\"node\"><title>17</title>\n",
       "<ellipse fill=\"none\" stroke=\"black\" cx=\"1756.19\" cy=\"-192\" rx=\"65.7887\" ry=\"18\"/>\n",
       "<text text-anchor=\"middle\" x=\"1756.19\" y=\"-188.3\" font-family=\"Times,serif\" font-size=\"14.00\">f6&lt;4.64999962</text>\n",
       "</g>\n",
       "<!-- 11&#45;&gt;17 -->\n",
       "<g id=\"edge31\" class=\"edge\"><title>11&#45;&gt;17</title>\n",
       "<path fill=\"none\" stroke=\"#0000ff\" d=\"M1836.93,-261.872C1829.36,-256.024 1820.82,-249.304 1813.19,-243 1802.89,-234.484 1791.79,-224.856 1782.14,-216.338\"/>\n",
       "<polygon fill=\"#0000ff\" stroke=\"#0000ff\" points=\"1784.24,-213.516 1774.44,-209.492 1779.59,-218.75 1784.24,-213.516\"/>\n",
       "<text text-anchor=\"middle\" x=\"1847.69\" y=\"-231.8\" font-family=\"Times,serif\" font-size=\"14.00\">yes, missing</text>\n",
       "</g>\n",
       "<!-- 18 -->\n",
       "<g id=\"node33\" class=\"node\"><title>18</title>\n",
       "<ellipse fill=\"none\" stroke=\"black\" cx=\"1923.19\" cy=\"-192\" rx=\"83.3857\" ry=\"18\"/>\n",
       "<text text-anchor=\"middle\" x=\"1923.19\" y=\"-188.3\" font-family=\"Times,serif\" font-size=\"14.00\">leaf=&#45;0.0034577169</text>\n",
       "</g>\n",
       "<!-- 11&#45;&gt;18 -->\n",
       "<g id=\"edge32\" class=\"edge\"><title>11&#45;&gt;18</title>\n",
       "<path fill=\"none\" stroke=\"#ff0000\" d=\"M1871.03,-261.207C1880.41,-248.946 1893.28,-232.114 1903.89,-218.239\"/>\n",
       "<polygon fill=\"#ff0000\" stroke=\"#ff0000\" points=\"1906.86,-220.119 1910.15,-210.049 1901.3,-215.867 1906.86,-220.119\"/>\n",
       "<text text-anchor=\"middle\" x=\"1901.19\" y=\"-231.8\" font-family=\"Times,serif\" font-size=\"14.00\">no</text>\n",
       "</g>\n",
       "<!-- 19 -->\n",
       "<g id=\"node38\" class=\"node\"><title>19</title>\n",
       "<ellipse fill=\"none\" stroke=\"black\" cx=\"2296.19\" cy=\"-192\" rx=\"38.9931\" ry=\"18\"/>\n",
       "<text text-anchor=\"middle\" x=\"2296.19\" y=\"-188.3\" font-family=\"Times,serif\" font-size=\"14.00\">f11&lt;0.5</text>\n",
       "</g>\n",
       "<!-- 12&#45;&gt;19 -->\n",
       "<g id=\"edge37\" class=\"edge\"><title>12&#45;&gt;19</title>\n",
       "<path fill=\"none\" stroke=\"#0000ff\" d=\"M2296.19,-260.799C2296.19,-249.163 2296.19,-233.548 2296.19,-220.237\"/>\n",
       "<polygon fill=\"#0000ff\" stroke=\"#0000ff\" points=\"2299.69,-220.175 2296.19,-210.175 2292.69,-220.175 2299.69,-220.175\"/>\n",
       "<text text-anchor=\"middle\" x=\"2330.69\" y=\"-231.8\" font-family=\"Times,serif\" font-size=\"14.00\">yes, missing</text>\n",
       "</g>\n",
       "<!-- 20 -->\n",
       "<g id=\"node39\" class=\"node\"><title>20</title>\n",
       "<ellipse fill=\"none\" stroke=\"black\" cx=\"2597.19\" cy=\"-192\" rx=\"50.0912\" ry=\"18\"/>\n",
       "<text text-anchor=\"middle\" x=\"2597.19\" y=\"-188.3\" font-family=\"Times,serif\" font-size=\"14.00\">f0&lt;119402</text>\n",
       "</g>\n",
       "<!-- 12&#45;&gt;20 -->\n",
       "<g id=\"edge38\" class=\"edge\"><title>12&#45;&gt;20</title>\n",
       "<path fill=\"none\" stroke=\"#ff0000\" d=\"M2328.69,-268.823C2381.83,-253.818 2487.55,-223.961 2549.3,-206.525\"/>\n",
       "<polygon fill=\"#ff0000\" stroke=\"#ff0000\" points=\"2550.51,-209.819 2559.18,-203.733 2548.61,-203.083 2550.51,-209.819\"/>\n",
       "<text text-anchor=\"middle\" x=\"2471.19\" y=\"-231.8\" font-family=\"Times,serif\" font-size=\"14.00\">no</text>\n",
       "</g>\n",
       "<!-- 27 -->\n",
       "<g id=\"node34\" class=\"node\"><title>27</title>\n",
       "<ellipse fill=\"none\" stroke=\"black\" cx=\"1671.19\" cy=\"-105\" rx=\"87.1846\" ry=\"18\"/>\n",
       "<text text-anchor=\"middle\" x=\"1671.19\" y=\"-101.3\" font-family=\"Times,serif\" font-size=\"14.00\">leaf=&#45;0.00316167949</text>\n",
       "</g>\n",
       "<!-- 17&#45;&gt;27 -->\n",
       "<g id=\"edge33\" class=\"edge\"><title>17&#45;&gt;27</title>\n",
       "<path fill=\"none\" stroke=\"#0000ff\" d=\"M1733.94,-174.781C1726.72,-169.143 1718.87,-162.577 1712.19,-156 1704.4,-148.318 1696.59,-139.235 1689.91,-130.932\"/>\n",
       "<polygon fill=\"#0000ff\" stroke=\"#0000ff\" points=\"1692.59,-128.67 1683.66,-122.971 1687.08,-132.996 1692.59,-128.67\"/>\n",
       "<text text-anchor=\"middle\" x=\"1746.69\" y=\"-144.8\" font-family=\"Times,serif\" font-size=\"14.00\">yes, missing</text>\n",
       "</g>\n",
       "<!-- 28 -->\n",
       "<g id=\"node35\" class=\"node\"><title>28</title>\n",
       "<ellipse fill=\"none\" stroke=\"black\" cx=\"1842.19\" cy=\"-105\" rx=\"65.7887\" ry=\"18\"/>\n",
       "<text text-anchor=\"middle\" x=\"1842.19\" y=\"-101.3\" font-family=\"Times,serif\" font-size=\"14.00\">f8&lt;5.14999962</text>\n",
       "</g>\n",
       "<!-- 17&#45;&gt;28 -->\n",
       "<g id=\"edge34\" class=\"edge\"><title>17&#45;&gt;28</title>\n",
       "<path fill=\"none\" stroke=\"#ff0000\" d=\"M1773.18,-174.207C1786.11,-161.435 1804.05,-143.701 1818.4,-129.518\"/>\n",
       "<polygon fill=\"#ff0000\" stroke=\"#ff0000\" points=\"1820.88,-131.988 1825.53,-122.469 1815.96,-127.009 1820.88,-131.988\"/>\n",
       "<text text-anchor=\"middle\" x=\"1812.19\" y=\"-144.8\" font-family=\"Times,serif\" font-size=\"14.00\">no</text>\n",
       "</g>\n",
       "<!-- 41 -->\n",
       "<g id=\"node36\" class=\"node\"><title>41</title>\n",
       "<ellipse fill=\"none\" stroke=\"black\" cx=\"1655.19\" cy=\"-18\" rx=\"84.485\" ry=\"18\"/>\n",
       "<text text-anchor=\"middle\" x=\"1655.19\" y=\"-14.3\" font-family=\"Times,serif\" font-size=\"14.00\">leaf=0.00815431587</text>\n",
       "</g>\n",
       "<!-- 28&#45;&gt;41 -->\n",
       "<g id=\"edge35\" class=\"edge\"><title>28&#45;&gt;41</title>\n",
       "<path fill=\"none\" stroke=\"#0000ff\" d=\"M1809.62,-89.1941C1778.82,-75.1945 1732.4,-54.0939 1698.49,-38.6829\"/>\n",
       "<polygon fill=\"#0000ff\" stroke=\"#0000ff\" points=\"1699.84,-35.4494 1689.29,-34.4976 1696.94,-41.822 1699.84,-35.4494\"/>\n",
       "<text text-anchor=\"middle\" x=\"1794.69\" y=\"-57.8\" font-family=\"Times,serif\" font-size=\"14.00\">yes, missing</text>\n",
       "</g>\n",
       "<!-- 42 -->\n",
       "<g id=\"node37\" class=\"node\"><title>42</title>\n",
       "<ellipse fill=\"none\" stroke=\"black\" cx=\"1842.19\" cy=\"-18\" rx=\"84.485\" ry=\"18\"/>\n",
       "<text text-anchor=\"middle\" x=\"1842.19\" y=\"-14.3\" font-family=\"Times,serif\" font-size=\"14.00\">leaf=0.00095372973</text>\n",
       "</g>\n",
       "<!-- 28&#45;&gt;42 -->\n",
       "<g id=\"edge36\" class=\"edge\"><title>28&#45;&gt;42</title>\n",
       "<path fill=\"none\" stroke=\"#ff0000\" d=\"M1842.19,-86.799C1842.19,-75.1626 1842.19,-59.5479 1842.19,-46.2368\"/>\n",
       "<polygon fill=\"#ff0000\" stroke=\"#ff0000\" points=\"1845.69,-46.1754 1842.19,-36.1754 1838.69,-46.1755 1845.69,-46.1754\"/>\n",
       "<text text-anchor=\"middle\" x=\"1849.19\" y=\"-57.8\" font-family=\"Times,serif\" font-size=\"14.00\">no</text>\n",
       "</g>\n",
       "<!-- 29 -->\n",
       "<g id=\"node40\" class=\"node\"><title>29</title>\n",
       "<ellipse fill=\"none\" stroke=\"black\" cx=\"2214.19\" cy=\"-105\" rx=\"38.9931\" ry=\"18\"/>\n",
       "<text text-anchor=\"middle\" x=\"2214.19\" y=\"-101.3\" font-family=\"Times,serif\" font-size=\"14.00\">f10&lt;2.5</text>\n",
       "</g>\n",
       "<!-- 19&#45;&gt;29 -->\n",
       "<g id=\"edge39\" class=\"edge\"><title>19&#45;&gt;29</title>\n",
       "<path fill=\"none\" stroke=\"#0000ff\" d=\"M2280.77,-175.012C2268.21,-161.989 2250.31,-143.437 2236.23,-128.847\"/>\n",
       "<polygon fill=\"#0000ff\" stroke=\"#0000ff\" points=\"2238.73,-126.396 2229.27,-121.629 2233.69,-131.256 2238.73,-126.396\"/>\n",
       "<text text-anchor=\"middle\" x=\"2293.69\" y=\"-144.8\" font-family=\"Times,serif\" font-size=\"14.00\">yes, missing</text>\n",
       "</g>\n",
       "<!-- 30 -->\n",
       "<g id=\"node41\" class=\"node\"><title>30</title>\n",
       "<ellipse fill=\"none\" stroke=\"black\" cx=\"2401.19\" cy=\"-105\" rx=\"65.7887\" ry=\"18\"/>\n",
       "<text text-anchor=\"middle\" x=\"2401.19\" y=\"-101.3\" font-family=\"Times,serif\" font-size=\"14.00\">f7&lt;4.94999981</text>\n",
       "</g>\n",
       "<!-- 19&#45;&gt;30 -->\n",
       "<g id=\"edge40\" class=\"edge\"><title>19&#45;&gt;30</title>\n",
       "<path fill=\"none\" stroke=\"#ff0000\" d=\"M2314.96,-175.804C2331.13,-162.718 2354.69,-143.644 2373.1,-128.74\"/>\n",
       "<polygon fill=\"#ff0000\" stroke=\"#ff0000\" points=\"2375.58,-131.235 2381.15,-122.222 2371.18,-125.794 2375.58,-131.235\"/>\n",
       "<text text-anchor=\"middle\" x=\"2361.19\" y=\"-144.8\" font-family=\"Times,serif\" font-size=\"14.00\">no</text>\n",
       "</g>\n",
       "<!-- 31 -->\n",
       "<g id=\"node46\" class=\"node\"><title>31</title>\n",
       "<ellipse fill=\"none\" stroke=\"black\" cx=\"2597.19\" cy=\"-105\" rx=\"89.0842\" ry=\"18\"/>\n",
       "<text text-anchor=\"middle\" x=\"2597.19\" y=\"-101.3\" font-family=\"Times,serif\" font-size=\"14.00\">leaf=0.000674861425</text>\n",
       "</g>\n",
       "<!-- 20&#45;&gt;31 -->\n",
       "<g id=\"edge45\" class=\"edge\"><title>20&#45;&gt;31</title>\n",
       "<path fill=\"none\" stroke=\"#0000ff\" d=\"M2597.19,-173.799C2597.19,-162.163 2597.19,-146.548 2597.19,-133.237\"/>\n",
       "<polygon fill=\"#0000ff\" stroke=\"#0000ff\" points=\"2600.69,-133.175 2597.19,-123.175 2593.69,-133.175 2600.69,-133.175\"/>\n",
       "<text text-anchor=\"middle\" x=\"2631.69\" y=\"-144.8\" font-family=\"Times,serif\" font-size=\"14.00\">yes, missing</text>\n",
       "</g>\n",
       "<!-- 32 -->\n",
       "<g id=\"node47\" class=\"node\"><title>32</title>\n",
       "<ellipse fill=\"none\" stroke=\"black\" cx=\"2788.19\" cy=\"-105\" rx=\"61.1893\" ry=\"18\"/>\n",
       "<text text-anchor=\"middle\" x=\"2788.19\" y=\"-101.3\" font-family=\"Times,serif\" font-size=\"14.00\">f6&lt;5.5999999</text>\n",
       "</g>\n",
       "<!-- 20&#45;&gt;32 -->\n",
       "<g id=\"edge46\" class=\"edge\"><title>20&#45;&gt;32</title>\n",
       "<path fill=\"none\" stroke=\"#ff0000\" d=\"M2627.46,-177.531C2659.61,-163.222 2710.67,-140.501 2746.59,-124.514\"/>\n",
       "<polygon fill=\"#ff0000\" stroke=\"#ff0000\" points=\"2748.12,-127.663 2755.84,-120.4 2745.28,-121.268 2748.12,-127.663\"/>\n",
       "<text text-anchor=\"middle\" x=\"2710.19\" y=\"-144.8\" font-family=\"Times,serif\" font-size=\"14.00\">no</text>\n",
       "</g>\n",
       "<!-- 43 -->\n",
       "<g id=\"node42\" class=\"node\"><title>43</title>\n",
       "<ellipse fill=\"none\" stroke=\"black\" cx=\"2028.19\" cy=\"-18\" rx=\"83.3857\" ry=\"18\"/>\n",
       "<text text-anchor=\"middle\" x=\"2028.19\" y=\"-14.3\" font-family=\"Times,serif\" font-size=\"14.00\">leaf=&#45;0.0034577169</text>\n",
       "</g>\n",
       "<!-- 29&#45;&gt;43 -->\n",
       "<g id=\"edge41\" class=\"edge\"><title>29&#45;&gt;43</title>\n",
       "<path fill=\"none\" stroke=\"#0000ff\" d=\"M2187.54,-91.8216C2157.21,-77.9578 2107.21,-55.1118 2071.31,-38.7041\"/>\n",
       "<polygon fill=\"#0000ff\" stroke=\"#0000ff\" points=\"2072.6,-35.4438 2062.05,-34.4707 2069.69,-41.8105 2072.6,-35.4438\"/>\n",
       "<text text-anchor=\"middle\" x=\"2166.69\" y=\"-57.8\" font-family=\"Times,serif\" font-size=\"14.00\">yes, missing</text>\n",
       "</g>\n",
       "<!-- 44 -->\n",
       "<g id=\"node43\" class=\"node\"><title>44</title>\n",
       "<ellipse fill=\"none\" stroke=\"black\" cx=\"2214.19\" cy=\"-18\" rx=\"84.485\" ry=\"18\"/>\n",
       "<text text-anchor=\"middle\" x=\"2214.19\" y=\"-14.3\" font-family=\"Times,serif\" font-size=\"14.00\">leaf=0.00572237838</text>\n",
       "</g>\n",
       "<!-- 29&#45;&gt;44 -->\n",
       "<g id=\"edge42\" class=\"edge\"><title>29&#45;&gt;44</title>\n",
       "<path fill=\"none\" stroke=\"#ff0000\" d=\"M2214.19,-86.799C2214.19,-75.1626 2214.19,-59.5479 2214.19,-46.2368\"/>\n",
       "<polygon fill=\"#ff0000\" stroke=\"#ff0000\" points=\"2217.69,-46.1754 2214.19,-36.1754 2210.69,-46.1755 2217.69,-46.1754\"/>\n",
       "<text text-anchor=\"middle\" x=\"2221.19\" y=\"-57.8\" font-family=\"Times,serif\" font-size=\"14.00\">no</text>\n",
       "</g>\n",
       "<!-- 45 -->\n",
       "<g id=\"node44\" class=\"node\"><title>45</title>\n",
       "<ellipse fill=\"none\" stroke=\"black\" cx=\"2401.19\" cy=\"-18\" rx=\"84.485\" ry=\"18\"/>\n",
       "<text text-anchor=\"middle\" x=\"2401.19\" y=\"-14.3\" font-family=\"Times,serif\" font-size=\"14.00\">leaf=0.00045523193</text>\n",
       "</g>\n",
       "<!-- 30&#45;&gt;45 -->\n",
       "<g id=\"edge43\" class=\"edge\"><title>30&#45;&gt;45</title>\n",
       "<path fill=\"none\" stroke=\"#0000ff\" d=\"M2401.19,-86.799C2401.19,-75.1626 2401.19,-59.5479 2401.19,-46.2368\"/>\n",
       "<polygon fill=\"#0000ff\" stroke=\"#0000ff\" points=\"2404.69,-46.1754 2401.19,-36.1754 2397.69,-46.1755 2404.69,-46.1754\"/>\n",
       "<text text-anchor=\"middle\" x=\"2435.69\" y=\"-57.8\" font-family=\"Times,serif\" font-size=\"14.00\">yes, missing</text>\n",
       "</g>\n",
       "<!-- 46 -->\n",
       "<g id=\"node45\" class=\"node\"><title>46</title>\n",
       "<ellipse fill=\"none\" stroke=\"black\" cx=\"2591.19\" cy=\"-18\" rx=\"87.1846\" ry=\"18\"/>\n",
       "<text text-anchor=\"middle\" x=\"2591.19\" y=\"-14.3\" font-family=\"Times,serif\" font-size=\"14.00\">leaf=&#45;0.00301823509</text>\n",
       "</g>\n",
       "<!-- 30&#45;&gt;46 -->\n",
       "<g id=\"edge44\" class=\"edge\"><title>30&#45;&gt;46</title>\n",
       "<path fill=\"none\" stroke=\"#ff0000\" d=\"M2434.29,-89.1941C2465.48,-75.238 2512.45,-54.2249 2546.87,-38.8266\"/>\n",
       "<polygon fill=\"#ff0000\" stroke=\"#ff0000\" points=\"2548.53,-41.9215 2556.23,-34.6429 2545.67,-35.5318 2548.53,-41.9215\"/>\n",
       "<text text-anchor=\"middle\" x=\"2514.19\" y=\"-57.8\" font-family=\"Times,serif\" font-size=\"14.00\">no</text>\n",
       "</g>\n",
       "<!-- 47 -->\n",
       "<g id=\"node48\" class=\"node\"><title>47</title>\n",
       "<ellipse fill=\"none\" stroke=\"black\" cx=\"2788.19\" cy=\"-18\" rx=\"91.784\" ry=\"18\"/>\n",
       "<text text-anchor=\"middle\" x=\"2788.19\" y=\"-14.3\" font-family=\"Times,serif\" font-size=\"14.00\">leaf=&#45;0.000526946562</text>\n",
       "</g>\n",
       "<!-- 32&#45;&gt;47 -->\n",
       "<g id=\"edge47\" class=\"edge\"><title>32&#45;&gt;47</title>\n",
       "<path fill=\"none\" stroke=\"#0000ff\" d=\"M2788.19,-86.799C2788.19,-75.1626 2788.19,-59.5479 2788.19,-46.2368\"/>\n",
       "<polygon fill=\"#0000ff\" stroke=\"#0000ff\" points=\"2791.69,-46.1754 2788.19,-36.1754 2784.69,-46.1755 2791.69,-46.1754\"/>\n",
       "<text text-anchor=\"middle\" x=\"2822.69\" y=\"-57.8\" font-family=\"Times,serif\" font-size=\"14.00\">yes, missing</text>\n",
       "</g>\n",
       "<!-- 48 -->\n",
       "<g id=\"node49\" class=\"node\"><title>48</title>\n",
       "<ellipse fill=\"none\" stroke=\"black\" cx=\"2985.19\" cy=\"-18\" rx=\"87.1846\" ry=\"18\"/>\n",
       "<text text-anchor=\"middle\" x=\"2985.19\" y=\"-14.3\" font-family=\"Times,serif\" font-size=\"14.00\">leaf=&#45;0.00448660273</text>\n",
       "</g>\n",
       "<!-- 32&#45;&gt;48 -->\n",
       "<g id=\"edge48\" class=\"edge\"><title>32&#45;&gt;48</title>\n",
       "<path fill=\"none\" stroke=\"#ff0000\" d=\"M2821.17,-89.7729C2853.74,-75.7166 2903.82,-54.1088 2940.08,-38.4662\"/>\n",
       "<polygon fill=\"#ff0000\" stroke=\"#ff0000\" points=\"2941.65,-41.6006 2949.44,-34.4252 2938.87,-35.1733 2941.65,-41.6006\"/>\n",
       "<text text-anchor=\"middle\" x=\"2905.19\" y=\"-57.8\" font-family=\"Times,serif\" font-size=\"14.00\">no</text>\n",
       "</g>\n",
       "</g>\n",
       "</svg>\n"
      ],
      "text/plain": [
       "<graphviz.files.Source at 0x7f333ab98550>"
      ]
     },
     "execution_count": 53,
     "metadata": {},
     "output_type": "execute_result"
    }
   ],
   "source": [
    "from xgboost import plot_tree, to_graphviz\n",
    "import matplotlib.pyplot as plt\n",
    "\n",
    "# plot_tree(best_clf, figsize=(10,10))\n",
    "to_graphviz(best_clf)\n",
    "\n",
    "# plt.show()"
   ]
  },
  {
   "cell_type": "markdown",
   "metadata": {},
   "source": [
    "### Encapsulando uma Pipeline personalizada no Watson Machine Learning"
   ]
  },
  {
   "cell_type": "markdown",
   "metadata": {},
   "source": [
    "#### Estabelecendo conexão entre o cliente Python do WML e a sua instância do serviço na nuvem"
   ]
  },
  {
   "cell_type": "code",
   "execution_count": null,
   "metadata": {},
   "outputs": [],
   "source": [
    "# Biblioteca Python com implementação de um cliente HTTP para a API do WML\n",
    "from watson_machine_learning_client import WatsonMachineLearningAPIClient"
   ]
  },
  {
   "cell_type": "markdown",
   "metadata": {},
   "source": [
    "As próximas células irão realizar o deploy da pipeline declarada neste notebook no WML. Só prossiga se você já está satisfeito com seu modelo e acha que já é a hora de fazer o deploy da sua solução.\n",
    "\n",
    "Cole as credenciais de sua instância do Watson Machine Learning na variável na célula abaixo.\n",
    "\n",
    "É importante que a variável que contém os valores tenha o nome de ``wml_credentials`` para que as próximas células deste notebook executem corretamente."
   ]
  },
  {
   "cell_type": "code",
   "execution_count": null,
   "metadata": {},
   "outputs": [],
   "source": [
    "wml_credentials = {\n",
    "  \"apikey\": \"\",\n",
    "  \"iam_apikey_description\": \"\",\n",
    "  \"iam_apikey_name\": \"\",\n",
    "  \"iam_role_crn\": \"\",\n",
    "  \"iam_serviceid_crn\": \"\",\n",
    "  \"instance_id\": \"\",\n",
    "  \"url\": \"\"\n",
    "}"
   ]
  },
  {
   "cell_type": "code",
   "execution_count": null,
   "metadata": {},
   "outputs": [],
   "source": [
    "# Instanciando um objeto cliente do Watson Machine Learning a partir das credenciais fornecidas\n",
    "\n",
    "clientWML = WatsonMachineLearningAPIClient(wml_credentials)"
   ]
  },
  {
   "cell_type": "code",
   "execution_count": null,
   "metadata": {},
   "outputs": [],
   "source": [
    "# Extraindo detalhes da sua instância do Watson Machine Learning\n",
    "\n",
    "instance_details = clientWML.service_instance.get_details()\n",
    "print(json.dumps(instance_details, indent=4))"
   ]
  },
  {
   "cell_type": "markdown",
   "metadata": {},
   "source": [
    "**ATENÇÃO!!**\n",
    "\n",
    "Fique atento para os limites de consumo de sua instância do Watson Machine Learning!\n",
    "\n",
    "Caso você expire a camada grátis, não será possível avaliar seu modelo (pois é necessária a realização de algumas chamadas de API que consomem predições!)"
   ]
  },
  {
   "cell_type": "markdown",
   "metadata": {},
   "source": [
    "#### Listando todos os artefatos armazenados no seu WML"
   ]
  },
  {
   "cell_type": "markdown",
   "metadata": {},
   "source": [
    "Para listar todos os artefatos armazenados em seu Watson Machine Learning, você pode usar a seguinte função:\n",
    "\n",
    "    clientWML.repository.list()"
   ]
  },
  {
   "cell_type": "code",
   "execution_count": null,
   "metadata": {},
   "outputs": [],
   "source": [
    "# Listando todos os artefatos atualmente armazenados na sua instância do WML\n",
    "\n",
    "clientWML.repository.list()"
   ]
  },
  {
   "cell_type": "markdown",
   "metadata": {},
   "source": [
    "No plano LITE do Watson Machine Learning só é permitido o deploy de um único modelo por vez. Se for o caso de você já possuir um modelo online na sua instância, você pode apagá-lo utilizando o método clientWML.repository.delete():\n",
    "\n",
    "    artifact_guid = \"359c8951-d2fe-4063-8706-cc06b32d5e0d\"\n",
    "    clientWML.repository.delete(artifact_guid)"
   ]
  },
  {
   "cell_type": "markdown",
   "metadata": {},
   "source": [
    "#### Criando uma nova definição de pacote Python personalizado no WML"
   ]
  },
  {
   "cell_type": "markdown",
   "metadata": {},
   "source": [
    "O primeiro passo para realizar seu deploy é armazenar o código das transformações personalizadas criadas por você.\n",
    "\n",
    "Para essa etapa precisamos apenas do arquivo .zip do pacote criado (que já possuimos carregado no Kernel!)"
   ]
  },
  {
   "cell_type": "code",
   "execution_count": null,
   "metadata": {},
   "outputs": [],
   "source": [
    "# Definição de metadados do nosso pacote com as Transforms personalizadas\n",
    "pkg_meta = {\n",
    "    clientWML.runtimes.LibraryMetaNames.NAME: \"my_custom_sklearn_transform_1\",\n",
    "    clientWML.runtimes.LibraryMetaNames.DESCRIPTION: \"A custom sklearn transform\",\n",
    "    clientWML.runtimes.LibraryMetaNames.FILEPATH: \"sklearn_transforms.zip\",  # Note que estamos utilizando o .zip criado anteriormente!\n",
    "    clientWML.runtimes.LibraryMetaNames.VERSION: \"1.0\",\n",
    "    clientWML.runtimes.LibraryMetaNames.PLATFORM: { \"name\": \"python\", \"versions\": [\"3.6\"] }\n",
    "}\n",
    "custom_package_details = clientWML.runtimes.store_library( pkg_meta )\n",
    "custom_package_uid = clientWML.runtimes.get_library_uid( custom_package_details )\n",
    "\n",
    "print(\"\\n Lista de artefatos de runtime armazenados no WML:\")\n",
    "clientWML.repository.list()"
   ]
  },
  {
   "cell_type": "markdown",
   "metadata": {},
   "source": [
    "#### Criando uma nova definição de runtime Python personalizado no WML\n",
    "\n",
    "O segundo passo é armazenar uma definição de runtime Python para utilizar a nossa biblioteca personalizada.\n",
    "\n",
    "Isso pode ser feito da seguinte forma:"
   ]
  },
  {
   "cell_type": "code",
   "execution_count": null,
   "metadata": {},
   "outputs": [],
   "source": [
    "runtime_meta = {\n",
    "    clientWML.runtimes.ConfigurationMetaNames.NAME: \"my_custom_wml_runtime_1\",\n",
    "    clientWML.runtimes.ConfigurationMetaNames.DESCRIPTION: \"A Python runtime with custom sklearn Transforms\",\n",
    "    clientWML.runtimes.ConfigurationMetaNames.PLATFORM: {\n",
    "        \"name\": \"python\",\n",
    "        \"version\": \"3.6\"\n",
    "    },\n",
    "    clientWML.runtimes.ConfigurationMetaNames.LIBRARIES_UIDS: [ custom_package_uid ]\n",
    "}\n",
    "runtime_details = clientWML.runtimes.store( runtime_meta )\n",
    "custom_runtime_uid = clientWML.runtimes.get_uid( runtime_details )\n",
    "\n",
    "print(\"\\n Detalhes do runtime armazenado:\")\n",
    "print(json.dumps(runtime_details, indent=4))"
   ]
  },
  {
   "cell_type": "code",
   "execution_count": null,
   "metadata": {},
   "outputs": [],
   "source": [
    "# Listando todos runtimes armazenados no seu WML:\n",
    "clientWML.runtimes.list()"
   ]
  },
  {
   "cell_type": "markdown",
   "metadata": {},
   "source": [
    "#### Criando uma nova definição de Pipeline personalizada no WML\n",
    "\n",
    "Finalmente iremos criar uma definição (metadados) para a nossa Pipeline ser hospedada no WML.\n",
    "\n",
    "Definimos como parâmetros um nome para o artefato e o ID do runtime criado anteriormente."
   ]
  },
  {
   "cell_type": "code",
   "execution_count": null,
   "metadata": {},
   "outputs": [],
   "source": [
    "model_meta = {\n",
    "    clientWML.repository.ModelMetaNames.NAME: 'desafio-2-mbtc2020-pipeline-1',\n",
    "    clientWML.repository.ModelMetaNames.DESCRIPTION: \"my pipeline for submission\",\n",
    "    clientWML.repository.ModelMetaNames.RUNTIME_UID: custom_runtime_uid\n",
    "}"
   ]
  },
  {
   "cell_type": "markdown",
   "metadata": {},
   "source": [
    "Em seguida chamamos o método para armazenar a nova definição:"
   ]
  },
  {
   "cell_type": "code",
   "execution_count": null,
   "metadata": {},
   "outputs": [],
   "source": [
    "# Função para armazenar uma definição de Pipeline no WML\n",
    "stored_model_details = clientWML.repository.store_model(\n",
    "    model=my_pipeline,  # `my_pipeline` é a variável criada anteriormente e contém nossa Pipeline já treinada :)\n",
    "    meta_props=model_meta,  # Metadados definidos na célula anterior\n",
    "    training_data=None  # Não altere esse parâmetro\n",
    ")\n",
    "\n",
    "print(\"\\n Lista de artefatos armazenados no WML:\")\n",
    "clientWML.repository.list()\n",
    "\n",
    "# Detalhes do modelo hospedado no Watson Machine Learning\n",
    "print(\"\\n Metadados do modelo armazenado:\")\n",
    "print(json.dumps(stored_model_details, indent=4))"
   ]
  },
  {
   "cell_type": "markdown",
   "metadata": {},
   "source": [
    "#### Realizando o deployment do seu modelo para consumo imediato por outras aplicações"
   ]
  },
  {
   "cell_type": "code",
   "execution_count": null,
   "metadata": {},
   "outputs": [],
   "source": [
    "# O deployment do modelo é finalmente realizado por meio do método ``deployments.create()``\n",
    "\n",
    "model_deployment_details = clientWML.deployments.create(\n",
    "    artifact_uid=stored_model_details[\"metadata\"][\"guid\"],  # Não altere esse parâmetro\n",
    "    name=\"desafio-2-mbtc2020-deployment-1\",\n",
    "    description=\"Solução do desafio 2 - MBTC\",\n",
    "    asynchronous=False,  # Não altere esse parâmetro\n",
    "    deployment_type='online',  # Não altere esse parâmetro\n",
    "    deployment_format='Core ML',  # Não altere esse parâmetro\n",
    "    meta_props=model_meta  # Não altere esse parâmetro\n",
    ")"
   ]
  },
  {
   "cell_type": "markdown",
   "metadata": {},
   "source": [
    "#### Testando um modelo hospedado no Watson Machine Learning"
   ]
  },
  {
   "cell_type": "code",
   "execution_count": null,
   "metadata": {},
   "outputs": [],
   "source": [
    "# Recuperando a URL endpoint do modelo hospedado na célula anterior\n",
    "\n",
    "model_endpoint_url = clientWML.deployments.get_scoring_url(model_deployment_details)\n",
    "print(\"A URL de chamada da sua API é: {}\".format(model_endpoint_url))"
   ]
  },
  {
   "cell_type": "code",
   "execution_count": null,
   "metadata": {},
   "outputs": [],
   "source": [
    "# Detalhes do deployment realizado\n",
    "\n",
    "deployment_details = clientWML.deployments.get_details(\n",
    "    deployment_uid=model_deployment_details[\"metadata\"][\"guid\"]  # esse é o ID do seu deployment!\n",
    ")\n",
    "\n",
    "print(\"Metadados do deployment realizado: \\n\")\n",
    "print(json.dumps(deployment_details, indent=4))"
   ]
  },
  {
   "cell_type": "code",
   "execution_count": null,
   "metadata": {
    "scrolled": false
   },
   "outputs": [],
   "source": [
    "scoring_payload = {\n",
    "    'fields': [\n",
    "        \"MATRICULA\", \"NOME\", 'REPROVACOES_DE', 'REPROVACOES_EM', \"REPROVACOES_MF\", \"REPROVACOES_GO\",\n",
    "        \"NOTA_DE\", \"NOTA_EM\", \"NOTA_MF\", \"NOTA_GO\",\n",
    "        \"INGLES\", \"H_AULA_PRES\", \"TAREFAS_ONLINE\", \"FALTAS\", \n",
    "    ],\n",
    "    'values': [\n",
    "        [\n",
    "            513949,\"Marli Quésia de Oliveira\",1,1,1,1,4.3,4.0,3.1,4.9,0,3,4,3,\n",
    "        ]\n",
    "    ]\n",
    "}\n",
    "\n",
    "print(\"\\n Payload de dados a ser classificada:\")\n",
    "print(json.dumps(scoring_payload, indent=4))"
   ]
  },
  {
   "cell_type": "code",
   "execution_count": null,
   "metadata": {},
   "outputs": [],
   "source": [
    "result = clientWML.deployments.score(\n",
    "    model_endpoint_url,\n",
    "    scoring_payload\n",
    ")\n",
    "\n",
    "print(\"\\n Resultados:\")\n",
    "print(json.dumps(result, indent=4))"
   ]
  },
  {
   "cell_type": "markdown",
   "metadata": {},
   "source": [
    "<hr>\n",
    "\n",
    "## Parabéns! \n",
    "\n",
    "Se tudo foi executado sem erros, você já tem um classificador baseado em machine learning encapsulado como uma API REST!\n",
    "\n",
    "Para testar a sua solução integrada com um assistente virtual e realizar a submissão, acesse a página:\n",
    "\n",
    "https://uninassau.maratona.dev\n",
    "\n",
    "Você irá precisar da endpoint url do seu modelo e das credenciais do WML :)"
   ]
  },
  {
   "cell_type": "code",
   "execution_count": null,
   "metadata": {},
   "outputs": [],
   "source": []
  }
 ],
 "metadata": {
  "kernelspec": {
   "display_name": "Python 3",
   "language": "python",
   "name": "python3"
  },
  "language_info": {
   "codemirror_mode": {
    "name": "ipython",
    "version": 3
   },
   "file_extension": ".py",
   "mimetype": "text/x-python",
   "name": "python",
   "nbconvert_exporter": "python",
   "pygments_lexer": "ipython3",
   "version": "3.7.3"
  },
  "toc": {
   "base_numbering": 1,
   "nav_menu": {},
   "number_sections": true,
   "sideBar": true,
   "skip_h1_title": false,
   "title_cell": "Table of Contents",
   "title_sidebar": "Contents",
   "toc_cell": false,
   "toc_position": {},
   "toc_section_display": true,
   "toc_window_display": false
  }
 },
 "nbformat": 4,
 "nbformat_minor": 1
}
