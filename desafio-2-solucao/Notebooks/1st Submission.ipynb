{
 "cells": [
  {
   "cell_type": "markdown",
   "metadata": {
    "collapsed": true
   },
   "source": [
    "# MARATONA BEHIND THE CODE 2020\n",
    "\n",
    "## DESAFIO 2: PARTE 2"
   ]
  },
  {
   "cell_type": "markdown",
   "metadata": {},
   "source": [
    "### Introdução"
   ]
  },
  {
   "cell_type": "markdown",
   "metadata": {},
   "source": [
    "Na parte 1 deste desafio, você realizou o pré-processamento e o treinamento de um modelo a partir de um conjunto de dados base fornecido. Nesta segunda etapa você irá integrar todas as transformações e eventos de treinamento criados anteriormente em uma Pipeline completa para *deploy* no **Watson Machine Learning**!"
   ]
  },
  {
   "cell_type": "markdown",
   "metadata": {},
   "source": [
    "### Preparação do Notebook"
   ]
  },
  {
   "cell_type": "markdown",
   "metadata": {},
   "source": [
    "Primeiro realizaremos a instalação do scikit-learn e a importação das mesmas bibliotecas utilizadas anteriormente"
   ]
  },
  {
   "cell_type": "code",
   "execution_count": 1,
   "metadata": {
    "ExecuteTime": {
     "end_time": "2020-08-22T00:47:27.595662Z",
     "start_time": "2020-08-22T00:47:27.590774Z"
    }
   },
   "outputs": [],
   "source": [
    "# # Primeiro, realizamos a instalação do scikit-learn versão 0.20.0 no Kernel deste notebook:\n",
    "# !pip install numpy==1.16.4 --upgrade\n",
    "# !pip install pandas==0.24.2 --upgrade\n",
    "# !pip install scikit-learn==0.20.3 \n",
    "### !pip install scikit-learn==0.21 \n",
    "# !pip install lightgbm\n",
    "# !pip install xgboost\n",
    "# !pip install scikit-optimize"
   ]
  },
  {
   "cell_type": "code",
   "execution_count": 2,
   "metadata": {},
   "outputs": [],
   "source": [
    "# !pip install watson_machine_learning_client"
   ]
  },
  {
   "cell_type": "code",
   "execution_count": 3,
   "metadata": {},
   "outputs": [
    {
     "name": "stdout",
     "output_type": "stream",
     "text": [
      "Python 3.6.10 :: Anaconda, Inc.\r\n"
     ]
    }
   ],
   "source": [
    "!python --version"
   ]
  },
  {
   "cell_type": "code",
   "execution_count": null,
   "metadata": {},
   "outputs": [],
   "source": []
  },
  {
   "cell_type": "code",
   "execution_count": 4,
   "metadata": {
    "ExecuteTime": {
     "end_time": "2020-08-22T00:47:28.913840Z",
     "start_time": "2020-08-22T00:47:27.599384Z"
    }
   },
   "outputs": [],
   "source": [
    "import json\n",
    "import requests\n",
    "import pandas as pd\n",
    "import numpy as np\n",
    "from sklearn.ensemble import RandomForestClassifier\n",
    "# from xgboost import XGBClassifier\n",
    "import lightgbm as lgbm\n",
    "\n",
    "from sklearn.impute import SimpleImputer\n",
    "from sklearn.model_selection import train_test_split\n",
    "from sklearn.pipeline import Pipeline\n",
    "from sklearn.model_selection import KFold, cross_validate\n",
    "\n",
    "import matplotlib.pyplot as plt\n",
    "\n",
    "from sklearn.model_selection import (\n",
    "    train_test_split,\n",
    "    cross_val_score,\n",
    ")"
   ]
  },
  {
   "cell_type": "code",
   "execution_count": 5,
   "metadata": {
    "ExecuteTime": {
     "end_time": "2020-08-22T00:47:28.959001Z",
     "start_time": "2020-08-22T00:47:28.915546Z"
    }
   },
   "outputs": [
    {
     "data": {
      "text/html": [
       "<div>\n",
       "<style scoped>\n",
       "    .dataframe tbody tr th:only-of-type {\n",
       "        vertical-align: middle;\n",
       "    }\n",
       "\n",
       "    .dataframe tbody tr th {\n",
       "        vertical-align: top;\n",
       "    }\n",
       "\n",
       "    .dataframe thead th {\n",
       "        text-align: right;\n",
       "    }\n",
       "</style>\n",
       "<table border=\"1\" class=\"dataframe\">\n",
       "  <thead>\n",
       "    <tr style=\"text-align: right;\">\n",
       "      <th></th>\n",
       "      <th>MATRICULA</th>\n",
       "      <th>NOME</th>\n",
       "      <th>REPROVACOES_DE</th>\n",
       "      <th>REPROVACOES_EM</th>\n",
       "      <th>REPROVACOES_MF</th>\n",
       "      <th>REPROVACOES_GO</th>\n",
       "      <th>NOTA_DE</th>\n",
       "      <th>NOTA_EM</th>\n",
       "      <th>NOTA_MF</th>\n",
       "      <th>NOTA_GO</th>\n",
       "      <th>INGLES</th>\n",
       "      <th>H_AULA_PRES</th>\n",
       "      <th>TAREFAS_ONLINE</th>\n",
       "      <th>FALTAS</th>\n",
       "      <th>PERFIL</th>\n",
       "    </tr>\n",
       "  </thead>\n",
       "  <tbody>\n",
       "    <tr>\n",
       "      <th>0</th>\n",
       "      <td>502375</td>\n",
       "      <td>Márcia Illiglener</td>\n",
       "      <td>0</td>\n",
       "      <td>0</td>\n",
       "      <td>0</td>\n",
       "      <td>0</td>\n",
       "      <td>6.2</td>\n",
       "      <td>5.8</td>\n",
       "      <td>4.6</td>\n",
       "      <td>5.9</td>\n",
       "      <td>0.0</td>\n",
       "      <td>2</td>\n",
       "      <td>4</td>\n",
       "      <td>3</td>\n",
       "      <td>EXATAS</td>\n",
       "    </tr>\n",
       "    <tr>\n",
       "      <th>1</th>\n",
       "      <td>397093</td>\n",
       "      <td>Jason Jytereoman Izoimum</td>\n",
       "      <td>0</td>\n",
       "      <td>0</td>\n",
       "      <td>0</td>\n",
       "      <td>0</td>\n",
       "      <td>6.0</td>\n",
       "      <td>6.2</td>\n",
       "      <td>5.2</td>\n",
       "      <td>4.5</td>\n",
       "      <td>1.0</td>\n",
       "      <td>2</td>\n",
       "      <td>4</td>\n",
       "      <td>3</td>\n",
       "      <td>EXATAS</td>\n",
       "    </tr>\n",
       "    <tr>\n",
       "      <th>2</th>\n",
       "      <td>915288</td>\n",
       "      <td>Bartolomeu Inácio da Gama</td>\n",
       "      <td>0</td>\n",
       "      <td>0</td>\n",
       "      <td>0</td>\n",
       "      <td>0</td>\n",
       "      <td>7.3</td>\n",
       "      <td>6.7</td>\n",
       "      <td>7.1</td>\n",
       "      <td>7.2</td>\n",
       "      <td>0.0</td>\n",
       "      <td>5</td>\n",
       "      <td>0</td>\n",
       "      <td>3</td>\n",
       "      <td>HUMANAS</td>\n",
       "    </tr>\n",
       "    <tr>\n",
       "      <th>3</th>\n",
       "      <td>192652</td>\n",
       "      <td>Fernanda Guedes</td>\n",
       "      <td>1</td>\n",
       "      <td>3</td>\n",
       "      <td>1</td>\n",
       "      <td>1</td>\n",
       "      <td>0.0</td>\n",
       "      <td>0.0</td>\n",
       "      <td>0.0</td>\n",
       "      <td>0.0</td>\n",
       "      <td>1.0</td>\n",
       "      <td>4</td>\n",
       "      <td>4</td>\n",
       "      <td>4</td>\n",
       "      <td>DIFICULDADE</td>\n",
       "    </tr>\n",
       "    <tr>\n",
       "      <th>4</th>\n",
       "      <td>949491</td>\n",
       "      <td>Alessandre Borba Gomes</td>\n",
       "      <td>1</td>\n",
       "      <td>3</td>\n",
       "      <td>1</td>\n",
       "      <td>1</td>\n",
       "      <td>0.0</td>\n",
       "      <td>0.0</td>\n",
       "      <td>0.0</td>\n",
       "      <td>0.0</td>\n",
       "      <td>1.0</td>\n",
       "      <td>5</td>\n",
       "      <td>2</td>\n",
       "      <td>5</td>\n",
       "      <td>DIFICULDADE</td>\n",
       "    </tr>\n",
       "  </tbody>\n",
       "</table>\n",
       "</div>"
      ],
      "text/plain": [
       "   MATRICULA                       NOME  REPROVACOES_DE  REPROVACOES_EM  \\\n",
       "0     502375          Márcia Illiglener               0               0   \n",
       "1     397093   Jason Jytereoman Izoimum               0               0   \n",
       "2     915288  Bartolomeu Inácio da Gama               0               0   \n",
       "3     192652            Fernanda Guedes               1               3   \n",
       "4     949491     Alessandre Borba Gomes               1               3   \n",
       "\n",
       "   REPROVACOES_MF  REPROVACOES_GO  NOTA_DE  NOTA_EM  NOTA_MF  NOTA_GO  INGLES  \\\n",
       "0               0               0      6.2      5.8      4.6      5.9     0.0   \n",
       "1               0               0      6.0      6.2      5.2      4.5     1.0   \n",
       "2               0               0      7.3      6.7      7.1      7.2     0.0   \n",
       "3               1               1      0.0      0.0      0.0      0.0     1.0   \n",
       "4               1               1      0.0      0.0      0.0      0.0     1.0   \n",
       "\n",
       "   H_AULA_PRES  TAREFAS_ONLINE  FALTAS       PERFIL  \n",
       "0            2               4       3       EXATAS  \n",
       "1            2               4       3       EXATAS  \n",
       "2            5               0       3      HUMANAS  \n",
       "3            4               4       4  DIFICULDADE  \n",
       "4            5               2       5  DIFICULDADE  "
      ]
     },
     "execution_count": 5,
     "metadata": {},
     "output_type": "execute_result"
    }
   ],
   "source": [
    "# << INSIRA O DATASET COMO UM DATAFRAME PANDAS NESTA CÉLULA >>\n",
    "import types\n",
    "import pandas as pd\n",
    "\n",
    "df_data_1 = pd.read_csv(\"../Data/dataset_desafio_2.csv\")\n",
    "df_data_1.head()"
   ]
  },
  {
   "cell_type": "code",
   "execution_count": 6,
   "metadata": {
    "ExecuteTime": {
     "end_time": "2020-08-22T00:47:28.987893Z",
     "start_time": "2020-08-22T00:47:28.960718Z"
    }
   },
   "outputs": [],
   "source": [
    "# # remover outliers\n",
    "\n",
    "# def remove_outliers(df):\n",
    "#     df = df.query(\"NOTA_DE >= 0 and NOTA_DE <= 10\")\n",
    "#     df = df.query(\"NOTA_EM >= 0 and NOTA_EM <= 10\")\n",
    "#     df = df.query(\"NOTA_MF >= 0 and NOTA_MF <= 10\")\n",
    "#     df = df.query(\"NOTA_GO >= 0 and NOTA_GO <= 10\")\n",
    "    \n",
    "#     return df\n",
    "\n",
    "# print(df_data_1.shape)\n",
    "# df_data_1 = remove_outliers(df_data_1)\n",
    "# print(\"after removal: \", df_data_1.shape)"
   ]
  },
  {
   "cell_type": "markdown",
   "metadata": {},
   "source": [
    "### Construção da Pipeline completa para encapsulamento no WML"
   ]
  },
  {
   "cell_type": "markdown",
   "metadata": {},
   "source": [
    "vamos importar nossos transformers do nosso github"
   ]
  },
  {
   "cell_type": "code",
   "execution_count": 7,
   "metadata": {
    "ExecuteTime": {
     "end_time": "2020-08-22T00:47:29.105058Z",
     "start_time": "2020-08-22T00:47:28.989368Z"
    }
   },
   "outputs": [
    {
     "name": "stdout",
     "output_type": "stream",
     "text": [
      "fatal: destination path 'sklearn_transforms' already exists and is not an empty directory.\r\n"
     ]
    }
   ],
   "source": [
    "# substitua o link abaixo pelo link do seu repositório git (se for o caso)\n",
    "!git clone https://github.com/lgabs/sklearn_transforms.git"
   ]
  },
  {
   "cell_type": "code",
   "execution_count": 8,
   "metadata": {
    "ExecuteTime": {
     "end_time": "2020-08-22T00:47:29.346053Z",
     "start_time": "2020-08-22T00:47:29.108470Z"
    }
   },
   "outputs": [
    {
     "name": "stdout",
     "output_type": "stream",
     "text": [
      "total 1512\r\n",
      "-rw-rw-r-- 1 luan luan  45012 Ago 20 07:55 Feature Engineering-Copy1.ipynb\r\n",
      "-rw-rw-r-- 1 luan luan  65306 Ago 20 08:15 Tunning XGBoost + Ft Eng.ipynb\r\n",
      "-rw-rw-r-- 1 luan luan 405354 Ago 20 08:50 Feature Engineering.ipynb\r\n",
      "-rw-rw-r-- 1 luan luan  32887 Ago 20 22:07 parte-1.ipynb\r\n",
      "-rw-rw-r-- 1 luan luan 108994 Ago 21 07:56 fastai.ipynb\r\n",
      "-rw-rw-r-- 1 luan luan 562890 Ago 21 08:42 Tunning LGBM.ipynb\r\n",
      "drwxrwxr-x 4 luan luan   4096 Ago 21 12:01 catboost_info\r\n",
      "-rw-rw-r-- 1 luan luan  57813 Ago 21 12:18 logs.log\r\n",
      "-rw-rw-r-- 1 luan luan  27938 Ago 21 13:09 parte-2.ipynb\r\n",
      "drwxrwxr-x 5 luan luan   4096 Ago 21 21:04 sklearn_transforms\r\n",
      "-rw-rw-r-- 1 luan luan  64419 Ago 21 22:37 sklearn_transforms.zip\r\n",
      "-rw-rw-r-- 1 luan luan 113177 Ago 21 22:40 pycaret.ipynb\r\n",
      "-rw-rw-r-- 1 luan luan  33198 Ago 21 22:58 1st Submission.ipynb\r\n"
     ]
    }
   ],
   "source": [
    "!cd sklearn_transforms\n",
    "!ls -ltr"
   ]
  },
  {
   "cell_type": "code",
   "execution_count": 9,
   "metadata": {
    "ExecuteTime": {
     "end_time": "2020-08-22T00:47:29.504205Z",
     "start_time": "2020-08-22T00:47:29.351893Z"
    }
   },
   "outputs": [
    {
     "name": "stdout",
     "output_type": "stream",
     "text": [
      "updating: sklearn_transforms/ (stored 0%)\r\n",
      "updating: sklearn_transforms/setup.py (deflated 46%)\r\n",
      "updating: sklearn_transforms/README.md (deflated 15%)\r\n",
      "updating: sklearn_transforms/.git/ (stored 0%)\r\n",
      "updating: sklearn_transforms/.git/index (deflated 52%)\r\n",
      "updating: sklearn_transforms/.git/config (deflated 34%)\r\n",
      "updating: sklearn_transforms/.git/description (deflated 14%)\r\n",
      "updating: sklearn_transforms/.git/logs/ (stored 0%)\r\n",
      "updating: sklearn_transforms/.git/logs/HEAD (deflated 29%)\r\n",
      "updating: sklearn_transforms/.git/logs/refs/ (stored 0%)\r\n",
      "updating: sklearn_transforms/.git/logs/refs/heads/ (stored 0%)\r\n",
      "updating: sklearn_transforms/.git/logs/refs/heads/master (deflated 29%)\r\n",
      "updating: sklearn_transforms/.git/logs/refs/remotes/ (stored 0%)\r\n",
      "updating: sklearn_transforms/.git/logs/refs/remotes/origin/ (stored 0%)\r\n",
      "updating: sklearn_transforms/.git/logs/refs/remotes/origin/HEAD (deflated 29%)\r\n",
      "updating: sklearn_transforms/.git/branches/ (stored 0%)\r\n",
      "updating: sklearn_transforms/.git/packed-refs (deflated 8%)\r\n",
      "updating: sklearn_transforms/.git/info/ (stored 0%)\r\n",
      "updating: sklearn_transforms/.git/info/exclude (deflated 28%)\r\n",
      "updating: sklearn_transforms/.git/hooks/ (stored 0%)\r\n",
      "updating: sklearn_transforms/.git/hooks/commit-msg.sample (deflated 44%)\r\n",
      "updating: sklearn_transforms/.git/hooks/prepare-commit-msg.sample (deflated 46%)\r\n",
      "updating: sklearn_transforms/.git/hooks/pre-applypatch.sample (deflated 38%)\r\n",
      "updating: sklearn_transforms/.git/hooks/pre-commit.sample (deflated 43%)\r\n",
      "updating: sklearn_transforms/.git/hooks/applypatch-msg.sample (deflated 42%)\r\n",
      "updating: sklearn_transforms/.git/hooks/pre-push.sample (deflated 50%)\r\n",
      "updating: sklearn_transforms/.git/hooks/pre-rebase.sample (deflated 59%)\r\n",
      "updating: sklearn_transforms/.git/hooks/post-update.sample (deflated 27%)\r\n",
      "updating: sklearn_transforms/.git/hooks/update.sample (deflated 68%)\r\n",
      "updating: sklearn_transforms/.git/HEAD (stored 0%)\r\n",
      "updating: sklearn_transforms/.git/objects/ (stored 0%)\r\n",
      "updating: sklearn_transforms/.git/objects/f2/ (stored 0%)\r\n",
      "updating: sklearn_transforms/.git/objects/f2/598626ccd27c586d5b759e5186abc64c058912 (stored 0%)\r\n",
      "updating: sklearn_transforms/.git/objects/80/ (stored 0%)\r\n",
      "updating: sklearn_transforms/.git/objects/80/b20e55b5f52a87b7769e08df221e07d9cc0f3a (stored 0%)\r\n",
      "updating: sklearn_transforms/.git/objects/aa/ (stored 0%)\r\n",
      "updating: sklearn_transforms/.git/objects/aa/1db9544c86800c5018cb8f28d1e74fbd192991 (stored 0%)\r\n",
      "updating: sklearn_transforms/.git/objects/cc/ (stored 0%)\r\n",
      "updating: sklearn_transforms/.git/objects/cc/fdab500390127d0490aaf9ee369565b05c41b4 (stored 0%)\r\n",
      "updating: sklearn_transforms/.git/objects/1b/ (stored 0%)\r\n",
      "updating: sklearn_transforms/.git/objects/1b/9e7f9e69d0cac5283f551433cdaf8e65199698 (stored 0%)\r\n",
      "updating: sklearn_transforms/.git/objects/c3/ (stored 0%)\r\n",
      "updating: sklearn_transforms/.git/objects/c3/9f70251de841c8e55e9c58d2fa7dbbe2d2fb0f (stored 0%)\r\n",
      "updating: sklearn_transforms/.git/objects/c6/ (stored 0%)\r\n",
      "updating: sklearn_transforms/.git/objects/c6/dca1b81ece32dfb4545f42d307a3090c6c21fa (stored 0%)\r\n",
      "updating: sklearn_transforms/.git/objects/c6/4e501fc43c00861aa7ccae744058ba87c304fd (stored 0%)\r\n",
      "updating: sklearn_transforms/.git/objects/1e/ (stored 0%)\r\n",
      "updating: sklearn_transforms/.git/objects/1e/1e45038dfc30ed50e6d081ec85e8a3fdfb8913 (stored 0%)\r\n",
      "updating: sklearn_transforms/.git/objects/da/ (stored 0%)\r\n",
      "updating: sklearn_transforms/.git/objects/da/64b79708ea475e8c6b484d837676ce91d9801e (stored 0%)\r\n",
      "updating: sklearn_transforms/.git/objects/f9/ (stored 0%)\r\n",
      "updating: sklearn_transforms/.git/objects/f9/842759dbd395649399f47479175e044b6b40ae (stored 0%)\r\n",
      "updating: sklearn_transforms/.git/objects/82/ (stored 0%)\r\n",
      "updating: sklearn_transforms/.git/objects/82/e0b0b52c39cd1840e7853e6d00986fae5683f4 (stored 0%)\r\n",
      "updating: sklearn_transforms/.git/objects/2f/ (stored 0%)\r\n",
      "updating: sklearn_transforms/.git/objects/2f/ab3357d7d157a7a6bbda08aad6cf19970d2cc3 (stored 0%)\r\n",
      "updating: sklearn_transforms/.git/objects/58/ (stored 0%)\r\n",
      "updating: sklearn_transforms/.git/objects/58/25ba31fa0c00d63a9dc9865e0c848442a6fbcd (stored 0%)\r\n",
      "updating: sklearn_transforms/.git/objects/8c/ (stored 0%)\r\n",
      "updating: sklearn_transforms/.git/objects/8c/46dcca21d6dd2c23afb4a858d2b77d56bbf050 (stored 0%)\r\n",
      "updating: sklearn_transforms/.git/objects/8c/d09104c54f140d61a6e9fa6c2142d4565ee302 (stored 0%)\r\n",
      "updating: sklearn_transforms/.git/objects/0e/ (stored 0%)\r\n",
      "updating: sklearn_transforms/.git/objects/0e/cc61a0a4baff0885426f45a8fcb9fbb78f8009 (stored 0%)\r\n",
      "updating: sklearn_transforms/.git/objects/5a/ (stored 0%)\r\n",
      "updating: sklearn_transforms/.git/objects/5a/526637de4019113a2a45c3a9d09d9b358c75c2 (stored 0%)\r\n",
      "updating: sklearn_transforms/.git/objects/5a/b47e5cada9bcefbd66782d50edf2a86005dcb5 (stored 0%)\r\n",
      "updating: sklearn_transforms/.git/objects/pack/ (stored 0%)\r\n",
      "updating: sklearn_transforms/.git/objects/7e/ (stored 0%)\r\n",
      "updating: sklearn_transforms/.git/objects/7e/ae3d08dc940e367e3c1e2ac7a35a8b00df2e12 (stored 0%)\r\n",
      "updating: sklearn_transforms/.git/objects/61/ (stored 0%)\r\n",
      "updating: sklearn_transforms/.git/objects/61/e62b4f1623878ae0d92ffa812570be417feb82 (stored 0%)\r\n",
      "updating: sklearn_transforms/.git/objects/e8/ (stored 0%)\r\n",
      "updating: sklearn_transforms/.git/objects/e8/8e9a7c9bc5a570d097ba4001ea0c327cba6f0a (stored 0%)\r\n",
      "updating: sklearn_transforms/.git/objects/e6/ (stored 0%)\r\n",
      "updating: sklearn_transforms/.git/objects/e6/9de29bb2d1d6434b8b29ae775ad8c2e48c5391 (stored 0%)\r\n",
      "updating: sklearn_transforms/.git/objects/05/ (stored 0%)\r\n",
      "updating: sklearn_transforms/.git/objects/05/6cab60f81eb62f20ffd3cab59b6d232f0188e9 (stored 0%)\r\n",
      "updating: sklearn_transforms/.git/objects/06/ (stored 0%)\r\n",
      "updating: sklearn_transforms/.git/objects/06/998ae152d5b5fad89c81a6853dbbc0830fd6c7 (stored 0%)\r\n",
      "updating: sklearn_transforms/.git/objects/cb/ (stored 0%)\r\n",
      "updating: sklearn_transforms/.git/objects/cb/d827fdd178a26f42d8b01c58320b03f3eae7fa (stored 0%)\r\n",
      "updating: sklearn_transforms/.git/objects/af/ (stored 0%)\r\n",
      "updating: sklearn_transforms/.git/objects/af/1140cfcb4e33bc03d9b067c1f7d70147d043d7 (stored 0%)\r\n",
      "updating: sklearn_transforms/.git/objects/04/ (stored 0%)\r\n",
      "updating: sklearn_transforms/.git/objects/04/b1ff2d79c9b11a1d494b6f6d42acb629236af4 (stored 0%)\r\n",
      "updating: sklearn_transforms/.git/objects/29/ (stored 0%)\r\n",
      "updating: sklearn_transforms/.git/objects/29/ffc1c2af8fa4b0ef5eef0ba4fdc441915d1a91 (stored 0%)\r\n",
      "updating: sklearn_transforms/.git/objects/29/c65b6319ccd5b1c7da36655bb0c44e09fff991 (stored 0%)\r\n",
      "updating: sklearn_transforms/.git/objects/bc/ (stored 0%)\r\n",
      "updating: sklearn_transforms/.git/objects/bc/a817006f92d9e390374c1ed6467fad5ff7bab0 (stored 0%)\r\n",
      "updating: sklearn_transforms/.git/objects/bc/bd8f17177cd1afe8396315d2039283fa993390 (stored 0%)\r\n",
      "updating: sklearn_transforms/.git/objects/d0/ (stored 0%)\r\n",
      "updating: sklearn_transforms/.git/objects/d0/4d8adf3dbf886c5799f7f367168b0785f0a4f5 (stored 0%)\r\n",
      "updating: sklearn_transforms/.git/objects/2c/ (stored 0%)\r\n",
      "updating: sklearn_transforms/.git/objects/2c/de64a17098cba673b28c995910b268f5e34e7a (stored 0%)\r\n",
      "updating: sklearn_transforms/.git/objects/2c/e0c00014139513fce75d75cbe2650d829faff5 (stored 0%)\r\n",
      "updating: sklearn_transforms/.git/objects/2c/c7a6bf2941a9d553a199a4fe658f0074a54b51 (stored 0%)\r\n",
      "updating: sklearn_transforms/.git/objects/b6/ (stored 0%)\r\n",
      "updating: sklearn_transforms/.git/objects/b6/979f3149443c66198e505c1e761f2766b4ea35 (stored 0%)\r\n",
      "updating: sklearn_transforms/.git/objects/c4/ (stored 0%)\r\n",
      "updating: sklearn_transforms/.git/objects/c4/b90bb9bfb2674c96e6d8aa6cc3c8e58194f953 (stored 0%)\r\n",
      "updating: sklearn_transforms/.git/objects/22/ (stored 0%)\r\n",
      "updating: sklearn_transforms/.git/objects/22/2e658014f5f2a43e16ce3c5e896e00fef1f3d5 (stored 0%)\r\n",
      "updating: sklearn_transforms/.git/objects/2e/ (stored 0%)\r\n",
      "updating: sklearn_transforms/.git/objects/2e/2e5168d3c37ccbaeb3b899da3f30fb6bc70031 (stored 0%)\r\n",
      "updating: sklearn_transforms/.git/objects/info/ (stored 0%)\r\n",
      "updating: sklearn_transforms/.git/objects/7b/ (stored 0%)\r\n",
      "updating: sklearn_transforms/.git/objects/7b/f29d72c3592c175bd5abc1de33ddf3508352a2 (stored 0%)\r\n",
      "updating: sklearn_transforms/.git/objects/7b/04014fbd820cb0146dcec7965f01f304436510 (stored 0%)\r\n",
      "updating: sklearn_transforms/.git/objects/26/ (stored 0%)\r\n",
      "updating: sklearn_transforms/.git/objects/26/3abe321ee224139817e2325d5c91ac8f0eed50 (stored 0%)\r\n",
      "updating: sklearn_transforms/.git/objects/85/ (stored 0%)\r\n",
      "updating: sklearn_transforms/.git/objects/85/bd34a4ae5f5c965a082a26b38a3268a662ae2b (stored 0%)\r\n",
      "updating: sklearn_transforms/.git/objects/21/ (stored 0%)\r\n",
      "updating: sklearn_transforms/.git/objects/21/64a6e4b4ca3afc26c4b21982d433c8c54039a1 (stored 0%)\r\n",
      "updating: sklearn_transforms/.git/objects/99/ (stored 0%)\r\n",
      "updating: sklearn_transforms/.git/objects/99/bde3a281e0a208866b47dcde00a4e4cd8afca0 (stored 0%)\r\n",
      "updating: sklearn_transforms/.git/objects/ee/ (stored 0%)\r\n",
      "updating: sklearn_transforms/.git/objects/ee/96aaec3459bae7b27b49e17f867db49c3257a8 (stored 0%)\r\n",
      "updating: sklearn_transforms/.git/objects/52/ (stored 0%)\r\n",
      "updating: sklearn_transforms/.git/objects/52/6fb1c4f5a0d3a2482041c7bd3f15263837acf5 (stored 0%)\r\n",
      "updating: sklearn_transforms/.git/objects/39/ (stored 0%)\r\n",
      "updating: sklearn_transforms/.git/objects/39/ccfbaf81e116c9eb9781c7cd0b7acdd5ad10aa (stored 0%)\r\n",
      "updating: sklearn_transforms/.git/objects/39/d4d3fd1cc23783dbadb2d673f3758863106854 (stored 0%)\r\n",
      "updating: sklearn_transforms/.git/objects/a0/ (stored 0%)\r\n",
      "updating: sklearn_transforms/.git/objects/a0/3066ce73d15efd1cc6449dea7e2b678089edd6 (stored 0%)\r\n",
      "updating: sklearn_transforms/.git/objects/77/ (stored 0%)\r\n",
      "updating: sklearn_transforms/.git/objects/77/7798a7cedea3a2fddef8dd0b7691c9b1f9f97b (stored 0%)\r\n",
      "updating: sklearn_transforms/.git/objects/46/ (stored 0%)\r\n",
      "updating: sklearn_transforms/.git/objects/46/862abd9b50e51c99a1f65be820af360594f8c2 (stored 0%)\r\n",
      "updating: sklearn_transforms/.git/objects/24/ (stored 0%)\r\n",
      "updating: sklearn_transforms/.git/objects/24/7b371c9092731e07412dc5286126ed3a18756a (stored 0%)\r\n",
      "updating: sklearn_transforms/.git/objects/6a/ (stored 0%)\r\n",
      "updating: sklearn_transforms/.git/objects/6a/3c980900b1ce8383ed0fd1cbcb9195d582cf4e (stored 0%)\r\n",
      "updating: sklearn_transforms/.git/objects/8b/ (stored 0%)\r\n",
      "updating: sklearn_transforms/.git/objects/8b/137891791fe96927ad78e64b0aad7bded08bdc (stored 0%)\r\n",
      "updating: sklearn_transforms/.git/objects/d3/ (stored 0%)\r\n",
      "updating: sklearn_transforms/.git/objects/d3/697484c118054fc68a13eaac93c2f93536b77e (stored 0%)\r\n",
      "updating: sklearn_transforms/.git/objects/c0/ (stored 0%)\r\n",
      "updating: sklearn_transforms/.git/objects/c0/e12da6a090fe6b2740d0cbfa7119915a00a643 (stored 0%)\r\n",
      "updating: sklearn_transforms/.git/objects/1c/ (stored 0%)\r\n",
      "updating: sklearn_transforms/.git/objects/1c/49d4656922fe1182c905339ec7a468e6881d99 (stored 0%)\r\n",
      "updating: sklearn_transforms/.git/objects/54/ (stored 0%)\r\n",
      "updating: sklearn_transforms/.git/objects/54/5d0fb908f733cd9eed69b0004a2dfeb33b5c48 (stored 0%)\r\n",
      "updating: sklearn_transforms/.git/objects/54/a860e717a464beb16bcb21419ab86f8351fbf0 (stored 0%)\r\n",
      "updating: sklearn_transforms/.git/objects/9b/ (stored 0%)\r\n",
      "updating: sklearn_transforms/.git/objects/9b/9fe6ce4d68c31dfc1eb7e923e5c90b0595b24d (stored 0%)\r\n",
      "updating: sklearn_transforms/.git/objects/d7/ (stored 0%)\r\n",
      "updating: sklearn_transforms/.git/objects/d7/cfed1a9cf21930beb933ecafb2e3d4d3a77874 (stored 0%)\r\n",
      "updating: sklearn_transforms/.git/refs/ (stored 0%)\r\n",
      "updating: sklearn_transforms/.git/refs/heads/ (stored 0%)\r\n",
      "updating: sklearn_transforms/.git/refs/heads/master (stored 0%)\r\n",
      "updating: sklearn_transforms/.git/refs/tags/ (stored 0%)\r\n",
      "updating: sklearn_transforms/.git/refs/remotes/ (stored 0%)\r\n",
      "updating: sklearn_transforms/.git/refs/remotes/origin/ (stored 0%)\r\n",
      "updating: sklearn_transforms/.git/refs/remotes/origin/HEAD (stored 0%)\r\n",
      "updating: sklearn_transforms/my_custom_sklearn_transforms/ (stored 0%)\r\n",
      "updating: sklearn_transforms/my_custom_sklearn_transforms/sklearn_transformers.py (deflated 60%)\r\n",
      "updating: sklearn_transforms/my_custom_sklearn_transforms/__init__.py (stored 0%)\r\n",
      "updating: sklearn_transforms/my_custom_sklearn_transforms.egg-info/ (stored 0%)\r\n",
      "updating: sklearn_transforms/my_custom_sklearn_transforms.egg-info/not-zip-safe (stored 0%)\r\n",
      "updating: sklearn_transforms/my_custom_sklearn_transforms.egg-info/top_level.txt (stored 0%)\r\n",
      "updating: sklearn_transforms/my_custom_sklearn_transforms.egg-info/dependency_links.txt (stored 0%)\r\n",
      "updating: sklearn_transforms/my_custom_sklearn_transforms.egg-info/PKG-INFO (deflated 33%)\r\n",
      "updating: sklearn_transforms/my_custom_sklearn_transforms.egg-info/SOURCES.txt (deflated 48%)\r\n",
      "updating: sklearn_transforms/PKG-INFO (deflated 31%)\r\n",
      "updating: sklearn_transforms/setup.cfg (deflated 16%)\r\n"
     ]
    }
   ],
   "source": [
    "!zip -r sklearn_transforms.zip sklearn_transforms"
   ]
  },
  {
   "cell_type": "code",
   "execution_count": 10,
   "metadata": {
    "ExecuteTime": {
     "end_time": "2020-08-22T00:47:29.620777Z",
     "start_time": "2020-08-22T00:47:29.505830Z"
    }
   },
   "outputs": [
    {
     "name": "stdout",
     "output_type": "stream",
     "text": [
      "1st Submission.ipynb\t\t parte-2.ipynb\r\n",
      "catboost_info\t\t\t pycaret.ipynb\r\n",
      "fastai.ipynb\t\t\t sklearn_transforms\r\n",
      "Feature Engineering-Copy1.ipynb  sklearn_transforms.zip\r\n",
      "Feature Engineering.ipynb\t Tunning LGBM.ipynb\r\n",
      "logs.log\t\t\t Tunning XGBoost + Ft Eng.ipynb\r\n",
      "parte-1.ipynb\r\n"
     ]
    }
   ],
   "source": [
    "!ls"
   ]
  },
  {
   "cell_type": "markdown",
   "metadata": {},
   "source": [
    "##### Agora podemos instalar nossa bilioteca e importá-la!"
   ]
  },
  {
   "cell_type": "code",
   "execution_count": 11,
   "metadata": {
    "ExecuteTime": {
     "end_time": "2020-08-22T00:47:32.898282Z",
     "start_time": "2020-08-22T00:47:29.622771Z"
    }
   },
   "outputs": [
    {
     "name": "stdout",
     "output_type": "stream",
     "text": [
      "Processing ./sklearn_transforms.zip\n",
      "Building wheels for collected packages: my-custom-sklearn-transforms\n",
      "  Building wheel for my-custom-sklearn-transforms (setup.py) ... \u001b[?25ldone\n",
      "\u001b[?25h  Created wheel for my-custom-sklearn-transforms: filename=my_custom_sklearn_transforms-1.0-py3-none-any.whl size=2222 sha256=85305e9b8e00133f822b11ccd9492b77e69ee01d0c03a9cde0349f829a757422\n",
      "  Stored in directory: /tmp/pip-ephem-wheel-cache-4trkkl3u/wheels/b9/90/07/52d6becfa1d68c0bb6d447d451f79c3f428aa1a18167f90dbb\n",
      "Successfully built my-custom-sklearn-transforms\n",
      "Installing collected packages: my-custom-sklearn-transforms\n",
      "  Attempting uninstall: my-custom-sklearn-transforms\n",
      "    Found existing installation: my-custom-sklearn-transforms 1.0\n",
      "    Uninstalling my-custom-sklearn-transforms-1.0:\n",
      "      Successfully uninstalled my-custom-sklearn-transforms-1.0\n",
      "Successfully installed my-custom-sklearn-transforms-1.0\n"
     ]
    }
   ],
   "source": [
    "!pip install sklearn_transforms.zip"
   ]
  },
  {
   "cell_type": "code",
   "execution_count": 12,
   "metadata": {
    "ExecuteTime": {
     "end_time": "2020-08-22T00:47:32.915635Z",
     "start_time": "2020-08-22T00:47:32.903369Z"
    }
   },
   "outputs": [],
   "source": [
    "from my_custom_sklearn_transforms.sklearn_transformers import DropColumns, AddFeatures"
   ]
  },
  {
   "cell_type": "markdown",
   "metadata": {},
   "source": [
    "#### Declarando a Pipeline\n",
    "\n",
    "Após a importação das transformações personalizadas como um pacote Python, podemos partir para a declaração da nossa Pipeline.\n",
    "\n",
    "O processo é bem semelhante ao realizado na primeira etapa, porém com algumas diferenças importantes, então preste bem atenção!\n",
    "\n",
    "A Pipeline exemplo possui três estágios: \n",
    "\n",
    "    - remover a coluna \"NOME\"\n",
    "    - imputar \"zeros\" em todos os valores faltantes\n",
    "    - inserir os dados pré-processados como entrada em um modelo treinado\n",
    "    \n",
    "Relembrando, a entrada desta Pipeline será o conjunto cru de dados fornecido exceto a coluna \"LABELS\" (variável-alvo a ser determinada pelo modelo).\n",
    "\n",
    "Teremos então 17 valores de entrada **na PIPELINE** (no modelo serão 16 entradas, pois a coluna NAME será removida no primeiro estágio após a transformação DropColumn).\n",
    "\n",
    "    MATRICULA       - número de quatro algarismos único para cada estudante\n",
    "    NOME            - nome completo do estudante\n",
    "    FALTAS_DE       - número de faltas na disciplina de ``Direito Empresarial``\n",
    "    FALTAS_EM       - número de faltas na disciplina de ``Empreendedorismo``\n",
    "    FALTAS_MF       - número de faltas na disciplina de ``Matemática Financeira``\n",
    "    MEDIA_DE        - média simples das notas do aluno na disciplina de ``Direito Empresarial`` (0-10)\n",
    "    MEDIA_EM        - média simples das notas do aluno na disciplina de ``Empreendedorismo`` (0-10)\n",
    "    MEDIA_MF        - média simples das notas do aluno na disciplina de ``Matemática Financeira`` (0-10)\n",
    "    HRS_ESTUDO_DE   - horas de estudo particular na disciplina de ``Direito Empresarial``\n",
    "    HRS_ESTUDO_EM   - horas de estudo particular na disciplina de ``Empreendedorismo``\n",
    "    HRS_ESTUDO_MF   - horas de estudo particular na disciplina de ``Matemática Financeira``\n",
    "    REPROVACOES_DE  - número de reprovações na disciplina de ``Direito Empresarial``\n",
    "    REPROVACOES_EM  - número de reprovações na disciplina de ``Empreendedorismo``\n",
    "    REPROVACOES_MF  - número de reprovações na disciplina de ``Matemática Financeira``\n",
    "    LIVROS_TEXTO    - quantidade de livros e textos acessados pelo aluno no sistema da universidade\n",
    "    AULAS_AO_VIVO   - horas de aulas ao vivo presenciadas pelo aluno (total em todas as disciplinas)\n",
    "    EXERCICIOS      - número de exercícios realizados pelo estudante (total em todas as disciplinas) no sistema da universidade\n",
    "\n",
    "A saída da Pipeline será um valor estimado para a coluna \"LABELS\"."
   ]
  },
  {
   "cell_type": "code",
   "execution_count": 13,
   "metadata": {
    "ExecuteTime": {
     "end_time": "2020-08-22T00:47:32.947266Z",
     "start_time": "2020-08-22T00:47:32.921964Z"
    }
   },
   "outputs": [],
   "source": [
    "# Definição das colunas que serão features (nota-se que a coluna NOME não está presente)\n",
    "features = [\n",
    "    \"MATRICULA\", \"NOME\", 'REPROVACOES_DE', 'REPROVACOES_EM', \"REPROVACOES_MF\", \"REPROVACOES_GO\",\n",
    "    \"NOTA_DE\", \"NOTA_EM\", \"NOTA_MF\", \"NOTA_GO\",\n",
    "    \"INGLES\", \"H_AULA_PRES\", \"TAREFAS_ONLINE\", \"FALTAS\", \n",
    "]\n",
    "\n",
    "# Definição da variável-alvo\n",
    "target = [\"PERFIL\"]\n",
    "\n",
    "# Preparação dos argumentos para os métodos da biblioteca ``scikit-learn``\n",
    "X = df_data_1[features]\n",
    "y = df_data_1[target]"
   ]
  },
  {
   "cell_type": "markdown",
   "metadata": {},
   "source": [
    "**ATENÇÃO!!**\n",
    "\n",
    "A célula acima, embora muito parecida com a definição de features na primeira etapa deste desafio, possui uma grande diferença!\n",
    "\n",
    "Nela está presente a coluna \"NOME\" como uma feature! Isso ocorre pois neste caso essas são as entradas da *PIPELINE*, e não do modelo."
   ]
  },
  {
   "cell_type": "code",
   "execution_count": 14,
   "metadata": {
    "ExecuteTime": {
     "end_time": "2020-08-22T00:47:32.974762Z",
     "start_time": "2020-08-22T00:47:32.952551Z"
    }
   },
   "outputs": [],
   "source": [
    "# Separação dos dados em um conjunto de treino e um conjunto de teste\n",
    "X_train, X_test, y_train, y_test = train_test_split(X, y, test_size=0.3, random_state=337)"
   ]
  },
  {
   "cell_type": "markdown",
   "metadata": {},
   "source": [
    "Na célula abaixo é realizada a declaração de um objeto **Pipeline** do scikit-learn, onde é declarado o parâmetro *steps*, que nada mais é do que uma lista com as etapas da nossa pipeline:\n",
    "\n",
    "    'remove_cols'     - transformação personalizada DropColumns\n",
    "    'imputer'         - transformação embutida do scikit-learn para imputação de valores faltantes\n",
    "    'dtc'             - um classificador via árvore de decisão\n",
    "    \n",
    "Note que passamos como passos as transformadas instanciadas anteriormente, sob nome `rm_columns` e `si`."
   ]
  },
  {
   "cell_type": "code",
   "execution_count": 15,
   "metadata": {
    "ExecuteTime": {
     "end_time": "2020-08-22T00:47:33.002483Z",
     "start_time": "2020-08-22T00:47:32.980623Z"
    }
   },
   "outputs": [
    {
     "name": "stdout",
     "output_type": "stream",
     "text": [
      "<class 'pandas.core.frame.DataFrame'>\n",
      "RangeIndex: 20000 entries, 0 to 19999\n",
      "Data columns (total 14 columns):\n",
      " #   Column          Non-Null Count  Dtype  \n",
      "---  ------          --------------  -----  \n",
      " 0   MATRICULA       20000 non-null  int64  \n",
      " 1   NOME            20000 non-null  object \n",
      " 2   REPROVACOES_DE  20000 non-null  int64  \n",
      " 3   REPROVACOES_EM  20000 non-null  int64  \n",
      " 4   REPROVACOES_MF  20000 non-null  int64  \n",
      " 5   REPROVACOES_GO  20000 non-null  int64  \n",
      " 6   NOTA_DE         20000 non-null  float64\n",
      " 7   NOTA_EM         20000 non-null  float64\n",
      " 8   NOTA_MF         20000 non-null  float64\n",
      " 9   NOTA_GO         16284 non-null  float64\n",
      " 10  INGLES          16372 non-null  float64\n",
      " 11  H_AULA_PRES     20000 non-null  int64  \n",
      " 12  TAREFAS_ONLINE  20000 non-null  int64  \n",
      " 13  FALTAS          20000 non-null  int64  \n",
      "dtypes: float64(5), int64(8), object(1)\n",
      "memory usage: 2.1+ MB\n"
     ]
    }
   ],
   "source": [
    "X.info()"
   ]
  },
  {
   "cell_type": "code",
   "execution_count": 16,
   "metadata": {
    "ExecuteTime": {
     "end_time": "2020-08-22T00:47:33.011007Z",
     "start_time": "2020-08-22T00:47:33.005768Z"
    }
   },
   "outputs": [
    {
     "name": "stdout",
     "output_type": "stream",
     "text": [
      "train size:  14000\n",
      "train size:  6000\n"
     ]
    }
   ],
   "source": [
    "print(\"train size: \", len(X_train))\n",
    "print(\"train size: \",len(X_test))"
   ]
  },
  {
   "cell_type": "markdown",
   "metadata": {},
   "source": [
    "### LGBM sem tunning"
   ]
  },
  {
   "cell_type": "code",
   "execution_count": 17,
   "metadata": {
    "ExecuteTime": {
     "end_time": "2020-08-22T00:47:33.047601Z",
     "start_time": "2020-08-22T00:47:33.014686Z"
    }
   },
   "outputs": [
    {
     "data": {
      "text/html": [
       "<div>\n",
       "<style scoped>\n",
       "    .dataframe tbody tr th:only-of-type {\n",
       "        vertical-align: middle;\n",
       "    }\n",
       "\n",
       "    .dataframe tbody tr th {\n",
       "        vertical-align: top;\n",
       "    }\n",
       "\n",
       "    .dataframe thead th {\n",
       "        text-align: right;\n",
       "    }\n",
       "</style>\n",
       "<table border=\"1\" class=\"dataframe\">\n",
       "  <thead>\n",
       "    <tr style=\"text-align: right;\">\n",
       "      <th></th>\n",
       "      <th>MATRICULA</th>\n",
       "      <th>NOME</th>\n",
       "      <th>REPROVACOES_DE</th>\n",
       "      <th>REPROVACOES_EM</th>\n",
       "      <th>REPROVACOES_MF</th>\n",
       "      <th>REPROVACOES_GO</th>\n",
       "      <th>NOTA_DE</th>\n",
       "      <th>NOTA_EM</th>\n",
       "      <th>NOTA_MF</th>\n",
       "      <th>NOTA_GO</th>\n",
       "      <th>INGLES</th>\n",
       "      <th>H_AULA_PRES</th>\n",
       "      <th>TAREFAS_ONLINE</th>\n",
       "      <th>FALTAS</th>\n",
       "    </tr>\n",
       "  </thead>\n",
       "  <tbody>\n",
       "    <tr>\n",
       "      <th>15979</th>\n",
       "      <td>373711</td>\n",
       "      <td>Giuseppe Mineiro Júnior</td>\n",
       "      <td>0</td>\n",
       "      <td>0</td>\n",
       "      <td>0</td>\n",
       "      <td>0</td>\n",
       "      <td>5.6</td>\n",
       "      <td>5.3</td>\n",
       "      <td>5.5</td>\n",
       "      <td>NaN</td>\n",
       "      <td>NaN</td>\n",
       "      <td>2</td>\n",
       "      <td>3</td>\n",
       "      <td>5</td>\n",
       "    </tr>\n",
       "    <tr>\n",
       "      <th>7847</th>\n",
       "      <td>581227</td>\n",
       "      <td>Alana Evelyn Maciel</td>\n",
       "      <td>1</td>\n",
       "      <td>1</td>\n",
       "      <td>1</td>\n",
       "      <td>1</td>\n",
       "      <td>0.0</td>\n",
       "      <td>0.0</td>\n",
       "      <td>0.0</td>\n",
       "      <td>0.0</td>\n",
       "      <td>1.0</td>\n",
       "      <td>3</td>\n",
       "      <td>2</td>\n",
       "      <td>3</td>\n",
       "    </tr>\n",
       "    <tr>\n",
       "      <th>16536</th>\n",
       "      <td>663504</td>\n",
       "      <td>André Ushizuwo</td>\n",
       "      <td>0</td>\n",
       "      <td>0</td>\n",
       "      <td>0</td>\n",
       "      <td>0</td>\n",
       "      <td>4.5</td>\n",
       "      <td>5.6</td>\n",
       "      <td>5.2</td>\n",
       "      <td>4.8</td>\n",
       "      <td>1.0</td>\n",
       "      <td>4</td>\n",
       "      <td>1</td>\n",
       "      <td>6</td>\n",
       "    </tr>\n",
       "    <tr>\n",
       "      <th>8589</th>\n",
       "      <td>647585</td>\n",
       "      <td>Bárbara Érica do Rio</td>\n",
       "      <td>0</td>\n",
       "      <td>0</td>\n",
       "      <td>0</td>\n",
       "      <td>0</td>\n",
       "      <td>6.1</td>\n",
       "      <td>4.7</td>\n",
       "      <td>4.5</td>\n",
       "      <td>5.6</td>\n",
       "      <td>NaN</td>\n",
       "      <td>6</td>\n",
       "      <td>5</td>\n",
       "      <td>3</td>\n",
       "    </tr>\n",
       "    <tr>\n",
       "      <th>19964</th>\n",
       "      <td>812616</td>\n",
       "      <td>Breno Kauê de Castro Vunonucru</td>\n",
       "      <td>0</td>\n",
       "      <td>0</td>\n",
       "      <td>0</td>\n",
       "      <td>0</td>\n",
       "      <td>6.5</td>\n",
       "      <td>6.2</td>\n",
       "      <td>6.5</td>\n",
       "      <td>NaN</td>\n",
       "      <td>1.0</td>\n",
       "      <td>5</td>\n",
       "      <td>2</td>\n",
       "      <td>3</td>\n",
       "    </tr>\n",
       "  </tbody>\n",
       "</table>\n",
       "</div>"
      ],
      "text/plain": [
       "       MATRICULA                            NOME  REPROVACOES_DE  \\\n",
       "15979     373711         Giuseppe Mineiro Júnior               0   \n",
       "7847      581227             Alana Evelyn Maciel               1   \n",
       "16536     663504                  André Ushizuwo               0   \n",
       "8589      647585            Bárbara Érica do Rio               0   \n",
       "19964     812616  Breno Kauê de Castro Vunonucru               0   \n",
       "\n",
       "       REPROVACOES_EM  REPROVACOES_MF  REPROVACOES_GO  NOTA_DE  NOTA_EM  \\\n",
       "15979               0               0               0      5.6      5.3   \n",
       "7847                1               1               1      0.0      0.0   \n",
       "16536               0               0               0      4.5      5.6   \n",
       "8589                0               0               0      6.1      4.7   \n",
       "19964               0               0               0      6.5      6.2   \n",
       "\n",
       "       NOTA_MF  NOTA_GO  INGLES  H_AULA_PRES  TAREFAS_ONLINE  FALTAS  \n",
       "15979      5.5      NaN     NaN            2               3       5  \n",
       "7847       0.0      0.0     1.0            3               2       3  \n",
       "16536      5.2      4.8     1.0            4               1       6  \n",
       "8589       4.5      5.6     NaN            6               5       3  \n",
       "19964      6.5      NaN     1.0            5               2       3  "
      ]
     },
     "execution_count": 17,
     "metadata": {},
     "output_type": "execute_result"
    }
   ],
   "source": [
    "X_train.head()"
   ]
  },
  {
   "cell_type": "code",
   "execution_count": 18,
   "metadata": {
    "ExecuteTime": {
     "end_time": "2020-08-22T00:47:34.073564Z",
     "start_time": "2020-08-22T00:47:33.050381Z"
    }
   },
   "outputs": [
    {
     "ename": "NameError",
     "evalue": "name 'clf' is not defined",
     "output_type": "error",
     "traceback": [
      "\u001b[0;31m---------------------------------------------------------------------------\u001b[0m",
      "\u001b[0;31mNameError\u001b[0m                                 Traceback (most recent call last)",
      "\u001b[0;32m<ipython-input-18-faec7f20ff6b>\u001b[0m in \u001b[0;36m<module>\u001b[0;34m\u001b[0m\n\u001b[1;32m     27\u001b[0m \u001b[0;31m# clf = RandomForestClassifier()\u001b[0m\u001b[0;34m\u001b[0m\u001b[0;34m\u001b[0m\u001b[0;34m\u001b[0m\u001b[0m\n\u001b[1;32m     28\u001b[0m \u001b[0;34m\u001b[0m\u001b[0m\n\u001b[0;32m---> 29\u001b[0;31m \u001b[0mclf\u001b[0m\u001b[0;34m.\u001b[0m\u001b[0mset_params\u001b[0m\u001b[0;34m(\u001b[0m\u001b[0;34m**\u001b[0m\u001b[0mbest_params\u001b[0m\u001b[0;34m)\u001b[0m\u001b[0;34m\u001b[0m\u001b[0;34m\u001b[0m\u001b[0m\n\u001b[0m\u001b[1;32m     30\u001b[0m \u001b[0;34m\u001b[0m\u001b[0m\n\u001b[1;32m     31\u001b[0m pipeline = Pipeline(\n",
      "\u001b[0;31mNameError\u001b[0m: name 'clf' is not defined"
     ]
    }
   ],
   "source": [
    "# Criação de uma Transform personalizada ``DropColumns``\n",
    "\n",
    "rm_columns = DropColumns(\n",
    "    columns=[\"NOME\"]\n",
    ")\n",
    "\n",
    "# Criação de um objeto ``SimpleImputer``\n",
    "\n",
    "si = SimpleImputer(\n",
    "    missing_values=np.nan,  # os valores faltantes são do tipo ``np.nan`` (padrão Pandas)\n",
    "    strategy='constant',  # a estratégia escolhida é a alteração do valor faltante por uma constante\n",
    "    fill_value=-99999,  # a constante que será usada para preenchimento dos valores faltantes é um int64=0.\n",
    "#     strategy = \"most_frequent\",\n",
    "    verbose=0,\n",
    "    copy=True\n",
    ")\n",
    "\n",
    "# já tunados previamente por CV\n",
    "best_params = {'num_leaves': 16,\n",
    " 'learning_rate': 0.04255941370614545,\n",
    " 'min_child_samples': 55,\n",
    " 'subsample': 0.048101030476692466,\n",
    " 'colsample_bytree': 0.6439559798028359}\n",
    "\n",
    "# clf = lgbm.LGBMClassifier(random_state=42)\n",
    "# clf = XGBClassifier()\n",
    "# clf = RandomForestClassifier()\n",
    "\n",
    "clf.set_params(**best_params)\n",
    "\n",
    "pipeline = Pipeline(\n",
    "    steps=[\n",
    "        ('remove_cols', rm_columns),\n",
    "#         ('add_features', AddFeatures()),\n",
    "        ('imputer', si),\n",
    "        ('clf', clf),\n",
    "    ]\n",
    ")\n",
    "\n",
    "# Inicialização da Pipeline (pré-processamento e realização do treinamento do modelo)\n",
    "pipeline.fit(X_train, y_train.values.ravel())\n",
    "\n",
    "# Realização de teste cego no modelo criado\n",
    "from sklearn.metrics import accuracy_score\n",
    "\n",
    "# Acurácia alcançada pela árvore de decisão\n",
    "y_pred = pipeline.predict(X_test)\n",
    "print(\"Acurácia: {}%\".format(100*round(accuracy_score(y_test, y_pred), 4)))"
   ]
  },
  {
   "cell_type": "code",
   "execution_count": null,
   "metadata": {
    "ExecuteTime": {
     "end_time": "2020-08-22T00:47:34.174713Z",
     "start_time": "2020-08-22T00:47:34.075683Z"
    }
   },
   "outputs": [],
   "source": [
    "from sklearn.metrics import classification_report\n",
    "\n",
    "print(classification_report(y_test, y_pred))"
   ]
  },
  {
   "cell_type": "markdown",
   "metadata": {},
   "source": [
    "### Cross Validation"
   ]
  },
  {
   "cell_type": "code",
   "execution_count": null,
   "metadata": {
    "ExecuteTime": {
     "end_time": "2020-08-22T00:47:36.286905Z",
     "start_time": "2020-08-22T00:47:34.949079Z"
    }
   },
   "outputs": [],
   "source": [
    "cv_pipeline = Pipeline(\n",
    "    steps=[\n",
    "        ('remove_cols', rm_columns),\n",
    "        ('add_features', AddFeatures()),\n",
    "        ('imputer', si),\n",
    "        ('clf', lgbm.LGBMClassifier(**best_params)),\n",
    "    ]\n",
    ")\n",
    "\n",
    "np.mean(cross_val_score(cv_pipeline, X, y, cv=3, n_jobs=1, scoring=\"accuracy\"))"
   ]
  },
  {
   "cell_type": "markdown",
   "metadata": {},
   "source": [
    "### Encapsulando uma Pipeline personalizada no Watson Machine Learning"
   ]
  },
  {
   "cell_type": "markdown",
   "metadata": {},
   "source": [
    "#### Estabelecendo conexão entre o cliente Python do WML e a sua instância do serviço na nuvem"
   ]
  },
  {
   "cell_type": "code",
   "execution_count": null,
   "metadata": {
    "ExecuteTime": {
     "end_time": "2020-08-22T00:47:36.291521Z",
     "start_time": "2020-08-22T00:47:36.288962Z"
    }
   },
   "outputs": [],
   "source": [
    "# !pip install watson_machine_learning_client"
   ]
  },
  {
   "cell_type": "code",
   "execution_count": null,
   "metadata": {
    "ExecuteTime": {
     "end_time": "2020-08-22T00:47:36.313812Z",
     "start_time": "2020-08-22T00:47:36.293384Z"
    }
   },
   "outputs": [],
   "source": [
    "# !pip install pyspark"
   ]
  },
  {
   "cell_type": "code",
   "execution_count": null,
   "metadata": {
    "ExecuteTime": {
     "end_time": "2020-08-22T00:47:36.329884Z",
     "start_time": "2020-08-22T00:47:36.315303Z"
    }
   },
   "outputs": [],
   "source": [
    "# import joblib"
   ]
  },
  {
   "cell_type": "code",
   "execution_count": null,
   "metadata": {
    "ExecuteTime": {
     "end_time": "2020-08-22T00:47:50.653450Z",
     "start_time": "2020-08-22T00:47:36.331538Z"
    }
   },
   "outputs": [],
   "source": [
    "# Biblioteca Python com implementação de um cliente HTTP para a API do WML\n",
    "from watson_machine_learning_client import WatsonMachineLearningAPIClient"
   ]
  },
  {
   "cell_type": "markdown",
   "metadata": {},
   "source": [
    "As próximas células irão realizar o deploy da pipeline declarada neste notebook no WML. Só prossiga se você já está satisfeito com seu modelo e acha que já é a hora de fazer o deploy da sua solução.\n",
    "\n",
    "Cole as credenciais de sua instância do Watson Machine Learning na variável na célula abaixo.\n",
    "\n",
    "É importante que a variável que contém os valores tenha o nome de ``wml_credentials`` para que as próximas células deste notebook executem corretamente."
   ]
  },
  {
   "cell_type": "code",
   "execution_count": null,
   "metadata": {
    "ExecuteTime": {
     "end_time": "2020-08-22T00:48:35.994033Z",
     "start_time": "2020-08-22T00:48:35.974730Z"
    }
   },
   "outputs": [],
   "source": [
    "wml_credentials = {\n",
    "  \"apikey\": \"gbh6pGJCkZi3v2f4KioL5F1nzEsOgVeMWQ6xJGUxR6Lk\",\n",
    "  \"iam_apikey_description\": \"Auto-generated for key 9a39090a-4f8c-4e33-84fa-a95563f8ed94\",\n",
    "  \"iam_apikey_name\": \"Service credentials-1\",\n",
    "  \"iam_role_crn\": \"crn:v1:bluemix:public:iam::::serviceRole:Writer\",\n",
    "  \"iam_serviceid_crn\": \"crn:v1:bluemix:public:iam-identity::a/552ebdafcabd49bb8fac0272e72b3d7d::serviceid:ServiceId-8e6bfd2c-d190-4858-bfe3-023f5f782f4c\",\n",
    "  \"instance_id\": \"3e0edd1b-a9ab-4a75-9ee3-53568a566e37\",\n",
    "  \"url\": \"https://us-south.ml.cloud.ibm.com\"\n",
    "}"
   ]
  },
  {
   "cell_type": "code",
   "execution_count": null,
   "metadata": {
    "ExecuteTime": {
     "end_time": "2020-08-22T00:48:39.108788Z",
     "start_time": "2020-08-22T00:48:36.763239Z"
    }
   },
   "outputs": [],
   "source": [
    "# Instanciando um objeto cliente do Watson Machine Learning a partir das credenciais fornecidas\n",
    "clientWML = WatsonMachineLearningAPIClient(wml_credentials)"
   ]
  },
  {
   "cell_type": "code",
   "execution_count": null,
   "metadata": {
    "ExecuteTime": {
     "end_time": "2020-08-22T00:48:41.751464Z",
     "start_time": "2020-08-22T00:48:40.890412Z"
    }
   },
   "outputs": [],
   "source": [
    "# Extraindo detalhes da sua instância do Watson Machine Learning\n",
    "\n",
    "instance_details = clientWML.service_instance.get_details()\n",
    "print(json.dumps(instance_details, indent=4))"
   ]
  },
  {
   "cell_type": "markdown",
   "metadata": {},
   "source": [
    "**ATENÇÃO!!**\n",
    "\n",
    "Fique atento para os limites de consumo de sua instância do Watson Machine Learning!\n",
    "\n",
    "Caso você expire a camada grátis, não será possível avaliar seu modelo (pois é necessária a realização de algumas chamadas de API que consomem predições!)"
   ]
  },
  {
   "cell_type": "markdown",
   "metadata": {},
   "source": [
    "#### Listando todos os artefatos armazenados no seu WML"
   ]
  },
  {
   "cell_type": "markdown",
   "metadata": {},
   "source": [
    "Para listar todos os artefatos armazenados em seu Watson Machine Learning, você pode usar a seguinte função:\n",
    "\n",
    "    clientWML.repository.list()"
   ]
  },
  {
   "cell_type": "code",
   "execution_count": null,
   "metadata": {
    "ExecuteTime": {
     "end_time": "2020-08-22T00:48:54.581086Z",
     "start_time": "2020-08-22T00:48:50.752488Z"
    }
   },
   "outputs": [],
   "source": [
    "# Listando todos os artefatos atualmente armazenados na sua instância do WML\n",
    "\n",
    "# artifact_guid = \"0600007f-d06c-4446-b439-6f1c2bcfb685\"\n",
    "# clientWML.repository.delete(artifact_guid)\n",
    "\n",
    "clientWML.repository.list()"
   ]
  },
  {
   "cell_type": "markdown",
   "metadata": {},
   "source": [
    "No plano LITE do Watson Machine Learning só é permitido o deploy de um único modelo por vez. Se for o caso de você já possuir um modelo online na sua instância, você pode apagá-lo utilizando o método clientWML.repository.delete():\n",
    "\n",
    "    artifact_guid = \"359c8951-d2fe-4063-8706-cc06b32d5e0d\"\n",
    "    clientWML.repository.delete(artifact_guid)"
   ]
  },
  {
   "cell_type": "markdown",
   "metadata": {},
   "source": [
    "#### Criando uma nova definição de pacote Python personalizado no WML"
   ]
  },
  {
   "cell_type": "markdown",
   "metadata": {},
   "source": [
    "O primeiro passo para realizar seu deploy é armazenar o código das transformações personalizadas criadas por você.\n",
    "\n",
    "Para essa etapa precisamos apenas do arquivo .zip do pacote criado (que já possuimos carregado no Kernel!)"
   ]
  },
  {
   "cell_type": "code",
   "execution_count": null,
   "metadata": {
    "ExecuteTime": {
     "end_time": "2020-08-22T00:49:08.424893Z",
     "start_time": "2020-08-22T00:49:08.288832Z"
    }
   },
   "outputs": [],
   "source": [
    "!ls"
   ]
  },
  {
   "cell_type": "code",
   "execution_count": null,
   "metadata": {
    "ExecuteTime": {
     "end_time": "2020-08-22T00:49:31.755556Z",
     "start_time": "2020-08-22T00:49:25.815587Z"
    }
   },
   "outputs": [],
   "source": [
    "# Definição de metadados do nosso pacote com as Transforms personalizadas\n",
    "pkg_meta = {\n",
    "    clientWML.runtimes.LibraryMetaNames.NAME: \"my_custom_sklearn_transform_1\",\n",
    "    clientWML.runtimes.LibraryMetaNames.DESCRIPTION: \"A custom sklearn transform\",\n",
    "    clientWML.runtimes.LibraryMetaNames.FILEPATH: \"sklearn_transforms.zip\",  # Note que estamos utilizando o .zip criado anteriormente!\n",
    "    clientWML.runtimes.LibraryMetaNames.VERSION: \"1.0\",\n",
    "    clientWML.runtimes.LibraryMetaNames.PLATFORM: { \"name\": \"python\", \"versions\": [\"3.6\"] }\n",
    "}\n",
    "custom_package_details = clientWML.runtimes.store_library( pkg_meta )\n",
    "custom_package_uid = clientWML.runtimes.get_library_uid( custom_package_details )\n",
    "\n"
   ]
  },
  {
   "cell_type": "code",
   "execution_count": null,
   "metadata": {
    "ExecuteTime": {
     "end_time": "2020-08-22T00:49:34.223600Z",
     "start_time": "2020-08-22T00:49:31.761915Z"
    }
   },
   "outputs": [],
   "source": [
    "print(\"\\n Lista de artefatos de runtime armazenados no WML:\")\n",
    "clientWML.repository.list()"
   ]
  },
  {
   "cell_type": "markdown",
   "metadata": {},
   "source": [
    "#### Criando uma nova definição de runtime Python personalizado no WML\n",
    "\n",
    "O segundo passo é armazenar uma definição de runtime Python para utilizar a nossa biblioteca personalizada.\n",
    "\n",
    "Isso pode ser feito da seguinte forma:"
   ]
  },
  {
   "cell_type": "code",
   "execution_count": null,
   "metadata": {
    "ExecuteTime": {
     "end_time": "2020-08-22T00:50:47.027753Z",
     "start_time": "2020-08-22T00:50:46.859056Z"
    }
   },
   "outputs": [],
   "source": [
    "!python --version"
   ]
  },
  {
   "cell_type": "code",
   "execution_count": null,
   "metadata": {
    "ExecuteTime": {
     "end_time": "2020-08-22T00:50:53.228006Z",
     "start_time": "2020-08-22T00:50:50.067876Z"
    }
   },
   "outputs": [],
   "source": [
    "runtime_meta = {\n",
    "    clientWML.runtimes.ConfigurationMetaNames.NAME: \"my_custom_wml_runtime_1\",\n",
    "    clientWML.runtimes.ConfigurationMetaNames.DESCRIPTION: \"A Python runtime with custom sklearn Transforms\",\n",
    "    clientWML.runtimes.ConfigurationMetaNames.PLATFORM: {\n",
    "        \"name\": \"python\",\n",
    "        \"version\": \"3.6\"\n",
    "    },\n",
    "    clientWML.runtimes.ConfigurationMetaNames.LIBRARIES_UIDS: [ custom_package_uid ]\n",
    "}\n",
    "runtime_details = clientWML.runtimes.store( runtime_meta )\n",
    "custom_runtime_uid = clientWML.runtimes.get_uid( runtime_details )\n",
    "\n",
    "print(\"\\n Detalhes do runtime armazenado:\")\n",
    "print(json.dumps(runtime_details, indent=4))"
   ]
  },
  {
   "cell_type": "code",
   "execution_count": null,
   "metadata": {
    "ExecuteTime": {
     "end_time": "2020-08-22T00:56:31.447241Z",
     "start_time": "2020-08-22T00:56:30.380736Z"
    }
   },
   "outputs": [],
   "source": [
    "custom_runtime_uid = \"85771af1-2444-469a-b050-d4b169a6f282\"\n",
    "clientWML.runtimes.get_details(custom_runtime_uid)"
   ]
  },
  {
   "cell_type": "code",
   "execution_count": null,
   "metadata": {
    "ExecuteTime": {
     "end_time": "2020-08-22T00:55:56.336134Z",
     "start_time": "2020-08-22T00:55:56.324035Z"
    }
   },
   "outputs": [],
   "source": [
    "# Listando todos runtimes armazenados no seu WML:\n",
    "# help(clientWML.runtimes.list)"
   ]
  },
  {
   "cell_type": "markdown",
   "metadata": {},
   "source": [
    "d6fe4db0-4f89-41dd-a8e1-460b4adbdc1a could not be found.\""
   ]
  },
  {
   "cell_type": "markdown",
   "metadata": {},
   "source": [
    "#### Criando uma nova definição de Pipeline personalizada no WML\n",
    "\n",
    "Finalmente iremos criar uma definição (metadados) para a nossa Pipeline ser hospedada no WML.\n",
    "\n",
    "Definimos como parâmetros um nome para o artefato e o ID do runtime criado anteriormente."
   ]
  },
  {
   "cell_type": "code",
   "execution_count": null,
   "metadata": {
    "ExecuteTime": {
     "end_time": "2020-08-22T00:56:54.306531Z",
     "start_time": "2020-08-22T00:56:54.303408Z"
    }
   },
   "outputs": [],
   "source": [
    "model_meta = {\n",
    "    clientWML.repository.ModelMetaNames.NAME: 'desafio-2-mbtc2020-pipeline-1',\n",
    "    clientWML.repository.ModelMetaNames.DESCRIPTION: \"my pipeline for submission\",\n",
    "    clientWML.repository.ModelMetaNames.RUNTIME_UID: custom_runtime_uid\n",
    "}"
   ]
  },
  {
   "cell_type": "markdown",
   "metadata": {},
   "source": [
    "Em seguida chamamos o método para armazenar a nova definição:"
   ]
  },
  {
   "cell_type": "code",
   "execution_count": null,
   "metadata": {
    "ExecuteTime": {
     "end_time": "2020-08-22T00:56:56.127924Z",
     "start_time": "2020-08-22T00:56:56.122237Z"
    }
   },
   "outputs": [],
   "source": [
    "pipeline"
   ]
  },
  {
   "cell_type": "code",
   "execution_count": null,
   "metadata": {
    "ExecuteTime": {
     "end_time": "2020-08-22T00:56:59.317819Z",
     "start_time": "2020-08-22T00:56:56.353558Z"
    }
   },
   "outputs": [],
   "source": [
    "# Função para armazenar uma definição de Pipeline no WML\n",
    "stored_model_details = clientWML.repository.store_model(\n",
    "    model=pipeline,  # `my_pipeline` é a variável criada anteriormente e contém nossa Pipeline já treinada :)\n",
    "    meta_props=model_meta,  # Metadados definidos na célula anterior\n",
    "    training_data=None  # Não altere esse parâmetro\n",
    ")\n"
   ]
  },
  {
   "cell_type": "code",
   "execution_count": null,
   "metadata": {
    "ExecuteTime": {
     "end_time": "2020-08-22T00:34:58.773890Z",
     "start_time": "2020-08-22T00:34:54.089349Z"
    }
   },
   "outputs": [],
   "source": [
    "print(\"\\n Lista de artefatos armazenados no WML:\")\n",
    "clientWML.repository.list()\n",
    "\n",
    "# Detalhes do modelo hospedado no Watson Machine Learning\n",
    "print(\"\\n Metadados do modelo armazenado:\")\n",
    "print(json.dumps(stored_model_details, indent=4))"
   ]
  },
  {
   "cell_type": "markdown",
   "metadata": {},
   "source": [
    "#### Realizando o deployment do seu modelo para consumo imediato por outras aplicações"
   ]
  },
  {
   "cell_type": "code",
   "execution_count": null,
   "metadata": {},
   "outputs": [],
   "source": [
    "# O deployment do modelo é finalmente realizado por meio do método ``deployments.create()``\n",
    "\n",
    "model_deployment_details = clientWML.deployments.create(\n",
    "    artifact_uid=stored_model_details[\"metadata\"][\"guid\"],  # Não altere esse parâmetro\n",
    "    name=\"desafio-2-mbtc2020-deployment-1\",\n",
    "    description=\"Solução do desafio 2 - MBTC\",\n",
    "    asynchronous=False,  # Não altere esse parâmetro\n",
    "    deployment_type='online',  # Não altere esse parâmetro\n",
    "    deployment_format='Core ML',  # Não altere esse parâmetro\n",
    "    meta_props=model_meta  # Não altere esse parâmetro\n",
    ")"
   ]
  },
  {
   "cell_type": "markdown",
   "metadata": {},
   "source": [
    "#### Testando um modelo hospedado no Watson Machine Learning"
   ]
  },
  {
   "cell_type": "code",
   "execution_count": null,
   "metadata": {},
   "outputs": [],
   "source": [
    "# Recuperando a URL endpoint do modelo hospedado na célula anterior\n",
    "\n",
    "model_endpoint_url = clientWML.deployments.get_scoring_url(model_deployment_details)\n",
    "print(\"A URL de chamada da sua API é: {}\".format(model_endpoint_url))"
   ]
  },
  {
   "cell_type": "code",
   "execution_count": null,
   "metadata": {},
   "outputs": [],
   "source": [
    "# Detalhes do deployment realizado\n",
    "\n",
    "deployment_details = clientWML.deployments.get_details(\n",
    "    deployment_uid=model_deployment_details[\"metadata\"][\"guid\"]  # esse é o ID do seu deployment!\n",
    ")\n",
    "\n",
    "print(\"Metadados do deployment realizado: \\n\")\n",
    "print(json.dumps(deployment_details, indent=4))"
   ]
  },
  {
   "cell_type": "code",
   "execution_count": null,
   "metadata": {
    "scrolled": false
   },
   "outputs": [],
   "source": [
    "scoring_payload = {\n",
    "    'fields': [\n",
    "        \"MATRICULA\", \"NOME\", 'REPROVACOES_DE', 'REPROVACOES_EM', \"REPROVACOES_MF\", \"REPROVACOES_GO\",\n",
    "        \"NOTA_DE\", \"NOTA_EM\", \"NOTA_MF\", \"NOTA_GO\",\n",
    "        \"INGLES\", \"H_AULA_PRES\", \"TAREFAS_ONLINE\", \"FALTAS\", \n",
    "    ],\n",
    "    'values': [\n",
    "        [\n",
    "            513949,\"Marli Quésia de Oliveira\",1,1,1,1,4.3,4.0,3.1,4.9,0,3,4,3,\n",
    "        ]\n",
    "    ]\n",
    "}\n",
    "\n",
    "print(\"\\n Payload de dados a ser classificada:\")\n",
    "print(json.dumps(scoring_payload, indent=4))"
   ]
  },
  {
   "cell_type": "code",
   "execution_count": null,
   "metadata": {},
   "outputs": [],
   "source": [
    "result = clientWML.deployments.score(\n",
    "    model_endpoint_url,\n",
    "    scoring_payload\n",
    ")\n",
    "\n",
    "print(\"\\n Resultados:\")\n",
    "print(json.dumps(result, indent=4))"
   ]
  },
  {
   "cell_type": "markdown",
   "metadata": {},
   "source": [
    "<hr>\n",
    "\n",
    "## Parabéns! \n",
    "\n",
    "Se tudo foi executado sem erros, você já tem um classificador baseado em machine learning encapsulado como uma API REST!\n",
    "\n",
    "Para testar a sua solução integrada com um assistente virtual e realizar a submissão, acesse a página:\n",
    "\n",
    "https://uninassau.maratona.dev\n",
    "\n",
    "Você irá precisar da endpoint url do seu modelo e das credenciais do WML :)"
   ]
  },
  {
   "cell_type": "code",
   "execution_count": null,
   "metadata": {},
   "outputs": [],
   "source": []
  }
 ],
 "metadata": {
  "kernelspec": {
   "display_name": "Python (behindcode)",
   "language": "python",
   "name": "behindcode"
  },
  "language_info": {
   "codemirror_mode": {
    "name": "ipython",
    "version": 3
   },
   "file_extension": ".py",
   "mimetype": "text/x-python",
   "name": "python",
   "nbconvert_exporter": "python",
   "pygments_lexer": "ipython3",
   "version": "3.6.10"
  },
  "toc": {
   "base_numbering": 1,
   "nav_menu": {},
   "number_sections": true,
   "sideBar": true,
   "skip_h1_title": false,
   "title_cell": "Table of Contents",
   "title_sidebar": "Contents",
   "toc_cell": false,
   "toc_position": {},
   "toc_section_display": true,
   "toc_window_display": false
  }
 },
 "nbformat": 4,
 "nbformat_minor": 1
}
