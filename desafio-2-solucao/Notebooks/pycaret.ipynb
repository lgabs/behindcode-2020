{
 "cells": [
  {
   "cell_type": "markdown",
   "metadata": {
    "collapsed": true
   },
   "source": [
    "# MARATONA BEHIND THE CODE 2020\n",
    "\n",
    "## DESAFIO 2: PARTE 2"
   ]
  },
  {
   "cell_type": "markdown",
   "metadata": {},
   "source": [
    "### Introdução"
   ]
  },
  {
   "cell_type": "markdown",
   "metadata": {},
   "source": [
    "Na parte 1 deste desafio, você realizou o pré-processamento e o treinamento de um modelo a partir de um conjunto de dados base fornecido. Nesta segunda etapa você irá integrar todas as transformações e eventos de treinamento criados anteriormente em uma Pipeline completa para *deploy* no **Watson Machine Learning**!"
   ]
  },
  {
   "cell_type": "markdown",
   "metadata": {},
   "source": [
    "### Preparação do Notebook"
   ]
  },
  {
   "cell_type": "markdown",
   "metadata": {},
   "source": [
    "Primeiro realizaremos a instalação do scikit-learn e a importação das mesmas bibliotecas utilizadas anteriormente"
   ]
  },
  {
   "cell_type": "code",
   "execution_count": 2,
   "metadata": {
    "ExecuteTime": {
     "end_time": "2020-08-21T14:42:43.252090Z",
     "start_time": "2020-08-21T14:42:43.242779Z"
    }
   },
   "outputs": [],
   "source": [
    "# # Primeiro, realizamos a instalação do scikit-learn versão 0.20.0 no Kernel deste notebook:\n",
    "# !pip install numpy==1.16.4 --upgrade\n",
    "# !pip install pandas==0.24.2 --upgrade\n",
    "# !pip install scikit-learn==0.20.3 --upgrade\n",
    "# !pip install lightgbm\n",
    "# !pip install xgboost\n",
    "# !pip install scikit-optimize\n",
    "# !pip install pycaret"
   ]
  },
  {
   "cell_type": "code",
   "execution_count": 3,
   "metadata": {
    "ExecuteTime": {
     "end_time": "2020-08-21T14:42:47.052239Z",
     "start_time": "2020-08-21T14:42:44.042004Z"
    }
   },
   "outputs": [],
   "source": [
    "import json\n",
    "import requests\n",
    "import pandas as pd\n",
    "import numpy as np\n",
    "from xgboost import XGBClassifier\n",
    "import lightgbm as lgbm\n",
    "\n",
    "from sklearn.impute import SimpleImputer\n",
    "from sklearn.model_selection import train_test_split\n",
    "from sklearn.tree import DecisionTreeClassifier\n",
    "from sklearn.pipeline import Pipeline\n",
    "from sklearn.model_selection import KFold, cross_validate\n",
    "\n",
    "import matplotlib.pyplot as plt\n",
    "\n",
    "from sklearn.model_selection import (\n",
    "    train_test_split,\n",
    "    cross_val_score,\n",
    "    GridSearchCV,\n",
    "    learning_curve,\n",
    ")"
   ]
  },
  {
   "cell_type": "code",
   "execution_count": 4,
   "metadata": {
    "ExecuteTime": {
     "end_time": "2020-08-21T14:42:47.115580Z",
     "start_time": "2020-08-21T14:42:47.054529Z"
    }
   },
   "outputs": [
    {
     "data": {
      "text/html": [
       "<div>\n",
       "<style scoped>\n",
       "    .dataframe tbody tr th:only-of-type {\n",
       "        vertical-align: middle;\n",
       "    }\n",
       "\n",
       "    .dataframe tbody tr th {\n",
       "        vertical-align: top;\n",
       "    }\n",
       "\n",
       "    .dataframe thead th {\n",
       "        text-align: right;\n",
       "    }\n",
       "</style>\n",
       "<table border=\"1\" class=\"dataframe\">\n",
       "  <thead>\n",
       "    <tr style=\"text-align: right;\">\n",
       "      <th></th>\n",
       "      <th>MATRICULA</th>\n",
       "      <th>NOME</th>\n",
       "      <th>REPROVACOES_DE</th>\n",
       "      <th>REPROVACOES_EM</th>\n",
       "      <th>REPROVACOES_MF</th>\n",
       "      <th>REPROVACOES_GO</th>\n",
       "      <th>NOTA_DE</th>\n",
       "      <th>NOTA_EM</th>\n",
       "      <th>NOTA_MF</th>\n",
       "      <th>NOTA_GO</th>\n",
       "      <th>INGLES</th>\n",
       "      <th>H_AULA_PRES</th>\n",
       "      <th>TAREFAS_ONLINE</th>\n",
       "      <th>FALTAS</th>\n",
       "      <th>PERFIL</th>\n",
       "    </tr>\n",
       "  </thead>\n",
       "  <tbody>\n",
       "    <tr>\n",
       "      <th>0</th>\n",
       "      <td>502375</td>\n",
       "      <td>Márcia Illiglener</td>\n",
       "      <td>0</td>\n",
       "      <td>0</td>\n",
       "      <td>0</td>\n",
       "      <td>0</td>\n",
       "      <td>6.2</td>\n",
       "      <td>5.8</td>\n",
       "      <td>4.6</td>\n",
       "      <td>5.9</td>\n",
       "      <td>0.0</td>\n",
       "      <td>2</td>\n",
       "      <td>4</td>\n",
       "      <td>3</td>\n",
       "      <td>EXATAS</td>\n",
       "    </tr>\n",
       "    <tr>\n",
       "      <th>1</th>\n",
       "      <td>397093</td>\n",
       "      <td>Jason Jytereoman Izoimum</td>\n",
       "      <td>0</td>\n",
       "      <td>0</td>\n",
       "      <td>0</td>\n",
       "      <td>0</td>\n",
       "      <td>6.0</td>\n",
       "      <td>6.2</td>\n",
       "      <td>5.2</td>\n",
       "      <td>4.5</td>\n",
       "      <td>1.0</td>\n",
       "      <td>2</td>\n",
       "      <td>4</td>\n",
       "      <td>3</td>\n",
       "      <td>EXATAS</td>\n",
       "    </tr>\n",
       "    <tr>\n",
       "      <th>2</th>\n",
       "      <td>915288</td>\n",
       "      <td>Bartolomeu Inácio da Gama</td>\n",
       "      <td>0</td>\n",
       "      <td>0</td>\n",
       "      <td>0</td>\n",
       "      <td>0</td>\n",
       "      <td>7.3</td>\n",
       "      <td>6.7</td>\n",
       "      <td>7.1</td>\n",
       "      <td>7.2</td>\n",
       "      <td>0.0</td>\n",
       "      <td>5</td>\n",
       "      <td>0</td>\n",
       "      <td>3</td>\n",
       "      <td>HUMANAS</td>\n",
       "    </tr>\n",
       "    <tr>\n",
       "      <th>3</th>\n",
       "      <td>192652</td>\n",
       "      <td>Fernanda Guedes</td>\n",
       "      <td>1</td>\n",
       "      <td>3</td>\n",
       "      <td>1</td>\n",
       "      <td>1</td>\n",
       "      <td>0.0</td>\n",
       "      <td>0.0</td>\n",
       "      <td>0.0</td>\n",
       "      <td>0.0</td>\n",
       "      <td>1.0</td>\n",
       "      <td>4</td>\n",
       "      <td>4</td>\n",
       "      <td>4</td>\n",
       "      <td>DIFICULDADE</td>\n",
       "    </tr>\n",
       "    <tr>\n",
       "      <th>4</th>\n",
       "      <td>949491</td>\n",
       "      <td>Alessandre Borba Gomes</td>\n",
       "      <td>1</td>\n",
       "      <td>3</td>\n",
       "      <td>1</td>\n",
       "      <td>1</td>\n",
       "      <td>0.0</td>\n",
       "      <td>0.0</td>\n",
       "      <td>0.0</td>\n",
       "      <td>0.0</td>\n",
       "      <td>1.0</td>\n",
       "      <td>5</td>\n",
       "      <td>2</td>\n",
       "      <td>5</td>\n",
       "      <td>DIFICULDADE</td>\n",
       "    </tr>\n",
       "  </tbody>\n",
       "</table>\n",
       "</div>"
      ],
      "text/plain": [
       "   MATRICULA                       NOME  REPROVACOES_DE  REPROVACOES_EM  \\\n",
       "0     502375          Márcia Illiglener               0               0   \n",
       "1     397093   Jason Jytereoman Izoimum               0               0   \n",
       "2     915288  Bartolomeu Inácio da Gama               0               0   \n",
       "3     192652            Fernanda Guedes               1               3   \n",
       "4     949491     Alessandre Borba Gomes               1               3   \n",
       "\n",
       "   REPROVACOES_MF  REPROVACOES_GO  NOTA_DE  NOTA_EM  NOTA_MF  NOTA_GO  INGLES  \\\n",
       "0               0               0      6.2      5.8      4.6      5.9     0.0   \n",
       "1               0               0      6.0      6.2      5.2      4.5     1.0   \n",
       "2               0               0      7.3      6.7      7.1      7.2     0.0   \n",
       "3               1               1      0.0      0.0      0.0      0.0     1.0   \n",
       "4               1               1      0.0      0.0      0.0      0.0     1.0   \n",
       "\n",
       "   H_AULA_PRES  TAREFAS_ONLINE  FALTAS       PERFIL  \n",
       "0            2               4       3       EXATAS  \n",
       "1            2               4       3       EXATAS  \n",
       "2            5               0       3      HUMANAS  \n",
       "3            4               4       4  DIFICULDADE  \n",
       "4            5               2       5  DIFICULDADE  "
      ]
     },
     "execution_count": 4,
     "metadata": {},
     "output_type": "execute_result"
    }
   ],
   "source": [
    "# << INSIRA O DATASET COMO UM DATAFRAME PANDAS NESTA CÉLULA >>\n",
    "import types\n",
    "import pandas as pd\n",
    "\n",
    "df_data_1 = pd.read_csv(\"../Data/dataset_desafio_2.csv\")\n",
    "df_data_1.head()"
   ]
  },
  {
   "cell_type": "markdown",
   "metadata": {},
   "source": [
    "### Construção da Pipeline completa para encapsulamento no WML"
   ]
  },
  {
   "cell_type": "code",
   "execution_count": null,
   "metadata": {
    "ExecuteTime": {
     "end_time": "2020-08-21T11:25:55.050218Z",
     "start_time": "2020-08-21T11:23:39.071491Z"
    }
   },
   "outputs": [],
   "source": []
  },
  {
   "cell_type": "code",
   "execution_count": null,
   "metadata": {
    "ExecuteTime": {
     "start_time": "2020-08-21T11:51:30.472Z"
    }
   },
   "outputs": [],
   "source": []
  },
  {
   "cell_type": "code",
   "execution_count": 5,
   "metadata": {
    "ExecuteTime": {
     "end_time": "2020-08-21T14:43:41.190115Z",
     "start_time": "2020-08-21T14:43:41.152982Z"
    }
   },
   "outputs": [],
   "source": [
    "from sklearn.base import BaseEstimator, TransformerMixin\n",
    "\n",
    "\n",
    "# All sklearn Transforms must have the `transform` and `fit` methods\n",
    "class DropColumns(BaseEstimator, TransformerMixin):\n",
    "    def __init__(self, columns):\n",
    "        self.columns = columns\n",
    "\n",
    "    def fit(self, X, y=None):\n",
    "        return self\n",
    "    \n",
    "    def transform(self, X):\n",
    "        # Primeiro realizamos a cópia do dataframe 'X' de entrada\n",
    "        data = X.copy()\n",
    "        # Retornamos um novo dataframe sem as colunas indesejadas\n",
    "        return data.drop(labels=self.columns, axis='columns')"
   ]
  },
  {
   "cell_type": "markdown",
   "metadata": {},
   "source": [
    "#### Declarando a Pipeline\n",
    "\n",
    "Após a importação das transformações personalizadas como um pacote Python, podemos partir para a declaração da nossa Pipeline.\n",
    "\n",
    "O processo é bem semelhante ao realizado na primeira etapa, porém com algumas diferenças importantes, então preste bem atenção!\n",
    "\n",
    "A Pipeline exemplo possui três estágios: \n",
    "\n",
    "    - remover a coluna \"NOME\"\n",
    "    - imputar \"zeros\" em todos os valores faltantes\n",
    "    - inserir os dados pré-processados como entrada em um modelo treinado\n",
    "    \n",
    "Relembrando, a entrada desta Pipeline será o conjunto cru de dados fornecido exceto a coluna \"LABELS\" (variável-alvo a ser determinada pelo modelo).\n",
    "\n",
    "Teremos então 17 valores de entrada **na PIPELINE** (no modelo serão 16 entradas, pois a coluna NAME será removida no primeiro estágio após a transformação DropColumn).\n",
    "\n",
    "    MATRICULA       - número de quatro algarismos único para cada estudante\n",
    "    NOME            - nome completo do estudante\n",
    "    FALTAS_DE       - número de faltas na disciplina de ``Direito Empresarial``\n",
    "    FALTAS_EM       - número de faltas na disciplina de ``Empreendedorismo``\n",
    "    FALTAS_MF       - número de faltas na disciplina de ``Matemática Financeira``\n",
    "    MEDIA_DE        - média simples das notas do aluno na disciplina de ``Direito Empresarial`` (0-10)\n",
    "    MEDIA_EM        - média simples das notas do aluno na disciplina de ``Empreendedorismo`` (0-10)\n",
    "    MEDIA_MF        - média simples das notas do aluno na disciplina de ``Matemática Financeira`` (0-10)\n",
    "    HRS_ESTUDO_DE   - horas de estudo particular na disciplina de ``Direito Empresarial``\n",
    "    HRS_ESTUDO_EM   - horas de estudo particular na disciplina de ``Empreendedorismo``\n",
    "    HRS_ESTUDO_MF   - horas de estudo particular na disciplina de ``Matemática Financeira``\n",
    "    REPROVACOES_DE  - número de reprovações na disciplina de ``Direito Empresarial``\n",
    "    REPROVACOES_EM  - número de reprovações na disciplina de ``Empreendedorismo``\n",
    "    REPROVACOES_MF  - número de reprovações na disciplina de ``Matemática Financeira``\n",
    "    LIVROS_TEXTO    - quantidade de livros e textos acessados pelo aluno no sistema da universidade\n",
    "    AULAS_AO_VIVO   - horas de aulas ao vivo presenciadas pelo aluno (total em todas as disciplinas)\n",
    "    EXERCICIOS      - número de exercícios realizados pelo estudante (total em todas as disciplinas) no sistema da universidade\n",
    "\n",
    "A saída da Pipeline será um valor estimado para a coluna \"LABELS\"."
   ]
  },
  {
   "cell_type": "code",
   "execution_count": null,
   "metadata": {
    "ExecuteTime": {
     "end_time": "2020-08-21T10:34:51.584789Z",
     "start_time": "2020-08-21T10:34:51.579135Z"
    }
   },
   "outputs": [],
   "source": []
  },
  {
   "cell_type": "code",
   "execution_count": 7,
   "metadata": {
    "ExecuteTime": {
     "end_time": "2020-08-21T14:43:58.776499Z",
     "start_time": "2020-08-21T14:43:58.736758Z"
    }
   },
   "outputs": [],
   "source": [
    "# Definição das colunas que serão features (nota-se que a coluna NOME não está presente)\n",
    "features = [\n",
    "    \"MATRICULA\", \"NOME\", 'REPROVACOES_DE', 'REPROVACOES_EM', \"REPROVACOES_MF\", \"REPROVACOES_GO\",\n",
    "    \"NOTA_DE\", \"NOTA_EM\", \"NOTA_MF\", \"NOTA_GO\",\n",
    "    \"INGLES\", \"H_AULA_PRES\", \"TAREFAS_ONLINE\", \"FALTAS\", \n",
    "]\n",
    "\n",
    "# Definição da variável-alvo\n",
    "target = [\"PERFIL\"]\n",
    "\n",
    "# Preparação dos argumentos para os métodos da biblioteca ``scikit-learn``\n",
    "X = df_data_1[features]\n",
    "y = df_data_1[target]"
   ]
  },
  {
   "cell_type": "code",
   "execution_count": 13,
   "metadata": {
    "ExecuteTime": {
     "end_time": "2020-08-21T14:52:31.911337Z",
     "start_time": "2020-08-21T14:45:50.901851Z"
    }
   },
   "outputs": [
    {
     "name": "stdout",
     "output_type": "stream",
     "text": [
      "Setup Succesfully Completed!\n"
     ]
    },
    {
     "data": {
      "text/html": [
       "<style  type=\"text/css\" >\n",
       "    #T_f0f0ad06_e3bd_11ea_8747_b3d8a66a7a47row4_col1 {\n",
       "            background-color:  lightgreen;\n",
       "        }</style><table id=\"T_f0f0ad06_e3bd_11ea_8747_b3d8a66a7a47\" ><thead>    <tr>        <th class=\"blank level0\" ></th>        <th class=\"col_heading level0 col0\" >Description</th>        <th class=\"col_heading level0 col1\" >Value</th>    </tr></thead><tbody>\n",
       "                <tr>\n",
       "                        <th id=\"T_f0f0ad06_e3bd_11ea_8747_b3d8a66a7a47level0_row0\" class=\"row_heading level0 row0\" >0</th>\n",
       "                        <td id=\"T_f0f0ad06_e3bd_11ea_8747_b3d8a66a7a47row0_col0\" class=\"data row0 col0\" >session_id</td>\n",
       "                        <td id=\"T_f0f0ad06_e3bd_11ea_8747_b3d8a66a7a47row0_col1\" class=\"data row0 col1\" >2069</td>\n",
       "            </tr>\n",
       "            <tr>\n",
       "                        <th id=\"T_f0f0ad06_e3bd_11ea_8747_b3d8a66a7a47level0_row1\" class=\"row_heading level0 row1\" >1</th>\n",
       "                        <td id=\"T_f0f0ad06_e3bd_11ea_8747_b3d8a66a7a47row1_col0\" class=\"data row1 col0\" >Target Type</td>\n",
       "                        <td id=\"T_f0f0ad06_e3bd_11ea_8747_b3d8a66a7a47row1_col1\" class=\"data row1 col1\" >Multiclass</td>\n",
       "            </tr>\n",
       "            <tr>\n",
       "                        <th id=\"T_f0f0ad06_e3bd_11ea_8747_b3d8a66a7a47level0_row2\" class=\"row_heading level0 row2\" >2</th>\n",
       "                        <td id=\"T_f0f0ad06_e3bd_11ea_8747_b3d8a66a7a47row2_col0\" class=\"data row2 col0\" >Label Encoded</td>\n",
       "                        <td id=\"T_f0f0ad06_e3bd_11ea_8747_b3d8a66a7a47row2_col1\" class=\"data row2 col1\" >DIFICULDADE: 0, EXATAS: 1, EXCELENTE: 2, HUMANAS: 3, MUITO_BOM: 4</td>\n",
       "            </tr>\n",
       "            <tr>\n",
       "                        <th id=\"T_f0f0ad06_e3bd_11ea_8747_b3d8a66a7a47level0_row3\" class=\"row_heading level0 row3\" >3</th>\n",
       "                        <td id=\"T_f0f0ad06_e3bd_11ea_8747_b3d8a66a7a47row3_col0\" class=\"data row3 col0\" >Original Data</td>\n",
       "                        <td id=\"T_f0f0ad06_e3bd_11ea_8747_b3d8a66a7a47row3_col1\" class=\"data row3 col1\" >(20000, 14)</td>\n",
       "            </tr>\n",
       "            <tr>\n",
       "                        <th id=\"T_f0f0ad06_e3bd_11ea_8747_b3d8a66a7a47level0_row4\" class=\"row_heading level0 row4\" >4</th>\n",
       "                        <td id=\"T_f0f0ad06_e3bd_11ea_8747_b3d8a66a7a47row4_col0\" class=\"data row4 col0\" >Missing Values </td>\n",
       "                        <td id=\"T_f0f0ad06_e3bd_11ea_8747_b3d8a66a7a47row4_col1\" class=\"data row4 col1\" >True</td>\n",
       "            </tr>\n",
       "            <tr>\n",
       "                        <th id=\"T_f0f0ad06_e3bd_11ea_8747_b3d8a66a7a47level0_row5\" class=\"row_heading level0 row5\" >5</th>\n",
       "                        <td id=\"T_f0f0ad06_e3bd_11ea_8747_b3d8a66a7a47row5_col0\" class=\"data row5 col0\" >Numeric Features </td>\n",
       "                        <td id=\"T_f0f0ad06_e3bd_11ea_8747_b3d8a66a7a47row5_col1\" class=\"data row5 col1\" >6</td>\n",
       "            </tr>\n",
       "            <tr>\n",
       "                        <th id=\"T_f0f0ad06_e3bd_11ea_8747_b3d8a66a7a47level0_row6\" class=\"row_heading level0 row6\" >6</th>\n",
       "                        <td id=\"T_f0f0ad06_e3bd_11ea_8747_b3d8a66a7a47row6_col0\" class=\"data row6 col0\" >Categorical Features </td>\n",
       "                        <td id=\"T_f0f0ad06_e3bd_11ea_8747_b3d8a66a7a47row6_col1\" class=\"data row6 col1\" >7</td>\n",
       "            </tr>\n",
       "            <tr>\n",
       "                        <th id=\"T_f0f0ad06_e3bd_11ea_8747_b3d8a66a7a47level0_row7\" class=\"row_heading level0 row7\" >7</th>\n",
       "                        <td id=\"T_f0f0ad06_e3bd_11ea_8747_b3d8a66a7a47row7_col0\" class=\"data row7 col0\" >Ordinal Features </td>\n",
       "                        <td id=\"T_f0f0ad06_e3bd_11ea_8747_b3d8a66a7a47row7_col1\" class=\"data row7 col1\" >False</td>\n",
       "            </tr>\n",
       "            <tr>\n",
       "                        <th id=\"T_f0f0ad06_e3bd_11ea_8747_b3d8a66a7a47level0_row8\" class=\"row_heading level0 row8\" >8</th>\n",
       "                        <td id=\"T_f0f0ad06_e3bd_11ea_8747_b3d8a66a7a47row8_col0\" class=\"data row8 col0\" >High Cardinality Features </td>\n",
       "                        <td id=\"T_f0f0ad06_e3bd_11ea_8747_b3d8a66a7a47row8_col1\" class=\"data row8 col1\" >False</td>\n",
       "            </tr>\n",
       "            <tr>\n",
       "                        <th id=\"T_f0f0ad06_e3bd_11ea_8747_b3d8a66a7a47level0_row9\" class=\"row_heading level0 row9\" >9</th>\n",
       "                        <td id=\"T_f0f0ad06_e3bd_11ea_8747_b3d8a66a7a47row9_col0\" class=\"data row9 col0\" >High Cardinality Method </td>\n",
       "                        <td id=\"T_f0f0ad06_e3bd_11ea_8747_b3d8a66a7a47row9_col1\" class=\"data row9 col1\" >None</td>\n",
       "            </tr>\n",
       "            <tr>\n",
       "                        <th id=\"T_f0f0ad06_e3bd_11ea_8747_b3d8a66a7a47level0_row10\" class=\"row_heading level0 row10\" >10</th>\n",
       "                        <td id=\"T_f0f0ad06_e3bd_11ea_8747_b3d8a66a7a47row10_col0\" class=\"data row10 col0\" >Sampled Data</td>\n",
       "                        <td id=\"T_f0f0ad06_e3bd_11ea_8747_b3d8a66a7a47row10_col1\" class=\"data row10 col1\" >(20000, 14)</td>\n",
       "            </tr>\n",
       "            <tr>\n",
       "                        <th id=\"T_f0f0ad06_e3bd_11ea_8747_b3d8a66a7a47level0_row11\" class=\"row_heading level0 row11\" >11</th>\n",
       "                        <td id=\"T_f0f0ad06_e3bd_11ea_8747_b3d8a66a7a47row11_col0\" class=\"data row11 col0\" >Transformed Train Set</td>\n",
       "                        <td id=\"T_f0f0ad06_e3bd_11ea_8747_b3d8a66a7a47row11_col1\" class=\"data row11 col1\" >(13999, 35)</td>\n",
       "            </tr>\n",
       "            <tr>\n",
       "                        <th id=\"T_f0f0ad06_e3bd_11ea_8747_b3d8a66a7a47level0_row12\" class=\"row_heading level0 row12\" >12</th>\n",
       "                        <td id=\"T_f0f0ad06_e3bd_11ea_8747_b3d8a66a7a47row12_col0\" class=\"data row12 col0\" >Transformed Test Set</td>\n",
       "                        <td id=\"T_f0f0ad06_e3bd_11ea_8747_b3d8a66a7a47row12_col1\" class=\"data row12 col1\" >(6001, 35)</td>\n",
       "            </tr>\n",
       "            <tr>\n",
       "                        <th id=\"T_f0f0ad06_e3bd_11ea_8747_b3d8a66a7a47level0_row13\" class=\"row_heading level0 row13\" >13</th>\n",
       "                        <td id=\"T_f0f0ad06_e3bd_11ea_8747_b3d8a66a7a47row13_col0\" class=\"data row13 col0\" >Numeric Imputer </td>\n",
       "                        <td id=\"T_f0f0ad06_e3bd_11ea_8747_b3d8a66a7a47row13_col1\" class=\"data row13 col1\" >mean</td>\n",
       "            </tr>\n",
       "            <tr>\n",
       "                        <th id=\"T_f0f0ad06_e3bd_11ea_8747_b3d8a66a7a47level0_row14\" class=\"row_heading level0 row14\" >14</th>\n",
       "                        <td id=\"T_f0f0ad06_e3bd_11ea_8747_b3d8a66a7a47row14_col0\" class=\"data row14 col0\" >Categorical Imputer </td>\n",
       "                        <td id=\"T_f0f0ad06_e3bd_11ea_8747_b3d8a66a7a47row14_col1\" class=\"data row14 col1\" >constant</td>\n",
       "            </tr>\n",
       "            <tr>\n",
       "                        <th id=\"T_f0f0ad06_e3bd_11ea_8747_b3d8a66a7a47level0_row15\" class=\"row_heading level0 row15\" >15</th>\n",
       "                        <td id=\"T_f0f0ad06_e3bd_11ea_8747_b3d8a66a7a47row15_col0\" class=\"data row15 col0\" >Normalize </td>\n",
       "                        <td id=\"T_f0f0ad06_e3bd_11ea_8747_b3d8a66a7a47row15_col1\" class=\"data row15 col1\" >False</td>\n",
       "            </tr>\n",
       "            <tr>\n",
       "                        <th id=\"T_f0f0ad06_e3bd_11ea_8747_b3d8a66a7a47level0_row16\" class=\"row_heading level0 row16\" >16</th>\n",
       "                        <td id=\"T_f0f0ad06_e3bd_11ea_8747_b3d8a66a7a47row16_col0\" class=\"data row16 col0\" >Normalize Method </td>\n",
       "                        <td id=\"T_f0f0ad06_e3bd_11ea_8747_b3d8a66a7a47row16_col1\" class=\"data row16 col1\" >None</td>\n",
       "            </tr>\n",
       "            <tr>\n",
       "                        <th id=\"T_f0f0ad06_e3bd_11ea_8747_b3d8a66a7a47level0_row17\" class=\"row_heading level0 row17\" >17</th>\n",
       "                        <td id=\"T_f0f0ad06_e3bd_11ea_8747_b3d8a66a7a47row17_col0\" class=\"data row17 col0\" >Transformation </td>\n",
       "                        <td id=\"T_f0f0ad06_e3bd_11ea_8747_b3d8a66a7a47row17_col1\" class=\"data row17 col1\" >False</td>\n",
       "            </tr>\n",
       "            <tr>\n",
       "                        <th id=\"T_f0f0ad06_e3bd_11ea_8747_b3d8a66a7a47level0_row18\" class=\"row_heading level0 row18\" >18</th>\n",
       "                        <td id=\"T_f0f0ad06_e3bd_11ea_8747_b3d8a66a7a47row18_col0\" class=\"data row18 col0\" >Transformation Method </td>\n",
       "                        <td id=\"T_f0f0ad06_e3bd_11ea_8747_b3d8a66a7a47row18_col1\" class=\"data row18 col1\" >None</td>\n",
       "            </tr>\n",
       "            <tr>\n",
       "                        <th id=\"T_f0f0ad06_e3bd_11ea_8747_b3d8a66a7a47level0_row19\" class=\"row_heading level0 row19\" >19</th>\n",
       "                        <td id=\"T_f0f0ad06_e3bd_11ea_8747_b3d8a66a7a47row19_col0\" class=\"data row19 col0\" >PCA </td>\n",
       "                        <td id=\"T_f0f0ad06_e3bd_11ea_8747_b3d8a66a7a47row19_col1\" class=\"data row19 col1\" >False</td>\n",
       "            </tr>\n",
       "            <tr>\n",
       "                        <th id=\"T_f0f0ad06_e3bd_11ea_8747_b3d8a66a7a47level0_row20\" class=\"row_heading level0 row20\" >20</th>\n",
       "                        <td id=\"T_f0f0ad06_e3bd_11ea_8747_b3d8a66a7a47row20_col0\" class=\"data row20 col0\" >PCA Method </td>\n",
       "                        <td id=\"T_f0f0ad06_e3bd_11ea_8747_b3d8a66a7a47row20_col1\" class=\"data row20 col1\" >None</td>\n",
       "            </tr>\n",
       "            <tr>\n",
       "                        <th id=\"T_f0f0ad06_e3bd_11ea_8747_b3d8a66a7a47level0_row21\" class=\"row_heading level0 row21\" >21</th>\n",
       "                        <td id=\"T_f0f0ad06_e3bd_11ea_8747_b3d8a66a7a47row21_col0\" class=\"data row21 col0\" >PCA Components </td>\n",
       "                        <td id=\"T_f0f0ad06_e3bd_11ea_8747_b3d8a66a7a47row21_col1\" class=\"data row21 col1\" >None</td>\n",
       "            </tr>\n",
       "            <tr>\n",
       "                        <th id=\"T_f0f0ad06_e3bd_11ea_8747_b3d8a66a7a47level0_row22\" class=\"row_heading level0 row22\" >22</th>\n",
       "                        <td id=\"T_f0f0ad06_e3bd_11ea_8747_b3d8a66a7a47row22_col0\" class=\"data row22 col0\" >Ignore Low Variance </td>\n",
       "                        <td id=\"T_f0f0ad06_e3bd_11ea_8747_b3d8a66a7a47row22_col1\" class=\"data row22 col1\" >False</td>\n",
       "            </tr>\n",
       "            <tr>\n",
       "                        <th id=\"T_f0f0ad06_e3bd_11ea_8747_b3d8a66a7a47level0_row23\" class=\"row_heading level0 row23\" >23</th>\n",
       "                        <td id=\"T_f0f0ad06_e3bd_11ea_8747_b3d8a66a7a47row23_col0\" class=\"data row23 col0\" >Combine Rare Levels </td>\n",
       "                        <td id=\"T_f0f0ad06_e3bd_11ea_8747_b3d8a66a7a47row23_col1\" class=\"data row23 col1\" >False</td>\n",
       "            </tr>\n",
       "            <tr>\n",
       "                        <th id=\"T_f0f0ad06_e3bd_11ea_8747_b3d8a66a7a47level0_row24\" class=\"row_heading level0 row24\" >24</th>\n",
       "                        <td id=\"T_f0f0ad06_e3bd_11ea_8747_b3d8a66a7a47row24_col0\" class=\"data row24 col0\" >Rare Level Threshold </td>\n",
       "                        <td id=\"T_f0f0ad06_e3bd_11ea_8747_b3d8a66a7a47row24_col1\" class=\"data row24 col1\" >None</td>\n",
       "            </tr>\n",
       "            <tr>\n",
       "                        <th id=\"T_f0f0ad06_e3bd_11ea_8747_b3d8a66a7a47level0_row25\" class=\"row_heading level0 row25\" >25</th>\n",
       "                        <td id=\"T_f0f0ad06_e3bd_11ea_8747_b3d8a66a7a47row25_col0\" class=\"data row25 col0\" >Numeric Binning </td>\n",
       "                        <td id=\"T_f0f0ad06_e3bd_11ea_8747_b3d8a66a7a47row25_col1\" class=\"data row25 col1\" >False</td>\n",
       "            </tr>\n",
       "            <tr>\n",
       "                        <th id=\"T_f0f0ad06_e3bd_11ea_8747_b3d8a66a7a47level0_row26\" class=\"row_heading level0 row26\" >26</th>\n",
       "                        <td id=\"T_f0f0ad06_e3bd_11ea_8747_b3d8a66a7a47row26_col0\" class=\"data row26 col0\" >Remove Outliers </td>\n",
       "                        <td id=\"T_f0f0ad06_e3bd_11ea_8747_b3d8a66a7a47row26_col1\" class=\"data row26 col1\" >False</td>\n",
       "            </tr>\n",
       "            <tr>\n",
       "                        <th id=\"T_f0f0ad06_e3bd_11ea_8747_b3d8a66a7a47level0_row27\" class=\"row_heading level0 row27\" >27</th>\n",
       "                        <td id=\"T_f0f0ad06_e3bd_11ea_8747_b3d8a66a7a47row27_col0\" class=\"data row27 col0\" >Outliers Threshold </td>\n",
       "                        <td id=\"T_f0f0ad06_e3bd_11ea_8747_b3d8a66a7a47row27_col1\" class=\"data row27 col1\" >None</td>\n",
       "            </tr>\n",
       "            <tr>\n",
       "                        <th id=\"T_f0f0ad06_e3bd_11ea_8747_b3d8a66a7a47level0_row28\" class=\"row_heading level0 row28\" >28</th>\n",
       "                        <td id=\"T_f0f0ad06_e3bd_11ea_8747_b3d8a66a7a47row28_col0\" class=\"data row28 col0\" >Remove Multicollinearity </td>\n",
       "                        <td id=\"T_f0f0ad06_e3bd_11ea_8747_b3d8a66a7a47row28_col1\" class=\"data row28 col1\" >False</td>\n",
       "            </tr>\n",
       "            <tr>\n",
       "                        <th id=\"T_f0f0ad06_e3bd_11ea_8747_b3d8a66a7a47level0_row29\" class=\"row_heading level0 row29\" >29</th>\n",
       "                        <td id=\"T_f0f0ad06_e3bd_11ea_8747_b3d8a66a7a47row29_col0\" class=\"data row29 col0\" >Multicollinearity Threshold </td>\n",
       "                        <td id=\"T_f0f0ad06_e3bd_11ea_8747_b3d8a66a7a47row29_col1\" class=\"data row29 col1\" >None</td>\n",
       "            </tr>\n",
       "            <tr>\n",
       "                        <th id=\"T_f0f0ad06_e3bd_11ea_8747_b3d8a66a7a47level0_row30\" class=\"row_heading level0 row30\" >30</th>\n",
       "                        <td id=\"T_f0f0ad06_e3bd_11ea_8747_b3d8a66a7a47row30_col0\" class=\"data row30 col0\" >Clustering </td>\n",
       "                        <td id=\"T_f0f0ad06_e3bd_11ea_8747_b3d8a66a7a47row30_col1\" class=\"data row30 col1\" >False</td>\n",
       "            </tr>\n",
       "            <tr>\n",
       "                        <th id=\"T_f0f0ad06_e3bd_11ea_8747_b3d8a66a7a47level0_row31\" class=\"row_heading level0 row31\" >31</th>\n",
       "                        <td id=\"T_f0f0ad06_e3bd_11ea_8747_b3d8a66a7a47row31_col0\" class=\"data row31 col0\" >Clustering Iteration </td>\n",
       "                        <td id=\"T_f0f0ad06_e3bd_11ea_8747_b3d8a66a7a47row31_col1\" class=\"data row31 col1\" >None</td>\n",
       "            </tr>\n",
       "            <tr>\n",
       "                        <th id=\"T_f0f0ad06_e3bd_11ea_8747_b3d8a66a7a47level0_row32\" class=\"row_heading level0 row32\" >32</th>\n",
       "                        <td id=\"T_f0f0ad06_e3bd_11ea_8747_b3d8a66a7a47row32_col0\" class=\"data row32 col0\" >Polynomial Features </td>\n",
       "                        <td id=\"T_f0f0ad06_e3bd_11ea_8747_b3d8a66a7a47row32_col1\" class=\"data row32 col1\" >False</td>\n",
       "            </tr>\n",
       "            <tr>\n",
       "                        <th id=\"T_f0f0ad06_e3bd_11ea_8747_b3d8a66a7a47level0_row33\" class=\"row_heading level0 row33\" >33</th>\n",
       "                        <td id=\"T_f0f0ad06_e3bd_11ea_8747_b3d8a66a7a47row33_col0\" class=\"data row33 col0\" >Polynomial Degree </td>\n",
       "                        <td id=\"T_f0f0ad06_e3bd_11ea_8747_b3d8a66a7a47row33_col1\" class=\"data row33 col1\" >None</td>\n",
       "            </tr>\n",
       "            <tr>\n",
       "                        <th id=\"T_f0f0ad06_e3bd_11ea_8747_b3d8a66a7a47level0_row34\" class=\"row_heading level0 row34\" >34</th>\n",
       "                        <td id=\"T_f0f0ad06_e3bd_11ea_8747_b3d8a66a7a47row34_col0\" class=\"data row34 col0\" >Trignometry Features </td>\n",
       "                        <td id=\"T_f0f0ad06_e3bd_11ea_8747_b3d8a66a7a47row34_col1\" class=\"data row34 col1\" >False</td>\n",
       "            </tr>\n",
       "            <tr>\n",
       "                        <th id=\"T_f0f0ad06_e3bd_11ea_8747_b3d8a66a7a47level0_row35\" class=\"row_heading level0 row35\" >35</th>\n",
       "                        <td id=\"T_f0f0ad06_e3bd_11ea_8747_b3d8a66a7a47row35_col0\" class=\"data row35 col0\" >Polynomial Threshold </td>\n",
       "                        <td id=\"T_f0f0ad06_e3bd_11ea_8747_b3d8a66a7a47row35_col1\" class=\"data row35 col1\" >None</td>\n",
       "            </tr>\n",
       "            <tr>\n",
       "                        <th id=\"T_f0f0ad06_e3bd_11ea_8747_b3d8a66a7a47level0_row36\" class=\"row_heading level0 row36\" >36</th>\n",
       "                        <td id=\"T_f0f0ad06_e3bd_11ea_8747_b3d8a66a7a47row36_col0\" class=\"data row36 col0\" >Group Features </td>\n",
       "                        <td id=\"T_f0f0ad06_e3bd_11ea_8747_b3d8a66a7a47row36_col1\" class=\"data row36 col1\" >False</td>\n",
       "            </tr>\n",
       "            <tr>\n",
       "                        <th id=\"T_f0f0ad06_e3bd_11ea_8747_b3d8a66a7a47level0_row37\" class=\"row_heading level0 row37\" >37</th>\n",
       "                        <td id=\"T_f0f0ad06_e3bd_11ea_8747_b3d8a66a7a47row37_col0\" class=\"data row37 col0\" >Feature Selection </td>\n",
       "                        <td id=\"T_f0f0ad06_e3bd_11ea_8747_b3d8a66a7a47row37_col1\" class=\"data row37 col1\" >False</td>\n",
       "            </tr>\n",
       "            <tr>\n",
       "                        <th id=\"T_f0f0ad06_e3bd_11ea_8747_b3d8a66a7a47level0_row38\" class=\"row_heading level0 row38\" >38</th>\n",
       "                        <td id=\"T_f0f0ad06_e3bd_11ea_8747_b3d8a66a7a47row38_col0\" class=\"data row38 col0\" >Features Selection Threshold </td>\n",
       "                        <td id=\"T_f0f0ad06_e3bd_11ea_8747_b3d8a66a7a47row38_col1\" class=\"data row38 col1\" >None</td>\n",
       "            </tr>\n",
       "            <tr>\n",
       "                        <th id=\"T_f0f0ad06_e3bd_11ea_8747_b3d8a66a7a47level0_row39\" class=\"row_heading level0 row39\" >39</th>\n",
       "                        <td id=\"T_f0f0ad06_e3bd_11ea_8747_b3d8a66a7a47row39_col0\" class=\"data row39 col0\" >Feature Interaction </td>\n",
       "                        <td id=\"T_f0f0ad06_e3bd_11ea_8747_b3d8a66a7a47row39_col1\" class=\"data row39 col1\" >False</td>\n",
       "            </tr>\n",
       "            <tr>\n",
       "                        <th id=\"T_f0f0ad06_e3bd_11ea_8747_b3d8a66a7a47level0_row40\" class=\"row_heading level0 row40\" >40</th>\n",
       "                        <td id=\"T_f0f0ad06_e3bd_11ea_8747_b3d8a66a7a47row40_col0\" class=\"data row40 col0\" >Feature Ratio </td>\n",
       "                        <td id=\"T_f0f0ad06_e3bd_11ea_8747_b3d8a66a7a47row40_col1\" class=\"data row40 col1\" >False</td>\n",
       "            </tr>\n",
       "            <tr>\n",
       "                        <th id=\"T_f0f0ad06_e3bd_11ea_8747_b3d8a66a7a47level0_row41\" class=\"row_heading level0 row41\" >41</th>\n",
       "                        <td id=\"T_f0f0ad06_e3bd_11ea_8747_b3d8a66a7a47row41_col0\" class=\"data row41 col0\" >Interaction Threshold </td>\n",
       "                        <td id=\"T_f0f0ad06_e3bd_11ea_8747_b3d8a66a7a47row41_col1\" class=\"data row41 col1\" >None</td>\n",
       "            </tr>\n",
       "            <tr>\n",
       "                        <th id=\"T_f0f0ad06_e3bd_11ea_8747_b3d8a66a7a47level0_row42\" class=\"row_heading level0 row42\" >42</th>\n",
       "                        <td id=\"T_f0f0ad06_e3bd_11ea_8747_b3d8a66a7a47row42_col0\" class=\"data row42 col0\" >Fix Imbalance</td>\n",
       "                        <td id=\"T_f0f0ad06_e3bd_11ea_8747_b3d8a66a7a47row42_col1\" class=\"data row42 col1\" >False</td>\n",
       "            </tr>\n",
       "            <tr>\n",
       "                        <th id=\"T_f0f0ad06_e3bd_11ea_8747_b3d8a66a7a47level0_row43\" class=\"row_heading level0 row43\" >43</th>\n",
       "                        <td id=\"T_f0f0ad06_e3bd_11ea_8747_b3d8a66a7a47row43_col0\" class=\"data row43 col0\" >Fix Imbalance Method</td>\n",
       "                        <td id=\"T_f0f0ad06_e3bd_11ea_8747_b3d8a66a7a47row43_col1\" class=\"data row43 col1\" >SMOTE</td>\n",
       "            </tr>\n",
       "    </tbody></table>"
      ],
      "text/plain": [
       "<pandas.io.formats.style.Styler at 0x7f22c8d025f8>"
      ]
     },
     "metadata": {},
     "output_type": "display_data"
    }
   ],
   "source": [
    "# import the classification module \n",
    "from pycaret import classification\n",
    "# setup the environment \n",
    "\n",
    "rm_columns = DropColumns(\n",
    "    columns=[\"NOME\"]\n",
    ")\n",
    "data_proc = rm_columns.fit_transform(df_data_1)\n",
    "\n",
    "classification_setup = classification.setup(data=data_proc, target=\"PERFIL\")"
   ]
  },
  {
   "cell_type": "code",
   "execution_count": 14,
   "metadata": {
    "ExecuteTime": {
     "end_time": "2020-08-21T15:18:37.710463Z",
     "start_time": "2020-08-21T14:52:31.914504Z"
    }
   },
   "outputs": [
    {
     "data": {
      "text/html": [
       "<style  type=\"text/css\" >\n",
       "    #T_9636d652_e3c1_11ea_8747_b3d8a66a7a47 th {\n",
       "          text-align: left;\n",
       "    }    #T_9636d652_e3c1_11ea_8747_b3d8a66a7a47row0_col0 {\n",
       "            text-align:  left;\n",
       "        }    #T_9636d652_e3c1_11ea_8747_b3d8a66a7a47row0_col1 {\n",
       "            background-color:  yellow;\n",
       "            text-align:  left;\n",
       "        }    #T_9636d652_e3c1_11ea_8747_b3d8a66a7a47row0_col2 {\n",
       "            text-align:  left;\n",
       "        }    #T_9636d652_e3c1_11ea_8747_b3d8a66a7a47row0_col3 {\n",
       "            : ;\n",
       "            text-align:  left;\n",
       "        }    #T_9636d652_e3c1_11ea_8747_b3d8a66a7a47row0_col4 {\n",
       "            background-color:  yellow;\n",
       "            text-align:  left;\n",
       "        }    #T_9636d652_e3c1_11ea_8747_b3d8a66a7a47row0_col5 {\n",
       "            background-color:  yellow;\n",
       "            text-align:  left;\n",
       "        }    #T_9636d652_e3c1_11ea_8747_b3d8a66a7a47row0_col6 {\n",
       "            background-color:  yellow;\n",
       "            text-align:  left;\n",
       "        }    #T_9636d652_e3c1_11ea_8747_b3d8a66a7a47row0_col7 {\n",
       "            background-color:  yellow;\n",
       "            text-align:  left;\n",
       "        }    #T_9636d652_e3c1_11ea_8747_b3d8a66a7a47row0_col8 {\n",
       "            background-color:  lightgrey;\n",
       "            text-align:  left;\n",
       "        }    #T_9636d652_e3c1_11ea_8747_b3d8a66a7a47row1_col0 {\n",
       "            text-align:  left;\n",
       "        }    #T_9636d652_e3c1_11ea_8747_b3d8a66a7a47row1_col1 {\n",
       "            : ;\n",
       "            text-align:  left;\n",
       "        }    #T_9636d652_e3c1_11ea_8747_b3d8a66a7a47row1_col2 {\n",
       "            text-align:  left;\n",
       "        }    #T_9636d652_e3c1_11ea_8747_b3d8a66a7a47row1_col3 {\n",
       "            background-color:  yellow;\n",
       "            text-align:  left;\n",
       "        }    #T_9636d652_e3c1_11ea_8747_b3d8a66a7a47row1_col4 {\n",
       "            : ;\n",
       "            text-align:  left;\n",
       "        }    #T_9636d652_e3c1_11ea_8747_b3d8a66a7a47row1_col5 {\n",
       "            : ;\n",
       "            text-align:  left;\n",
       "        }    #T_9636d652_e3c1_11ea_8747_b3d8a66a7a47row1_col6 {\n",
       "            : ;\n",
       "            text-align:  left;\n",
       "        }    #T_9636d652_e3c1_11ea_8747_b3d8a66a7a47row1_col7 {\n",
       "            : ;\n",
       "            text-align:  left;\n",
       "        }    #T_9636d652_e3c1_11ea_8747_b3d8a66a7a47row1_col8 {\n",
       "            background-color:  lightgrey;\n",
       "            text-align:  left;\n",
       "        }    #T_9636d652_e3c1_11ea_8747_b3d8a66a7a47row2_col0 {\n",
       "            text-align:  left;\n",
       "        }    #T_9636d652_e3c1_11ea_8747_b3d8a66a7a47row2_col1 {\n",
       "            : ;\n",
       "            text-align:  left;\n",
       "        }    #T_9636d652_e3c1_11ea_8747_b3d8a66a7a47row2_col2 {\n",
       "            text-align:  left;\n",
       "        }    #T_9636d652_e3c1_11ea_8747_b3d8a66a7a47row2_col3 {\n",
       "            : ;\n",
       "            text-align:  left;\n",
       "        }    #T_9636d652_e3c1_11ea_8747_b3d8a66a7a47row2_col4 {\n",
       "            : ;\n",
       "            text-align:  left;\n",
       "        }    #T_9636d652_e3c1_11ea_8747_b3d8a66a7a47row2_col5 {\n",
       "            : ;\n",
       "            text-align:  left;\n",
       "        }    #T_9636d652_e3c1_11ea_8747_b3d8a66a7a47row2_col6 {\n",
       "            : ;\n",
       "            text-align:  left;\n",
       "        }    #T_9636d652_e3c1_11ea_8747_b3d8a66a7a47row2_col7 {\n",
       "            : ;\n",
       "            text-align:  left;\n",
       "        }    #T_9636d652_e3c1_11ea_8747_b3d8a66a7a47row2_col8 {\n",
       "            background-color:  lightgrey;\n",
       "            text-align:  left;\n",
       "        }    #T_9636d652_e3c1_11ea_8747_b3d8a66a7a47row3_col0 {\n",
       "            text-align:  left;\n",
       "        }    #T_9636d652_e3c1_11ea_8747_b3d8a66a7a47row3_col1 {\n",
       "            : ;\n",
       "            text-align:  left;\n",
       "        }    #T_9636d652_e3c1_11ea_8747_b3d8a66a7a47row3_col2 {\n",
       "            text-align:  left;\n",
       "        }    #T_9636d652_e3c1_11ea_8747_b3d8a66a7a47row3_col3 {\n",
       "            : ;\n",
       "            text-align:  left;\n",
       "        }    #T_9636d652_e3c1_11ea_8747_b3d8a66a7a47row3_col4 {\n",
       "            : ;\n",
       "            text-align:  left;\n",
       "        }    #T_9636d652_e3c1_11ea_8747_b3d8a66a7a47row3_col5 {\n",
       "            : ;\n",
       "            text-align:  left;\n",
       "        }    #T_9636d652_e3c1_11ea_8747_b3d8a66a7a47row3_col6 {\n",
       "            : ;\n",
       "            text-align:  left;\n",
       "        }    #T_9636d652_e3c1_11ea_8747_b3d8a66a7a47row3_col7 {\n",
       "            : ;\n",
       "            text-align:  left;\n",
       "        }    #T_9636d652_e3c1_11ea_8747_b3d8a66a7a47row3_col8 {\n",
       "            background-color:  lightgrey;\n",
       "            text-align:  left;\n",
       "        }    #T_9636d652_e3c1_11ea_8747_b3d8a66a7a47row4_col0 {\n",
       "            text-align:  left;\n",
       "        }    #T_9636d652_e3c1_11ea_8747_b3d8a66a7a47row4_col1 {\n",
       "            : ;\n",
       "            text-align:  left;\n",
       "        }    #T_9636d652_e3c1_11ea_8747_b3d8a66a7a47row4_col2 {\n",
       "            text-align:  left;\n",
       "        }    #T_9636d652_e3c1_11ea_8747_b3d8a66a7a47row4_col3 {\n",
       "            : ;\n",
       "            text-align:  left;\n",
       "        }    #T_9636d652_e3c1_11ea_8747_b3d8a66a7a47row4_col4 {\n",
       "            : ;\n",
       "            text-align:  left;\n",
       "        }    #T_9636d652_e3c1_11ea_8747_b3d8a66a7a47row4_col5 {\n",
       "            : ;\n",
       "            text-align:  left;\n",
       "        }    #T_9636d652_e3c1_11ea_8747_b3d8a66a7a47row4_col6 {\n",
       "            : ;\n",
       "            text-align:  left;\n",
       "        }    #T_9636d652_e3c1_11ea_8747_b3d8a66a7a47row4_col7 {\n",
       "            : ;\n",
       "            text-align:  left;\n",
       "        }    #T_9636d652_e3c1_11ea_8747_b3d8a66a7a47row4_col8 {\n",
       "            background-color:  lightgrey;\n",
       "            text-align:  left;\n",
       "        }    #T_9636d652_e3c1_11ea_8747_b3d8a66a7a47row5_col0 {\n",
       "            text-align:  left;\n",
       "        }    #T_9636d652_e3c1_11ea_8747_b3d8a66a7a47row5_col1 {\n",
       "            : ;\n",
       "            text-align:  left;\n",
       "        }    #T_9636d652_e3c1_11ea_8747_b3d8a66a7a47row5_col2 {\n",
       "            text-align:  left;\n",
       "        }    #T_9636d652_e3c1_11ea_8747_b3d8a66a7a47row5_col3 {\n",
       "            : ;\n",
       "            text-align:  left;\n",
       "        }    #T_9636d652_e3c1_11ea_8747_b3d8a66a7a47row5_col4 {\n",
       "            : ;\n",
       "            text-align:  left;\n",
       "        }    #T_9636d652_e3c1_11ea_8747_b3d8a66a7a47row5_col5 {\n",
       "            : ;\n",
       "            text-align:  left;\n",
       "        }    #T_9636d652_e3c1_11ea_8747_b3d8a66a7a47row5_col6 {\n",
       "            : ;\n",
       "            text-align:  left;\n",
       "        }    #T_9636d652_e3c1_11ea_8747_b3d8a66a7a47row5_col7 {\n",
       "            : ;\n",
       "            text-align:  left;\n",
       "        }    #T_9636d652_e3c1_11ea_8747_b3d8a66a7a47row5_col8 {\n",
       "            background-color:  lightgrey;\n",
       "            text-align:  left;\n",
       "        }    #T_9636d652_e3c1_11ea_8747_b3d8a66a7a47row6_col0 {\n",
       "            text-align:  left;\n",
       "        }    #T_9636d652_e3c1_11ea_8747_b3d8a66a7a47row6_col1 {\n",
       "            : ;\n",
       "            text-align:  left;\n",
       "        }    #T_9636d652_e3c1_11ea_8747_b3d8a66a7a47row6_col2 {\n",
       "            text-align:  left;\n",
       "        }    #T_9636d652_e3c1_11ea_8747_b3d8a66a7a47row6_col3 {\n",
       "            : ;\n",
       "            text-align:  left;\n",
       "        }    #T_9636d652_e3c1_11ea_8747_b3d8a66a7a47row6_col4 {\n",
       "            : ;\n",
       "            text-align:  left;\n",
       "        }    #T_9636d652_e3c1_11ea_8747_b3d8a66a7a47row6_col5 {\n",
       "            : ;\n",
       "            text-align:  left;\n",
       "        }    #T_9636d652_e3c1_11ea_8747_b3d8a66a7a47row6_col6 {\n",
       "            : ;\n",
       "            text-align:  left;\n",
       "        }    #T_9636d652_e3c1_11ea_8747_b3d8a66a7a47row6_col7 {\n",
       "            : ;\n",
       "            text-align:  left;\n",
       "        }    #T_9636d652_e3c1_11ea_8747_b3d8a66a7a47row6_col8 {\n",
       "            background-color:  lightgrey;\n",
       "            text-align:  left;\n",
       "        }    #T_9636d652_e3c1_11ea_8747_b3d8a66a7a47row7_col0 {\n",
       "            text-align:  left;\n",
       "        }    #T_9636d652_e3c1_11ea_8747_b3d8a66a7a47row7_col1 {\n",
       "            : ;\n",
       "            text-align:  left;\n",
       "        }    #T_9636d652_e3c1_11ea_8747_b3d8a66a7a47row7_col2 {\n",
       "            text-align:  left;\n",
       "        }    #T_9636d652_e3c1_11ea_8747_b3d8a66a7a47row7_col3 {\n",
       "            : ;\n",
       "            text-align:  left;\n",
       "        }    #T_9636d652_e3c1_11ea_8747_b3d8a66a7a47row7_col4 {\n",
       "            : ;\n",
       "            text-align:  left;\n",
       "        }    #T_9636d652_e3c1_11ea_8747_b3d8a66a7a47row7_col5 {\n",
       "            : ;\n",
       "            text-align:  left;\n",
       "        }    #T_9636d652_e3c1_11ea_8747_b3d8a66a7a47row7_col6 {\n",
       "            : ;\n",
       "            text-align:  left;\n",
       "        }    #T_9636d652_e3c1_11ea_8747_b3d8a66a7a47row7_col7 {\n",
       "            : ;\n",
       "            text-align:  left;\n",
       "        }    #T_9636d652_e3c1_11ea_8747_b3d8a66a7a47row7_col8 {\n",
       "            background-color:  lightgrey;\n",
       "            text-align:  left;\n",
       "        }    #T_9636d652_e3c1_11ea_8747_b3d8a66a7a47row8_col0 {\n",
       "            text-align:  left;\n",
       "        }    #T_9636d652_e3c1_11ea_8747_b3d8a66a7a47row8_col1 {\n",
       "            : ;\n",
       "            text-align:  left;\n",
       "        }    #T_9636d652_e3c1_11ea_8747_b3d8a66a7a47row8_col2 {\n",
       "            text-align:  left;\n",
       "        }    #T_9636d652_e3c1_11ea_8747_b3d8a66a7a47row8_col3 {\n",
       "            : ;\n",
       "            text-align:  left;\n",
       "        }    #T_9636d652_e3c1_11ea_8747_b3d8a66a7a47row8_col4 {\n",
       "            : ;\n",
       "            text-align:  left;\n",
       "        }    #T_9636d652_e3c1_11ea_8747_b3d8a66a7a47row8_col5 {\n",
       "            : ;\n",
       "            text-align:  left;\n",
       "        }    #T_9636d652_e3c1_11ea_8747_b3d8a66a7a47row8_col6 {\n",
       "            : ;\n",
       "            text-align:  left;\n",
       "        }    #T_9636d652_e3c1_11ea_8747_b3d8a66a7a47row8_col7 {\n",
       "            : ;\n",
       "            text-align:  left;\n",
       "        }    #T_9636d652_e3c1_11ea_8747_b3d8a66a7a47row8_col8 {\n",
       "            background-color:  lightgrey;\n",
       "            text-align:  left;\n",
       "        }    #T_9636d652_e3c1_11ea_8747_b3d8a66a7a47row9_col0 {\n",
       "            text-align:  left;\n",
       "        }    #T_9636d652_e3c1_11ea_8747_b3d8a66a7a47row9_col1 {\n",
       "            : ;\n",
       "            text-align:  left;\n",
       "        }    #T_9636d652_e3c1_11ea_8747_b3d8a66a7a47row9_col2 {\n",
       "            text-align:  left;\n",
       "        }    #T_9636d652_e3c1_11ea_8747_b3d8a66a7a47row9_col3 {\n",
       "            : ;\n",
       "            text-align:  left;\n",
       "        }    #T_9636d652_e3c1_11ea_8747_b3d8a66a7a47row9_col4 {\n",
       "            : ;\n",
       "            text-align:  left;\n",
       "        }    #T_9636d652_e3c1_11ea_8747_b3d8a66a7a47row9_col5 {\n",
       "            : ;\n",
       "            text-align:  left;\n",
       "        }    #T_9636d652_e3c1_11ea_8747_b3d8a66a7a47row9_col6 {\n",
       "            : ;\n",
       "            text-align:  left;\n",
       "        }    #T_9636d652_e3c1_11ea_8747_b3d8a66a7a47row9_col7 {\n",
       "            : ;\n",
       "            text-align:  left;\n",
       "        }    #T_9636d652_e3c1_11ea_8747_b3d8a66a7a47row9_col8 {\n",
       "            background-color:  lightgrey;\n",
       "            text-align:  left;\n",
       "        }    #T_9636d652_e3c1_11ea_8747_b3d8a66a7a47row10_col0 {\n",
       "            text-align:  left;\n",
       "        }    #T_9636d652_e3c1_11ea_8747_b3d8a66a7a47row10_col1 {\n",
       "            : ;\n",
       "            text-align:  left;\n",
       "        }    #T_9636d652_e3c1_11ea_8747_b3d8a66a7a47row10_col2 {\n",
       "            text-align:  left;\n",
       "        }    #T_9636d652_e3c1_11ea_8747_b3d8a66a7a47row10_col3 {\n",
       "            : ;\n",
       "            text-align:  left;\n",
       "        }    #T_9636d652_e3c1_11ea_8747_b3d8a66a7a47row10_col4 {\n",
       "            : ;\n",
       "            text-align:  left;\n",
       "        }    #T_9636d652_e3c1_11ea_8747_b3d8a66a7a47row10_col5 {\n",
       "            : ;\n",
       "            text-align:  left;\n",
       "        }    #T_9636d652_e3c1_11ea_8747_b3d8a66a7a47row10_col6 {\n",
       "            : ;\n",
       "            text-align:  left;\n",
       "        }    #T_9636d652_e3c1_11ea_8747_b3d8a66a7a47row10_col7 {\n",
       "            : ;\n",
       "            text-align:  left;\n",
       "        }    #T_9636d652_e3c1_11ea_8747_b3d8a66a7a47row10_col8 {\n",
       "            background-color:  lightgrey;\n",
       "            text-align:  left;\n",
       "        }    #T_9636d652_e3c1_11ea_8747_b3d8a66a7a47row11_col0 {\n",
       "            text-align:  left;\n",
       "        }    #T_9636d652_e3c1_11ea_8747_b3d8a66a7a47row11_col1 {\n",
       "            : ;\n",
       "            text-align:  left;\n",
       "        }    #T_9636d652_e3c1_11ea_8747_b3d8a66a7a47row11_col2 {\n",
       "            text-align:  left;\n",
       "        }    #T_9636d652_e3c1_11ea_8747_b3d8a66a7a47row11_col3 {\n",
       "            : ;\n",
       "            text-align:  left;\n",
       "        }    #T_9636d652_e3c1_11ea_8747_b3d8a66a7a47row11_col4 {\n",
       "            : ;\n",
       "            text-align:  left;\n",
       "        }    #T_9636d652_e3c1_11ea_8747_b3d8a66a7a47row11_col5 {\n",
       "            : ;\n",
       "            text-align:  left;\n",
       "        }    #T_9636d652_e3c1_11ea_8747_b3d8a66a7a47row11_col6 {\n",
       "            : ;\n",
       "            text-align:  left;\n",
       "        }    #T_9636d652_e3c1_11ea_8747_b3d8a66a7a47row11_col7 {\n",
       "            : ;\n",
       "            text-align:  left;\n",
       "        }    #T_9636d652_e3c1_11ea_8747_b3d8a66a7a47row11_col8 {\n",
       "            background-color:  lightgrey;\n",
       "            text-align:  left;\n",
       "        }    #T_9636d652_e3c1_11ea_8747_b3d8a66a7a47row12_col0 {\n",
       "            text-align:  left;\n",
       "        }    #T_9636d652_e3c1_11ea_8747_b3d8a66a7a47row12_col1 {\n",
       "            : ;\n",
       "            text-align:  left;\n",
       "        }    #T_9636d652_e3c1_11ea_8747_b3d8a66a7a47row12_col2 {\n",
       "            text-align:  left;\n",
       "        }    #T_9636d652_e3c1_11ea_8747_b3d8a66a7a47row12_col3 {\n",
       "            : ;\n",
       "            text-align:  left;\n",
       "        }    #T_9636d652_e3c1_11ea_8747_b3d8a66a7a47row12_col4 {\n",
       "            : ;\n",
       "            text-align:  left;\n",
       "        }    #T_9636d652_e3c1_11ea_8747_b3d8a66a7a47row12_col5 {\n",
       "            : ;\n",
       "            text-align:  left;\n",
       "        }    #T_9636d652_e3c1_11ea_8747_b3d8a66a7a47row12_col6 {\n",
       "            : ;\n",
       "            text-align:  left;\n",
       "        }    #T_9636d652_e3c1_11ea_8747_b3d8a66a7a47row12_col7 {\n",
       "            : ;\n",
       "            text-align:  left;\n",
       "        }    #T_9636d652_e3c1_11ea_8747_b3d8a66a7a47row12_col8 {\n",
       "            background-color:  lightgrey;\n",
       "            text-align:  left;\n",
       "        }    #T_9636d652_e3c1_11ea_8747_b3d8a66a7a47row13_col0 {\n",
       "            text-align:  left;\n",
       "        }    #T_9636d652_e3c1_11ea_8747_b3d8a66a7a47row13_col1 {\n",
       "            : ;\n",
       "            text-align:  left;\n",
       "        }    #T_9636d652_e3c1_11ea_8747_b3d8a66a7a47row13_col2 {\n",
       "            text-align:  left;\n",
       "        }    #T_9636d652_e3c1_11ea_8747_b3d8a66a7a47row13_col3 {\n",
       "            : ;\n",
       "            text-align:  left;\n",
       "        }    #T_9636d652_e3c1_11ea_8747_b3d8a66a7a47row13_col4 {\n",
       "            : ;\n",
       "            text-align:  left;\n",
       "        }    #T_9636d652_e3c1_11ea_8747_b3d8a66a7a47row13_col5 {\n",
       "            : ;\n",
       "            text-align:  left;\n",
       "        }    #T_9636d652_e3c1_11ea_8747_b3d8a66a7a47row13_col6 {\n",
       "            : ;\n",
       "            text-align:  left;\n",
       "        }    #T_9636d652_e3c1_11ea_8747_b3d8a66a7a47row13_col7 {\n",
       "            : ;\n",
       "            text-align:  left;\n",
       "        }    #T_9636d652_e3c1_11ea_8747_b3d8a66a7a47row13_col8 {\n",
       "            background-color:  lightgrey;\n",
       "            text-align:  left;\n",
       "        }    #T_9636d652_e3c1_11ea_8747_b3d8a66a7a47row14_col0 {\n",
       "            text-align:  left;\n",
       "        }    #T_9636d652_e3c1_11ea_8747_b3d8a66a7a47row14_col1 {\n",
       "            : ;\n",
       "            text-align:  left;\n",
       "        }    #T_9636d652_e3c1_11ea_8747_b3d8a66a7a47row14_col2 {\n",
       "            text-align:  left;\n",
       "        }    #T_9636d652_e3c1_11ea_8747_b3d8a66a7a47row14_col3 {\n",
       "            : ;\n",
       "            text-align:  left;\n",
       "        }    #T_9636d652_e3c1_11ea_8747_b3d8a66a7a47row14_col4 {\n",
       "            : ;\n",
       "            text-align:  left;\n",
       "        }    #T_9636d652_e3c1_11ea_8747_b3d8a66a7a47row14_col5 {\n",
       "            : ;\n",
       "            text-align:  left;\n",
       "        }    #T_9636d652_e3c1_11ea_8747_b3d8a66a7a47row14_col6 {\n",
       "            : ;\n",
       "            text-align:  left;\n",
       "        }    #T_9636d652_e3c1_11ea_8747_b3d8a66a7a47row14_col7 {\n",
       "            : ;\n",
       "            text-align:  left;\n",
       "        }    #T_9636d652_e3c1_11ea_8747_b3d8a66a7a47row14_col8 {\n",
       "            background-color:  lightgrey;\n",
       "            text-align:  left;\n",
       "        }</style><table id=\"T_9636d652_e3c1_11ea_8747_b3d8a66a7a47\" ><thead>    <tr>        <th class=\"blank level0\" ></th>        <th class=\"col_heading level0 col0\" >Model</th>        <th class=\"col_heading level0 col1\" >Accuracy</th>        <th class=\"col_heading level0 col2\" >AUC</th>        <th class=\"col_heading level0 col3\" >Recall</th>        <th class=\"col_heading level0 col4\" >Prec.</th>        <th class=\"col_heading level0 col5\" >F1</th>        <th class=\"col_heading level0 col6\" >Kappa</th>        <th class=\"col_heading level0 col7\" >MCC</th>        <th class=\"col_heading level0 col8\" >TT (Sec)</th>    </tr></thead><tbody>\n",
       "                <tr>\n",
       "                        <th id=\"T_9636d652_e3c1_11ea_8747_b3d8a66a7a47level0_row0\" class=\"row_heading level0 row0\" >0</th>\n",
       "                        <td id=\"T_9636d652_e3c1_11ea_8747_b3d8a66a7a47row0_col0\" class=\"data row0 col0\" >Gradient Boosting Classifier</td>\n",
       "                        <td id=\"T_9636d652_e3c1_11ea_8747_b3d8a66a7a47row0_col1\" class=\"data row0 col1\" >0.8171</td>\n",
       "                        <td id=\"T_9636d652_e3c1_11ea_8747_b3d8a66a7a47row0_col2\" class=\"data row0 col2\" >0</td>\n",
       "                        <td id=\"T_9636d652_e3c1_11ea_8747_b3d8a66a7a47row0_col3\" class=\"data row0 col3\" >0.6652</td>\n",
       "                        <td id=\"T_9636d652_e3c1_11ea_8747_b3d8a66a7a47row0_col4\" class=\"data row0 col4\" >0.8065</td>\n",
       "                        <td id=\"T_9636d652_e3c1_11ea_8747_b3d8a66a7a47row0_col5\" class=\"data row0 col5\" >0.802</td>\n",
       "                        <td id=\"T_9636d652_e3c1_11ea_8747_b3d8a66a7a47row0_col6\" class=\"data row0 col6\" >0.7279</td>\n",
       "                        <td id=\"T_9636d652_e3c1_11ea_8747_b3d8a66a7a47row0_col7\" class=\"data row0 col7\" >0.7332</td>\n",
       "                        <td id=\"T_9636d652_e3c1_11ea_8747_b3d8a66a7a47row0_col8\" class=\"data row0 col8\" >16.93</td>\n",
       "            </tr>\n",
       "            <tr>\n",
       "                        <th id=\"T_9636d652_e3c1_11ea_8747_b3d8a66a7a47level0_row1\" class=\"row_heading level0 row1\" >1</th>\n",
       "                        <td id=\"T_9636d652_e3c1_11ea_8747_b3d8a66a7a47row1_col0\" class=\"data row1 col0\" >Ada Boost Classifier</td>\n",
       "                        <td id=\"T_9636d652_e3c1_11ea_8747_b3d8a66a7a47row1_col1\" class=\"data row1 col1\" >0.8141</td>\n",
       "                        <td id=\"T_9636d652_e3c1_11ea_8747_b3d8a66a7a47row1_col2\" class=\"data row1 col2\" >0</td>\n",
       "                        <td id=\"T_9636d652_e3c1_11ea_8747_b3d8a66a7a47row1_col3\" class=\"data row1 col3\" >0.6679</td>\n",
       "                        <td id=\"T_9636d652_e3c1_11ea_8747_b3d8a66a7a47row1_col4\" class=\"data row1 col4\" >0.806</td>\n",
       "                        <td id=\"T_9636d652_e3c1_11ea_8747_b3d8a66a7a47row1_col5\" class=\"data row1 col5\" >0.7998</td>\n",
       "                        <td id=\"T_9636d652_e3c1_11ea_8747_b3d8a66a7a47row1_col6\" class=\"data row1 col6\" >0.7234</td>\n",
       "                        <td id=\"T_9636d652_e3c1_11ea_8747_b3d8a66a7a47row1_col7\" class=\"data row1 col7\" >0.7292</td>\n",
       "                        <td id=\"T_9636d652_e3c1_11ea_8747_b3d8a66a7a47row1_col8\" class=\"data row1 col8\" >3.627</td>\n",
       "            </tr>\n",
       "            <tr>\n",
       "                        <th id=\"T_9636d652_e3c1_11ea_8747_b3d8a66a7a47level0_row2\" class=\"row_heading level0 row2\" >2</th>\n",
       "                        <td id=\"T_9636d652_e3c1_11ea_8747_b3d8a66a7a47row2_col0\" class=\"data row2 col0\" >Light Gradient Boosting Machine</td>\n",
       "                        <td id=\"T_9636d652_e3c1_11ea_8747_b3d8a66a7a47row2_col1\" class=\"data row2 col1\" >0.8105</td>\n",
       "                        <td id=\"T_9636d652_e3c1_11ea_8747_b3d8a66a7a47row2_col2\" class=\"data row2 col2\" >0</td>\n",
       "                        <td id=\"T_9636d652_e3c1_11ea_8747_b3d8a66a7a47row2_col3\" class=\"data row2 col3\" >0.6621</td>\n",
       "                        <td id=\"T_9636d652_e3c1_11ea_8747_b3d8a66a7a47row2_col4\" class=\"data row2 col4\" >0.8011</td>\n",
       "                        <td id=\"T_9636d652_e3c1_11ea_8747_b3d8a66a7a47row2_col5\" class=\"data row2 col5\" >0.799</td>\n",
       "                        <td id=\"T_9636d652_e3c1_11ea_8747_b3d8a66a7a47row2_col6\" class=\"data row2 col6\" >0.7183</td>\n",
       "                        <td id=\"T_9636d652_e3c1_11ea_8747_b3d8a66a7a47row2_col7\" class=\"data row2 col7\" >0.7224</td>\n",
       "                        <td id=\"T_9636d652_e3c1_11ea_8747_b3d8a66a7a47row2_col8\" class=\"data row2 col8\" >2.186</td>\n",
       "            </tr>\n",
       "            <tr>\n",
       "                        <th id=\"T_9636d652_e3c1_11ea_8747_b3d8a66a7a47level0_row3\" class=\"row_heading level0 row3\" >3</th>\n",
       "                        <td id=\"T_9636d652_e3c1_11ea_8747_b3d8a66a7a47row3_col0\" class=\"data row3 col0\" >CatBoost Classifier</td>\n",
       "                        <td id=\"T_9636d652_e3c1_11ea_8747_b3d8a66a7a47row3_col1\" class=\"data row3 col1\" >0.8083</td>\n",
       "                        <td id=\"T_9636d652_e3c1_11ea_8747_b3d8a66a7a47row3_col2\" class=\"data row3 col2\" >0</td>\n",
       "                        <td id=\"T_9636d652_e3c1_11ea_8747_b3d8a66a7a47row3_col3\" class=\"data row3 col3\" >0.6579</td>\n",
       "                        <td id=\"T_9636d652_e3c1_11ea_8747_b3d8a66a7a47row3_col4\" class=\"data row3 col4\" >0.798</td>\n",
       "                        <td id=\"T_9636d652_e3c1_11ea_8747_b3d8a66a7a47row3_col5\" class=\"data row3 col5\" >0.7965</td>\n",
       "                        <td id=\"T_9636d652_e3c1_11ea_8747_b3d8a66a7a47row3_col6\" class=\"data row3 col6\" >0.7151</td>\n",
       "                        <td id=\"T_9636d652_e3c1_11ea_8747_b3d8a66a7a47row3_col7\" class=\"data row3 col7\" >0.7191</td>\n",
       "                        <td id=\"T_9636d652_e3c1_11ea_8747_b3d8a66a7a47row3_col8\" class=\"data row3 col8\" >85.59</td>\n",
       "            </tr>\n",
       "            <tr>\n",
       "                        <th id=\"T_9636d652_e3c1_11ea_8747_b3d8a66a7a47level0_row4\" class=\"row_heading level0 row4\" >4</th>\n",
       "                        <td id=\"T_9636d652_e3c1_11ea_8747_b3d8a66a7a47row4_col0\" class=\"data row4 col0\" >Extreme Gradient Boosting</td>\n",
       "                        <td id=\"T_9636d652_e3c1_11ea_8747_b3d8a66a7a47row4_col1\" class=\"data row4 col1\" >0.8035</td>\n",
       "                        <td id=\"T_9636d652_e3c1_11ea_8747_b3d8a66a7a47row4_col2\" class=\"data row4 col2\" >0</td>\n",
       "                        <td id=\"T_9636d652_e3c1_11ea_8747_b3d8a66a7a47row4_col3\" class=\"data row4 col3\" >0.6558</td>\n",
       "                        <td id=\"T_9636d652_e3c1_11ea_8747_b3d8a66a7a47row4_col4\" class=\"data row4 col4\" >0.7942</td>\n",
       "                        <td id=\"T_9636d652_e3c1_11ea_8747_b3d8a66a7a47row4_col5\" class=\"data row4 col5\" >0.7936</td>\n",
       "                        <td id=\"T_9636d652_e3c1_11ea_8747_b3d8a66a7a47row4_col6\" class=\"data row4 col6\" >0.7082</td>\n",
       "                        <td id=\"T_9636d652_e3c1_11ea_8747_b3d8a66a7a47row4_col7\" class=\"data row4 col7\" >0.7115</td>\n",
       "                        <td id=\"T_9636d652_e3c1_11ea_8747_b3d8a66a7a47row4_col8\" class=\"data row4 col8\" >17.54</td>\n",
       "            </tr>\n",
       "            <tr>\n",
       "                        <th id=\"T_9636d652_e3c1_11ea_8747_b3d8a66a7a47level0_row5\" class=\"row_heading level0 row5\" >5</th>\n",
       "                        <td id=\"T_9636d652_e3c1_11ea_8747_b3d8a66a7a47row5_col0\" class=\"data row5 col0\" >Random Forest Classifier</td>\n",
       "                        <td id=\"T_9636d652_e3c1_11ea_8747_b3d8a66a7a47row5_col1\" class=\"data row5 col1\" >0.8019</td>\n",
       "                        <td id=\"T_9636d652_e3c1_11ea_8747_b3d8a66a7a47row5_col2\" class=\"data row5 col2\" >0</td>\n",
       "                        <td id=\"T_9636d652_e3c1_11ea_8747_b3d8a66a7a47row5_col3\" class=\"data row5 col3\" >0.6459</td>\n",
       "                        <td id=\"T_9636d652_e3c1_11ea_8747_b3d8a66a7a47row5_col4\" class=\"data row5 col4\" >0.795</td>\n",
       "                        <td id=\"T_9636d652_e3c1_11ea_8747_b3d8a66a7a47row5_col5\" class=\"data row5 col5\" >0.7906</td>\n",
       "                        <td id=\"T_9636d652_e3c1_11ea_8747_b3d8a66a7a47row5_col6\" class=\"data row5 col6\" >0.7054</td>\n",
       "                        <td id=\"T_9636d652_e3c1_11ea_8747_b3d8a66a7a47row5_col7\" class=\"data row5 col7\" >0.7112</td>\n",
       "                        <td id=\"T_9636d652_e3c1_11ea_8747_b3d8a66a7a47row5_col8\" class=\"data row5 col8\" >0.766</td>\n",
       "            </tr>\n",
       "            <tr>\n",
       "                        <th id=\"T_9636d652_e3c1_11ea_8747_b3d8a66a7a47level0_row6\" class=\"row_heading level0 row6\" >6</th>\n",
       "                        <td id=\"T_9636d652_e3c1_11ea_8747_b3d8a66a7a47row6_col0\" class=\"data row6 col0\" >Extra Trees Classifier</td>\n",
       "                        <td id=\"T_9636d652_e3c1_11ea_8747_b3d8a66a7a47row6_col1\" class=\"data row6 col1\" >0.7881</td>\n",
       "                        <td id=\"T_9636d652_e3c1_11ea_8747_b3d8a66a7a47row6_col2\" class=\"data row6 col2\" >0</td>\n",
       "                        <td id=\"T_9636d652_e3c1_11ea_8747_b3d8a66a7a47row6_col3\" class=\"data row6 col3\" >0.6242</td>\n",
       "                        <td id=\"T_9636d652_e3c1_11ea_8747_b3d8a66a7a47row6_col4\" class=\"data row6 col4\" >0.7816</td>\n",
       "                        <td id=\"T_9636d652_e3c1_11ea_8747_b3d8a66a7a47row6_col5\" class=\"data row6 col5\" >0.775</td>\n",
       "                        <td id=\"T_9636d652_e3c1_11ea_8747_b3d8a66a7a47row6_col6\" class=\"data row6 col6\" >0.6822</td>\n",
       "                        <td id=\"T_9636d652_e3c1_11ea_8747_b3d8a66a7a47row6_col7\" class=\"data row6 col7\" >0.6897</td>\n",
       "                        <td id=\"T_9636d652_e3c1_11ea_8747_b3d8a66a7a47row6_col8\" class=\"data row6 col8\" >5.193</td>\n",
       "            </tr>\n",
       "            <tr>\n",
       "                        <th id=\"T_9636d652_e3c1_11ea_8747_b3d8a66a7a47level0_row7\" class=\"row_heading level0 row7\" >7</th>\n",
       "                        <td id=\"T_9636d652_e3c1_11ea_8747_b3d8a66a7a47row7_col0\" class=\"data row7 col0\" >Linear Discriminant Analysis</td>\n",
       "                        <td id=\"T_9636d652_e3c1_11ea_8747_b3d8a66a7a47row7_col1\" class=\"data row7 col1\" >0.7559</td>\n",
       "                        <td id=\"T_9636d652_e3c1_11ea_8747_b3d8a66a7a47row7_col2\" class=\"data row7 col2\" >0</td>\n",
       "                        <td id=\"T_9636d652_e3c1_11ea_8747_b3d8a66a7a47row7_col3\" class=\"data row7 col3\" >0.5545</td>\n",
       "                        <td id=\"T_9636d652_e3c1_11ea_8747_b3d8a66a7a47row7_col4\" class=\"data row7 col4\" >0.7676</td>\n",
       "                        <td id=\"T_9636d652_e3c1_11ea_8747_b3d8a66a7a47row7_col5\" class=\"data row7 col5\" >0.7348</td>\n",
       "                        <td id=\"T_9636d652_e3c1_11ea_8747_b3d8a66a7a47row7_col6\" class=\"data row7 col6\" >0.6286</td>\n",
       "                        <td id=\"T_9636d652_e3c1_11ea_8747_b3d8a66a7a47row7_col7\" class=\"data row7 col7\" >0.6491</td>\n",
       "                        <td id=\"T_9636d652_e3c1_11ea_8747_b3d8a66a7a47row7_col8\" class=\"data row7 col8\" >0.4752</td>\n",
       "            </tr>\n",
       "            <tr>\n",
       "                        <th id=\"T_9636d652_e3c1_11ea_8747_b3d8a66a7a47level0_row8\" class=\"row_heading level0 row8\" >8</th>\n",
       "                        <td id=\"T_9636d652_e3c1_11ea_8747_b3d8a66a7a47row8_col0\" class=\"data row8 col0\" >Ridge Classifier</td>\n",
       "                        <td id=\"T_9636d652_e3c1_11ea_8747_b3d8a66a7a47row8_col1\" class=\"data row8 col1\" >0.7386</td>\n",
       "                        <td id=\"T_9636d652_e3c1_11ea_8747_b3d8a66a7a47row8_col2\" class=\"data row8 col2\" >0</td>\n",
       "                        <td id=\"T_9636d652_e3c1_11ea_8747_b3d8a66a7a47row8_col3\" class=\"data row8 col3\" >0.4674</td>\n",
       "                        <td id=\"T_9636d652_e3c1_11ea_8747_b3d8a66a7a47row8_col4\" class=\"data row8 col4\" >0.7128</td>\n",
       "                        <td id=\"T_9636d652_e3c1_11ea_8747_b3d8a66a7a47row8_col5\" class=\"data row8 col5\" >0.7062</td>\n",
       "                        <td id=\"T_9636d652_e3c1_11ea_8747_b3d8a66a7a47row8_col6\" class=\"data row8 col6\" >0.5976</td>\n",
       "                        <td id=\"T_9636d652_e3c1_11ea_8747_b3d8a66a7a47row8_col7\" class=\"data row8 col7\" >0.6199</td>\n",
       "                        <td id=\"T_9636d652_e3c1_11ea_8747_b3d8a66a7a47row8_col8\" class=\"data row8 col8\" >0.1665</td>\n",
       "            </tr>\n",
       "            <tr>\n",
       "                        <th id=\"T_9636d652_e3c1_11ea_8747_b3d8a66a7a47level0_row9\" class=\"row_heading level0 row9\" >9</th>\n",
       "                        <td id=\"T_9636d652_e3c1_11ea_8747_b3d8a66a7a47row9_col0\" class=\"data row9 col0\" >Decision Tree Classifier</td>\n",
       "                        <td id=\"T_9636d652_e3c1_11ea_8747_b3d8a66a7a47row9_col1\" class=\"data row9 col1\" >0.6963</td>\n",
       "                        <td id=\"T_9636d652_e3c1_11ea_8747_b3d8a66a7a47row9_col2\" class=\"data row9 col2\" >0</td>\n",
       "                        <td id=\"T_9636d652_e3c1_11ea_8747_b3d8a66a7a47row9_col3\" class=\"data row9 col3\" >0.5778</td>\n",
       "                        <td id=\"T_9636d652_e3c1_11ea_8747_b3d8a66a7a47row9_col4\" class=\"data row9 col4\" >0.7752</td>\n",
       "                        <td id=\"T_9636d652_e3c1_11ea_8747_b3d8a66a7a47row9_col5\" class=\"data row9 col5\" >0.727</td>\n",
       "                        <td id=\"T_9636d652_e3c1_11ea_8747_b3d8a66a7a47row9_col6\" class=\"data row9 col6\" >0.5704</td>\n",
       "                        <td id=\"T_9636d652_e3c1_11ea_8747_b3d8a66a7a47row9_col7\" class=\"data row9 col7\" >0.5782</td>\n",
       "                        <td id=\"T_9636d652_e3c1_11ea_8747_b3d8a66a7a47row9_col8\" class=\"data row9 col8\" >0.3553</td>\n",
       "            </tr>\n",
       "            <tr>\n",
       "                        <th id=\"T_9636d652_e3c1_11ea_8747_b3d8a66a7a47level0_row10\" class=\"row_heading level0 row10\" >10</th>\n",
       "                        <td id=\"T_9636d652_e3c1_11ea_8747_b3d8a66a7a47row10_col0\" class=\"data row10 col0\" >Naive Bayes</td>\n",
       "                        <td id=\"T_9636d652_e3c1_11ea_8747_b3d8a66a7a47row10_col1\" class=\"data row10 col1\" >0.5905</td>\n",
       "                        <td id=\"T_9636d652_e3c1_11ea_8747_b3d8a66a7a47row10_col2\" class=\"data row10 col2\" >0</td>\n",
       "                        <td id=\"T_9636d652_e3c1_11ea_8747_b3d8a66a7a47row10_col3\" class=\"data row10 col3\" >0.3023</td>\n",
       "                        <td id=\"T_9636d652_e3c1_11ea_8747_b3d8a66a7a47row10_col4\" class=\"data row10 col4\" >0.5563</td>\n",
       "                        <td id=\"T_9636d652_e3c1_11ea_8747_b3d8a66a7a47row10_col5\" class=\"data row10 col5\" >0.5117</td>\n",
       "                        <td id=\"T_9636d652_e3c1_11ea_8747_b3d8a66a7a47row10_col6\" class=\"data row10 col6\" >0.317</td>\n",
       "                        <td id=\"T_9636d652_e3c1_11ea_8747_b3d8a66a7a47row10_col7\" class=\"data row10 col7\" >0.4252</td>\n",
       "                        <td id=\"T_9636d652_e3c1_11ea_8747_b3d8a66a7a47row10_col8\" class=\"data row10 col8\" >0.0656</td>\n",
       "            </tr>\n",
       "            <tr>\n",
       "                        <th id=\"T_9636d652_e3c1_11ea_8747_b3d8a66a7a47level0_row11\" class=\"row_heading level0 row11\" >11</th>\n",
       "                        <td id=\"T_9636d652_e3c1_11ea_8747_b3d8a66a7a47row11_col0\" class=\"data row11 col0\" >Logistic Regression</td>\n",
       "                        <td id=\"T_9636d652_e3c1_11ea_8747_b3d8a66a7a47row11_col1\" class=\"data row11 col1\" >0.4115</td>\n",
       "                        <td id=\"T_9636d652_e3c1_11ea_8747_b3d8a66a7a47row11_col2\" class=\"data row11 col2\" >0</td>\n",
       "                        <td id=\"T_9636d652_e3c1_11ea_8747_b3d8a66a7a47row11_col3\" class=\"data row11 col3\" >0.2</td>\n",
       "                        <td id=\"T_9636d652_e3c1_11ea_8747_b3d8a66a7a47row11_col4\" class=\"data row11 col4\" >0.1694</td>\n",
       "                        <td id=\"T_9636d652_e3c1_11ea_8747_b3d8a66a7a47row11_col5\" class=\"data row11 col5\" >0.24</td>\n",
       "                        <td id=\"T_9636d652_e3c1_11ea_8747_b3d8a66a7a47row11_col6\" class=\"data row11 col6\" >0</td>\n",
       "                        <td id=\"T_9636d652_e3c1_11ea_8747_b3d8a66a7a47row11_col7\" class=\"data row11 col7\" >0</td>\n",
       "                        <td id=\"T_9636d652_e3c1_11ea_8747_b3d8a66a7a47row11_col8\" class=\"data row11 col8\" >0.592</td>\n",
       "            </tr>\n",
       "            <tr>\n",
       "                        <th id=\"T_9636d652_e3c1_11ea_8747_b3d8a66a7a47level0_row12\" class=\"row_heading level0 row12\" >12</th>\n",
       "                        <td id=\"T_9636d652_e3c1_11ea_8747_b3d8a66a7a47row12_col0\" class=\"data row12 col0\" >K Neighbors Classifier</td>\n",
       "                        <td id=\"T_9636d652_e3c1_11ea_8747_b3d8a66a7a47row12_col1\" class=\"data row12 col1\" >0.3463</td>\n",
       "                        <td id=\"T_9636d652_e3c1_11ea_8747_b3d8a66a7a47row12_col2\" class=\"data row12 col2\" >0</td>\n",
       "                        <td id=\"T_9636d652_e3c1_11ea_8747_b3d8a66a7a47row12_col3\" class=\"data row12 col3\" >0.202</td>\n",
       "                        <td id=\"T_9636d652_e3c1_11ea_8747_b3d8a66a7a47row12_col4\" class=\"data row12 col4\" >0.3232</td>\n",
       "                        <td id=\"T_9636d652_e3c1_11ea_8747_b3d8a66a7a47row12_col5\" class=\"data row12 col5\" >0.3295</td>\n",
       "                        <td id=\"T_9636d652_e3c1_11ea_8747_b3d8a66a7a47row12_col6\" class=\"data row12 col6\" >0.002</td>\n",
       "                        <td id=\"T_9636d652_e3c1_11ea_8747_b3d8a66a7a47row12_col7\" class=\"data row12 col7\" >0.0021</td>\n",
       "                        <td id=\"T_9636d652_e3c1_11ea_8747_b3d8a66a7a47row12_col8\" class=\"data row12 col8\" >0.4456</td>\n",
       "            </tr>\n",
       "            <tr>\n",
       "                        <th id=\"T_9636d652_e3c1_11ea_8747_b3d8a66a7a47level0_row13\" class=\"row_heading level0 row13\" >13</th>\n",
       "                        <td id=\"T_9636d652_e3c1_11ea_8747_b3d8a66a7a47row13_col0\" class=\"data row13 col0\" >SVM - Linear Kernel</td>\n",
       "                        <td id=\"T_9636d652_e3c1_11ea_8747_b3d8a66a7a47row13_col1\" class=\"data row13 col1\" >0.2939</td>\n",
       "                        <td id=\"T_9636d652_e3c1_11ea_8747_b3d8a66a7a47row13_col2\" class=\"data row13 col2\" >0</td>\n",
       "                        <td id=\"T_9636d652_e3c1_11ea_8747_b3d8a66a7a47row13_col3\" class=\"data row13 col3\" >0.2</td>\n",
       "                        <td id=\"T_9636d652_e3c1_11ea_8747_b3d8a66a7a47row13_col4\" class=\"data row13 col4\" >0.1005</td>\n",
       "                        <td id=\"T_9636d652_e3c1_11ea_8747_b3d8a66a7a47row13_col5\" class=\"data row13 col5\" >0.148</td>\n",
       "                        <td id=\"T_9636d652_e3c1_11ea_8747_b3d8a66a7a47row13_col6\" class=\"data row13 col6\" >0</td>\n",
       "                        <td id=\"T_9636d652_e3c1_11ea_8747_b3d8a66a7a47row13_col7\" class=\"data row13 col7\" >0</td>\n",
       "                        <td id=\"T_9636d652_e3c1_11ea_8747_b3d8a66a7a47row13_col8\" class=\"data row13 col8\" >2.32</td>\n",
       "            </tr>\n",
       "            <tr>\n",
       "                        <th id=\"T_9636d652_e3c1_11ea_8747_b3d8a66a7a47level0_row14\" class=\"row_heading level0 row14\" >14</th>\n",
       "                        <td id=\"T_9636d652_e3c1_11ea_8747_b3d8a66a7a47row14_col0\" class=\"data row14 col0\" >Quadratic Discriminant Analysis</td>\n",
       "                        <td id=\"T_9636d652_e3c1_11ea_8747_b3d8a66a7a47row14_col1\" class=\"data row14 col1\" >0.2884</td>\n",
       "                        <td id=\"T_9636d652_e3c1_11ea_8747_b3d8a66a7a47row14_col2\" class=\"data row14 col2\" >0</td>\n",
       "                        <td id=\"T_9636d652_e3c1_11ea_8747_b3d8a66a7a47row14_col3\" class=\"data row14 col3\" >0.3689</td>\n",
       "                        <td id=\"T_9636d652_e3c1_11ea_8747_b3d8a66a7a47row14_col4\" class=\"data row14 col4\" >0.3721</td>\n",
       "                        <td id=\"T_9636d652_e3c1_11ea_8747_b3d8a66a7a47row14_col5\" class=\"data row14 col5\" >0.2988</td>\n",
       "                        <td id=\"T_9636d652_e3c1_11ea_8747_b3d8a66a7a47row14_col6\" class=\"data row14 col6\" >0.1756</td>\n",
       "                        <td id=\"T_9636d652_e3c1_11ea_8747_b3d8a66a7a47row14_col7\" class=\"data row14 col7\" >0.2327</td>\n",
       "                        <td id=\"T_9636d652_e3c1_11ea_8747_b3d8a66a7a47row14_col8\" class=\"data row14 col8\" >0.3564</td>\n",
       "            </tr>\n",
       "    </tbody></table>"
      ],
      "text/plain": [
       "<pandas.io.formats.style.Styler at 0x7f22c92b4d30>"
      ]
     },
     "metadata": {},
     "output_type": "display_data"
    },
    {
     "data": {
      "text/plain": [
       "OneVsRestClassifier(estimator=GradientBoostingClassifier(ccp_alpha=0.0,\n",
       "                                                         criterion='friedman_mse',\n",
       "                                                         init=None,\n",
       "                                                         learning_rate=0.1,\n",
       "                                                         loss='deviance',\n",
       "                                                         max_depth=3,\n",
       "                                                         max_features=None,\n",
       "                                                         max_leaf_nodes=None,\n",
       "                                                         min_impurity_decrease=0.0,\n",
       "                                                         min_impurity_split=None,\n",
       "                                                         min_samples_leaf=1,\n",
       "                                                         min_samples_split=2,\n",
       "                                                         min_weight_fraction_leaf=0.0,\n",
       "                                                         n_estimators=100,\n",
       "                                                         n_iter_no_change=None,\n",
       "                                                         presort='deprecated',\n",
       "                                                         random_state=2069,\n",
       "                                                         subsample=1.0,\n",
       "                                                         tol=0.0001,\n",
       "                                                         validation_fraction=0.1,\n",
       "                                                         verbose=0,\n",
       "                                                         warm_start=False),\n",
       "                    n_jobs=-1)"
      ]
     },
     "execution_count": 14,
     "metadata": {},
     "output_type": "execute_result"
    }
   ],
   "source": [
    "# compare performance of different classification models\n",
    "classification.compare_models()"
   ]
  },
  {
   "cell_type": "markdown",
   "metadata": {},
   "source": [
    "OneVsRestClassifier(estimator=GradientBoostingClassifier(ccp_alpha=0.0,\n",
    "                                                         criterion='friedman_mse',\n",
    "                                                         init=None,\n",
    "                                                         learning_rate=0.1,\n",
    "                                                         loss='deviance',\n",
    "                                                         max_depth=3,\n",
    "                                                         max_features=None,\n",
    "                                                         max_leaf_nodes=None,\n",
    "                                                         min_impurity_decrease=0.0,\n",
    "                                                         min_impurity_split=None,\n",
    "                                                         min_samples_leaf=1,\n",
    "                                                         min_samples_split=2,\n",
    "                                                         min_weight_fraction_leaf=0.0,\n",
    "                                                         n_estimators=100,\n",
    "                                                         n_iter_no_change=None,\n",
    "                                                         presort='deprecated',\n",
    "                                                         random_state=2069,\n",
    "                                                         subsample=1.0,\n",
    "                                                         tol=0.0001,\n",
    "                                                         validation_fraction=0.1,\n",
    "                                                         verbose=0,\n",
    "                                                         warm_start=False),\n",
    "                    n_jobs=-1)"
   ]
  },
  {
   "cell_type": "markdown",
   "metadata": {},
   "source": [
    "**ATENÇÃO!!**\n",
    "\n",
    "A célula acima, embora muito parecida com a definição de features na primeira etapa deste desafio, possui uma grande diferença!\n",
    "\n",
    "Nela está presente a coluna \"NOME\" como uma feature! Isso ocorre pois neste caso essas são as entradas da *PIPELINE*, e não do modelo."
   ]
  },
  {
   "cell_type": "code",
   "execution_count": null,
   "metadata": {
    "ExecuteTime": {
     "end_time": "2020-08-21T10:34:51.629267Z",
     "start_time": "2020-08-21T10:34:51.600794Z"
    }
   },
   "outputs": [],
   "source": [
    "# Separação dos dados em um conjunto de treino e um conjunto de teste\n",
    "X_train, X_test, y_train, y_test = train_test_split(X, y, test_size=0.3, random_state=337)"
   ]
  },
  {
   "cell_type": "markdown",
   "metadata": {},
   "source": [
    "Na célula abaixo é realizada a declaração de um objeto **Pipeline** do scikit-learn, onde é declarado o parâmetro *steps*, que nada mais é do que uma lista com as etapas da nossa pipeline:\n",
    "\n",
    "    'remove_cols'     - transformação personalizada DropColumns\n",
    "    'imputer'         - transformação embutida do scikit-learn para imputação de valores faltantes\n",
    "    'dtc'             - um classificador via árvore de decisão\n",
    "    \n",
    "Note que passamos como passos as transformadas instanciadas anteriormente, sob nome `rm_columns` e `si`."
   ]
  },
  {
   "cell_type": "code",
   "execution_count": null,
   "metadata": {
    "ExecuteTime": {
     "end_time": "2020-08-21T10:34:51.640932Z",
     "start_time": "2020-08-21T10:34:51.632081Z"
    }
   },
   "outputs": [],
   "source": [
    "X.info()"
   ]
  },
  {
   "cell_type": "code",
   "execution_count": null,
   "metadata": {
    "ExecuteTime": {
     "end_time": "2020-08-21T10:34:51.662244Z",
     "start_time": "2020-08-21T10:34:51.642958Z"
    }
   },
   "outputs": [],
   "source": [
    "print(\"train size: \", len(X_train))\n",
    "print(\"train size: \",len(X_test))"
   ]
  },
  {
   "cell_type": "markdown",
   "metadata": {},
   "source": [
    "### LGBM e XGBoost sem tunning"
   ]
  },
  {
   "cell_type": "code",
   "execution_count": null,
   "metadata": {
    "ExecuteTime": {
     "end_time": "2020-08-21T10:34:51.679811Z",
     "start_time": "2020-08-21T10:34:51.663991Z"
    }
   },
   "outputs": [],
   "source": [
    "X_train.head()"
   ]
  },
  {
   "cell_type": "code",
   "execution_count": null,
   "metadata": {
    "ExecuteTime": {
     "end_time": "2020-08-21T10:51:00.924176Z",
     "start_time": "2020-08-21T10:51:00.902595Z"
    }
   },
   "outputs": [],
   "source": [
    "# Criação de uma Transform personalizada ``DropColumns``\n",
    "\n",
    "rm_columns = DropColumns(\n",
    "    columns=[\"NOME\"]\n",
    ")\n",
    "\n",
    "# Criação de um objeto ``SimpleImputer``\n",
    "\n",
    "si = SimpleImputer(\n",
    "    missing_values=np.nan,  # os valores faltantes são do tipo ``np.nan`` (padrão Pandas)\n",
    "    strategy='constant',  # a estratégia escolhida é a alteração do valor faltante por uma constante\n",
    "    fill_value=0,  # a constante que será usada para preenchimento dos valores faltantes é um int64=0.\n",
    "#     strategy = \"most_frequent\",\n",
    "    verbose=0,\n",
    "    copy=True\n",
    ")\n",
    "\n",
    "\n",
    "clf =  lgbm.LGBMClassifier()\n",
    "# clf_xgb = XGBClassifier(verbose=1)\n",
    "\n",
    "pipeline = Pipeline(\n",
    "    steps=[\n",
    "        ('remove_cols', rm_columns),\n",
    "        ('imputer', si),\n",
    "        ('clf', clf),\n",
    "    ]\n",
    ")"
   ]
  },
  {
   "cell_type": "code",
   "execution_count": null,
   "metadata": {
    "ExecuteTime": {
     "end_time": "2020-08-21T10:51:02.316799Z",
     "start_time": "2020-08-21T10:51:01.613349Z"
    }
   },
   "outputs": [],
   "source": [
    "# Inicialização da Pipeline (pré-processamento e realização do treinamento do modelo)\n",
    "pipeline.fit(X_train, y_train.values.ravel())"
   ]
  },
  {
   "cell_type": "code",
   "execution_count": null,
   "metadata": {
    "ExecuteTime": {
     "end_time": "2020-08-21T10:51:03.111055Z",
     "start_time": "2020-08-21T10:51:02.919684Z"
    }
   },
   "outputs": [],
   "source": [
    "# Realização de teste cego no modelo criado\n",
    "from sklearn.metrics import accuracy_score\n",
    "\n",
    "# Acurácia alcançada pela árvore de decisão\n",
    "y_pred = pipeline.predict(X_test)\n",
    "print(\"Acurácia: {}%\".format(100*round(accuracy_score(y_test, y_pred), 4)))"
   ]
  },
  {
   "cell_type": "code",
   "execution_count": null,
   "metadata": {
    "ExecuteTime": {
     "end_time": "2020-08-21T10:34:52.612509Z",
     "start_time": "2020-08-21T10:34:52.499257Z"
    }
   },
   "outputs": [],
   "source": [
    "from sklearn.metrics import classification_report\n",
    "\n",
    "print(classification_report(y_test, y_pred))"
   ]
  },
  {
   "cell_type": "code",
   "execution_count": null,
   "metadata": {
    "ExecuteTime": {
     "end_time": "2020-08-21T10:34:53.603033Z",
     "start_time": "2020-08-21T10:34:52.624971Z"
    }
   },
   "outputs": [],
   "source": [
    "from lightgbm import plot_tree\n",
    "\n",
    "plot_tree(clf, figsize=(20,20))\n",
    "plt.show()"
   ]
  },
  {
   "cell_type": "code",
   "execution_count": null,
   "metadata": {
    "ExecuteTime": {
     "end_time": "2020-08-21T10:34:53.793637Z",
     "start_time": "2020-08-21T10:34:53.604813Z"
    }
   },
   "outputs": [],
   "source": [
    "from lightgbm import plot_importance\n",
    "plot_importance(clf)"
   ]
  },
  {
   "cell_type": "markdown",
   "metadata": {},
   "source": [
    "### XGBoost"
   ]
  },
  {
   "cell_type": "code",
   "execution_count": null,
   "metadata": {
    "ExecuteTime": {
     "end_time": "2020-08-21T10:53:23.241661Z",
     "start_time": "2020-08-21T10:53:20.191593Z"
    }
   },
   "outputs": [],
   "source": [
    "# Criação de uma Transform personalizada ``DropColumns``\n",
    "\n",
    "rm_columns = DropColumns(\n",
    "    columns=[\"NOME\"]\n",
    ")\n",
    "\n",
    "# Criação de um objeto ``SimpleImputer``\n",
    "\n",
    "si = SimpleImputer(\n",
    "    missing_values=np.nan,  # os valores faltantes são do tipo ``np.nan`` (padrão Pandas)\n",
    "    strategy='constant',  # a estratégia escolhida é a alteração do valor faltante por uma constante\n",
    "    fill_value=0,  # a constante que será usada para preenchimento dos valores faltantes é um int64=0.\n",
    "#     strategy = \"most_frequent\",\n",
    "    verbose=0,\n",
    "    copy=True\n",
    ")\n",
    "\n",
    "\n",
    "# clf =  lgbm.LGBMClassifier()\n",
    "clf_xgb = XGBClassifier(verbose=1)\n",
    "\n",
    "pipeline = Pipeline(\n",
    "    steps=[\n",
    "        ('remove_cols', rm_columns),\n",
    "        ('imputer', si),\n",
    "        ('clf', clf_xgb),\n",
    "    ]\n",
    ")\n",
    "\n",
    "# Inicialização da Pipeline (pré-processamento e realização do treinamento do modelo)\n",
    "pipeline.fit(X_train, y_train.values.ravel())\n",
    "\n",
    "# Realização de teste cego no modelo criado\n",
    "\n",
    "# Acurácia alcançada pela árvore de decisão\n",
    "y_pred = pipeline.predict(X_test)\n",
    "print(\"Acurácia: {}%\".format(100*round(accuracy_score(y_test, y_pred), 4)))\n",
    "\n",
    "\n",
    "print(classification_report(y_test, y_pred))"
   ]
  },
  {
   "cell_type": "code",
   "execution_count": null,
   "metadata": {
    "ExecuteTime": {
     "end_time": "2020-08-21T10:53:40.576176Z",
     "start_time": "2020-08-21T10:53:40.351516Z"
    }
   },
   "outputs": [],
   "source": [
    "from xgboost import plot_tree, to_graphviz\n",
    "import matplotlib.pyplot as plt\n",
    "\n",
    "# plot_tree(best_clf, figsize=(10,10))\n",
    "to_graphviz(clf_xgb)\n",
    "\n",
    "# plt.show()"
   ]
  },
  {
   "cell_type": "markdown",
   "metadata": {},
   "source": [
    "## Tunando LGBM com Bayesian Optimization"
   ]
  },
  {
   "cell_type": "code",
   "execution_count": null,
   "metadata": {
    "ExecuteTime": {
     "end_time": "2020-08-21T11:00:47.092267Z",
     "start_time": "2020-08-21T11:00:34.390236Z"
    }
   },
   "outputs": [],
   "source": [
    "from skopt import gp_minimize\n",
    "from skopt.plots import plot_convergence\n",
    "from skopt.utils import use_named_args\n",
    "from skopt.space import Real, Integer\n",
    "\n",
    "si = SimpleImputer(\n",
    "    missing_values=np.nan,  # os valores faltantes são do tipo ``np.nan`` (padrão Pandas)\n",
    "    strategy='constant',  # a estratégia escolhida é a alteração do valor faltante por uma constante\n",
    "    fill_value=0,  # a constante que será usada para preenchimento dos valores faltantes é um int64=0.\n",
    "#     strategy = \"most_frequent\",\n",
    "    verbose=0,\n",
    "#     add_indicator=True,\n",
    "    copy=True\n",
    ")\n",
    "\n",
    "# The list of hyper-parameters we want to optimize\n",
    "space = [\n",
    "    Integer(2, 256, name=\"num_leaves\"),\n",
    "    Real(10 ** -3, 0.8, \"log-uniform\", name=\"learning_rate\"),\n",
    "    Integer(1, 512, name=\"min_child_samples\"),\n",
    "    Real(0.01, 1.00, name=\"subsample\"),\n",
    "    Real(0.1, 1.00, name=\"colsample_bytree\"),\n",
    "]\n",
    "\n",
    "params_names = [dim.name for dim in space]\n",
    "\n",
    "@use_named_args(space)\n",
    "def objective(**params):\n",
    "    clf.set_params(**params)\n",
    "    pipeline = Pipeline(\n",
    "        steps=[\n",
    "#             ('remove_cols', rm_columns),\n",
    "            ('imputer', si),\n",
    "            ('clf', clf),\n",
    "        ]\n",
    "    )\n",
    "        \n",
    "    _X_train =  X_train.drop(columns=[\"NOME\"], axis='columns')\n",
    "    \n",
    "    return -np.mean(cross_val_score(pipeline, _X_train, y_train, cv=3, n_jobs=-1,\n",
    "                            scoring=\"accuracy\"))\n",
    "\n",
    "# do bayesian optimization\n",
    "\n",
    "clf = lgbm.LGBMClassifier(random_state=42)\n",
    "# clf = XGBClassifier()\n",
    "\n",
    "result_gp = gp_minimize(\n",
    "    objective, space, random_state=42, verbose=1, n_calls=10, n_random_starts=5\n",
    ")\n",
    "\n",
    "# get best params and make the best classifier\n",
    "best_params = dict(zip(params_names, result_gp.x))\n",
    "\n",
    "# best_clf = XGBClassifier(**best_params)\n",
    "best_clf = lgbm.LGBMClassifier(**best_params)"
   ]
  },
  {
   "cell_type": "code",
   "execution_count": null,
   "metadata": {
    "ExecuteTime": {
     "end_time": "2020-08-21T11:00:47.098628Z",
     "start_time": "2020-08-21T11:00:47.094177Z"
    }
   },
   "outputs": [],
   "source": [
    "best_params"
   ]
  },
  {
   "cell_type": "code",
   "execution_count": null,
   "metadata": {
    "ExecuteTime": {
     "end_time": "2020-08-21T11:00:47.323756Z",
     "start_time": "2020-08-21T11:00:47.100319Z"
    }
   },
   "outputs": [],
   "source": [
    "best_pipeline = Pipeline(\n",
    "    steps=[\n",
    "        ('remove_cols', rm_columns),\n",
    "        ('imputer', si),\n",
    "        ('clf', best_clf),\n",
    "    ]\n",
    ")\n",
    "best_pipeline.fit(X_train, y_train.values.ravel())\n",
    "\n",
    "y_pred = best_pipeline.predict(X_test)\n",
    "print(\"Acurácia: {}%\".format(100*round(accuracy_score(y_test, y_pred), 4)))"
   ]
  },
  {
   "cell_type": "code",
   "execution_count": null,
   "metadata": {
    "ExecuteTime": {
     "end_time": "2020-08-21T10:58:11.496643Z",
     "start_time": "2020-08-21T10:58:11.487734Z"
    }
   },
   "outputs": [],
   "source": [
    "%matplotlib inline"
   ]
  },
  {
   "cell_type": "code",
   "execution_count": null,
   "metadata": {
    "ExecuteTime": {
     "end_time": "2020-08-21T10:58:11.508663Z",
     "start_time": "2020-08-21T10:58:11.498756Z"
    }
   },
   "outputs": [],
   "source": [
    "transformer_pipeline = Pipeline(\n",
    "    steps=[\n",
    "        ('remove_cols', rm_columns),\n",
    "        ('imputer', si),\n",
    "    ]\n",
    ")\n",
    "\n",
    "X_train.drop(columns=\"NOME\").columns"
   ]
  },
  {
   "cell_type": "code",
   "execution_count": null,
   "metadata": {
    "ExecuteTime": {
     "end_time": "2020-08-21T10:59:57.097913Z",
     "start_time": "2020-08-21T10:59:56.624194Z"
    }
   },
   "outputs": [],
   "source": [
    "from lightgbm import plot_tree, plot_importance\n",
    "\n",
    "plot_tree(best_clf, figsize=(20,20))\n",
    "plt.show()"
   ]
  },
  {
   "cell_type": "code",
   "execution_count": null,
   "metadata": {
    "ExecuteTime": {
     "end_time": "2020-08-21T10:58:12.074060Z",
     "start_time": "2020-08-21T10:58:11.910053Z"
    }
   },
   "outputs": [],
   "source": [
    "plot_importance(best_clf)"
   ]
  },
  {
   "cell_type": "code",
   "execution_count": null,
   "metadata": {},
   "outputs": [],
   "source": []
  },
  {
   "cell_type": "markdown",
   "metadata": {},
   "source": [
    "### XGBoost com tunning"
   ]
  },
  {
   "cell_type": "code",
   "execution_count": null,
   "metadata": {
    "ExecuteTime": {
     "end_time": "2020-08-21T11:04:52.720430Z",
     "start_time": "2020-08-21T11:03:31.026126Z"
    }
   },
   "outputs": [],
   "source": [
    "from skopt import gp_minimize\n",
    "from skopt.plots import plot_convergence\n",
    "from skopt.utils import use_named_args\n",
    "from skopt.space import Real, Integer\n",
    "\n",
    "# The list of hyper-parameters we want to optimize\n",
    "space = [\n",
    "    Integer(2, 256, name=\"num_leaves\"),\n",
    "    Real(10 ** -3, 0.5, \"log-uniform\", name=\"learning_rate\"),\n",
    "    Integer(3, 50, name=\"max_depth\"),\n",
    "    Integer(1, 256, name=\"min_child_samples\"),\n",
    "    Real(0.05, 1.00, name=\"subsample\"),\n",
    "    Real(0.1, 1.00, name=\"colsample_bytree\"),\n",
    "    Integer(1, 10, name=\"min_child_weight\")\n",
    "#     Integer(10,500, name=\"n_estimators\")\n",
    "]\n",
    "\n",
    "\n",
    "params_names = [dim.name for dim in space]\n",
    "\n",
    "@use_named_args(space)\n",
    "def objective(**params):\n",
    "    clf.set_params(**params)\n",
    "    pipeline = Pipeline(\n",
    "        steps=[\n",
    "#             ('remove_cols', rm_columns),\n",
    "            ('imputer', si),\n",
    "            ('clf', clf),\n",
    "        ]\n",
    "    )\n",
    "    \n",
    "    _X_train =  X_train.drop(columns=[\"NOME\"], axis='columns')\n",
    "    return -np.mean(cross_val_score(pipeline, _X_train, y_train, cv=3, n_jobs=-1,\n",
    "                            scoring=\"accuracy\"))\n",
    "\n",
    "# do bayesian optimization\n",
    "\n",
    "clf = XGBClassifier()\n",
    "\n",
    "result_gp = gp_minimize(\n",
    "    objective, space, random_state=42, verbose=1, n_calls=20, n_random_starts=5\n",
    ")\n",
    "\n",
    "# get best params and make the best classifier\n",
    "best_params = dict(zip(params_names, result_gp.x))\n",
    "\n",
    "best_clf = XGBClassifier(**best_params)"
   ]
  },
  {
   "cell_type": "code",
   "execution_count": null,
   "metadata": {
    "ExecuteTime": {
     "end_time": "2020-08-21T11:04:52.727150Z",
     "start_time": "2020-08-21T11:04:52.722798Z"
    }
   },
   "outputs": [],
   "source": [
    "best_params"
   ]
  },
  {
   "cell_type": "code",
   "execution_count": null,
   "metadata": {
    "ExecuteTime": {
     "end_time": "2020-08-21T11:04:55.066821Z",
     "start_time": "2020-08-21T11:04:52.730535Z"
    }
   },
   "outputs": [],
   "source": [
    "best_pipeline = Pipeline(\n",
    "    steps=[\n",
    "        ('remove_cols', rm_columns),\n",
    "        ('imputer', si),\n",
    "        ('clf', best_clf),\n",
    "    ]\n",
    ")\n",
    "best_pipeline.fit(X_train, y_train.values.ravel())\n",
    "\n",
    "y_pred = best_pipeline.predict(X_test)\n",
    "print(\"Acurácia: {}%\".format(100*round(accuracy_score(y_test, y_pred), 4)))"
   ]
  },
  {
   "cell_type": "code",
   "execution_count": null,
   "metadata": {
    "ExecuteTime": {
     "end_time": "2020-08-21T10:56:04.856752Z",
     "start_time": "2020-08-21T10:56:04.848447Z"
    }
   },
   "outputs": [],
   "source": [
    "best_pipeline.predict(X_test.head())"
   ]
  },
  {
   "cell_type": "code",
   "execution_count": null,
   "metadata": {
    "ExecuteTime": {
     "end_time": "2020-08-21T10:56:05.186738Z",
     "start_time": "2020-08-21T10:56:04.859878Z"
    }
   },
   "outputs": [],
   "source": [
    "from xgboost import plot_importance\n",
    "plot_importance(best_clf, max_num_features=10)"
   ]
  },
  {
   "cell_type": "code",
   "execution_count": null,
   "metadata": {
    "ExecuteTime": {
     "end_time": "2020-08-21T10:56:05.320420Z",
     "start_time": "2020-08-21T10:56:05.188392Z"
    }
   },
   "outputs": [],
   "source": [
    "from xgboost import plot_tree, to_graphviz\n",
    "import matplotlib.pyplot as plt\n",
    "\n",
    "# plot_tree(best_clf, figsize=(10,10))\n",
    "to_graphviz(best_clf)\n",
    "\n",
    "# plt.show()"
   ]
  },
  {
   "cell_type": "markdown",
   "metadata": {},
   "source": [
    "### Encapsulando uma Pipeline personalizada no Watson Machine Learning"
   ]
  },
  {
   "cell_type": "markdown",
   "metadata": {},
   "source": [
    "#### Estabelecendo conexão entre o cliente Python do WML e a sua instância do serviço na nuvem"
   ]
  },
  {
   "cell_type": "code",
   "execution_count": null,
   "metadata": {},
   "outputs": [],
   "source": [
    "# Biblioteca Python com implementação de um cliente HTTP para a API do WML\n",
    "from watson_machine_learning_client import WatsonMachineLearningAPIClient"
   ]
  },
  {
   "cell_type": "markdown",
   "metadata": {},
   "source": [
    "As próximas células irão realizar o deploy da pipeline declarada neste notebook no WML. Só prossiga se você já está satisfeito com seu modelo e acha que já é a hora de fazer o deploy da sua solução.\n",
    "\n",
    "Cole as credenciais de sua instância do Watson Machine Learning na variável na célula abaixo.\n",
    "\n",
    "É importante que a variável que contém os valores tenha o nome de ``wml_credentials`` para que as próximas células deste notebook executem corretamente."
   ]
  },
  {
   "cell_type": "code",
   "execution_count": null,
   "metadata": {},
   "outputs": [],
   "source": [
    "wml_credentials = {\n",
    "  \"apikey\": \"\",\n",
    "  \"iam_apikey_description\": \"\",\n",
    "  \"iam_apikey_name\": \"\",\n",
    "  \"iam_role_crn\": \"\",\n",
    "  \"iam_serviceid_crn\": \"\",\n",
    "  \"instance_id\": \"\",\n",
    "  \"url\": \"\"\n",
    "}"
   ]
  },
  {
   "cell_type": "code",
   "execution_count": null,
   "metadata": {},
   "outputs": [],
   "source": [
    "# Instanciando um objeto cliente do Watson Machine Learning a partir das credenciais fornecidas\n",
    "\n",
    "clientWML = WatsonMachineLearningAPIClient(wml_credentials)"
   ]
  },
  {
   "cell_type": "code",
   "execution_count": null,
   "metadata": {},
   "outputs": [],
   "source": [
    "# Extraindo detalhes da sua instância do Watson Machine Learning\n",
    "\n",
    "instance_details = clientWML.service_instance.get_details()\n",
    "print(json.dumps(instance_details, indent=4))"
   ]
  },
  {
   "cell_type": "markdown",
   "metadata": {},
   "source": [
    "**ATENÇÃO!!**\n",
    "\n",
    "Fique atento para os limites de consumo de sua instância do Watson Machine Learning!\n",
    "\n",
    "Caso você expire a camada grátis, não será possível avaliar seu modelo (pois é necessária a realização de algumas chamadas de API que consomem predições!)"
   ]
  },
  {
   "cell_type": "markdown",
   "metadata": {},
   "source": [
    "#### Listando todos os artefatos armazenados no seu WML"
   ]
  },
  {
   "cell_type": "markdown",
   "metadata": {},
   "source": [
    "Para listar todos os artefatos armazenados em seu Watson Machine Learning, você pode usar a seguinte função:\n",
    "\n",
    "    clientWML.repository.list()"
   ]
  },
  {
   "cell_type": "code",
   "execution_count": null,
   "metadata": {},
   "outputs": [],
   "source": [
    "# Listando todos os artefatos atualmente armazenados na sua instância do WML\n",
    "\n",
    "clientWML.repository.list()"
   ]
  },
  {
   "cell_type": "markdown",
   "metadata": {},
   "source": [
    "No plano LITE do Watson Machine Learning só é permitido o deploy de um único modelo por vez. Se for o caso de você já possuir um modelo online na sua instância, você pode apagá-lo utilizando o método clientWML.repository.delete():\n",
    "\n",
    "    artifact_guid = \"359c8951-d2fe-4063-8706-cc06b32d5e0d\"\n",
    "    clientWML.repository.delete(artifact_guid)"
   ]
  },
  {
   "cell_type": "markdown",
   "metadata": {},
   "source": [
    "#### Criando uma nova definição de pacote Python personalizado no WML"
   ]
  },
  {
   "cell_type": "markdown",
   "metadata": {},
   "source": [
    "O primeiro passo para realizar seu deploy é armazenar o código das transformações personalizadas criadas por você.\n",
    "\n",
    "Para essa etapa precisamos apenas do arquivo .zip do pacote criado (que já possuimos carregado no Kernel!)"
   ]
  },
  {
   "cell_type": "code",
   "execution_count": null,
   "metadata": {},
   "outputs": [],
   "source": [
    "# Definição de metadados do nosso pacote com as Transforms personalizadas\n",
    "pkg_meta = {\n",
    "    clientWML.runtimes.LibraryMetaNames.NAME: \"my_custom_sklearn_transform_1\",\n",
    "    clientWML.runtimes.LibraryMetaNames.DESCRIPTION: \"A custom sklearn transform\",\n",
    "    clientWML.runtimes.LibraryMetaNames.FILEPATH: \"sklearn_transforms.zip\",  # Note que estamos utilizando o .zip criado anteriormente!\n",
    "    clientWML.runtimes.LibraryMetaNames.VERSION: \"1.0\",\n",
    "    clientWML.runtimes.LibraryMetaNames.PLATFORM: { \"name\": \"python\", \"versions\": [\"3.6\"] }\n",
    "}\n",
    "custom_package_details = clientWML.runtimes.store_library( pkg_meta )\n",
    "custom_package_uid = clientWML.runtimes.get_library_uid( custom_package_details )\n",
    "\n",
    "print(\"\\n Lista de artefatos de runtime armazenados no WML:\")\n",
    "clientWML.repository.list()"
   ]
  },
  {
   "cell_type": "markdown",
   "metadata": {},
   "source": [
    "#### Criando uma nova definição de runtime Python personalizado no WML\n",
    "\n",
    "O segundo passo é armazenar uma definição de runtime Python para utilizar a nossa biblioteca personalizada.\n",
    "\n",
    "Isso pode ser feito da seguinte forma:"
   ]
  },
  {
   "cell_type": "code",
   "execution_count": null,
   "metadata": {},
   "outputs": [],
   "source": [
    "runtime_meta = {\n",
    "    clientWML.runtimes.ConfigurationMetaNames.NAME: \"my_custom_wml_runtime_1\",\n",
    "    clientWML.runtimes.ConfigurationMetaNames.DESCRIPTION: \"A Python runtime with custom sklearn Transforms\",\n",
    "    clientWML.runtimes.ConfigurationMetaNames.PLATFORM: {\n",
    "        \"name\": \"python\",\n",
    "        \"version\": \"3.6\"\n",
    "    },\n",
    "    clientWML.runtimes.ConfigurationMetaNames.LIBRARIES_UIDS: [ custom_package_uid ]\n",
    "}\n",
    "runtime_details = clientWML.runtimes.store( runtime_meta )\n",
    "custom_runtime_uid = clientWML.runtimes.get_uid( runtime_details )\n",
    "\n",
    "print(\"\\n Detalhes do runtime armazenado:\")\n",
    "print(json.dumps(runtime_details, indent=4))"
   ]
  },
  {
   "cell_type": "code",
   "execution_count": null,
   "metadata": {},
   "outputs": [],
   "source": [
    "# Listando todos runtimes armazenados no seu WML:\n",
    "clientWML.runtimes.list()"
   ]
  },
  {
   "cell_type": "markdown",
   "metadata": {},
   "source": [
    "#### Criando uma nova definição de Pipeline personalizada no WML\n",
    "\n",
    "Finalmente iremos criar uma definição (metadados) para a nossa Pipeline ser hospedada no WML.\n",
    "\n",
    "Definimos como parâmetros um nome para o artefato e o ID do runtime criado anteriormente."
   ]
  },
  {
   "cell_type": "code",
   "execution_count": null,
   "metadata": {},
   "outputs": [],
   "source": [
    "model_meta = {\n",
    "    clientWML.repository.ModelMetaNames.NAME: 'desafio-2-mbtc2020-pipeline-1',\n",
    "    clientWML.repository.ModelMetaNames.DESCRIPTION: \"my pipeline for submission\",\n",
    "    clientWML.repository.ModelMetaNames.RUNTIME_UID: custom_runtime_uid\n",
    "}"
   ]
  },
  {
   "cell_type": "markdown",
   "metadata": {},
   "source": [
    "Em seguida chamamos o método para armazenar a nova definição:"
   ]
  },
  {
   "cell_type": "code",
   "execution_count": null,
   "metadata": {},
   "outputs": [],
   "source": [
    "# Função para armazenar uma definição de Pipeline no WML\n",
    "stored_model_details = clientWML.repository.store_model(\n",
    "    model=my_pipeline,  # `my_pipeline` é a variável criada anteriormente e contém nossa Pipeline já treinada :)\n",
    "    meta_props=model_meta,  # Metadados definidos na célula anterior\n",
    "    training_data=None  # Não altere esse parâmetro\n",
    ")\n",
    "\n",
    "print(\"\\n Lista de artefatos armazenados no WML:\")\n",
    "clientWML.repository.list()\n",
    "\n",
    "# Detalhes do modelo hospedado no Watson Machine Learning\n",
    "print(\"\\n Metadados do modelo armazenado:\")\n",
    "print(json.dumps(stored_model_details, indent=4))"
   ]
  },
  {
   "cell_type": "markdown",
   "metadata": {},
   "source": [
    "#### Realizando o deployment do seu modelo para consumo imediato por outras aplicações"
   ]
  },
  {
   "cell_type": "code",
   "execution_count": null,
   "metadata": {},
   "outputs": [],
   "source": [
    "# O deployment do modelo é finalmente realizado por meio do método ``deployments.create()``\n",
    "\n",
    "model_deployment_details = clientWML.deployments.create(\n",
    "    artifact_uid=stored_model_details[\"metadata\"][\"guid\"],  # Não altere esse parâmetro\n",
    "    name=\"desafio-2-mbtc2020-deployment-1\",\n",
    "    description=\"Solução do desafio 2 - MBTC\",\n",
    "    asynchronous=False,  # Não altere esse parâmetro\n",
    "    deployment_type='online',  # Não altere esse parâmetro\n",
    "    deployment_format='Core ML',  # Não altere esse parâmetro\n",
    "    meta_props=model_meta  # Não altere esse parâmetro\n",
    ")"
   ]
  },
  {
   "cell_type": "markdown",
   "metadata": {},
   "source": [
    "#### Testando um modelo hospedado no Watson Machine Learning"
   ]
  },
  {
   "cell_type": "code",
   "execution_count": null,
   "metadata": {},
   "outputs": [],
   "source": [
    "# Recuperando a URL endpoint do modelo hospedado na célula anterior\n",
    "\n",
    "model_endpoint_url = clientWML.deployments.get_scoring_url(model_deployment_details)\n",
    "print(\"A URL de chamada da sua API é: {}\".format(model_endpoint_url))"
   ]
  },
  {
   "cell_type": "code",
   "execution_count": null,
   "metadata": {},
   "outputs": [],
   "source": [
    "# Detalhes do deployment realizado\n",
    "\n",
    "deployment_details = clientWML.deployments.get_details(\n",
    "    deployment_uid=model_deployment_details[\"metadata\"][\"guid\"]  # esse é o ID do seu deployment!\n",
    ")\n",
    "\n",
    "print(\"Metadados do deployment realizado: \\n\")\n",
    "print(json.dumps(deployment_details, indent=4))"
   ]
  },
  {
   "cell_type": "code",
   "execution_count": null,
   "metadata": {
    "scrolled": false
   },
   "outputs": [],
   "source": [
    "scoring_payload = {\n",
    "    'fields': [\n",
    "        \"MATRICULA\", \"NOME\", 'REPROVACOES_DE', 'REPROVACOES_EM', \"REPROVACOES_MF\", \"REPROVACOES_GO\",\n",
    "        \"NOTA_DE\", \"NOTA_EM\", \"NOTA_MF\", \"NOTA_GO\",\n",
    "        \"INGLES\", \"H_AULA_PRES\", \"TAREFAS_ONLINE\", \"FALTAS\", \n",
    "    ],\n",
    "    'values': [\n",
    "        [\n",
    "            513949,\"Marli Quésia de Oliveira\",1,1,1,1,4.3,4.0,3.1,4.9,0,3,4,3,\n",
    "        ]\n",
    "    ]\n",
    "}\n",
    "\n",
    "print(\"\\n Payload de dados a ser classificada:\")\n",
    "print(json.dumps(scoring_payload, indent=4))"
   ]
  },
  {
   "cell_type": "code",
   "execution_count": null,
   "metadata": {},
   "outputs": [],
   "source": [
    "result = clientWML.deployments.score(\n",
    "    model_endpoint_url,\n",
    "    scoring_payload\n",
    ")\n",
    "\n",
    "print(\"\\n Resultados:\")\n",
    "print(json.dumps(result, indent=4))"
   ]
  },
  {
   "cell_type": "markdown",
   "metadata": {},
   "source": [
    "<hr>\n",
    "\n",
    "## Parabéns! \n",
    "\n",
    "Se tudo foi executado sem erros, você já tem um classificador baseado em machine learning encapsulado como uma API REST!\n",
    "\n",
    "Para testar a sua solução integrada com um assistente virtual e realizar a submissão, acesse a página:\n",
    "\n",
    "https://uninassau.maratona.dev\n",
    "\n",
    "Você irá precisar da endpoint url do seu modelo e das credenciais do WML :)"
   ]
  },
  {
   "cell_type": "code",
   "execution_count": null,
   "metadata": {},
   "outputs": [],
   "source": []
  }
 ],
 "metadata": {
  "kernelspec": {
   "display_name": "Python 3",
   "language": "python",
   "name": "python3"
  },
  "language_info": {
   "codemirror_mode": {
    "name": "ipython",
    "version": 3
   },
   "file_extension": ".py",
   "mimetype": "text/x-python",
   "name": "python",
   "nbconvert_exporter": "python",
   "pygments_lexer": "ipython3",
   "version": "3.6.10"
  },
  "toc": {
   "base_numbering": 1,
   "nav_menu": {},
   "number_sections": true,
   "sideBar": true,
   "skip_h1_title": false,
   "title_cell": "Table of Contents",
   "title_sidebar": "Contents",
   "toc_cell": false,
   "toc_position": {},
   "toc_section_display": true,
   "toc_window_display": false
  }
 },
 "nbformat": 4,
 "nbformat_minor": 1
}
